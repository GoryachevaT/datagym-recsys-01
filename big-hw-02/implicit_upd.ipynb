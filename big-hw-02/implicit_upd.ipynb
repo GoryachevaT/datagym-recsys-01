{
 "cells": [
  {
   "cell_type": "code",
   "execution_count": 1,
   "metadata": {
    "ExecuteTime": {
     "end_time": "2020-06-24T15:37:50.771563Z",
     "start_time": "2020-06-24T15:37:50.524467Z"
    }
   },
   "outputs": [],
   "source": [
    "import implicit"
   ]
  },
  {
   "cell_type": "code",
   "execution_count": 2,
   "metadata": {
    "ExecuteTime": {
     "end_time": "2020-06-24T15:37:52.066931Z",
     "start_time": "2020-06-24T15:37:51.454284Z"
    }
   },
   "outputs": [],
   "source": [
    "import pandas as pd\n",
    "import numpy as np\n",
    "from scipy.sparse import coo_matrix\n",
    "import scipy\n",
    "from scipy.sparse.linalg import svds\n",
    "from numpy.linalg import svd \n",
    "from scipy.sparse import csr_matrix\n",
    "import time\n",
    "from sklearn import preprocessing"
   ]
  },
  {
   "cell_type": "code",
   "execution_count": 3,
   "metadata": {
    "ExecuteTime": {
     "end_time": "2020-06-24T15:37:52.071876Z",
     "start_time": "2020-06-24T15:37:52.069227Z"
    }
   },
   "outputs": [],
   "source": [
    "import warnings\n",
    "warnings.filterwarnings('ignore')"
   ]
  },
  {
   "cell_type": "code",
   "execution_count": 4,
   "metadata": {
    "ExecuteTime": {
     "end_time": "2020-06-24T15:37:52.079107Z",
     "start_time": "2020-06-24T15:37:52.074272Z"
    }
   },
   "outputs": [],
   "source": [
    "def prepare_df(df):\n",
    "    aggr1 = {\n",
    "    'session_duration': 'max', \n",
    "    'video_duration': 'max',\n",
    "    'month': 'max'\n",
    "    }\n",
    "    k = df.groupby(['user_id', 'primary_video_id']).agg(aggr1).reset_index().reset_index()\n",
    "    k['session_duration_clean'] = k[['session_duration', 'video_duration']].min(axis=1)\n",
    "    k['watching_percentage'] = k['session_duration_clean']/k['video_duration']\n",
    "    k = k[['month', 'user_id', 'primary_video_id', 'watching_percentage']]\n",
    "    k = k[k['watching_percentage']>=0.5]\n",
    "    return k"
   ]
  },
  {
   "cell_type": "code",
   "execution_count": 5,
   "metadata": {
    "ExecuteTime": {
     "end_time": "2020-06-24T15:37:52.326985Z",
     "start_time": "2020-06-24T15:37:52.320713Z"
    }
   },
   "outputs": [],
   "source": [
    "def prepare_matrix(df):\n",
    "    user_mapper = {k:v for v, k in dict(enumerate(df.user_id.unique())).items()}\n",
    "    item_mapper = {k:v for v, k in dict(enumerate(df.primary_video_id.unique())).items()}\n",
    "    df['user_num'] = df['user_id'].map(user_mapper)\n",
    "    df['item_num'] = df['primary_video_id'].map(item_mapper)\n",
    "    row  = df['user_num'].values\n",
    "    col  = df['item_num'].values\n",
    "    data = df['watching_percentage'].values\n",
    "    matrix = csr_matrix(coo_matrix((data, (row, col)), shape=(df['user_num'].nunique(), df['item_num'].nunique())))   \n",
    "    print(df.user_id.nunique(), df.primary_video_id.nunique(), matrix.shape)  \n",
    "    return matrix, item_mapper, user_mapper"
   ]
  },
  {
   "cell_type": "code",
   "execution_count": 6,
   "metadata": {
    "ExecuteTime": {
     "end_time": "2020-06-24T15:37:52.594369Z",
     "start_time": "2020-06-24T15:37:52.589437Z"
    }
   },
   "outputs": [],
   "source": [
    "def map_at_k(df, k):\n",
    "    df = df[df['rnk'] < k]\n",
    "    df['target_cumcum'] = df[['user_id', 'targer']].groupby('user_id').cumsum()\n",
    "    df['for_running_sum'] = df['target_cumcum']/(df['rnk']+1)\n",
    "    agg_df = df[df['targer']==1][['user_id', 'for_running_sum']].groupby('user_id').mean().reset_index()\n",
    "    agg_df.columns = ['user_id', 'ap']\n",
    "    return agg_df['ap'].mean()"
   ]
  },
  {
   "cell_type": "code",
   "execution_count": 7,
   "metadata": {
    "ExecuteTime": {
     "end_time": "2020-06-24T15:37:53.105433Z",
     "start_time": "2020-06-24T15:37:53.100763Z"
    }
   },
   "outputs": [],
   "source": [
    "# генерация сетки для модели\n",
    "def get_params(dict_):\n",
    "    result = {}\n",
    "    for i in params:\n",
    "        result[i] = np.random.choice(dict_[i])\n",
    "    return result\n",
    "\n",
    "def get_grid(shape=200):\n",
    "    dict_of_params = {}\n",
    "    i = 0 \n",
    "    while len(dict_of_params) < shape:\n",
    "        par = get_params(params)\n",
    "        if par not in dict_of_params.values():\n",
    "            dict_of_params[i] = par\n",
    "            i += 1\n",
    "    return dict_of_params"
   ]
  },
  {
   "cell_type": "markdown",
   "metadata": {},
   "source": [
    "## read data"
   ]
  },
  {
   "cell_type": "code",
   "execution_count": 8,
   "metadata": {
    "ExecuteTime": {
     "end_time": "2020-06-24T15:38:07.444048Z",
     "start_time": "2020-06-24T15:37:54.830073Z"
    }
   },
   "outputs": [],
   "source": [
    "train = pd.read_csv('/data/agoryach/datagym-recsys-01/big-hw-02/input/train_data_full.csv')\n",
    "item_info = pd.read_csv('/data/agoryach/datagym-recsys-01/big-hw-02/input/video_meta_data_full.csv')\n",
    "test = pd.read_csv('/data/agoryach/datagym-recsys-01/big-hw-02/input/sample_submission_full.csv')"
   ]
  },
  {
   "cell_type": "code",
   "execution_count": 9,
   "metadata": {
    "ExecuteTime": {
     "end_time": "2020-06-24T15:38:47.414288Z",
     "start_time": "2020-06-24T15:38:07.446549Z"
    }
   },
   "outputs": [],
   "source": [
    "train['session_start_datetime'] = pd.to_datetime(train['session_start_datetime'])\n",
    "train['month'] = train['session_start_datetime'].apply(lambda x: x.month)"
   ]
  },
  {
   "cell_type": "code",
   "execution_count": 10,
   "metadata": {
    "ExecuteTime": {
     "end_time": "2020-06-24T15:38:47.524759Z",
     "start_time": "2020-06-24T15:38:47.416758Z"
    }
   },
   "outputs": [
    {
     "data": {
      "text/plain": [
       "7    2866200\n",
       "9    2742848\n",
       "8    2640335\n",
       "Name: month, dtype: int64"
      ]
     },
     "execution_count": 10,
     "metadata": {},
     "output_type": "execute_result"
    }
   ],
   "source": [
    "train.month.value_counts()"
   ]
  },
  {
   "cell_type": "markdown",
   "metadata": {},
   "source": [
    "## grid search"
   ]
  },
  {
   "cell_type": "code",
   "execution_count": 11,
   "metadata": {
    "ExecuteTime": {
     "end_time": "2020-06-24T15:38:47.531668Z",
     "start_time": "2020-06-24T15:38:47.526731Z"
    }
   },
   "outputs": [],
   "source": [
    "params = {\n",
    "    'K': [5, 10, 20, 30, 50, 100, 120, 150, 180, 200, 230, 300],\n",
    "    'item_cnt': [5, 10, 20, 50],\n",
    "    'user_cnt': [1, 3, 5, 10],\n",
    "    'n_item_count': [300, 500, 800, 1000, 2000, 5000]\n",
    "}\n",
    "\n",
    "dict_of_params = get_grid(shape=30)"
   ]
  },
  {
   "cell_type": "code",
   "execution_count": 12,
   "metadata": {
    "ExecuteTime": {
     "end_time": "2020-06-24T15:38:53.752617Z",
     "start_time": "2020-06-24T15:38:47.533640Z"
    }
   },
   "outputs": [
    {
     "name": "stdout",
     "output_type": "stream",
     "text": [
      "328140 5159 (328140, 5159)\n"
     ]
    }
   ],
   "source": [
    "train_p = prepare_df(train)\n",
    "train_df = train_p[train_p['month'] != 9]\n",
    "test_df  = train_p[train_p['month'] == 9]\n",
    "test_df['targer'] = [1]*test_df.shape[0]\n",
    "matrix_m, item_mapper, user_mapper = prepare_matrix(train_df)"
   ]
  },
  {
   "cell_type": "code",
   "execution_count": 13,
   "metadata": {
    "ExecuteTime": {
     "end_time": "2020-06-24T15:38:53.757436Z",
     "start_time": "2020-06-24T15:38:53.754677Z"
    }
   },
   "outputs": [],
   "source": [
    "param = dict_of_params[0]"
   ]
  },
  {
   "cell_type": "code",
   "execution_count": 14,
   "metadata": {
    "ExecuteTime": {
     "end_time": "2020-06-24T15:38:53.841717Z",
     "start_time": "2020-06-24T15:38:53.759347Z"
    }
   },
   "outputs": [],
   "source": [
    "# cut matrix\n",
    "mask_users = np.diff(matrix_m.tocsr().indptr) > param['user_cnt']\n",
    "mask_items = np.diff(matrix_m.tocsc().indptr) > param['item_cnt']\n",
    "matrix = matrix_m.copy()\n",
    "matrix = matrix[:, mask_items]\n",
    "matrix = matrix[mask_users, :]"
   ]
  },
  {
   "cell_type": "code",
   "execution_count": 17,
   "metadata": {
    "ExecuteTime": {
     "end_time": "2020-06-24T15:41:49.392599Z",
     "start_time": "2020-06-24T15:41:47.742610Z"
    }
   },
   "outputs": [],
   "source": [
    "matrix = matrix.todense()"
   ]
  },
  {
   "cell_type": "code",
   "execution_count": 18,
   "metadata": {
    "ExecuteTime": {
     "end_time": "2020-06-24T15:41:53.339821Z",
     "start_time": "2020-06-24T15:41:50.568004Z"
    }
   },
   "outputs": [],
   "source": [
    "# маска из нанов\n",
    "mask = np.isnan(matrix)\n",
    "masked_arr = np.ma.masked_array(matrix, mask)\n",
    "item_means = np.mean(masked_arr, axis=0)"
   ]
  },
  {
   "cell_type": "code",
   "execution_count": 19,
   "metadata": {
    "ExecuteTime": {
     "end_time": "2020-06-24T15:42:14.563746Z",
     "start_time": "2020-06-24T15:42:11.829533Z"
    }
   },
   "outputs": [],
   "source": [
    "# замена средним для нанов\n",
    "matrix = masked_arr.filled(item_means)\n",
    "x = np.tile(item_means, (matrix.shape[0], 1))"
   ]
  },
  {
   "cell_type": "code",
   "execution_count": 20,
   "metadata": {
    "ExecuteTime": {
     "end_time": "2020-06-24T15:42:29.202705Z",
     "start_time": "2020-06-24T15:42:23.696064Z"
    }
   },
   "outputs": [
    {
     "ename": "ValueError",
     "evalue": "operands could not be broadcast together with shapes (114523,5082) (1,114523) ",
     "output_type": "error",
     "traceback": [
      "\u001b[0;31m---------------------------------------------------------------------------\u001b[0m",
      "\u001b[0;31mValueError\u001b[0m                                Traceback (most recent call last)",
      "\u001b[0;32m<ipython-input-20-d0d3ca7b1cad>\u001b[0m in \u001b[0;36m<module>\u001b[0;34m\u001b[0m\n\u001b[1;32m      4\u001b[0m \u001b[0mcol_means\u001b[0m  \u001b[0;34m=\u001b[0m \u001b[0mnp\u001b[0m\u001b[0;34m.\u001b[0m\u001b[0mmean\u001b[0m\u001b[0;34m(\u001b[0m\u001b[0mmatrix\u001b[0m\u001b[0;34m,\u001b[0m \u001b[0maxis\u001b[0m\u001b[0;34m=\u001b[0m\u001b[0;36m0\u001b[0m\u001b[0;34m)\u001b[0m \u001b[0;34m-\u001b[0m \u001b[0mtotal_mean\u001b[0m\u001b[0;34m\u001b[0m\u001b[0;34m\u001b[0m\u001b[0m\n\u001b[1;32m      5\u001b[0m \u001b[0mrow_means\u001b[0m  \u001b[0;34m=\u001b[0m \u001b[0mnp\u001b[0m\u001b[0;34m.\u001b[0m\u001b[0mmean\u001b[0m\u001b[0;34m(\u001b[0m\u001b[0mmatrix\u001b[0m\u001b[0;34m,\u001b[0m \u001b[0maxis\u001b[0m\u001b[0;34m=\u001b[0m\u001b[0;36m1\u001b[0m\u001b[0;34m)\u001b[0m \u001b[0;34m-\u001b[0m \u001b[0mtotal_mean\u001b[0m\u001b[0;34m\u001b[0m\u001b[0;34m\u001b[0m\u001b[0m\n\u001b[0;32m----> 6\u001b[0;31m \u001b[0mmatrix\u001b[0m \u001b[0;34m=\u001b[0m \u001b[0mmatrix\u001b[0m \u001b[0;34m-\u001b[0m \u001b[0mrow_means\u001b[0m\u001b[0;34m[\u001b[0m\u001b[0;34m:\u001b[0m\u001b[0;34m,\u001b[0m \u001b[0mnp\u001b[0m\u001b[0;34m.\u001b[0m\u001b[0mnewaxis\u001b[0m\u001b[0;34m]\u001b[0m \u001b[0;34m-\u001b[0m \u001b[0mcol_means\u001b[0m \u001b[0;34m-\u001b[0m \u001b[0mtotal_mean\u001b[0m\u001b[0;34m\u001b[0m\u001b[0;34m\u001b[0m\u001b[0m\n\u001b[0m",
      "\u001b[0;32m~/.local/lib/python3.6/site-packages/numpy/ma/core.py\u001b[0m in \u001b[0;36m__sub__\u001b[0;34m(self, other)\u001b[0m\n\u001b[1;32m   4115\u001b[0m         \u001b[0;32mif\u001b[0m \u001b[0mself\u001b[0m\u001b[0;34m.\u001b[0m\u001b[0m_delegate_binop\u001b[0m\u001b[0;34m(\u001b[0m\u001b[0mother\u001b[0m\u001b[0;34m)\u001b[0m\u001b[0;34m:\u001b[0m\u001b[0;34m\u001b[0m\u001b[0;34m\u001b[0m\u001b[0m\n\u001b[1;32m   4116\u001b[0m             \u001b[0;32mreturn\u001b[0m \u001b[0mNotImplemented\u001b[0m\u001b[0;34m\u001b[0m\u001b[0;34m\u001b[0m\u001b[0m\n\u001b[0;32m-> 4117\u001b[0;31m         \u001b[0;32mreturn\u001b[0m \u001b[0msubtract\u001b[0m\u001b[0;34m(\u001b[0m\u001b[0mself\u001b[0m\u001b[0;34m,\u001b[0m \u001b[0mother\u001b[0m\u001b[0;34m)\u001b[0m\u001b[0;34m\u001b[0m\u001b[0;34m\u001b[0m\u001b[0m\n\u001b[0m\u001b[1;32m   4118\u001b[0m \u001b[0;34m\u001b[0m\u001b[0m\n\u001b[1;32m   4119\u001b[0m     \u001b[0;32mdef\u001b[0m \u001b[0m__rsub__\u001b[0m\u001b[0;34m(\u001b[0m\u001b[0mself\u001b[0m\u001b[0;34m,\u001b[0m \u001b[0mother\u001b[0m\u001b[0;34m)\u001b[0m\u001b[0;34m:\u001b[0m\u001b[0;34m\u001b[0m\u001b[0;34m\u001b[0m\u001b[0m\n",
      "\u001b[0;32m~/.local/lib/python3.6/site-packages/numpy/ma/core.py\u001b[0m in \u001b[0;36m__call__\u001b[0;34m(self, a, b, *args, **kwargs)\u001b[0m\n\u001b[1;32m   1024\u001b[0m         \u001b[0;32mwith\u001b[0m \u001b[0mnp\u001b[0m\u001b[0;34m.\u001b[0m\u001b[0merrstate\u001b[0m\u001b[0;34m(\u001b[0m\u001b[0;34m)\u001b[0m\u001b[0;34m:\u001b[0m\u001b[0;34m\u001b[0m\u001b[0;34m\u001b[0m\u001b[0m\n\u001b[1;32m   1025\u001b[0m             \u001b[0mnp\u001b[0m\u001b[0;34m.\u001b[0m\u001b[0mseterr\u001b[0m\u001b[0;34m(\u001b[0m\u001b[0mdivide\u001b[0m\u001b[0;34m=\u001b[0m\u001b[0;34m'ignore'\u001b[0m\u001b[0;34m,\u001b[0m \u001b[0minvalid\u001b[0m\u001b[0;34m=\u001b[0m\u001b[0;34m'ignore'\u001b[0m\u001b[0;34m)\u001b[0m\u001b[0;34m\u001b[0m\u001b[0;34m\u001b[0m\u001b[0m\n\u001b[0;32m-> 1026\u001b[0;31m             \u001b[0mresult\u001b[0m \u001b[0;34m=\u001b[0m \u001b[0mself\u001b[0m\u001b[0;34m.\u001b[0m\u001b[0mf\u001b[0m\u001b[0;34m(\u001b[0m\u001b[0mda\u001b[0m\u001b[0;34m,\u001b[0m \u001b[0mdb\u001b[0m\u001b[0;34m,\u001b[0m \u001b[0;34m*\u001b[0m\u001b[0margs\u001b[0m\u001b[0;34m,\u001b[0m \u001b[0;34m**\u001b[0m\u001b[0mkwargs\u001b[0m\u001b[0;34m)\u001b[0m\u001b[0;34m\u001b[0m\u001b[0;34m\u001b[0m\u001b[0m\n\u001b[0m\u001b[1;32m   1027\u001b[0m         \u001b[0;31m# Get the mask for the result\u001b[0m\u001b[0;34m\u001b[0m\u001b[0;34m\u001b[0m\u001b[0;34m\u001b[0m\u001b[0m\n\u001b[1;32m   1028\u001b[0m         \u001b[0;34m(\u001b[0m\u001b[0mma\u001b[0m\u001b[0;34m,\u001b[0m \u001b[0mmb\u001b[0m\u001b[0;34m)\u001b[0m \u001b[0;34m=\u001b[0m \u001b[0;34m(\u001b[0m\u001b[0mgetmask\u001b[0m\u001b[0;34m(\u001b[0m\u001b[0ma\u001b[0m\u001b[0;34m)\u001b[0m\u001b[0;34m,\u001b[0m \u001b[0mgetmask\u001b[0m\u001b[0;34m(\u001b[0m\u001b[0mb\u001b[0m\u001b[0;34m)\u001b[0m\u001b[0;34m)\u001b[0m\u001b[0;34m\u001b[0m\u001b[0;34m\u001b[0m\u001b[0m\n",
      "\u001b[0;31mValueError\u001b[0m: operands could not be broadcast together with shapes (114523,5082) (1,114523) "
     ]
    }
   ],
   "source": [
    "# вычитание\n",
    "matrix = matrix - x\n",
    "total_mean = np.mean(matrix)\n",
    "col_means  = np.mean(matrix, axis=0) - total_mean\n",
    "row_means  = np.mean(matrix, axis=1) - total_mean\n",
    "matrix = matrix - row_means[:, np.newaxis] - col_means - total_mean"
   ]
  },
  {
   "cell_type": "code",
   "execution_count": 34,
   "metadata": {
    "ExecuteTime": {
     "end_time": "2020-06-24T15:45:06.096848Z",
     "start_time": "2020-06-24T15:45:06.092256Z"
    }
   },
   "outputs": [
    {
     "data": {
      "text/plain": [
       "(1, 1, 114523)"
      ]
     },
     "execution_count": 34,
     "metadata": {},
     "output_type": "execute_result"
    }
   ],
   "source": [
    "row_means[:, np.newaxis].shape"
   ]
  },
  {
   "cell_type": "code",
   "execution_count": 35,
   "metadata": {
    "ExecuteTime": {
     "end_time": "2020-06-24T15:45:18.449129Z",
     "start_time": "2020-06-24T15:45:18.444495Z"
    }
   },
   "outputs": [
    {
     "data": {
      "text/plain": [
       "(1, 5082)"
      ]
     },
     "execution_count": 35,
     "metadata": {},
     "output_type": "execute_result"
    }
   ],
   "source": [
    "col_means.shape"
   ]
  },
  {
   "cell_type": "code",
   "execution_count": 32,
   "metadata": {
    "ExecuteTime": {
     "end_time": "2020-06-24T15:44:41.701785Z",
     "start_time": "2020-06-24T15:44:41.686626Z"
    }
   },
   "outputs": [
    {
     "ename": "ValueError",
     "evalue": "operands could not be broadcast together with shapes (114523,5082) (1,114523) ",
     "output_type": "error",
     "traceback": [
      "\u001b[0;31m---------------------------------------------------------------------------\u001b[0m",
      "\u001b[0;31mValueError\u001b[0m                                Traceback (most recent call last)",
      "\u001b[0;32m<ipython-input-32-3747f5d26c1f>\u001b[0m in \u001b[0;36m<module>\u001b[0;34m\u001b[0m\n\u001b[0;32m----> 1\u001b[0;31m \u001b[0mmatrix\u001b[0m \u001b[0;34m-\u001b[0m \u001b[0mrow_means\u001b[0m\u001b[0;34m[\u001b[0m\u001b[0;34m:\u001b[0m\u001b[0;34m,\u001b[0m \u001b[0mnp\u001b[0m\u001b[0;34m.\u001b[0m\u001b[0mnewaxis\u001b[0m\u001b[0;34m]\u001b[0m\u001b[0;34m\u001b[0m\u001b[0;34m\u001b[0m\u001b[0m\n\u001b[0m",
      "\u001b[0;32m~/.local/lib/python3.6/site-packages/numpy/ma/core.py\u001b[0m in \u001b[0;36m__sub__\u001b[0;34m(self, other)\u001b[0m\n\u001b[1;32m   4115\u001b[0m         \u001b[0;32mif\u001b[0m \u001b[0mself\u001b[0m\u001b[0;34m.\u001b[0m\u001b[0m_delegate_binop\u001b[0m\u001b[0;34m(\u001b[0m\u001b[0mother\u001b[0m\u001b[0;34m)\u001b[0m\u001b[0;34m:\u001b[0m\u001b[0;34m\u001b[0m\u001b[0;34m\u001b[0m\u001b[0m\n\u001b[1;32m   4116\u001b[0m             \u001b[0;32mreturn\u001b[0m \u001b[0mNotImplemented\u001b[0m\u001b[0;34m\u001b[0m\u001b[0;34m\u001b[0m\u001b[0m\n\u001b[0;32m-> 4117\u001b[0;31m         \u001b[0;32mreturn\u001b[0m \u001b[0msubtract\u001b[0m\u001b[0;34m(\u001b[0m\u001b[0mself\u001b[0m\u001b[0;34m,\u001b[0m \u001b[0mother\u001b[0m\u001b[0;34m)\u001b[0m\u001b[0;34m\u001b[0m\u001b[0;34m\u001b[0m\u001b[0m\n\u001b[0m\u001b[1;32m   4118\u001b[0m \u001b[0;34m\u001b[0m\u001b[0m\n\u001b[1;32m   4119\u001b[0m     \u001b[0;32mdef\u001b[0m \u001b[0m__rsub__\u001b[0m\u001b[0;34m(\u001b[0m\u001b[0mself\u001b[0m\u001b[0;34m,\u001b[0m \u001b[0mother\u001b[0m\u001b[0;34m)\u001b[0m\u001b[0;34m:\u001b[0m\u001b[0;34m\u001b[0m\u001b[0;34m\u001b[0m\u001b[0m\n",
      "\u001b[0;32m~/.local/lib/python3.6/site-packages/numpy/ma/core.py\u001b[0m in \u001b[0;36m__call__\u001b[0;34m(self, a, b, *args, **kwargs)\u001b[0m\n\u001b[1;32m   1024\u001b[0m         \u001b[0;32mwith\u001b[0m \u001b[0mnp\u001b[0m\u001b[0;34m.\u001b[0m\u001b[0merrstate\u001b[0m\u001b[0;34m(\u001b[0m\u001b[0;34m)\u001b[0m\u001b[0;34m:\u001b[0m\u001b[0;34m\u001b[0m\u001b[0;34m\u001b[0m\u001b[0m\n\u001b[1;32m   1025\u001b[0m             \u001b[0mnp\u001b[0m\u001b[0;34m.\u001b[0m\u001b[0mseterr\u001b[0m\u001b[0;34m(\u001b[0m\u001b[0mdivide\u001b[0m\u001b[0;34m=\u001b[0m\u001b[0;34m'ignore'\u001b[0m\u001b[0;34m,\u001b[0m \u001b[0minvalid\u001b[0m\u001b[0;34m=\u001b[0m\u001b[0;34m'ignore'\u001b[0m\u001b[0;34m)\u001b[0m\u001b[0;34m\u001b[0m\u001b[0;34m\u001b[0m\u001b[0m\n\u001b[0;32m-> 1026\u001b[0;31m             \u001b[0mresult\u001b[0m \u001b[0;34m=\u001b[0m \u001b[0mself\u001b[0m\u001b[0;34m.\u001b[0m\u001b[0mf\u001b[0m\u001b[0;34m(\u001b[0m\u001b[0mda\u001b[0m\u001b[0;34m,\u001b[0m \u001b[0mdb\u001b[0m\u001b[0;34m,\u001b[0m \u001b[0;34m*\u001b[0m\u001b[0margs\u001b[0m\u001b[0;34m,\u001b[0m \u001b[0;34m**\u001b[0m\u001b[0mkwargs\u001b[0m\u001b[0;34m)\u001b[0m\u001b[0;34m\u001b[0m\u001b[0;34m\u001b[0m\u001b[0m\n\u001b[0m\u001b[1;32m   1027\u001b[0m         \u001b[0;31m# Get the mask for the result\u001b[0m\u001b[0;34m\u001b[0m\u001b[0;34m\u001b[0m\u001b[0;34m\u001b[0m\u001b[0m\n\u001b[1;32m   1028\u001b[0m         \u001b[0;34m(\u001b[0m\u001b[0mma\u001b[0m\u001b[0;34m,\u001b[0m \u001b[0mmb\u001b[0m\u001b[0;34m)\u001b[0m \u001b[0;34m=\u001b[0m \u001b[0;34m(\u001b[0m\u001b[0mgetmask\u001b[0m\u001b[0;34m(\u001b[0m\u001b[0ma\u001b[0m\u001b[0;34m)\u001b[0m\u001b[0;34m,\u001b[0m \u001b[0mgetmask\u001b[0m\u001b[0;34m(\u001b[0m\u001b[0mb\u001b[0m\u001b[0;34m)\u001b[0m\u001b[0;34m)\u001b[0m\u001b[0;34m\u001b[0m\u001b[0;34m\u001b[0m\u001b[0m\n",
      "\u001b[0;31mValueError\u001b[0m: operands could not be broadcast together with shapes (114523,5082) (1,114523) "
     ]
    }
   ],
   "source": [
    "matrix - row_means[:, np.newaxis]"
   ]
  },
  {
   "cell_type": "code",
   "execution_count": 26,
   "metadata": {
    "ExecuteTime": {
     "end_time": "2020-06-24T15:43:41.875440Z",
     "start_time": "2020-06-24T15:43:39.070807Z"
    }
   },
   "outputs": [
    {
     "data": {
      "text/plain": [
       "masked_matrix(\n",
       "  data=[[-7.10444861e-03, -1.93079898e-02, -6.43734509e-03, ...,\n",
       "         -3.30462252e-05, -5.21693075e-05, -4.28293018e-05],\n",
       "        [-7.10444861e-03, -1.93079898e-02, -6.43734509e-03, ...,\n",
       "         -3.30462252e-05, -5.21693075e-05, -4.28293018e-05],\n",
       "        [-7.10444861e-03, -1.93079898e-02, -6.43734509e-03, ...,\n",
       "         -3.30462252e-05, -5.21693075e-05, -4.28293018e-05],\n",
       "        ...,\n",
       "        [-7.10444861e-03, -1.93079898e-02, -6.43734509e-03, ...,\n",
       "         -3.30462252e-05, -5.21693075e-05, -4.28293018e-05],\n",
       "        [-7.10444861e-03, -1.93079898e-02, -6.43734509e-03, ...,\n",
       "         -3.30462252e-05, -5.21693075e-05, -4.28293018e-05],\n",
       "        [-7.10444861e-03, -1.93079898e-02, -6.43734509e-03, ...,\n",
       "         -3.30462252e-05, -5.21693075e-05, -4.28293018e-05]],\n",
       "  mask=False,\n",
       "  fill_value=1e+20)"
      ]
     },
     "execution_count": 26,
     "metadata": {},
     "output_type": "execute_result"
    }
   ],
   "source": [
    "matrix - col_means"
   ]
  },
  {
   "cell_type": "code",
   "execution_count": null,
   "metadata": {
    "ExecuteTime": {
     "start_time": "2020-06-24T15:20:05.438Z"
    }
   },
   "outputs": [
    {
     "name": "stdout",
     "output_type": "stream",
     "text": [
      "iter 1 of 30: Wed Jun 24 18:20:05 2020\n",
      "0 {'K': 300, 'item_cnt': 20, 'user_cnt': 1, 'n_item_count': 5000} 0.26444457346901007\n",
      "Wed Jun 24 18:23:00 2020 \n",
      "\n",
      "iter 2 of 30: Wed Jun 24 18:23:01 2020\n",
      "1 {'K': 50, 'item_cnt': 50, 'user_cnt': 1, 'n_item_count': 2000} 0.2708496034386116\n",
      "Wed Jun 24 18:24:16 2020 \n",
      "\n",
      "iter 3 of 30: Wed Jun 24 18:24:16 2020\n",
      "2 {'K': 20, 'item_cnt': 20, 'user_cnt': 10, 'n_item_count': 300} 0.23641381694399452\n",
      "Wed Jun 24 18:24:39 2020 \n",
      "\n",
      "iter 4 of 30: Wed Jun 24 18:24:40 2020\n",
      "3 {'K': 150, 'item_cnt': 50, 'user_cnt': 1, 'n_item_count': 300} 0.2616572971569356\n",
      "Wed Jun 24 18:26:34 2020 \n",
      "\n",
      "iter 5 of 30: Wed Jun 24 18:26:34 2020\n",
      "4 {'K': 30, 'item_cnt': 20, 'user_cnt': 10, 'n_item_count': 500} 0.2554418853640816\n",
      "Wed Jun 24 18:27:01 2020 \n",
      "\n",
      "iter 6 of 30: Wed Jun 24 18:27:01 2020\n",
      "5 {'K': 100, 'item_cnt': 10, 'user_cnt': 3, 'n_item_count': 1000} 0.26811009130307106\n",
      "Wed Jun 24 18:28:22 2020 \n",
      "\n",
      "iter 7 of 30: Wed Jun 24 18:28:22 2020\n",
      "6 {'K': 150, 'item_cnt': 10, 'user_cnt': 10, 'n_item_count': 2000} 0.25643696890272344\n",
      "Wed Jun 24 18:29:14 2020 \n",
      "\n",
      "iter 8 of 30: Wed Jun 24 18:29:15 2020\n"
     ]
    }
   ],
   "source": [
    "metric = []\n",
    "for k, param in dict_of_params.items():\n",
    "    print(f'iter {k+1} of {len(dict_of_params)}: {time.ctime()}')\n",
    "    \n",
    "    # cut matrix\n",
    "    mask_users = np.diff(matrix_m.tocsr().indptr) > param['user_cnt']\n",
    "    mask_items = np.diff(matrix_m.tocsc().indptr) > param['item_cnt']\n",
    "    matrix = matrix_m.copy()\n",
    "    matrix = matrix[:, mask_items]\n",
    "    matrix = matrix[mask_users, :]\n",
    "    \n",
    "    '''\n",
    "        с нормировкой + заполнениями и сдвигом\n",
    "    '''\n",
    "    \n",
    "    # маска из нанов\n",
    "    mask = np.isnan(matrix)\n",
    "    masked_arr = np.ma.masked_array(matrix, mask)\n",
    "    item_means = np.mean(masked_arr, axis=0)\n",
    "    # замена средним для нанов\n",
    "    utilMat = masked_arr.filled(item_means)\n",
    "    x = np.tile(item_means, (matrix.shape[0], 1))\n",
    "    # вычитание\n",
    "    matrix = matrix - x\n",
    "    total_mean = np.mean(matrix)\n",
    "    col_means  = np.mean(matrix, axis=0) - total_mean\n",
    "    row_means  = np.mean(matrix, axis=1) - total_mean\n",
    "    matrix = matrix - row_means[:, np.newaxis] - col_means - total_mean\n",
    "    # нормировка\n",
    "    row_norms = np.sqrt(np.sum(matrix*matrix, axis=1))[:, np.newaxis]\n",
    "    col_norms = np.sqrt(np.sum(matrix*matrix, axis=0))[np.newaxis, :]\n",
    "    matrix = matrix / np.sqrt(row_norms) / np.sqrt(col_norms)\n",
    "\n",
    "    # mappers\n",
    "    new_users = np.array([x[0] for x in sorted([(k,v) for k,v in user_mapper.items()], key=lambda x: x[1])])[mask_users]\n",
    "    new_user_mapper = {v:k for k,v in enumerate(new_users)}\n",
    "    new_user_mapper_rev = {k:v for k,v in enumerate(new_users)}\n",
    "    \n",
    "    new_items = np.array([x[0] for x in sorted([(k,v) for k,v in item_mapper.items()], key=lambda x: x[1])])[mask_items]\n",
    "    new_item_mapper = {v:k for k,v in enumerate(new_items)}\n",
    "    new_item_mapper_rev = {k:v for k,v in enumerate(new_items)}\n",
    "    \n",
    "    # fit\n",
    "    model = implicit.nearest_neighbours.CosineRecommender(K=param['K'],)\n",
    "    model.fit(matrix.T)\n",
    "    \n",
    "    # predict\n",
    "    cold_users = set(test_df['user_id'].unique()) - set(new_user_mapper.keys())\n",
    "    hot_users = set(test_df['user_id'].unique())&(set(new_user_mapper.keys()))\n",
    "    hot_users_labels = [new_user_mapper[x] for x in hot_users]\n",
    "    \n",
    "    ## recs for hot users\n",
    "    res1 = []\n",
    "    n = len(hot_users)\n",
    "\n",
    "    for user in hot_users_labels:\n",
    "        rec = model.recommend(user, matrix, N=10)\n",
    "        res1 += [[user, r] for r, v in rec]\n",
    "\n",
    "    result1 = pd.DataFrame(res1, columns=['user_num', 'item_num'])\n",
    "    result1['user_id'] = result1['user_num'].map(new_user_mapper_rev)\n",
    "    result1['primary_video_id'] = result1['item_num'].map(new_item_mapper_rev)\n",
    "    result1.drop(['user_num', 'item_num'], axis=1, inplace=True)\n",
    "    \n",
    "    ## recs for cold users\n",
    "    # самые популярные товары\n",
    "    item_pop_matrix = pd.DataFrame([])\n",
    "    item_pop_matrix['item_id'] = new_item_mapper.keys()\n",
    "    item_pop_matrix['cnt_not_null'] = (matrix.T > 0).sum(axis=1)\n",
    "\n",
    "    # среднее по товарам\n",
    "    (x,y,z) = scipy.sparse.find(matrix)\n",
    "    countings = np.bincount(y)\n",
    "    sums = np.bincount(y, weights=z)\n",
    "    averages = sums/countings\n",
    "\n",
    "    item_pop_matrix['item_means'] = averages\n",
    "\n",
    "    top10_items = item_pop_matrix[item_pop_matrix['cnt_not_null'] > param['n_item_count']]\\\n",
    "    .sort_values('item_means', ascending=False).head(10)['item_id'].values\n",
    "\n",
    "    result2 = pd.DataFrame(cold_users, columns=['user_id'])\n",
    "    items = [x for x in top10_items]*result2.shape[0]\n",
    "    result2 = result2.loc[result2.index.repeat(10)]\n",
    "    result2['primary_video_id'] = items\n",
    "\n",
    "    # join\n",
    "    finalDF = result1.append(result2).reset_index(drop=True)\n",
    "    finalDF = finalDF[finalDF['user_id'].isin(test_df['user_id'].unique())].reset_index(drop=True)\n",
    "\n",
    "    # map@k\n",
    "    finalDF = finalDF.merge(test_df[['user_id', 'primary_video_id', 'targer']], \n",
    "                            on=['user_id', 'primary_video_id'], \n",
    "                            how='left').fillna(0)\n",
    "    finalDF['rnk'] = finalDF.groupby('user_id').cumcount()+1\n",
    "    print(k, param, map_at_k(finalDF, 10))\n",
    "    print(time.ctime(), '\\n')\n",
    "    metric.append((k, param, map_at_k(finalDF, 10)))"
   ]
  },
  {
   "cell_type": "markdown",
   "metadata": {},
   "source": [
    "## predict"
   ]
  },
  {
   "cell_type": "code",
   "execution_count": null,
   "metadata": {
    "ExecuteTime": {
     "start_time": "2020-06-24T15:21:17.230Z"
    }
   },
   "outputs": [],
   "source": [
    "best = sorted(metric, lambda x: x[2], reverse=True)[0]\n",
    "print(best)\n",
    "best_params = best[1]"
   ]
  },
  {
   "cell_type": "code",
   "execution_count": null,
   "metadata": {
    "ExecuteTime": {
     "start_time": "2020-06-24T15:21:42.893Z"
    }
   },
   "outputs": [],
   "source": [
    "matrix_m, item_mapper, user_mapper = prepare_matrix(train_p)"
   ]
  },
  {
   "cell_type": "code",
   "execution_count": null,
   "metadata": {
    "ExecuteTime": {
     "start_time": "2020-06-24T15:22:05.502Z"
    }
   },
   "outputs": [],
   "source": [
    "# cut matrix\n",
    "mask_users = np.diff(matrix_m.tocsr().indptr) > best_params['user_cnt']\n",
    "mask_items = np.diff(matrix_m.tocsc().indptr) > best_params['item_cnt']\n",
    "matrix = matrix_m.copy()\n",
    "matrix = matrix[:, mask_items]\n",
    "matrix = matrix[mask_users, :]\n",
    "\n",
    "# mappers\n",
    "new_users = np.array([x[0] for x in sorted([(k,v) for k,v in user_mapper.items()], key=lambda x: x[1])])[mask_users]\n",
    "new_user_mapper = {v:k for k,v in enumerate(new_users)}\n",
    "new_user_mapper_rev = {k:v for k,v in enumerate(new_users)}\n",
    "\n",
    "new_items = np.array([x[0] for x in sorted([(k,v) for k,v in item_mapper.items()], key=lambda x: x[1])])[mask_items]\n",
    "new_item_mapper = {v:k for k,v in enumerate(new_items)}\n",
    "new_item_mapper_rev = {k:v for k,v in enumerate(new_items)}"
   ]
  },
  {
   "cell_type": "code",
   "execution_count": null,
   "metadata": {
    "ExecuteTime": {
     "start_time": "2020-06-24T15:22:25.789Z"
    }
   },
   "outputs": [],
   "source": [
    "# fit\n",
    "model = implicit.nearest_neighbours.CosineRecommender(K=best_params['K'])\n",
    "model.fit(matrix.T)"
   ]
  },
  {
   "cell_type": "code",
   "execution_count": null,
   "metadata": {
    "ExecuteTime": {
     "start_time": "2020-06-24T15:22:37.645Z"
    }
   },
   "outputs": [],
   "source": [
    "# predict\n",
    "cold_users = set(test['user_id'].unique()) - set(new_user_mapper.keys())\n",
    "hot_users = set(test['user_id'].unique())&(set(new_user_mapper.keys()))\n",
    "hot_users_labels = [new_user_mapper[x] for x in hot_users]"
   ]
  },
  {
   "cell_type": "code",
   "execution_count": null,
   "metadata": {
    "ExecuteTime": {
     "start_time": "2020-06-24T15:22:54.541Z"
    }
   },
   "outputs": [],
   "source": [
    "## recs for hot users\n",
    "res1 = []\n",
    "n = len(hot_users)\n",
    "\n",
    "for user in hot_users_labels:\n",
    "    rec = model.recommend(user, matrix, N=10)\n",
    "    res1 += [[user, r] for r, v in rec]\n",
    "\n",
    "result1 = pd.DataFrame(res1, columns=['user_num', 'item_num'])\n",
    "result1['user_id'] = result1['user_num'].map(new_user_mapper_rev)\n",
    "result1['primary_video_id'] = result1['item_num'].map(new_item_mapper_rev)\n",
    "result1.drop(['user_num', 'item_num'], axis=1, inplace=True)"
   ]
  },
  {
   "cell_type": "code",
   "execution_count": null,
   "metadata": {
    "ExecuteTime": {
     "start_time": "2020-06-24T15:23:48.348Z"
    }
   },
   "outputs": [],
   "source": [
    "## recs for cold users\n",
    "\n",
    "# самые популярные товары\n",
    "item_pop_matrix = pd.DataFrame([])\n",
    "item_pop_matrix['item_id'] = new_item_mapper.keys()\n",
    "item_pop_matrix['cnt_not_null'] = (matrix.T > 0).sum(axis=1)\n",
    "\n",
    "# среднее по товарам\n",
    "(x,y,z) = scipy.sparse.find(matrix)\n",
    "countings = np.bincount(y)\n",
    "sums = np.bincount(y, weights=z)\n",
    "averages = sums/countings\n",
    "\n",
    "item_pop_matrix['item_means'] = averages\n",
    "\n",
    "top10_items = item_pop_matrix[item_pop_matrix['cnt_not_null'] > best_params['n_item_count']]\\\n",
    ".sort_values('item_means', ascending=False).head(10)['item_id'].values\n",
    "\n",
    "result2 = pd.DataFrame(cold_users, columns=['user_id'])\n",
    "items = [x for x in top10_items]*result2.shape[0]\n",
    "result2 = result2.loc[result2.index.repeat(10)]\n",
    "result2['primary_video_id'] = items"
   ]
  },
  {
   "cell_type": "code",
   "execution_count": null,
   "metadata": {
    "ExecuteTime": {
     "start_time": "2020-06-24T15:24:08.554Z"
    }
   },
   "outputs": [],
   "source": [
    "# join\n",
    "finalDF = result1.append(result2).reset_index(drop=True)\n",
    "finalDF = finalDF[finalDF['user_id'].isin(test['user_id'].unique())].reset_index(drop=True)"
   ]
  },
  {
   "cell_type": "code",
   "execution_count": null,
   "metadata": {
    "ExecuteTime": {
     "start_time": "2020-06-24T15:25:43.501Z"
    }
   },
   "outputs": [],
   "source": [
    "finalDF = finalDF[['user_id', 'primary_video_id']]\n",
    "result = finalDF.groupby('user_id').apply(list)['primary_video_id']\n",
    "result['primary_video_id'] = result['primary_video_id'].apply(lambda x: ' '.join([str(a) for a in x]))"
   ]
  },
  {
   "cell_type": "code",
   "execution_count": null,
   "metadata": {
    "ExecuteTime": {
     "start_time": "2020-06-24T15:26:11.212Z"
    }
   },
   "outputs": [],
   "source": [
    "result.to_csv('/data/agoryach/datagym-recsys-01/big-hw-02/output/submission_7.csv', index=False)"
   ]
  },
  {
   "cell_type": "code",
   "execution_count": null,
   "metadata": {},
   "outputs": [],
   "source": []
  },
  {
   "cell_type": "code",
   "execution_count": null,
   "metadata": {},
   "outputs": [],
   "source": []
  }
 ],
 "metadata": {
  "kernelspec": {
   "display_name": "Python 3.6",
   "language": "python36",
   "name": "python3.6"
  },
  "language_info": {
   "codemirror_mode": {
    "name": "ipython",
    "version": 3
   },
   "file_extension": ".py",
   "mimetype": "text/x-python",
   "name": "python",
   "nbconvert_exporter": "python",
   "pygments_lexer": "ipython3",
   "version": "3.6.8"
  },
  "toc": {
   "base_numbering": 1,
   "nav_menu": {},
   "number_sections": true,
   "sideBar": true,
   "skip_h1_title": false,
   "title_cell": "Table of Contents",
   "title_sidebar": "Contents",
   "toc_cell": false,
   "toc_position": {},
   "toc_section_display": true,
   "toc_window_display": false
  }
 },
 "nbformat": 4,
 "nbformat_minor": 2
}
