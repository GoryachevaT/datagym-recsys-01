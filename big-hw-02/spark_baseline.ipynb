{
 "cells": [
  {
   "cell_type": "code",
   "execution_count": 1,
   "metadata": {
    "ExecuteTime": {
     "end_time": "2020-07-08T15:20:56.851103Z",
     "start_time": "2020-07-08T15:20:55.878637Z"
    }
   },
   "outputs": [],
   "source": [
    "import pandas as pd\n",
    "import numpy as np\n",
    "from scipy.sparse import coo_matrix\n",
    "import scipy\n",
    "from scipy.sparse.linalg import svds\n",
    "from numpy.linalg import svd \n",
    "from scipy.sparse import csr_matrix\n",
    "import time\n",
    "from sklearn import preprocessing\n",
    "import matplotlib.pyplot as plt"
   ]
  },
  {
   "cell_type": "code",
   "execution_count": 2,
   "metadata": {
    "ExecuteTime": {
     "end_time": "2020-07-08T15:20:56.971144Z",
     "start_time": "2020-07-08T15:20:56.928597Z"
    }
   },
   "outputs": [],
   "source": [
    "from pyspark.ml.evaluation import RegressionEvaluator\n",
    "from pyspark.ml.recommendation import ALS\n",
    "from pyspark.sql import Row"
   ]
  },
  {
   "cell_type": "code",
   "execution_count": 3,
   "metadata": {
    "ExecuteTime": {
     "end_time": "2020-07-08T15:21:08.333627Z",
     "start_time": "2020-07-08T15:20:57.777225Z"
    }
   },
   "outputs": [],
   "source": [
    "import findspark\n",
    "findspark.init(spark_home='/opt/cloudera/parcels/SPARK2/lib/spark2')\n",
    "\n",
    "from pyspark import SparkConf, SparkContext, HiveContext\n",
    "from pyspark.sql import *\n",
    "from pyspark.sql.types import *\n",
    "from pyspark.sql.functions import col, udf, regexp_extract, regexp_replace, concat, lit, when, length, unix_timestamp, add_months\n",
    "from pyspark.sql.functions import month, datediff, lag, to_timestamp, avg, collect_list, stddev, row_number, coalesce\n",
    "from pyspark.storagelevel import StorageLevel\n",
    "import pyspark.sql.functions as F\n",
    "from pyspark.sql.functions import explode\n",
    "\n",
    "conf = SparkConf().setAll([('spark.yarn.executor.memoryOverhead', '32g'), \n",
    "                           ('spark.driver.memory','32g'),\n",
    "                           ('hive.exec.dynamic.partition','true'),\n",
    "                           ('hive.exec.dynamic.partition.mode','nonstrict'),\n",
    "                           #,('spark.rpc.message.maxSize', '512')\n",
    "                          ])\n",
    "\n",
    "spark = SparkSession.builder.appName('recsysSparkBaseline').getOrCreate()\n",
    "sc = spark.sparkContext\n",
    "hive = HiveContext(sc)"
   ]
  },
  {
   "cell_type": "code",
   "execution_count": 4,
   "metadata": {
    "ExecuteTime": {
     "end_time": "2020-07-08T15:21:08.338997Z",
     "start_time": "2020-07-08T15:21:08.336130Z"
    }
   },
   "outputs": [],
   "source": [
    "import pyspark.sql.functions as F "
   ]
  },
  {
   "cell_type": "code",
   "execution_count": 5,
   "metadata": {
    "ExecuteTime": {
     "end_time": "2020-07-08T15:21:08.343205Z",
     "start_time": "2020-07-08T15:21:08.340966Z"
    }
   },
   "outputs": [],
   "source": [
    "# spark.stop()"
   ]
  },
  {
   "cell_type": "markdown",
   "metadata": {},
   "source": [
    "## prepare data"
   ]
  },
  {
   "cell_type": "code",
   "execution_count": 6,
   "metadata": {
    "ExecuteTime": {
     "end_time": "2020-07-08T15:21:08.347721Z",
     "start_time": "2020-07-08T15:21:08.344977Z"
    }
   },
   "outputs": [],
   "source": [
    "data_path = '/data/agoryach/datagym-recsys-01/big-hw-02/input/'\n",
    "train_path = data_path + 'train_data_full.csv'\n",
    "test_path = data_path + 'sample_submission_full.csv'\n",
    "userRecs_path = data_path + 'userRecs.csv'"
   ]
  },
  {
   "cell_type": "code",
   "execution_count": 89,
   "metadata": {
    "ExecuteTime": {
     "end_time": "2020-07-08T16:20:56.809841Z",
     "start_time": "2020-07-08T16:20:44.345346Z"
    }
   },
   "outputs": [],
   "source": [
    "train = pd.read_csv(train_path)\n",
    "test = pd.read_csv(test_path)"
   ]
  },
  {
   "cell_type": "code",
   "execution_count": 90,
   "metadata": {
    "ExecuteTime": {
     "end_time": "2020-07-08T16:21:05.001903Z",
     "start_time": "2020-07-08T16:20:56.812205Z"
    }
   },
   "outputs": [],
   "source": [
    "aggr1 = {\n",
    "'session_duration': 'max', \n",
    "'video_duration': 'max'\n",
    "}\n",
    "\n",
    "train_s = train.groupby(['user_id', 'primary_video_id'])\\\n",
    "           .agg(aggr1).reset_index().reset_index()\n",
    "\n",
    "train_s['session_duration_clean'] = train_s[['session_duration', 'video_duration']].min(axis=1)\n",
    "train_s['watching_percentage'] = train_s['session_duration_clean']/train_s['video_duration']\n",
    "train_s = train_s[['user_id', 'primary_video_id', 'watching_percentage']]\n",
    "\n",
    "user_labels = {k:v for v, k in dict(enumerate(train_s.user_id.unique())).items()}\n",
    "item_labels = {k:v for v, k in dict(enumerate(train_s.primary_video_id.unique())).items()}\n",
    "\n",
    "train_s['user_num'] = train_s['user_id'].map(user_labels)\n",
    "train_s['item_num'] = train_s['primary_video_id'].map(item_labels)\n",
    "\n",
    "#train_s['target'] = np.where(train_s['watching_percentage']>=0.5, 1, 0)"
   ]
  },
  {
   "cell_type": "code",
   "execution_count": 91,
   "metadata": {
    "ExecuteTime": {
     "end_time": "2020-07-08T16:21:06.847389Z",
     "start_time": "2020-07-08T16:21:05.004271Z"
    }
   },
   "outputs": [],
   "source": [
    "train_s = train_s.sort_values(['user_num', 'watching_percentage'], ascending=[True, True])\n",
    "train_s['rating'] = train_s.groupby('user_num').cumcount() + 1"
   ]
  },
  {
   "cell_type": "code",
   "execution_count": 92,
   "metadata": {
    "ExecuteTime": {
     "end_time": "2020-07-08T16:21:07.263796Z",
     "start_time": "2020-07-08T16:21:07.003149Z"
    }
   },
   "outputs": [],
   "source": [
    "train_spark = train_s[['user_id', 'primary_video_id', 'user_num', 'item_num', 'watching_percentage']]"
   ]
  },
  {
   "cell_type": "code",
   "execution_count": 93,
   "metadata": {
    "ExecuteTime": {
     "end_time": "2020-07-08T16:21:45.422378Z",
     "start_time": "2020-07-08T16:21:08.028693Z"
    }
   },
   "outputs": [],
   "source": [
    "schema = StructType([StructField(\"user_id\", IntegerType(), True)\\\n",
    "                    ,StructField(\"primary_video_id\", IntegerType(), True)\\\n",
    "                    ,StructField(\"user_num\", IntegerType(), True)\\\n",
    "                    ,StructField(\"item_num\", IntegerType(), True)\\\n",
    "                    ,StructField(\"rating\", FloatType(), True)])\n",
    "                       \n",
    "df = spark.createDataFrame(train_spark, schema=schema)"
   ]
  },
  {
   "cell_type": "code",
   "execution_count": 12,
   "metadata": {
    "ExecuteTime": {
     "end_time": "2020-07-08T15:22:00.677793Z",
     "start_time": "2020-07-08T15:22:00.674706Z"
    }
   },
   "outputs": [],
   "source": [
    "#df = df.withColumn('rating_u', F.floor(col('rating')*10)).drop('rating')"
   ]
  },
  {
   "cell_type": "markdown",
   "metadata": {},
   "source": [
    "## make features"
   ]
  },
  {
   "cell_type": "markdown",
   "metadata": {},
   "source": [
    "### item feats"
   ]
  },
  {
   "cell_type": "code",
   "execution_count": 15,
   "metadata": {
    "ExecuteTime": {
     "end_time": "2020-07-08T15:22:32.273731Z",
     "start_time": "2020-07-08T15:22:31.337181Z"
    }
   },
   "outputs": [],
   "source": [
    "# film info\n",
    "item_info = pd.read_csv(data_path + 'video_meta_data_full.csv')\n",
    "# ohe по популярным актерам\n",
    "credits = pd.read_csv(data_path + 'video_credits_data_full.csv')\n",
    "# facts about favourite as flag\n",
    "favs = pd.read_csv(data_path + 'video_favs_data_full.csv')\n",
    "# facts about like as flag 0, 1, -1\n",
    "likes = pd.read_csv(data_path + 'video_likes_data_full.csv')\n",
    "# facts about orders\n",
    "orders = pd.read_csv(data_path + 'video_orders_data_full.csv')"
   ]
  },
  {
   "cell_type": "code",
   "execution_count": 16,
   "metadata": {
    "ExecuteTime": {
     "end_time": "2020-07-08T15:22:37.918285Z",
     "start_time": "2020-07-08T15:22:32.894491Z"
    }
   },
   "outputs": [],
   "source": [
    "item_info_agg = item_info.groupby('primary_video_id')\\\n",
    ".max().reset_index()\\\n",
    "[['primary_video_id', 'type', 'year', 'country', 'rating_imdb', 'rating_kinopoisk', \\\n",
    "  'score_by_popular', 'score_by_recommended', 'quality', 'age_limit']]"
   ]
  },
  {
   "cell_type": "code",
   "execution_count": 17,
   "metadata": {
    "ExecuteTime": {
     "end_time": "2020-07-08T15:22:37.960541Z",
     "start_time": "2020-07-08T15:22:37.920885Z"
    }
   },
   "outputs": [],
   "source": [
    "item_info_agg['item_FILM'] = np.where(item_info_agg['type']=='FILM', 1, 0)\n",
    "item_info_agg['item_SERIAL'] = np.where(item_info_agg['type']=='SERIAL', 1, 0)\n",
    "item_info_agg['item_SERIA'] = np.where(item_info_agg['type']=='SERIA', 1, 0)\n",
    "item_info_agg['item_MULTFILM'] = np.where(item_info_agg['type']=='MULTFILM', 1, 0)\n",
    "item_info_agg['item_SHOW'] = np.where((item_info_agg['type']=='SHOW')|(item_info_agg['type']=='SHOWFILM'), 1, 0)\n",
    "\n",
    "item_info_agg['item_year_2000'] = np.where(item_info_agg['year'] >= 2000, 1, 0)\n",
    "item_info_agg['item_year_1990'] = np.where((item_info_agg['year'] >= 1990)&(item_info_agg['year'] < 2000), 1, 0)\n",
    "item_info_agg['item_year_1980'] = np.where((item_info_agg['year'] >= 1980)&(item_info_agg['year'] < 1990), 1, 0)\n",
    "item_info_agg['item_year_1960'] = np.where((item_info_agg['year'] >= 1960)&(item_info_agg['year'] < 1980), 1, 0)\n",
    "item_info_agg['item_year_1940'] = np.where((item_info_agg['year'] >= 1940)&(item_info_agg['year'] < 1960), 1, 0)\n",
    "item_info_agg['item_year_1900'] = np.where((item_info_agg['year'] <  1940), 1, 0)\n",
    "\n",
    "item_info_agg['country_USA'] = np.where((item_info_agg['country'] == 'США'), 1, 0)\n",
    "item_info_agg['country_RUS'] = np.where((item_info_agg['country'] == 'Россия'), 1, 0)\n",
    "item_info_agg['country_USSR'] = np.where((item_info_agg['country'] == 'СССР'), 1, 0)\n",
    "item_info_agg['country_FRANCE'] = np.where((item_info_agg['country'] == 'Франция'), 1, 0)\n",
    "item_info_agg['country_ENG'] = np.where((item_info_agg['country'] == 'Великобритания'), 1, 0)\n",
    "item_info_agg['country_UKR'] = np.where((item_info_agg['country'] == 'Украина'), 1, 0)\n",
    "\n",
    "item_info_agg['quality_FULL'] = np.where((item_info_agg['quality'] == 'FullHD'), 1, 0)\n",
    "item_info_agg['quality_HD'] = np.where((item_info_agg['quality'] == 'HD'), 1, 0)\n",
    "\n",
    "item_info_agg['age_limit_18'] = np.where(item_info_agg['age_limit']==18, 1, 0)\n",
    "item_info_agg['age_limit_16'] = np.where(item_info_agg['age_limit']==16, 1, 0)\n",
    "item_info_agg['age_limit_12'] = np.where(item_info_agg['age_limit']==12, 1, 0)\n",
    "item_info_agg['age_limit_6']  = np.where(item_info_agg['age_limit']==6, 1, 0)"
   ]
  },
  {
   "cell_type": "code",
   "execution_count": 18,
   "metadata": {
    "ExecuteTime": {
     "end_time": "2020-07-08T15:22:37.968948Z",
     "start_time": "2020-07-08T15:22:37.962866Z"
    }
   },
   "outputs": [],
   "source": [
    "item_info_agg.drop(['type', 'year', 'country', 'quality', 'age_limit'], axis=1, inplace=True)"
   ]
  },
  {
   "cell_type": "code",
   "execution_count": 19,
   "metadata": {
    "ExecuteTime": {
     "end_time": "2020-07-08T15:23:13.085921Z",
     "start_time": "2020-07-08T15:23:12.949683Z"
    }
   },
   "outputs": [],
   "source": [
    "top10_actors = credits[credits['type']=='ROLE'].title.value_counts().head(10).index\n",
    "top10_directors = credits[credits['type']=='DIRECTOR'].title.value_counts().head(10).index\n",
    "top10_scenario = credits[credits['type']=='SCENARIO'].title.value_counts().head(10).index\n",
    "\n",
    "top30_actors = credits[credits['type']=='ROLE'].title.value_counts().head(30).index\n",
    "top30_directors = credits[credits['type']=='DIRECTOR'].title.value_counts().head(30).index\n",
    "top30_scenario = credits[credits['type']=='SCENARIO'].title.value_counts().head(30).index\n",
    "\n",
    "top100_actors = credits[credits['type']=='ROLE'].title.value_counts().head(100).index\n",
    "top100_directors = credits[credits['type']=='DIRECTOR'].title.value_counts().head(100).index\n",
    "top100_scenario = credits[credits['type']=='SCENARIO'].title.value_counts().head(100).index"
   ]
  },
  {
   "cell_type": "code",
   "execution_count": 20,
   "metadata": {
    "ExecuteTime": {
     "end_time": "2020-07-08T15:23:13.344590Z",
     "start_time": "2020-07-08T15:23:13.263377Z"
    }
   },
   "outputs": [],
   "source": [
    "credits['top10_actors'] = np.where(credits.title.isin(top10_actors), 1, 0)\n",
    "credits['top10_directors'] = np.where(credits.title.isin(top10_directors), 1, 0)\n",
    "credits['top10_scenario'] = np.where(credits.title.isin(top10_scenario), 1, 0)\n",
    "\n",
    "credits['top30_actors'] = np.where(credits.title.isin(top30_actors), 1, 0)\n",
    "credits['top30_directors'] = np.where(credits.title.isin(top30_directors), 1, 0)\n",
    "credits['top30_scenario'] = np.where(credits.title.isin(top30_scenario), 1, 0)\n",
    "\n",
    "credits['top100_actors'] = np.where(credits.title.isin(top100_actors), 1, 0)\n",
    "credits['top100_directors'] = np.where(credits.title.isin(top100_directors), 1, 0)\n",
    "credits['top100_scenario'] = np.where(credits.title.isin(top100_scenario), 1, 0)\n",
    "\n",
    "credits_agg = credits.groupby('primary_video_id').sum().reset_index()\n",
    "item_info_agg = item_info_agg.merge(credits_agg, how='left').fillna(-1)"
   ]
  },
  {
   "cell_type": "markdown",
   "metadata": {},
   "source": [
    "### user feats"
   ]
  },
  {
   "cell_type": "code",
   "execution_count": 42,
   "metadata": {
    "ExecuteTime": {
     "end_time": "2020-07-08T15:51:05.938327Z",
     "start_time": "2020-07-08T15:51:01.223081Z"
    }
   },
   "outputs": [],
   "source": [
    "aggregation = {\n",
    "'primary_video_id': 'count',\n",
    "'watching_percentage': ['mean', 'max', 'min'],\n",
    "# 'session_duration': ['mean', 'max', 'min'],\n",
    "# 'player_position_min': ['mean', 'max', 'min'],\n",
    "# 'player_position_max': ['mean', 'max', 'min'],\n",
    "'rating_imdb': 'mean',\n",
    "'rating_kinopoisk': 'mean',\n",
    "'score_by_popular': 'mean',\n",
    "'score_by_recommended': 'mean',\n",
    "'item_FILM': 'sum',\n",
    "'item_SERIAL': 'sum',\n",
    "'item_MULTFILM': 'sum',\n",
    "'item_SHOW': 'sum',\n",
    "'item_year_2000': 'sum',\n",
    "'item_year_1990': 'sum',\n",
    "'item_year_1980': 'sum',\n",
    "'item_year_1960': 'sum',\n",
    "'item_year_1940': 'sum',\n",
    "'item_year_1900': 'sum',\n",
    "'country_USA': 'sum',\n",
    "'country_RUS': 'sum',\n",
    "'country_USSR': 'sum',\n",
    "'country_FRANCE': 'sum',\n",
    "'country_ENG': 'sum',\n",
    "'country_UKR': 'sum',\n",
    "'quality_FULL': 'sum',\n",
    "'quality_HD': 'sum',\n",
    "'age_limit_18': 'sum',\n",
    "'age_limit_16': 'sum',\n",
    "'age_limit_12': 'sum',\n",
    "'age_limit_6': 'sum',\n",
    "'top10_actors': 'sum',\n",
    "'top10_directors': 'sum',\n",
    "'top10_scenario': 'sum',\n",
    "'top30_actors': 'sum',\n",
    "'top30_directors': 'sum',\n",
    "'top30_scenario': 'sum',\n",
    "'top100_actors': 'sum',\n",
    "'top100_directors': 'sum',\n",
    "'top100_scenario': 'sum'\n",
    "}\n",
    "\n",
    "user_info_agg = train_s.groupby('user_id').agg(aggregation)\n",
    "user_info_agg.columns=['user_'+x[0]+'_'+x[1] for x in user_info_agg.columns]\n",
    "user_info_agg = user_info_agg.reset_index()"
   ]
  },
  {
   "cell_type": "markdown",
   "metadata": {},
   "source": [
    "### feats to spark df"
   ]
  },
  {
   "cell_type": "code",
   "execution_count": 80,
   "metadata": {
    "ExecuteTime": {
     "end_time": "2020-07-08T16:17:26.292663Z",
     "start_time": "2020-07-08T16:17:26.044564Z"
    }
   },
   "outputs": [],
   "source": [
    "integers = ['int16', 'int32', 'int64']\n",
    "floats = ['float16', 'float32', 'float64']\n",
    "item_info_cols = []\n",
    "for col in item_info_agg.columns:\n",
    "    if item_info_agg.dtypes[col] in integers:\n",
    "        item_info_cols.append(StructField(col, IntegerType(), True))\n",
    "    if item_info_agg.dtypes[col] in floats:\n",
    "        item_info_cols.append(StructField(col, FloatType(), True))\n",
    "        \n",
    "item_info_schema = StructType(item_info_cols)\n",
    "item_info_df = spark.createDataFrame(item_info_agg, schema=item_info_schema)"
   ]
  },
  {
   "cell_type": "code",
   "execution_count": 83,
   "metadata": {
    "ExecuteTime": {
     "end_time": "2020-07-08T16:18:31.568545Z",
     "start_time": "2020-07-08T16:18:31.507980Z"
    }
   },
   "outputs": [],
   "source": [
    "integers = ['int16', 'int32', 'int64']\n",
    "floats = ['float16', 'float32', 'float64']\n",
    "user_info_cols = []\n",
    "\n",
    "for col in user_info_agg.columns:\n",
    "    if user_info_agg.dtypes[col] in integers:\n",
    "        user_info_cols.append(StructField(col, IntegerType(), True))\n",
    "    if user_info_agg.dtypes[col] in floats:\n",
    "        user_info_cols.append(StructField(col, FloatType(), True))\n",
    "        \n",
    "user_info_schema = StructType(user_info_cols)\n",
    "user_info_df = spark.createDataFrame(user_info_cols, schema=user_info_schema)"
   ]
  },
  {
   "cell_type": "markdown",
   "metadata": {
    "ExecuteTime": {
     "end_time": "2020-07-08T16:10:55.455865Z",
     "start_time": "2020-07-08T16:06:02.285Z"
    }
   },
   "source": [
    "### join feats"
   ]
  },
  {
   "cell_type": "code",
   "execution_count": 95,
   "metadata": {
    "ExecuteTime": {
     "end_time": "2020-07-08T16:23:55.549856Z",
     "start_time": "2020-07-08T16:23:55.485447Z"
    }
   },
   "outputs": [],
   "source": [
    "join_condition_users = [df.user_id == user_info_df.user_id]\n",
    "\n",
    "# джоин таргета и недельной витрины + удаление лишних колонок, если они есть\n",
    "df1 = df.join(user_info_df, join_condition_users, how='left')\\\n",
    "                .drop('user_id')"
   ]
  },
  {
   "cell_type": "code",
   "execution_count": 100,
   "metadata": {
    "ExecuteTime": {
     "end_time": "2020-07-08T16:25:23.506262Z",
     "start_time": "2020-07-08T16:25:23.469571Z"
    }
   },
   "outputs": [],
   "source": [
    "join_condition_items = [df1.primary_video_id == item_info_df.primary_video_id]\n",
    "\n",
    "# джоин таргета и недельной витрины + удаление лишних колонок, если они есть\n",
    "result = df1.join(item_info_df, join_condition_items, how='left')\\\n",
    "                .drop('primary_video_id')"
   ]
  },
  {
   "cell_type": "markdown",
   "metadata": {},
   "source": [
    "## fit"
   ]
  },
  {
   "cell_type": "code",
   "execution_count": 106,
   "metadata": {
    "ExecuteTime": {
     "end_time": "2020-07-08T16:36:26.043137Z",
     "start_time": "2020-07-08T16:36:26.039258Z"
    }
   },
   "outputs": [],
   "source": [
    "from pyspark.sql.functions import col"
   ]
  },
  {
   "cell_type": "code",
   "execution_count": 108,
   "metadata": {
    "ExecuteTime": {
     "end_time": "2020-07-08T16:36:31.381023Z",
     "start_time": "2020-07-08T16:36:31.302419Z"
    }
   },
   "outputs": [],
   "source": [
    "result = result.withColumn('target', when(col('rating') > 0.5, 1).otherwise(0))"
   ]
  },
  {
   "cell_type": "code",
   "execution_count": 109,
   "metadata": {
    "ExecuteTime": {
     "end_time": "2020-07-08T16:36:56.733217Z",
     "start_time": "2020-07-08T16:36:56.711238Z"
    }
   },
   "outputs": [],
   "source": [
    "(training, test) = result.randomSplit([0.8, 0.2])"
   ]
  },
  {
   "cell_type": "code",
   "execution_count": 110,
   "metadata": {
    "ExecuteTime": {
     "end_time": "2020-07-09T06:04:22.516412Z",
     "start_time": "2020-07-08T16:37:01.000196Z"
    },
    "scrolled": true
   },
   "outputs": [
    {
     "ename": "KeyboardInterrupt",
     "evalue": "",
     "output_type": "error",
     "traceback": [
      "\u001b[0;31m---------------------------------------------------------------------------\u001b[0m",
      "\u001b[0;31mKeyboardInterrupt\u001b[0m                         Traceback (most recent call last)",
      "\u001b[0;32m<ipython-input-110-aff719300acd>\u001b[0m in \u001b[0;36m<module>\u001b[0;34m\u001b[0m\n\u001b[1;32m      6\u001b[0m           \u001b[0muserCol\u001b[0m\u001b[0;34m=\u001b[0m\u001b[0;34m\"user_num\"\u001b[0m\u001b[0;34m,\u001b[0m \u001b[0mitemCol\u001b[0m\u001b[0;34m=\u001b[0m\u001b[0;34m\"item_num\"\u001b[0m\u001b[0;34m,\u001b[0m \u001b[0mratingCol\u001b[0m\u001b[0;34m=\u001b[0m\u001b[0;34m\"target\"\u001b[0m\u001b[0;34m,\u001b[0m\u001b[0;34m\u001b[0m\u001b[0;34m\u001b[0m\u001b[0m\n\u001b[1;32m      7\u001b[0m           coldStartStrategy=\"drop\")\n\u001b[0;32m----> 8\u001b[0;31m \u001b[0mmodel\u001b[0m \u001b[0;34m=\u001b[0m \u001b[0mals\u001b[0m\u001b[0;34m.\u001b[0m\u001b[0mfit\u001b[0m\u001b[0;34m(\u001b[0m\u001b[0mtraining\u001b[0m\u001b[0;34m)\u001b[0m\u001b[0;34m\u001b[0m\u001b[0;34m\u001b[0m\u001b[0m\n\u001b[0m",
      "\u001b[0;32m/usr/local/lib/python3.6/site-packages/pyspark/ml/base.py\u001b[0m in \u001b[0;36mfit\u001b[0;34m(self, dataset, params)\u001b[0m\n\u001b[1;32m    130\u001b[0m                 \u001b[0;32mreturn\u001b[0m \u001b[0mself\u001b[0m\u001b[0;34m.\u001b[0m\u001b[0mcopy\u001b[0m\u001b[0;34m(\u001b[0m\u001b[0mparams\u001b[0m\u001b[0;34m)\u001b[0m\u001b[0;34m.\u001b[0m\u001b[0m_fit\u001b[0m\u001b[0;34m(\u001b[0m\u001b[0mdataset\u001b[0m\u001b[0;34m)\u001b[0m\u001b[0;34m\u001b[0m\u001b[0;34m\u001b[0m\u001b[0m\n\u001b[1;32m    131\u001b[0m             \u001b[0;32melse\u001b[0m\u001b[0;34m:\u001b[0m\u001b[0;34m\u001b[0m\u001b[0;34m\u001b[0m\u001b[0m\n\u001b[0;32m--> 132\u001b[0;31m                 \u001b[0;32mreturn\u001b[0m \u001b[0mself\u001b[0m\u001b[0;34m.\u001b[0m\u001b[0m_fit\u001b[0m\u001b[0;34m(\u001b[0m\u001b[0mdataset\u001b[0m\u001b[0;34m)\u001b[0m\u001b[0;34m\u001b[0m\u001b[0;34m\u001b[0m\u001b[0m\n\u001b[0m\u001b[1;32m    133\u001b[0m         \u001b[0;32melse\u001b[0m\u001b[0;34m:\u001b[0m\u001b[0;34m\u001b[0m\u001b[0;34m\u001b[0m\u001b[0m\n\u001b[1;32m    134\u001b[0m             raise ValueError(\"Params must be either a param map or a list/tuple of param maps, \"\n",
      "\u001b[0;32m/usr/local/lib/python3.6/site-packages/pyspark/ml/wrapper.py\u001b[0m in \u001b[0;36m_fit\u001b[0;34m(self, dataset)\u001b[0m\n\u001b[1;32m    286\u001b[0m \u001b[0;34m\u001b[0m\u001b[0m\n\u001b[1;32m    287\u001b[0m     \u001b[0;32mdef\u001b[0m \u001b[0m_fit\u001b[0m\u001b[0;34m(\u001b[0m\u001b[0mself\u001b[0m\u001b[0;34m,\u001b[0m \u001b[0mdataset\u001b[0m\u001b[0;34m)\u001b[0m\u001b[0;34m:\u001b[0m\u001b[0;34m\u001b[0m\u001b[0;34m\u001b[0m\u001b[0m\n\u001b[0;32m--> 288\u001b[0;31m         \u001b[0mjava_model\u001b[0m \u001b[0;34m=\u001b[0m \u001b[0mself\u001b[0m\u001b[0;34m.\u001b[0m\u001b[0m_fit_java\u001b[0m\u001b[0;34m(\u001b[0m\u001b[0mdataset\u001b[0m\u001b[0;34m)\u001b[0m\u001b[0;34m\u001b[0m\u001b[0;34m\u001b[0m\u001b[0m\n\u001b[0m\u001b[1;32m    289\u001b[0m         \u001b[0mmodel\u001b[0m \u001b[0;34m=\u001b[0m \u001b[0mself\u001b[0m\u001b[0;34m.\u001b[0m\u001b[0m_create_model\u001b[0m\u001b[0;34m(\u001b[0m\u001b[0mjava_model\u001b[0m\u001b[0;34m)\u001b[0m\u001b[0;34m\u001b[0m\u001b[0;34m\u001b[0m\u001b[0m\n\u001b[1;32m    290\u001b[0m         \u001b[0;32mreturn\u001b[0m \u001b[0mself\u001b[0m\u001b[0;34m.\u001b[0m\u001b[0m_copyValues\u001b[0m\u001b[0;34m(\u001b[0m\u001b[0mmodel\u001b[0m\u001b[0;34m)\u001b[0m\u001b[0;34m\u001b[0m\u001b[0;34m\u001b[0m\u001b[0m\n",
      "\u001b[0;32m/usr/local/lib/python3.6/site-packages/pyspark/ml/wrapper.py\u001b[0m in \u001b[0;36m_fit_java\u001b[0;34m(self, dataset)\u001b[0m\n\u001b[1;32m    283\u001b[0m         \"\"\"\n\u001b[1;32m    284\u001b[0m         \u001b[0mself\u001b[0m\u001b[0;34m.\u001b[0m\u001b[0m_transfer_params_to_java\u001b[0m\u001b[0;34m(\u001b[0m\u001b[0;34m)\u001b[0m\u001b[0;34m\u001b[0m\u001b[0;34m\u001b[0m\u001b[0m\n\u001b[0;32m--> 285\u001b[0;31m         \u001b[0;32mreturn\u001b[0m \u001b[0mself\u001b[0m\u001b[0;34m.\u001b[0m\u001b[0m_java_obj\u001b[0m\u001b[0;34m.\u001b[0m\u001b[0mfit\u001b[0m\u001b[0;34m(\u001b[0m\u001b[0mdataset\u001b[0m\u001b[0;34m.\u001b[0m\u001b[0m_jdf\u001b[0m\u001b[0;34m)\u001b[0m\u001b[0;34m\u001b[0m\u001b[0;34m\u001b[0m\u001b[0m\n\u001b[0m\u001b[1;32m    286\u001b[0m \u001b[0;34m\u001b[0m\u001b[0m\n\u001b[1;32m    287\u001b[0m     \u001b[0;32mdef\u001b[0m \u001b[0m_fit\u001b[0m\u001b[0;34m(\u001b[0m\u001b[0mself\u001b[0m\u001b[0;34m,\u001b[0m \u001b[0mdataset\u001b[0m\u001b[0;34m)\u001b[0m\u001b[0;34m:\u001b[0m\u001b[0;34m\u001b[0m\u001b[0;34m\u001b[0m\u001b[0m\n",
      "\u001b[0;32m/usr/local/lib/python3.6/site-packages/py4j/java_gateway.py\u001b[0m in \u001b[0;36m__call__\u001b[0;34m(self, *args)\u001b[0m\n\u001b[1;32m   1253\u001b[0m             \u001b[0mproto\u001b[0m\u001b[0;34m.\u001b[0m\u001b[0mEND_COMMAND_PART\u001b[0m\u001b[0;34m\u001b[0m\u001b[0;34m\u001b[0m\u001b[0m\n\u001b[1;32m   1254\u001b[0m \u001b[0;34m\u001b[0m\u001b[0m\n\u001b[0;32m-> 1255\u001b[0;31m         \u001b[0manswer\u001b[0m \u001b[0;34m=\u001b[0m \u001b[0mself\u001b[0m\u001b[0;34m.\u001b[0m\u001b[0mgateway_client\u001b[0m\u001b[0;34m.\u001b[0m\u001b[0msend_command\u001b[0m\u001b[0;34m(\u001b[0m\u001b[0mcommand\u001b[0m\u001b[0;34m)\u001b[0m\u001b[0;34m\u001b[0m\u001b[0;34m\u001b[0m\u001b[0m\n\u001b[0m\u001b[1;32m   1256\u001b[0m         return_value = get_return_value(\n\u001b[1;32m   1257\u001b[0m             answer, self.gateway_client, self.target_id, self.name)\n",
      "\u001b[0;32m/usr/local/lib/python3.6/site-packages/py4j/java_gateway.py\u001b[0m in \u001b[0;36msend_command\u001b[0;34m(self, command, retry, binary)\u001b[0m\n\u001b[1;32m    983\u001b[0m         \u001b[0mconnection\u001b[0m \u001b[0;34m=\u001b[0m \u001b[0mself\u001b[0m\u001b[0;34m.\u001b[0m\u001b[0m_get_connection\u001b[0m\u001b[0;34m(\u001b[0m\u001b[0;34m)\u001b[0m\u001b[0;34m\u001b[0m\u001b[0;34m\u001b[0m\u001b[0m\n\u001b[1;32m    984\u001b[0m         \u001b[0;32mtry\u001b[0m\u001b[0;34m:\u001b[0m\u001b[0;34m\u001b[0m\u001b[0;34m\u001b[0m\u001b[0m\n\u001b[0;32m--> 985\u001b[0;31m             \u001b[0mresponse\u001b[0m \u001b[0;34m=\u001b[0m \u001b[0mconnection\u001b[0m\u001b[0;34m.\u001b[0m\u001b[0msend_command\u001b[0m\u001b[0;34m(\u001b[0m\u001b[0mcommand\u001b[0m\u001b[0;34m)\u001b[0m\u001b[0;34m\u001b[0m\u001b[0;34m\u001b[0m\u001b[0m\n\u001b[0m\u001b[1;32m    986\u001b[0m             \u001b[0;32mif\u001b[0m \u001b[0mbinary\u001b[0m\u001b[0;34m:\u001b[0m\u001b[0;34m\u001b[0m\u001b[0;34m\u001b[0m\u001b[0m\n\u001b[1;32m    987\u001b[0m                 \u001b[0;32mreturn\u001b[0m \u001b[0mresponse\u001b[0m\u001b[0;34m,\u001b[0m \u001b[0mself\u001b[0m\u001b[0;34m.\u001b[0m\u001b[0m_create_connection_guard\u001b[0m\u001b[0;34m(\u001b[0m\u001b[0mconnection\u001b[0m\u001b[0;34m)\u001b[0m\u001b[0;34m\u001b[0m\u001b[0;34m\u001b[0m\u001b[0m\n",
      "\u001b[0;32m/usr/local/lib/python3.6/site-packages/py4j/java_gateway.py\u001b[0m in \u001b[0;36msend_command\u001b[0;34m(self, command)\u001b[0m\n\u001b[1;32m   1150\u001b[0m \u001b[0;34m\u001b[0m\u001b[0m\n\u001b[1;32m   1151\u001b[0m         \u001b[0;32mtry\u001b[0m\u001b[0;34m:\u001b[0m\u001b[0;34m\u001b[0m\u001b[0;34m\u001b[0m\u001b[0m\n\u001b[0;32m-> 1152\u001b[0;31m             \u001b[0manswer\u001b[0m \u001b[0;34m=\u001b[0m \u001b[0msmart_decode\u001b[0m\u001b[0;34m(\u001b[0m\u001b[0mself\u001b[0m\u001b[0;34m.\u001b[0m\u001b[0mstream\u001b[0m\u001b[0;34m.\u001b[0m\u001b[0mreadline\u001b[0m\u001b[0;34m(\u001b[0m\u001b[0;34m)\u001b[0m\u001b[0;34m[\u001b[0m\u001b[0;34m:\u001b[0m\u001b[0;34m-\u001b[0m\u001b[0;36m1\u001b[0m\u001b[0;34m]\u001b[0m\u001b[0;34m)\u001b[0m\u001b[0;34m\u001b[0m\u001b[0;34m\u001b[0m\u001b[0m\n\u001b[0m\u001b[1;32m   1153\u001b[0m             \u001b[0mlogger\u001b[0m\u001b[0;34m.\u001b[0m\u001b[0mdebug\u001b[0m\u001b[0;34m(\u001b[0m\u001b[0;34m\"Answer received: {0}\"\u001b[0m\u001b[0;34m.\u001b[0m\u001b[0mformat\u001b[0m\u001b[0;34m(\u001b[0m\u001b[0manswer\u001b[0m\u001b[0;34m)\u001b[0m\u001b[0;34m)\u001b[0m\u001b[0;34m\u001b[0m\u001b[0;34m\u001b[0m\u001b[0m\n\u001b[1;32m   1154\u001b[0m             \u001b[0;32mif\u001b[0m \u001b[0manswer\u001b[0m\u001b[0;34m.\u001b[0m\u001b[0mstartswith\u001b[0m\u001b[0;34m(\u001b[0m\u001b[0mproto\u001b[0m\u001b[0;34m.\u001b[0m\u001b[0mRETURN_MESSAGE\u001b[0m\u001b[0;34m)\u001b[0m\u001b[0;34m:\u001b[0m\u001b[0;34m\u001b[0m\u001b[0;34m\u001b[0m\u001b[0m\n",
      "\u001b[0;32m/usr/lib64/python3.6/socket.py\u001b[0m in \u001b[0;36mreadinto\u001b[0;34m(self, b)\u001b[0m\n\u001b[1;32m    584\u001b[0m         \u001b[0;32mwhile\u001b[0m \u001b[0;32mTrue\u001b[0m\u001b[0;34m:\u001b[0m\u001b[0;34m\u001b[0m\u001b[0;34m\u001b[0m\u001b[0m\n\u001b[1;32m    585\u001b[0m             \u001b[0;32mtry\u001b[0m\u001b[0;34m:\u001b[0m\u001b[0;34m\u001b[0m\u001b[0;34m\u001b[0m\u001b[0m\n\u001b[0;32m--> 586\u001b[0;31m                 \u001b[0;32mreturn\u001b[0m \u001b[0mself\u001b[0m\u001b[0;34m.\u001b[0m\u001b[0m_sock\u001b[0m\u001b[0;34m.\u001b[0m\u001b[0mrecv_into\u001b[0m\u001b[0;34m(\u001b[0m\u001b[0mb\u001b[0m\u001b[0;34m)\u001b[0m\u001b[0;34m\u001b[0m\u001b[0;34m\u001b[0m\u001b[0m\n\u001b[0m\u001b[1;32m    587\u001b[0m             \u001b[0;32mexcept\u001b[0m \u001b[0mtimeout\u001b[0m\u001b[0;34m:\u001b[0m\u001b[0;34m\u001b[0m\u001b[0;34m\u001b[0m\u001b[0m\n\u001b[1;32m    588\u001b[0m                 \u001b[0mself\u001b[0m\u001b[0;34m.\u001b[0m\u001b[0m_timeout_occurred\u001b[0m \u001b[0;34m=\u001b[0m \u001b[0;32mTrue\u001b[0m\u001b[0;34m\u001b[0m\u001b[0;34m\u001b[0m\u001b[0m\n",
      "\u001b[0;31mKeyboardInterrupt\u001b[0m: "
     ]
    }
   ],
   "source": [
    "# Build the recommendation model using ALS on the training data\n",
    "als = ALS(maxIter=5, \n",
    "          regParam=0.01, \n",
    "          implicitPrefs=True, \n",
    "          userCol=\"user_num\", itemCol=\"item_num\", ratingCol=\"target\",\n",
    "          coldStartStrategy=\"drop\")\n",
    "model = als.fit(training)"
   ]
  },
  {
   "cell_type": "code",
   "execution_count": null,
   "metadata": {
    "ExecuteTime": {
     "end_time": "2020-07-09T06:04:22.519709Z",
     "start_time": "2020-07-08T16:37:41.037Z"
    }
   },
   "outputs": [],
   "source": [
    "# Evaluate the model by computing the RMSE on the test data\n",
    "predictions = model.transform(test)\n",
    "evaluator = RegressionEvaluator(metricName=\"rmse\", \n",
    "                                labelCol=\"target\",\n",
    "                                predictionCol=\"prediction\")\n",
    "rmse = evaluator.evaluate(predictions)\n",
    "print(\"Root-mean-square error = \" + str(rmse))"
   ]
  },
  {
   "cell_type": "code",
   "execution_count": 235,
   "metadata": {
    "ExecuteTime": {
     "end_time": "2020-06-23T16:39:01.952376Z",
     "start_time": "2020-06-23T16:38:54.399563Z"
    }
   },
   "outputs": [
    {
     "name": "stdout",
     "output_type": "stream",
     "text": [
      "Root-mean-square error = 7.660692592176051\n"
     ]
    }
   ],
   "source": [
    "# Evaluate the model by computing the RMSE on the test data\n",
    "predictions = model.transform(test)\n",
    "evaluator = RegressionEvaluator(metricName=\"rmse\", labelCol=\"rating_u\",\n",
    "                                predictionCol=\"prediction\")\n",
    "rmse = evaluator.evaluate(predictions)\n",
    "print(\"Root-mean-square error = \" + str(rmse))"
   ]
  },
  {
   "cell_type": "markdown",
   "metadata": {},
   "source": [
    "## predict"
   ]
  },
  {
   "cell_type": "code",
   "execution_count": null,
   "metadata": {
    "ExecuteTime": {
     "end_time": "2020-07-09T06:04:22.521427Z",
     "start_time": "2020-07-08T16:40:24.684Z"
    }
   },
   "outputs": [],
   "source": [
    "# Generate top 10 movie recommendations for each user\n",
    "userRecs = model.recommendForAllUsers(10)"
   ]
  },
  {
   "cell_type": "code",
   "execution_count": null,
   "metadata": {
    "ExecuteTime": {
     "end_time": "2020-07-09T06:04:22.523048Z",
     "start_time": "2020-07-08T16:40:25.566Z"
    }
   },
   "outputs": [],
   "source": [
    "userRecs.printSchema()"
   ]
  },
  {
   "cell_type": "code",
   "execution_count": null,
   "metadata": {
    "ExecuteTime": {
     "end_time": "2020-07-09T06:04:22.524810Z",
     "start_time": "2020-07-08T16:40:27.948Z"
    }
   },
   "outputs": [],
   "source": [
    "userRecs.show(5, True, True)"
   ]
  },
  {
   "cell_type": "code",
   "execution_count": null,
   "metadata": {
    "ExecuteTime": {
     "end_time": "2020-07-09T06:04:22.526507Z",
     "start_time": "2020-07-08T16:40:30.010Z"
    }
   },
   "outputs": [],
   "source": [
    "userRecs = userRecs.select(userRecs.user_num, explode(userRecs.recommendations).alias('item'))"
   ]
  },
  {
   "cell_type": "code",
   "execution_count": null,
   "metadata": {
    "ExecuteTime": {
     "end_time": "2020-07-09T06:04:22.528077Z",
     "start_time": "2020-07-08T16:40:31.755Z"
    }
   },
   "outputs": [],
   "source": [
    "userRecs.printSchema()"
   ]
  },
  {
   "cell_type": "code",
   "execution_count": 241,
   "metadata": {
    "ExecuteTime": {
     "end_time": "2020-06-23T16:39:45.706209Z",
     "start_time": "2020-06-23T16:39:45.692936Z"
    }
   },
   "outputs": [],
   "source": [
    "userRecs = userRecs.select(userRecs.user_num, \n",
    "                           userRecs.item.item_num.alias('item_num'), \n",
    "                           userRecs.item.rating.alias('rating'))"
   ]
  },
  {
   "cell_type": "code",
   "execution_count": null,
   "metadata": {
    "ExecuteTime": {
     "end_time": "2020-06-23T16:39:45.794360Z",
     "start_time": "2020-06-23T16:39:33.502Z"
    }
   },
   "outputs": [],
   "source": [
    "# hot_users_b = sc.broadcast(hot_users)\n",
    "# hotRecs = userRecs.filter(col('user_num').isin(hot_users_b.value))"
   ]
  },
  {
   "cell_type": "code",
   "execution_count": 242,
   "metadata": {
    "ExecuteTime": {
     "end_time": "2020-06-23T16:39:45.711779Z",
     "start_time": "2020-06-23T16:39:45.708745Z"
    }
   },
   "outputs": [],
   "source": [
    "# save to hive\n",
    "# userRecs_table = 'agoryach.recsys_user_recs_baseline'\n",
    "# #hive.sql(f'drop table {userRecs_table}')\n",
    "\n",
    "# userRecs.write.format('hive').saveAsTable(userRecs_table)"
   ]
  },
  {
   "cell_type": "code",
   "execution_count": 244,
   "metadata": {
    "ExecuteTime": {
     "end_time": "2020-06-23T16:41:06.567313Z",
     "start_time": "2020-06-23T16:40:16.006064Z"
    }
   },
   "outputs": [],
   "source": [
    "hdfs_save_path = '/user/agoryach/recsys_user_recs_baseline_10'\n",
    "userRecs_path = data_path + 'userRecs_baseline_10.csv'\n",
    "\n",
    "userRecs.write.format('com.databricks.spark.csv').save(hdfs_save_path, header = 'false', sep = '~')"
   ]
  },
  {
   "cell_type": "code",
   "execution_count": 245,
   "metadata": {
    "ExecuteTime": {
     "end_time": "2020-06-23T16:41:09.831867Z",
     "start_time": "2020-06-23T16:41:06.569854Z"
    }
   },
   "outputs": [],
   "source": [
    "!hdfs dfs -getmerge $hdfs_save_path $userRecs_path"
   ]
  },
  {
   "cell_type": "markdown",
   "metadata": {},
   "source": [
    "## final step"
   ]
  },
  {
   "cell_type": "code",
   "execution_count": 246,
   "metadata": {
    "ExecuteTime": {
     "end_time": "2020-06-23T16:41:09.903770Z",
     "start_time": "2020-06-23T16:41:09.835002Z"
    }
   },
   "outputs": [],
   "source": [
    "item_labels_rev = {v:k for k,v in item_labels.items()}\n",
    "user_labels_rev = {v:k for k,v in user_labels.items()}"
   ]
  },
  {
   "cell_type": "code",
   "execution_count": 247,
   "metadata": {
    "ExecuteTime": {
     "end_time": "2020-06-23T16:41:10.774692Z",
     "start_time": "2020-06-23T16:41:09.906149Z"
    }
   },
   "outputs": [],
   "source": [
    "names = ['user_num', 'item_num', 'rating']\n",
    "userRecsDf = pd.read_csv(userRecs_path, names=names, sep='~')"
   ]
  },
  {
   "cell_type": "code",
   "execution_count": 248,
   "metadata": {
    "ExecuteTime": {
     "end_time": "2020-06-23T16:41:11.658217Z",
     "start_time": "2020-06-23T16:41:10.776698Z"
    }
   },
   "outputs": [],
   "source": [
    "userRecsDf['primary_video_id'] = userRecsDf['item_num'].map(item_labels_rev)\n",
    "userRecsDf['user_id'] = userRecsDf['user_num'].map(user_labels_rev)"
   ]
  },
  {
   "cell_type": "code",
   "execution_count": 249,
   "metadata": {
    "ExecuteTime": {
     "end_time": "2020-06-23T16:41:11.669414Z",
     "start_time": "2020-06-23T16:41:11.660083Z"
    }
   },
   "outputs": [
    {
     "data": {
      "text/html": [
       "<div>\n",
       "<style scoped>\n",
       "    .dataframe tbody tr th:only-of-type {\n",
       "        vertical-align: middle;\n",
       "    }\n",
       "\n",
       "    .dataframe tbody tr th {\n",
       "        vertical-align: top;\n",
       "    }\n",
       "\n",
       "    .dataframe thead th {\n",
       "        text-align: right;\n",
       "    }\n",
       "</style>\n",
       "<table border=\"1\" class=\"dataframe\">\n",
       "  <thead>\n",
       "    <tr style=\"text-align: right;\">\n",
       "      <th></th>\n",
       "      <th>user_num</th>\n",
       "      <th>item_num</th>\n",
       "      <th>rating</th>\n",
       "      <th>primary_video_id</th>\n",
       "      <th>user_id</th>\n",
       "    </tr>\n",
       "  </thead>\n",
       "  <tbody>\n",
       "    <tr>\n",
       "      <th>0</th>\n",
       "      <td>148</td>\n",
       "      <td>255</td>\n",
       "      <td>0.065378</td>\n",
       "      <td>25397362</td>\n",
       "      <td>48615</td>\n",
       "    </tr>\n",
       "    <tr>\n",
       "      <th>1</th>\n",
       "      <td>148</td>\n",
       "      <td>254</td>\n",
       "      <td>0.064217</td>\n",
       "      <td>22838054</td>\n",
       "      <td>48615</td>\n",
       "    </tr>\n",
       "    <tr>\n",
       "      <th>2</th>\n",
       "      <td>148</td>\n",
       "      <td>181</td>\n",
       "      <td>0.062919</td>\n",
       "      <td>52363</td>\n",
       "      <td>48615</td>\n",
       "    </tr>\n",
       "    <tr>\n",
       "      <th>3</th>\n",
       "      <td>148</td>\n",
       "      <td>253</td>\n",
       "      <td>0.062629</td>\n",
       "      <td>22030859</td>\n",
       "      <td>48615</td>\n",
       "    </tr>\n",
       "    <tr>\n",
       "      <th>4</th>\n",
       "      <td>148</td>\n",
       "      <td>112</td>\n",
       "      <td>0.060544</td>\n",
       "      <td>21426265</td>\n",
       "      <td>48615</td>\n",
       "    </tr>\n",
       "  </tbody>\n",
       "</table>\n",
       "</div>"
      ],
      "text/plain": [
       "   user_num  item_num    rating  primary_video_id  user_id\n",
       "0       148       255  0.065378          25397362    48615\n",
       "1       148       254  0.064217          22838054    48615\n",
       "2       148       181  0.062919             52363    48615\n",
       "3       148       253  0.062629          22030859    48615\n",
       "4       148       112  0.060544          21426265    48615"
      ]
     },
     "execution_count": 249,
     "metadata": {},
     "output_type": "execute_result"
    }
   ],
   "source": [
    "userRecsDf.head()"
   ]
  },
  {
   "cell_type": "code",
   "execution_count": 250,
   "metadata": {
    "ExecuteTime": {
     "end_time": "2020-06-23T16:41:11.793607Z",
     "start_time": "2020-06-23T16:41:11.671121Z"
    }
   },
   "outputs": [],
   "source": [
    "test = pd.read_csv(test_path).drop('primary_video_id', axis=1)"
   ]
  },
  {
   "cell_type": "code",
   "execution_count": 251,
   "metadata": {
    "ExecuteTime": {
     "end_time": "2020-06-23T16:41:11.944565Z",
     "start_time": "2020-06-23T16:41:11.796564Z"
    }
   },
   "outputs": [],
   "source": [
    "hot_users = test[test['user_id'].isin(userRecsDf.user_id.unique())].user_id.unique()\n",
    "cold_users = list(set(test.user_id.unique()) - set(hot_users))"
   ]
  },
  {
   "cell_type": "markdown",
   "metadata": {},
   "source": [
    "### hot users"
   ]
  },
  {
   "cell_type": "code",
   "execution_count": 252,
   "metadata": {
    "ExecuteTime": {
     "end_time": "2020-06-23T16:41:11.949384Z",
     "start_time": "2020-06-23T16:41:11.946930Z"
    }
   },
   "outputs": [],
   "source": [
    "import warnings\n",
    "warnings.filterwarnings('ignore')"
   ]
  },
  {
   "cell_type": "code",
   "execution_count": 253,
   "metadata": {
    "ExecuteTime": {
     "end_time": "2020-06-23T16:41:12.596476Z",
     "start_time": "2020-06-23T16:41:11.951078Z"
    }
   },
   "outputs": [],
   "source": [
    "hotUserRecs = userRecsDf[userRecsDf['user_id'].isin(hot_users)]"
   ]
  },
  {
   "cell_type": "code",
   "execution_count": 254,
   "metadata": {
    "ExecuteTime": {
     "end_time": "2020-06-23T16:41:12.622659Z",
     "start_time": "2020-06-23T16:41:12.598383Z"
    }
   },
   "outputs": [
    {
     "data": {
      "text/plain": [
       "user_num            0\n",
       "item_num            0\n",
       "rating              0\n",
       "primary_video_id    0\n",
       "user_id             0\n",
       "dtype: int64"
      ]
     },
     "execution_count": 254,
     "metadata": {},
     "output_type": "execute_result"
    }
   ],
   "source": [
    "hotUserRecs.isna().sum()"
   ]
  },
  {
   "cell_type": "code",
   "execution_count": 255,
   "metadata": {
    "ExecuteTime": {
     "end_time": "2020-06-23T16:41:12.642168Z",
     "start_time": "2020-06-23T16:41:12.624413Z"
    }
   },
   "outputs": [],
   "source": [
    "hotResult = hotUserRecs[['user_id', 'primary_video_id']]"
   ]
  },
  {
   "cell_type": "code",
   "execution_count": 256,
   "metadata": {
    "ExecuteTime": {
     "end_time": "2020-06-23T16:41:32.225158Z",
     "start_time": "2020-06-23T16:41:12.644174Z"
    }
   },
   "outputs": [],
   "source": [
    "result1 = hotResult.groupby('user_id')['primary_video_id'].apply(list).reset_index()"
   ]
  },
  {
   "cell_type": "code",
   "execution_count": 257,
   "metadata": {
    "ExecuteTime": {
     "end_time": "2020-06-23T16:41:32.775653Z",
     "start_time": "2020-06-23T16:41:32.227377Z"
    }
   },
   "outputs": [],
   "source": [
    "result1['primary_video_id'] = result1['primary_video_id'].apply(lambda x: ' '.join([str(a) for a in x]))"
   ]
  },
  {
   "cell_type": "code",
   "execution_count": 258,
   "metadata": {
    "ExecuteTime": {
     "end_time": "2020-06-23T16:41:32.785464Z",
     "start_time": "2020-06-23T16:41:32.777586Z"
    }
   },
   "outputs": [
    {
     "data": {
      "text/html": [
       "<div>\n",
       "<style scoped>\n",
       "    .dataframe tbody tr th:only-of-type {\n",
       "        vertical-align: middle;\n",
       "    }\n",
       "\n",
       "    .dataframe tbody tr th {\n",
       "        vertical-align: top;\n",
       "    }\n",
       "\n",
       "    .dataframe thead th {\n",
       "        text-align: right;\n",
       "    }\n",
       "</style>\n",
       "<table border=\"1\" class=\"dataframe\">\n",
       "  <thead>\n",
       "    <tr style=\"text-align: right;\">\n",
       "      <th></th>\n",
       "      <th>user_id</th>\n",
       "      <th>primary_video_id</th>\n",
       "    </tr>\n",
       "  </thead>\n",
       "  <tbody>\n",
       "    <tr>\n",
       "      <th>0</th>\n",
       "      <td>1410</td>\n",
       "      <td>19134359 10350682 30564130 9278069 30986288 15...</td>\n",
       "    </tr>\n",
       "    <tr>\n",
       "      <th>1</th>\n",
       "      <td>1894</td>\n",
       "      <td>3696132 2677761 32222690 19624341 11536584 287...</td>\n",
       "    </tr>\n",
       "    <tr>\n",
       "      <th>2</th>\n",
       "      <td>3070</td>\n",
       "      <td>11842669 3696132 27740348 9516870 19624341 159...</td>\n",
       "    </tr>\n",
       "    <tr>\n",
       "      <th>3</th>\n",
       "      <td>5344</td>\n",
       "      <td>20320480 30564130 19134359 10350682 15147293 2...</td>\n",
       "    </tr>\n",
       "    <tr>\n",
       "      <th>4</th>\n",
       "      <td>5445</td>\n",
       "      <td>26320644 5147187 26997030 11536584 9583642 355...</td>\n",
       "    </tr>\n",
       "  </tbody>\n",
       "</table>\n",
       "</div>"
      ],
      "text/plain": [
       "   user_id                                   primary_video_id\n",
       "0     1410  19134359 10350682 30564130 9278069 30986288 15...\n",
       "1     1894  3696132 2677761 32222690 19624341 11536584 287...\n",
       "2     3070  11842669 3696132 27740348 9516870 19624341 159...\n",
       "3     5344  20320480 30564130 19134359 10350682 15147293 2...\n",
       "4     5445  26320644 5147187 26997030 11536584 9583642 355..."
      ]
     },
     "execution_count": 258,
     "metadata": {},
     "output_type": "execute_result"
    }
   ],
   "source": [
    "result1.head()"
   ]
  },
  {
   "cell_type": "markdown",
   "metadata": {},
   "source": [
    "### cold users"
   ]
  },
  {
   "cell_type": "code",
   "execution_count": 259,
   "metadata": {
    "ExecuteTime": {
     "end_time": "2020-06-23T16:41:32.821633Z",
     "start_time": "2020-06-23T16:41:32.787169Z"
    }
   },
   "outputs": [],
   "source": [
    "cold_items = ' '.join([str(x) for x in userRecsDf['primary_video_id'].value_counts().index[:10]])"
   ]
  },
  {
   "cell_type": "code",
   "execution_count": 260,
   "metadata": {
    "ExecuteTime": {
     "end_time": "2020-06-23T16:41:32.839825Z",
     "start_time": "2020-06-23T16:41:32.823445Z"
    }
   },
   "outputs": [],
   "source": [
    "result2 = pd.DataFrame(cold_users, columns=['user_id'])"
   ]
  },
  {
   "cell_type": "code",
   "execution_count": 261,
   "metadata": {
    "ExecuteTime": {
     "end_time": "2020-06-23T16:41:32.846264Z",
     "start_time": "2020-06-23T16:41:32.841690Z"
    }
   },
   "outputs": [],
   "source": [
    "result2['primary_video_id'] = [cold_items]*result2.shape[0]"
   ]
  },
  {
   "cell_type": "code",
   "execution_count": 262,
   "metadata": {
    "ExecuteTime": {
     "end_time": "2020-06-23T16:41:32.855041Z",
     "start_time": "2020-06-23T16:41:32.848012Z"
    }
   },
   "outputs": [
    {
     "data": {
      "text/html": [
       "<div>\n",
       "<style scoped>\n",
       "    .dataframe tbody tr th:only-of-type {\n",
       "        vertical-align: middle;\n",
       "    }\n",
       "\n",
       "    .dataframe tbody tr th {\n",
       "        vertical-align: top;\n",
       "    }\n",
       "\n",
       "    .dataframe thead th {\n",
       "        text-align: right;\n",
       "    }\n",
       "</style>\n",
       "<table border=\"1\" class=\"dataframe\">\n",
       "  <thead>\n",
       "    <tr style=\"text-align: right;\">\n",
       "      <th></th>\n",
       "      <th>user_id</th>\n",
       "      <th>primary_video_id</th>\n",
       "    </tr>\n",
       "  </thead>\n",
       "  <tbody>\n",
       "    <tr>\n",
       "      <th>0</th>\n",
       "      <td>118358019</td>\n",
       "      <td>10350682 2677761 3696132 19134359 21426265 287...</td>\n",
       "    </tr>\n",
       "    <tr>\n",
       "      <th>1</th>\n",
       "      <td>113246218</td>\n",
       "      <td>10350682 2677761 3696132 19134359 21426265 287...</td>\n",
       "    </tr>\n",
       "    <tr>\n",
       "      <th>2</th>\n",
       "      <td>24903694</td>\n",
       "      <td>10350682 2677761 3696132 19134359 21426265 287...</td>\n",
       "    </tr>\n",
       "    <tr>\n",
       "      <th>3</th>\n",
       "      <td>95027220</td>\n",
       "      <td>10350682 2677761 3696132 19134359 21426265 287...</td>\n",
       "    </tr>\n",
       "    <tr>\n",
       "      <th>4</th>\n",
       "      <td>37486613</td>\n",
       "      <td>10350682 2677761 3696132 19134359 21426265 287...</td>\n",
       "    </tr>\n",
       "  </tbody>\n",
       "</table>\n",
       "</div>"
      ],
      "text/plain": [
       "     user_id                                   primary_video_id\n",
       "0  118358019  10350682 2677761 3696132 19134359 21426265 287...\n",
       "1  113246218  10350682 2677761 3696132 19134359 21426265 287...\n",
       "2   24903694  10350682 2677761 3696132 19134359 21426265 287...\n",
       "3   95027220  10350682 2677761 3696132 19134359 21426265 287...\n",
       "4   37486613  10350682 2677761 3696132 19134359 21426265 287..."
      ]
     },
     "execution_count": 262,
     "metadata": {},
     "output_type": "execute_result"
    }
   ],
   "source": [
    "result2.head()"
   ]
  },
  {
   "cell_type": "markdown",
   "metadata": {},
   "source": [
    "### concat"
   ]
  },
  {
   "cell_type": "code",
   "execution_count": 263,
   "metadata": {
    "ExecuteTime": {
     "end_time": "2020-06-23T16:41:32.874056Z",
     "start_time": "2020-06-23T16:41:32.856787Z"
    }
   },
   "outputs": [],
   "source": [
    "result = pd.concat((result1, result2))"
   ]
  },
  {
   "cell_type": "code",
   "execution_count": 264,
   "metadata": {
    "ExecuteTime": {
     "end_time": "2020-06-23T16:41:32.890039Z",
     "start_time": "2020-06-23T16:41:32.875765Z"
    }
   },
   "outputs": [
    {
     "data": {
      "text/plain": [
       "(187183, 187183, 187183, 187183)"
      ]
     },
     "execution_count": 264,
     "metadata": {},
     "output_type": "execute_result"
    }
   ],
   "source": [
    "result.user_id.nunique(), result.shape[0], test.shape[0], len(cold_users) + len(hot_users)"
   ]
  },
  {
   "cell_type": "code",
   "execution_count": 265,
   "metadata": {
    "ExecuteTime": {
     "end_time": "2020-06-23T16:41:32.894755Z",
     "start_time": "2020-06-23T16:41:32.891671Z"
    }
   },
   "outputs": [
    {
     "data": {
      "text/plain": [
       "'/data/agoryach/datagym-recsys-01/big-hw-02/output/submission_5.csv'"
      ]
     },
     "execution_count": 265,
     "metadata": {},
     "output_type": "execute_result"
    }
   ],
   "source": [
    "subm_path = '/data/agoryach/datagym-recsys-01/big-hw-02/output/submission_5.csv'\n",
    "subm_path"
   ]
  },
  {
   "cell_type": "code",
   "execution_count": 266,
   "metadata": {
    "ExecuteTime": {
     "end_time": "2020-06-23T16:41:33.439577Z",
     "start_time": "2020-06-23T16:41:32.897670Z"
    }
   },
   "outputs": [],
   "source": [
    "result.to_csv(subm_path, index=False)"
   ]
  },
  {
   "cell_type": "code",
   "execution_count": null,
   "metadata": {},
   "outputs": [],
   "source": []
  }
 ],
 "metadata": {
  "kernelspec": {
   "display_name": "Python 3.6",
   "language": "python36",
   "name": "python3.6"
  },
  "language_info": {
   "codemirror_mode": {
    "name": "ipython",
    "version": 3
   },
   "file_extension": ".py",
   "mimetype": "text/x-python",
   "name": "python",
   "nbconvert_exporter": "python",
   "pygments_lexer": "ipython3",
   "version": "3.6.8"
  },
  "toc": {
   "base_numbering": 1,
   "nav_menu": {},
   "number_sections": true,
   "sideBar": true,
   "skip_h1_title": false,
   "title_cell": "Table of Contents",
   "title_sidebar": "Contents",
   "toc_cell": false,
   "toc_position": {},
   "toc_section_display": true,
   "toc_window_display": true
  }
 },
 "nbformat": 4,
 "nbformat_minor": 2
}
