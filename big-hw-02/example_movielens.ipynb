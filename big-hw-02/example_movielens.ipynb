{
 "cells": [
  {
   "cell_type": "code",
   "execution_count": 4,
   "metadata": {},
   "outputs": [
    {
     "data": {
      "text/html": [
       "<style type='text/css'>\n",
       ".datatable table.frame { margin-bottom: 0; }\n",
       ".datatable table.frame thead { border-bottom: none; }\n",
       ".datatable table.frame tr.coltypes td {  color: #FFFFFF;  line-height: 6px;  padding: 0 0.5em;}\n",
       ".datatable .boolean { background: #DDDD99; }\n",
       ".datatable .object  { background: #565656; }\n",
       ".datatable .integer { background: #5D9E5D; }\n",
       ".datatable .float   { background: #4040CC; }\n",
       ".datatable .string  { background: #CC4040; }\n",
       ".datatable .row_index {  background: var(--jp-border-color3);  border-right: 1px solid var(--jp-border-color0);  color: var(--jp-ui-font-color3);  font-size: 9px;}\n",
       ".datatable .frame tr.coltypes .row_index {  background: var(--jp-border-color0);}\n",
       ".datatable th:nth-child(2) { padding-left: 12px; }\n",
       ".datatable .hellipsis {  color: var(--jp-cell-editor-border-color);}\n",
       ".datatable .vellipsis {  background: var(--jp-layout-color0);  color: var(--jp-cell-editor-border-color);}\n",
       ".datatable .na {  color: var(--jp-cell-editor-border-color);  font-size: 80%;}\n",
       ".datatable .footer { font-size: 9px; }\n",
       ".datatable .frame_dimensions {  background: var(--jp-border-color3);  border-top: 1px solid var(--jp-border-color0);  color: var(--jp-ui-font-color3);  display: inline-block;  opacity: 0.6;  padding: 1px 10px 1px 5px;}\n",
       "</style>\n"
      ],
      "text/plain": [
       "<IPython.core.display.HTML object>"
      ]
     },
     "metadata": {},
     "output_type": "display_data"
    }
   ],
   "source": [
    "import rs_datasets\n",
    "import pandas as pd\n",
    "import numpy as np\n",
    "from scipy.linalg import sqrtm\n",
    "from scipy.sparse import linalg as sparse_linalg\n",
    "from scipy.sparse import csr_matrix\n",
    "from sklearn.metrics import mean_squared_error"
   ]
  },
  {
   "cell_type": "code",
   "execution_count": 5,
   "metadata": {},
   "outputs": [
    {
     "name": "stderr",
     "output_type": "stream",
     "text": [
      "4.94MB [00:14, 349kB/s]                             \n"
     ]
    }
   ],
   "source": [
    "# выгружаем датасет\n",
    "data = rs_datasets.MovieLens('100k').ratings.copy()"
   ]
  },
  {
   "cell_type": "code",
   "execution_count": 6,
   "metadata": {},
   "outputs": [
    {
     "data": {
      "text/html": [
       "<div>\n",
       "<style scoped>\n",
       "    .dataframe tbody tr th:only-of-type {\n",
       "        vertical-align: middle;\n",
       "    }\n",
       "\n",
       "    .dataframe tbody tr th {\n",
       "        vertical-align: top;\n",
       "    }\n",
       "\n",
       "    .dataframe thead th {\n",
       "        text-align: right;\n",
       "    }\n",
       "</style>\n",
       "<table border=\"1\" class=\"dataframe\">\n",
       "  <thead>\n",
       "    <tr style=\"text-align: right;\">\n",
       "      <th></th>\n",
       "      <th>user_id</th>\n",
       "      <th>item_id</th>\n",
       "      <th>rating</th>\n",
       "      <th>timestamp</th>\n",
       "    </tr>\n",
       "  </thead>\n",
       "  <tbody>\n",
       "    <tr>\n",
       "      <td>0</td>\n",
       "      <td>196</td>\n",
       "      <td>242</td>\n",
       "      <td>3</td>\n",
       "      <td>881250949</td>\n",
       "    </tr>\n",
       "    <tr>\n",
       "      <td>1</td>\n",
       "      <td>186</td>\n",
       "      <td>302</td>\n",
       "      <td>3</td>\n",
       "      <td>891717742</td>\n",
       "    </tr>\n",
       "    <tr>\n",
       "      <td>2</td>\n",
       "      <td>22</td>\n",
       "      <td>377</td>\n",
       "      <td>1</td>\n",
       "      <td>878887116</td>\n",
       "    </tr>\n",
       "    <tr>\n",
       "      <td>3</td>\n",
       "      <td>244</td>\n",
       "      <td>51</td>\n",
       "      <td>2</td>\n",
       "      <td>880606923</td>\n",
       "    </tr>\n",
       "    <tr>\n",
       "      <td>4</td>\n",
       "      <td>166</td>\n",
       "      <td>346</td>\n",
       "      <td>1</td>\n",
       "      <td>886397596</td>\n",
       "    </tr>\n",
       "  </tbody>\n",
       "</table>\n",
       "</div>"
      ],
      "text/plain": [
       "   user_id  item_id  rating  timestamp\n",
       "0      196      242       3  881250949\n",
       "1      186      302       3  891717742\n",
       "2       22      377       1  878887116\n",
       "3      244       51       2  880606923\n",
       "4      166      346       1  886397596"
      ]
     },
     "execution_count": 6,
     "metadata": {},
     "output_type": "execute_result"
    }
   ],
   "source": [
    "data.head()"
   ]
  },
  {
   "cell_type": "code",
   "execution_count": 7,
   "metadata": {},
   "outputs": [],
   "source": [
    "data['user_id'] = data['user_id'].astype('str')\n",
    "data['item_id'] = data['item_id'].astype('str')"
   ]
  },
  {
   "cell_type": "code",
   "execution_count": 8,
   "metadata": {},
   "outputs": [],
   "source": [
    "users = data['user_id'].unique()  # список юзеров\n",
    "movies = data['item_id'].unique()  # список фильмов"
   ]
  },
  {
   "cell_type": "code",
   "execution_count": 9,
   "metadata": {},
   "outputs": [],
   "source": [
    "test  = pd.DataFrame(columns=data.columns)\n",
    "train = pd.DataFrame(columns=data.columns)"
   ]
  },
  {
   "cell_type": "code",
   "execution_count": 11,
   "metadata": {},
   "outputs": [],
   "source": [
    "test_ratio = 0.2  # 20% по времени обрезается\n",
    "for u in users:\n",
    "    temp = data[data['user_id'] == u]\n",
    "    n = len(temp)\n",
    "    test_size = int(test_ratio*n)\n",
    "    temp = temp.sort_values('timestamp').reset_index()\n",
    "    temp.drop('index', axis=1, inplace=True)\n",
    "    dummy_test = temp.loc[n-1-test_size:]\n",
    "    dummy_train = temp.loc[:n-2-test_size]    \n",
    "    test = pd.concat([test, dummy_test])\n",
    "    train = pd.concat([train, dummy_train])"
   ]
  },
  {
   "cell_type": "code",
   "execution_count": 14,
   "metadata": {},
   "outputs": [],
   "source": [
    "def create_utility_matrix(data, formatizer={'user': 0, 'item': 1, 'value': 2}):\n",
    "    '''\n",
    "        функция создания матрицы\n",
    "    '''\n",
    "    itemField = formatizer['item'] \n",
    "    userField = formatizer['user']\n",
    "    valueField = formatizer['value']\n",
    "    userList = data.iloc[:, userField].tolist()\n",
    "    itemList = data.iloc[:, itemField].tolist()\n",
    "    valueList = data.iloc[:, valueField].tolist()\n",
    "    users = list(set(data.iloc[:, userField]))\n",
    "    items = list(set(data.iloc[:, itemField]))\n",
    "    users_index = {users[i]: i for i in range(len(users))}\n",
    "    pd_dict = {item: [np.nan for i in range(len(users))] for item in items}\n",
    "    for i in range(0, len(data)):\n",
    "        item = itemList[i]\n",
    "        user = userList[i]\n",
    "        value = valueList[i]\n",
    "        pd_dict[item][users_index[user]] = value\n",
    "    X = pd.DataFrame(pd_dict)\n",
    "    X.index = users\n",
    "    itemcols = list(X.columns)\n",
    "    items_index = {itemcols[i]: i for i in range(len(itemcols))}\n",
    "    return X, users_index, items_index"
   ]
  },
  {
   "cell_type": "code",
   "execution_count": 59,
   "metadata": {},
   "outputs": [],
   "source": [
    "no_of_features = [8, 10, 12, 14, 17]\n",
    "utilMat, users_index, items_index = create_utility_matrix(train)"
   ]
  },
  {
   "cell_type": "code",
   "execution_count": 17,
   "metadata": {},
   "outputs": [],
   "source": [
    "def svd_simple(train, k):\n",
    "    '''\n",
    "    svd без понтов\n",
    "    '''\n",
    "    utilMat = csr_matrix(train.fillna(0).values)\n",
    "    U, s, V = sparse_linalg.svds(utilMat, k)\n",
    "    s = np.diag(s)\n",
    "    s_root = sqrtm(s)\n",
    "    Usk = np.dot(U, s_root)\n",
    "    skV = np.dot(s_root, V)\n",
    "    UsV = np.dot(Usk, skV)\n",
    "    return UsV"
   ]
  },
  {
   "cell_type": "code",
   "execution_count": 18,
   "metadata": {},
   "outputs": [
    {
     "name": "stdout",
     "output_type": "stream",
     "text": [
      "2.8107698931135627\n",
      "2.8095067363779505\n",
      "2.8101565972243154\n",
      "2.8175902121890806\n",
      "2.830510650366513\n"
     ]
    }
   ],
   "source": [
    "# тестирование\n",
    "for f in no_of_features:\n",
    "    svdout = svd_simple(utilMat, k=f)\n",
    "    pred = []\n",
    "    for _, row in test.iterrows():\n",
    "        user = row['user_id']\n",
    "        item = row['item_id']\n",
    "        u_index = users_index[user]\n",
    "        if item in items_index:\n",
    "            i_index = items_index[item]\n",
    "            pred_rating = svdout[u_index, i_index]\n",
    "        else:\n",
    "            pred_rating = np.mean(svdout[u_index, :])\n",
    "        pred.append(pred_rating)\n",
    "    print(mean_squared_error(test['rating'], pred)**0.5)"
   ]
  },
  {
   "cell_type": "code",
   "execution_count": 35,
   "metadata": {},
   "outputs": [],
   "source": [
    "def svd_fillna(train, k):\n",
    "    '''\n",
    "        svd с заполнением пропусков\n",
    "    '''\n",
    "    utilMat = train.copy()\n",
    "    # маска из нанов\n",
    "    mask = np.isnan(utilMat)\n",
    "    masked_arr = np.ma.masked_array(utilMat, mask)\n",
    "    item_means = np.mean(masked_arr, axis=0)\n",
    "    # замена средним для нанов\n",
    "    utilMat = masked_arr.filled(item_means)\n",
    "    x = np.tile(item_means, (utilMat.shape[0], 1))\n",
    "    # вычитание\n",
    "    utilMat = utilMat - x\n",
    "    U, s, V = np.linalg.svd(utilMat, full_matrices=False)\n",
    "    s = np.diag(s)\n",
    "    s = s[0:k, 0:k]\n",
    "    U = U[:, 0:k]\n",
    "    V = V[0:k, :]\n",
    "    s_root = sqrtm(s)\n",
    "    Usk = np.dot(U, s_root)\n",
    "    skV = np.dot(s_root, V)\n",
    "    UsV = np.dot(Usk, skV)\n",
    "    # восстановление\n",
    "    UsV = UsV + x\n",
    "    return UsV"
   ]
  },
  {
   "cell_type": "code",
   "execution_count": 37,
   "metadata": {},
   "outputs": [
    {
     "name": "stdout",
     "output_type": "stream",
     "text": [
      "1.036695184072289\n",
      "1.0376126313011744\n",
      "1.036940958610357\n",
      "1.037315110588204\n",
      "1.0386615165258344\n"
     ]
    }
   ],
   "source": [
    "for f in no_of_features:\n",
    "    svdout = svd_fillna(utilMat, k=f)\n",
    "    pred = []\n",
    "    for _, row in test.iterrows():\n",
    "        user = row['user_id']\n",
    "        item = row['item_id']\n",
    "        u_index = users_index[user]\n",
    "        if item in items_index:\n",
    "            i_index = items_index[item]\n",
    "            pred_rating = svdout[u_index, i_index]\n",
    "        else:\n",
    "            pred_rating = np.mean(svdout[u_index, :])\n",
    "        pred.append(pred_rating)\n",
    "    print(mean_squared_error(test['rating'], pred)**0.5)"
   ]
  },
  {
   "cell_type": "code",
   "execution_count": 60,
   "metadata": {},
   "outputs": [],
   "source": [
    "mask = np.isnan(utilMat)\n",
    "masked_arr = np.ma.masked_array(utilMat, mask)\n",
    "item_means = np.mean(masked_arr, axis=0)"
   ]
  },
  {
   "cell_type": "code",
   "execution_count": 61,
   "metadata": {},
   "outputs": [],
   "source": [
    "# замена средним для нанов\n",
    "utilMat = masked_arr.filled(item_means)\n",
    "x = np.tile(item_means, (utilMat.shape[0], 1))"
   ]
  },
  {
   "cell_type": "code",
   "execution_count": 62,
   "metadata": {},
   "outputs": [
    {
     "data": {
      "text/plain": [
       "3.112882049259111"
      ]
     },
     "execution_count": 62,
     "metadata": {},
     "output_type": "execute_result"
    }
   ],
   "source": [
    "total_mean = np.mean(utilMat)\n",
    "total_mean"
   ]
  },
  {
   "cell_type": "code",
   "execution_count": 63,
   "metadata": {},
   "outputs": [],
   "source": [
    "utilMat = utilMat - x\n",
    "total_mean = np.mean(utilMat)\n",
    "col_means = np.mean(utilMat, axis=0) - total_mean\n",
    "row_means = np.mean(utilMat, axis=1) - total_mean\n",
    "utilMat = utilMat - row_means[:, np.newaxis] - col_means - total_mean"
   ]
  },
  {
   "cell_type": "code",
   "execution_count": 76,
   "metadata": {},
   "outputs": [
    {
     "data": {
      "text/plain": [
       "masked_array(data=[-5.847980092387419e-17, 3.8674332984566793e-19,\n",
       "                   -2.9097831483626442e-18, ..., 1.7995403919349447e-18,\n",
       "                   -5.7353772725411976e-18, -8.418902418409097e-20],\n",
       "             mask=[False, False, False, ..., False, False, False],\n",
       "       fill_value=1e+20)"
      ]
     },
     "execution_count": 76,
     "metadata": {},
     "output_type": "execute_result"
    }
   ],
   "source": [
    "col_means"
   ]
  },
  {
   "cell_type": "code",
   "execution_count": 40,
   "metadata": {},
   "outputs": [],
   "source": [
    "def svd_fillna_shift(train, k):\n",
    "    '''\n",
    "        svd со сдвигом\n",
    "    '''\n",
    "    utilMat = train.copy()\n",
    "    # маска из нанов\n",
    "    mask = np.isnan(utilMat)\n",
    "    masked_arr = np.ma.masked_array(utilMat, mask)\n",
    "    item_means = np.mean(masked_arr, axis=0)\n",
    "    # замена средним для нанов\n",
    "    utilMat = masked_arr.filled(item_means)\n",
    "    x = np.tile(item_means, (utilMat.shape[0], 1))\n",
    "    # вычитание\n",
    "    utilMat = utilMat - x\n",
    "    total_mean = np.mean(utilMat)\n",
    "    col_means = np.mean(utilMat, axis=0) - total_mean\n",
    "    row_means = np.mean(utilMat, axis=1) - total_mean\n",
    "    utilMat = utilMat - row_means[:, np.newaxis] - col_means - total_mean\n",
    "    U, s, V = np.linalg.svd(utilMat, full_matrices=False)\n",
    "    s = np.diag(s)\n",
    "    s = s[0:k, 0:k]\n",
    "    U = U[:, 0:k]\n",
    "    V = V[0:k, :]\n",
    "    s_root = sqrtm(s)\n",
    "    Usk = np.dot(U, s_root)\n",
    "    skV = np.dot(s_root, V)\n",
    "    UsV = np.dot(Usk, skV)\n",
    "    # восстановление\n",
    "    UsV = UsV + row_means[:, np.newaxis] + col_means + total_mean\n",
    "    UsV = UsV + x\n",
    "    return UsV"
   ]
  },
  {
   "cell_type": "code",
   "execution_count": 41,
   "metadata": {},
   "outputs": [
    {
     "name": "stdout",
     "output_type": "stream",
     "text": [
      "1.036062527500169\n",
      "1.0374378272460585\n",
      "1.0367533284622752\n",
      "1.037352936452513\n",
      "1.0385584659382243\n"
     ]
    }
   ],
   "source": [
    "for f in no_of_features: \n",
    "    svdout = svd_fillna_shift(utilMat, k=f)\n",
    "    pred = []\n",
    "    for _, row in test.iterrows():\n",
    "        user = row['user_id']\n",
    "        item = row['item_id']\n",
    "        u_index = users_index[user]\n",
    "        if item in items_index:\n",
    "            i_index = items_index[item]\n",
    "            pred_rating = svdout[u_index, i_index]\n",
    "        else:\n",
    "            pred_rating = np.mean(svdout[u_index, :])\n",
    "        pred.append(pred_rating)\n",
    "    print(mean_squared_error(test['rating'], pred)**0.5)"
   ]
  },
  {
   "cell_type": "code",
   "execution_count": 42,
   "metadata": {},
   "outputs": [],
   "source": [
    "def svd_fillna_shift_norm(train, k):\n",
    "    '''\n",
    "        svd с нормировкой + заполнениями и сдвигом\n",
    "    '''\n",
    "    utilMat = train.copy()\n",
    "    # маска из нанов\n",
    "    mask = np.isnan(utilMat)\n",
    "    masked_arr = np.ma.masked_array(utilMat, mask)\n",
    "    item_means = np.mean(masked_arr, axis=0)\n",
    "    # замена средним для нанов\n",
    "    utilMat = masked_arr.filled(item_means)\n",
    "    x = np.tile(item_means, (utilMat.shape[0], 1))\n",
    "    # вычитание\n",
    "    utilMat = utilMat - x\n",
    "    total_mean = np.mean(utilMat)\n",
    "    col_means = np.mean(utilMat, axis=0) - total_mean\n",
    "    row_means = np.mean(utilMat, axis=1) - total_mean\n",
    "    utilMat = utilMat - row_means[:, np.newaxis] - col_means - total_mean\n",
    "    row_norms = np.sqrt(np.sum(utilMat*utilMat, axis=1))[:, np.newaxis]\n",
    "    col_norms = np.sqrt(np.sum(utilMat*utilMat, axis=0))[np.newaxis, :]\n",
    "    utilMat = utilMat / np.sqrt(row_norms) / np.sqrt(col_norms)\n",
    "    U, s, V = np.linalg.svd(utilMat, full_matrices=False)\n",
    "    s = np.diag(s)\n",
    "    s = s[0:k, 0:k]\n",
    "    U = U[:, 0:k]\n",
    "    V = V[0:k, :]\n",
    "    s_root = sqrtm(s)\n",
    "    Usk = np.dot(U, s_root)\n",
    "    skV = np.dot(s_root, V)\n",
    "    UsV = np.dot(Usk, skV)\n",
    "    # восстановление\n",
    "    UsV = UsV * np.sqrt(row_norms) * np.sqrt(col_norms)\n",
    "    UsV = UsV + row_means[:, np.newaxis] + col_means + total_mean\n",
    "    UsV = UsV + x\n",
    "    return UsV"
   ]
  },
  {
   "cell_type": "code",
   "execution_count": 43,
   "metadata": {},
   "outputs": [
    {
     "name": "stdout",
     "output_type": "stream",
     "text": [
      "1.035402964598958\n",
      "1.0353785630013288\n",
      "1.0347903758778334\n",
      "1.0357938453084006\n",
      "1.035679638469686\n"
     ]
    }
   ],
   "source": [
    "for f in no_of_features:\n",
    "    svdout = svd_fillna_shift_norm(utilMat, k=f)\n",
    "    pred = []\n",
    "    for _, row in test.iterrows():\n",
    "        user = row['user_id']\n",
    "        item = row['item_id']\n",
    "        u_index = users_index[user]\n",
    "        if item in items_index:\n",
    "            i_index = items_index[item]\n",
    "            pred_rating = svdout[u_index, i_index]\n",
    "        else:\n",
    "            pred_rating = np.mean(svdout[u_index, :])\n",
    "        pred.append(pred_rating)\n",
    "    print(mean_squared_error(test['rating'], pred)**0.5)"
   ]
  }
 ],
 "metadata": {
  "kernelspec": {
   "display_name": "Python 3",
   "language": "python",
   "name": "python3"
  },
  "language_info": {
   "codemirror_mode": {
    "name": "ipython",
    "version": 3
   },
   "file_extension": ".py",
   "mimetype": "text/x-python",
   "name": "python",
   "nbconvert_exporter": "python",
   "pygments_lexer": "ipython3",
   "version": "3.7.1"
  }
 },
 "nbformat": 4,
 "nbformat_minor": 2
}
