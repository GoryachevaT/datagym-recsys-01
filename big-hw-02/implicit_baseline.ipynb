{
 "cells": [
  {
   "cell_type": "code",
   "execution_count": 1,
   "metadata": {
    "ExecuteTime": {
     "end_time": "2020-06-24T15:18:37.009954Z",
     "start_time": "2020-06-24T15:18:36.813100Z"
    }
   },
   "outputs": [],
   "source": [
    "import implicit"
   ]
  },
  {
   "cell_type": "code",
   "execution_count": 2,
   "metadata": {
    "ExecuteTime": {
     "end_time": "2020-06-24T15:18:37.598705Z",
     "start_time": "2020-06-24T15:18:37.012157Z"
    }
   },
   "outputs": [],
   "source": [
    "import pandas as pd\n",
    "import numpy as np\n",
    "from scipy.sparse import coo_matrix\n",
    "import scipy\n",
    "from scipy.sparse.linalg import svds\n",
    "from numpy.linalg import svd \n",
    "from scipy.sparse import csr_matrix\n",
    "import time\n",
    "from sklearn import preprocessing"
   ]
  },
  {
   "cell_type": "code",
   "execution_count": 10,
   "metadata": {
    "ExecuteTime": {
     "end_time": "2020-06-24T15:19:39.725558Z",
     "start_time": "2020-06-24T15:19:39.723035Z"
    }
   },
   "outputs": [],
   "source": [
    "import warnings\n",
    "warnings.filterwarnings('ignore')"
   ]
  },
  {
   "cell_type": "code",
   "execution_count": 3,
   "metadata": {
    "ExecuteTime": {
     "end_time": "2020-06-24T15:18:37.607513Z",
     "start_time": "2020-06-24T15:18:37.601996Z"
    }
   },
   "outputs": [],
   "source": [
    "def prepare_df(df):\n",
    "    aggr1 = {\n",
    "    'session_duration': 'max', \n",
    "    'video_duration': 'max',\n",
    "    'month': 'max'\n",
    "    }\n",
    "    k = df.groupby(['user_id', 'primary_video_id']).agg(aggr1).reset_index().reset_index()\n",
    "    k['session_duration_clean'] = k[['session_duration', 'video_duration']].min(axis=1)\n",
    "    k['watching_percentage'] = k['session_duration_clean']/k['video_duration']\n",
    "    k = k[['month', 'user_id', 'primary_video_id', 'watching_percentage']]\n",
    "    k = k[k['watching_percentage']>=0.5]\n",
    "    return k"
   ]
  },
  {
   "cell_type": "code",
   "execution_count": 4,
   "metadata": {
    "ExecuteTime": {
     "end_time": "2020-06-24T15:18:37.616610Z",
     "start_time": "2020-06-24T15:18:37.610208Z"
    }
   },
   "outputs": [],
   "source": [
    "def prepare_matrix(df):\n",
    "    user_mapper = {k:v for v, k in dict(enumerate(df.user_id.unique())).items()}\n",
    "    item_mapper = {k:v for v, k in dict(enumerate(df.primary_video_id.unique())).items()}\n",
    "    df['user_num'] = df['user_id'].map(user_mapper)\n",
    "    df['item_num'] = df['primary_video_id'].map(item_mapper)\n",
    "    row  = df['user_num'].values\n",
    "    col  = df['item_num'].values\n",
    "    data = df['watching_percentage'].values\n",
    "    matrix = csr_matrix(coo_matrix((data, (row, col)), shape=(df['user_num'].nunique(), df['item_num'].nunique())))   \n",
    "    print(df.user_id.nunique(), df.primary_video_id.nunique(), matrix.shape)  \n",
    "    return matrix, item_mapper, user_mapper"
   ]
  },
  {
   "cell_type": "code",
   "execution_count": 5,
   "metadata": {
    "ExecuteTime": {
     "end_time": "2020-06-24T15:18:37.623695Z",
     "start_time": "2020-06-24T15:18:37.619074Z"
    }
   },
   "outputs": [],
   "source": [
    "def map_at_k(df, k):\n",
    "    df = df[df['rnk'] < k]\n",
    "    df['target_cumcum'] = df[['user_id', 'targer']].groupby('user_id').cumsum()\n",
    "    df['for_running_sum'] = df['target_cumcum']/(df['rnk']+1)\n",
    "    agg_df = df[df['targer']==1][['user_id', 'for_running_sum']].groupby('user_id').mean().reset_index()\n",
    "    agg_df.columns = ['user_id', 'ap']\n",
    "    return agg_df['ap'].mean()"
   ]
  },
  {
   "cell_type": "code",
   "execution_count": 6,
   "metadata": {
    "ExecuteTime": {
     "end_time": "2020-06-24T15:18:39.706249Z",
     "start_time": "2020-06-24T15:18:39.700747Z"
    }
   },
   "outputs": [],
   "source": [
    "# генерация сетки для модели\n",
    "def get_params(dict_):\n",
    "    result = {}\n",
    "    for i in params:\n",
    "        result[i] = np.random.choice(dict_[i])\n",
    "    return result\n",
    "\n",
    "def get_grid(shape=200):\n",
    "    dict_of_params = {}\n",
    "    i = 0 \n",
    "    while len(dict_of_params) < shape:\n",
    "        par = get_params(params)\n",
    "        if par not in dict_of_params.values():\n",
    "            dict_of_params[i] = par\n",
    "            i += 1\n",
    "    return dict_of_params"
   ]
  },
  {
   "cell_type": "markdown",
   "metadata": {},
   "source": [
    "## read data"
   ]
  },
  {
   "cell_type": "code",
   "execution_count": 7,
   "metadata": {
    "ExecuteTime": {
     "end_time": "2020-06-24T15:18:59.883305Z",
     "start_time": "2020-06-24T15:18:46.453608Z"
    }
   },
   "outputs": [],
   "source": [
    "train = pd.read_csv('/data/agoryach/datagym-recsys-01/big-hw-02/input/train_data_full.csv')\n",
    "item_info = pd.read_csv('/data/agoryach/datagym-recsys-01/big-hw-02/input/video_meta_data_full.csv')\n",
    "test = pd.read_csv('/data/agoryach/datagym-recsys-01/big-hw-02/input/sample_submission_full.csv')"
   ]
  },
  {
   "cell_type": "code",
   "execution_count": 8,
   "metadata": {
    "ExecuteTime": {
     "end_time": "2020-06-24T15:19:39.608157Z",
     "start_time": "2020-06-24T15:18:59.885987Z"
    }
   },
   "outputs": [],
   "source": [
    "train['session_start_datetime'] = pd.to_datetime(train['session_start_datetime'])\n",
    "train['month'] = train['session_start_datetime'].apply(lambda x: x.month)"
   ]
  },
  {
   "cell_type": "code",
   "execution_count": 9,
   "metadata": {
    "ExecuteTime": {
     "end_time": "2020-06-24T15:19:39.721135Z",
     "start_time": "2020-06-24T15:19:39.610685Z"
    }
   },
   "outputs": [
    {
     "data": {
      "text/plain": [
       "7    2866200\n",
       "9    2742848\n",
       "8    2640335\n",
       "Name: month, dtype: int64"
      ]
     },
     "execution_count": 9,
     "metadata": {},
     "output_type": "execute_result"
    }
   ],
   "source": [
    "train.month.value_counts()"
   ]
  },
  {
   "cell_type": "markdown",
   "metadata": {},
   "source": [
    "## grid search"
   ]
  },
  {
   "cell_type": "code",
   "execution_count": 52,
   "metadata": {
    "ExecuteTime": {
     "end_time": "2020-06-24T16:02:28.062252Z",
     "start_time": "2020-06-24T16:02:28.055152Z"
    }
   },
   "outputs": [],
   "source": [
    "params = {\n",
    "    'K': [5, 10, 20, 30, 50, 100, 120, 150, 180, 200, 230, 300],\n",
    "    'item_cnt': [5, 10, 20, 50],\n",
    "    'user_cnt': [1, 3, 5],\n",
    "    'n_item_count': [50, 100, 200, 300, 500, 800, 1000, 2000]\n",
    "}\n",
    "\n",
    "dict_of_params = get_grid(shape=50)"
   ]
  },
  {
   "cell_type": "code",
   "execution_count": 53,
   "metadata": {
    "ExecuteTime": {
     "end_time": "2020-06-24T16:02:37.698510Z",
     "start_time": "2020-06-24T16:02:30.244820Z"
    }
   },
   "outputs": [
    {
     "name": "stdout",
     "output_type": "stream",
     "text": [
      "328140 5159 (328140, 5159)\n"
     ]
    }
   ],
   "source": [
    "train_p = prepare_df(train)\n",
    "train_df = train_p[train_p['month'] != 9]\n",
    "test_df  = train_p[train_p['month'] == 9]\n",
    "test_df['targer'] = [1]*test_df.shape[0]\n",
    "matrix_m, item_mapper, user_mapper = prepare_matrix(train_df)"
   ]
  },
  {
   "cell_type": "code",
   "execution_count": 54,
   "metadata": {
    "ExecuteTime": {
     "end_time": "2020-06-24T17:13:23.235248Z",
     "start_time": "2020-06-24T16:02:37.700645Z"
    },
    "scrolled": true
   },
   "outputs": [
    {
     "name": "stdout",
     "output_type": "stream",
     "text": [
      "iter 1 of 50: Wed Jun 24 19:02:37 2020\n",
      "0 {'K': 150, 'item_cnt': 20, 'user_cnt': 3, 'n_item_count': 2000} 0.26747180939436266\n",
      "Wed Jun 24 19:04:17 2020 \n",
      "\n",
      "iter 2 of 50: Wed Jun 24 19:04:17 2020\n",
      "1 {'K': 180, 'item_cnt': 50, 'user_cnt': 5, 'n_item_count': 500} 0.24746427978218877\n",
      "Wed Jun 24 19:05:42 2020 \n",
      "\n",
      "iter 3 of 50: Wed Jun 24 19:05:43 2020\n",
      "2 {'K': 230, 'item_cnt': 5, 'user_cnt': 1, 'n_item_count': 50} 0.2722501117258788\n",
      "Wed Jun 24 19:08:13 2020 \n",
      "\n",
      "iter 4 of 50: Wed Jun 24 19:08:14 2020\n",
      "3 {'K': 120, 'item_cnt': 10, 'user_cnt': 3, 'n_item_count': 300} 0.2573451712990449\n",
      "Wed Jun 24 19:09:43 2020 \n",
      "\n",
      "iter 5 of 50: Wed Jun 24 19:09:43 2020\n",
      "4 {'K': 30, 'item_cnt': 50, 'user_cnt': 1, 'n_item_count': 300} 0.2626071214133745\n",
      "Wed Jun 24 19:10:49 2020 \n",
      "\n",
      "iter 6 of 50: Wed Jun 24 19:10:49 2020\n",
      "5 {'K': 200, 'item_cnt': 10, 'user_cnt': 1, 'n_item_count': 300} 0.26110104415856894\n",
      "Wed Jun 24 19:13:09 2020 \n",
      "\n",
      "iter 7 of 50: Wed Jun 24 19:13:10 2020\n",
      "6 {'K': 20, 'item_cnt': 5, 'user_cnt': 1, 'n_item_count': 500} 0.2640829009003196\n",
      "Wed Jun 24 19:14:11 2020 \n",
      "\n",
      "iter 8 of 50: Wed Jun 24 19:14:11 2020\n",
      "7 {'K': 30, 'item_cnt': 5, 'user_cnt': 5, 'n_item_count': 500} 0.24798049134625072\n",
      "Wed Jun 24 19:14:54 2020 \n",
      "\n",
      "iter 9 of 50: Wed Jun 24 19:14:54 2020\n",
      "8 {'K': 10, 'item_cnt': 5, 'user_cnt': 3, 'n_item_count': 800} 0.2688681766299605\n",
      "Wed Jun 24 19:15:37 2020 \n",
      "\n",
      "iter 10 of 50: Wed Jun 24 19:15:37 2020\n",
      "9 {'K': 200, 'item_cnt': 5, 'user_cnt': 3, 'n_item_count': 100} 0.26877649395219844\n",
      "Wed Jun 24 19:17:33 2020 \n",
      "\n",
      "iter 11 of 50: Wed Jun 24 19:17:33 2020\n",
      "10 {'K': 50, 'item_cnt': 10, 'user_cnt': 3, 'n_item_count': 800} 0.2688692195448407\n",
      "Wed Jun 24 19:18:36 2020 \n",
      "\n",
      "iter 12 of 50: Wed Jun 24 19:18:36 2020\n",
      "11 {'K': 300, 'item_cnt': 50, 'user_cnt': 5, 'n_item_count': 500} 0.24728252817450685\n",
      "Wed Jun 24 19:20:28 2020 \n",
      "\n",
      "iter 13 of 50: Wed Jun 24 19:20:28 2020\n",
      "12 {'K': 120, 'item_cnt': 5, 'user_cnt': 5, 'n_item_count': 300} 0.2512495297672575\n",
      "Wed Jun 24 19:21:42 2020 \n",
      "\n",
      "iter 14 of 50: Wed Jun 24 19:21:42 2020\n",
      "13 {'K': 30, 'item_cnt': 20, 'user_cnt': 5, 'n_item_count': 2000} 0.25678938168811694\n",
      "Wed Jun 24 19:22:25 2020 \n",
      "\n",
      "iter 15 of 50: Wed Jun 24 19:22:25 2020\n",
      "14 {'K': 50, 'item_cnt': 5, 'user_cnt': 3, 'n_item_count': 1000} 0.2693092945267827\n",
      "Wed Jun 24 19:23:28 2020 \n",
      "\n",
      "iter 16 of 50: Wed Jun 24 19:23:28 2020\n",
      "15 {'K': 120, 'item_cnt': 10, 'user_cnt': 5, 'n_item_count': 50} 0.2659777620321251\n",
      "Wed Jun 24 19:24:43 2020 \n",
      "\n",
      "iter 17 of 50: Wed Jun 24 19:24:44 2020\n",
      "16 {'K': 180, 'item_cnt': 20, 'user_cnt': 1, 'n_item_count': 800} 0.26321462298515347\n",
      "Wed Jun 24 19:26:58 2020 \n",
      "\n",
      "iter 18 of 50: Wed Jun 24 19:26:58 2020\n",
      "17 {'K': 20, 'item_cnt': 5, 'user_cnt': 1, 'n_item_count': 1000} 0.2674412161365815\n",
      "Wed Jun 24 19:28:01 2020 \n",
      "\n",
      "iter 19 of 50: Wed Jun 24 19:28:01 2020\n",
      "18 {'K': 200, 'item_cnt': 10, 'user_cnt': 1, 'n_item_count': 200} 0.2636344280693414\n",
      "Wed Jun 24 19:30:23 2020 \n",
      "\n",
      "iter 20 of 50: Wed Jun 24 19:30:24 2020\n",
      "19 {'K': 10, 'item_cnt': 10, 'user_cnt': 1, 'n_item_count': 2000} 0.2709508206473103\n",
      "Wed Jun 24 19:31:21 2020 \n",
      "\n",
      "iter 21 of 50: Wed Jun 24 19:31:21 2020\n",
      "20 {'K': 200, 'item_cnt': 20, 'user_cnt': 3, 'n_item_count': 1000} 0.26796268775696164\n",
      "Wed Jun 24 19:33:20 2020 \n",
      "\n",
      "iter 22 of 50: Wed Jun 24 19:33:20 2020\n",
      "21 {'K': 50, 'item_cnt': 20, 'user_cnt': 1, 'n_item_count': 500} 0.2643973904045339\n",
      "Wed Jun 24 19:34:39 2020 \n",
      "\n",
      "iter 23 of 50: Wed Jun 24 19:34:39 2020\n",
      "22 {'K': 10, 'item_cnt': 5, 'user_cnt': 1, 'n_item_count': 200} 0.26511857455991844\n",
      "Wed Jun 24 19:35:36 2020 \n",
      "\n",
      "iter 24 of 50: Wed Jun 24 19:35:36 2020\n",
      "23 {'K': 20, 'item_cnt': 50, 'user_cnt': 5, 'n_item_count': 50} 0.2647847414630472\n",
      "Wed Jun 24 19:36:15 2020 \n",
      "\n",
      "iter 25 of 50: Wed Jun 24 19:36:15 2020\n",
      "24 {'K': 180, 'item_cnt': 10, 'user_cnt': 3, 'n_item_count': 1000} 0.2677003769679486\n",
      "Wed Jun 24 19:38:07 2020 \n",
      "\n",
      "iter 26 of 50: Wed Jun 24 19:38:07 2020\n",
      "25 {'K': 50, 'item_cnt': 5, 'user_cnt': 1, 'n_item_count': 500} 0.26454169213658585\n",
      "Wed Jun 24 19:39:26 2020 \n",
      "\n",
      "iter 27 of 50: Wed Jun 24 19:39:27 2020\n",
      "26 {'K': 5, 'item_cnt': 10, 'user_cnt': 5, 'n_item_count': 200} 0.24684143052251253\n",
      "Wed Jun 24 19:39:59 2020 \n",
      "\n",
      "iter 28 of 50: Wed Jun 24 19:39:59 2020\n",
      "27 {'K': 300, 'item_cnt': 20, 'user_cnt': 1, 'n_item_count': 500} 0.2633133020438212\n",
      "Wed Jun 24 19:42:57 2020 \n",
      "\n",
      "iter 29 of 50: Wed Jun 24 19:42:57 2020\n",
      "28 {'K': 50, 'item_cnt': 5, 'user_cnt': 5, 'n_item_count': 200} 0.2478366040864103\n",
      "Wed Jun 24 19:43:49 2020 \n",
      "\n",
      "iter 30 of 50: Wed Jun 24 19:43:50 2020\n",
      "29 {'K': 230, 'item_cnt': 5, 'user_cnt': 3, 'n_item_count': 100} 0.2689074022291357\n",
      "Wed Jun 24 19:45:58 2020 \n",
      "\n",
      "iter 31 of 50: Wed Jun 24 19:45:59 2020\n",
      "30 {'K': 120, 'item_cnt': 50, 'user_cnt': 1, 'n_item_count': 200} 0.26426323177823086\n",
      "Wed Jun 24 19:47:45 2020 \n",
      "\n",
      "iter 32 of 50: Wed Jun 24 19:47:45 2020\n",
      "31 {'K': 5, 'item_cnt': 20, 'user_cnt': 1, 'n_item_count': 100} 0.27431847739985765\n",
      "Wed Jun 24 19:48:38 2020 \n",
      "\n",
      "iter 33 of 50: Wed Jun 24 19:48:38 2020\n",
      "32 {'K': 5, 'item_cnt': 10, 'user_cnt': 1, 'n_item_count': 50} 0.2769131738132292\n",
      "Wed Jun 24 19:49:32 2020 \n",
      "\n",
      "iter 34 of 50: Wed Jun 24 19:49:32 2020\n",
      "33 {'K': 50, 'item_cnt': 10, 'user_cnt': 3, 'n_item_count': 50} 0.27156003525116706\n",
      "Wed Jun 24 19:50:35 2020 \n",
      "\n",
      "iter 35 of 50: Wed Jun 24 19:50:35 2020\n",
      "34 {'K': 180, 'item_cnt': 50, 'user_cnt': 3, 'n_item_count': 100} 0.26882691527550995\n",
      "Wed Jun 24 19:52:21 2020 \n",
      "\n",
      "iter 36 of 50: Wed Jun 24 19:52:21 2020\n",
      "35 {'K': 180, 'item_cnt': 5, 'user_cnt': 1, 'n_item_count': 500} 0.26320933881565817\n",
      "Wed Jun 24 19:54:37 2020 \n",
      "\n",
      "iter 37 of 50: Wed Jun 24 19:54:38 2020\n",
      "36 {'K': 5, 'item_cnt': 10, 'user_cnt': 1, 'n_item_count': 800} 0.2666439892711944\n",
      "Wed Jun 24 19:55:30 2020 \n",
      "\n",
      "iter 38 of 50: Wed Jun 24 19:55:31 2020\n",
      "37 {'K': 10, 'item_cnt': 20, 'user_cnt': 5, 'n_item_count': 50} 0.2649110592808067\n",
      "Wed Jun 24 19:56:06 2020 \n",
      "\n",
      "iter 39 of 50: Wed Jun 24 19:56:06 2020\n",
      "38 {'K': 300, 'item_cnt': 5, 'user_cnt': 3, 'n_item_count': 1000} 0.2680612734353533\n",
      "Wed Jun 24 19:58:37 2020 \n",
      "\n",
      "iter 40 of 50: Wed Jun 24 19:58:37 2020\n",
      "39 {'K': 200, 'item_cnt': 20, 'user_cnt': 3, 'n_item_count': 100} 0.26873888216358854\n",
      "Wed Jun 24 20:00:35 2020 \n",
      "\n",
      "iter 41 of 50: Wed Jun 24 20:00:35 2020\n",
      "40 {'K': 5, 'item_cnt': 5, 'user_cnt': 1, 'n_item_count': 50} 0.27695139007145086\n",
      "Wed Jun 24 20:01:28 2020 \n",
      "\n",
      "iter 42 of 50: Wed Jun 24 20:01:28 2020\n",
      "41 {'K': 30, 'item_cnt': 50, 'user_cnt': 5, 'n_item_count': 2000} 0.25679085018722697\n",
      "Wed Jun 24 20:02:11 2020 \n",
      "\n",
      "iter 43 of 50: Wed Jun 24 20:02:11 2020\n",
      "42 {'K': 100, 'item_cnt': 10, 'user_cnt': 3, 'n_item_count': 50} 0.27002518247737084\n",
      "Wed Jun 24 20:03:35 2020 \n",
      "\n",
      "iter 44 of 50: Wed Jun 24 20:03:35 2020\n",
      "43 {'K': 230, 'item_cnt': 10, 'user_cnt': 1, 'n_item_count': 100} 0.2700451709939242\n",
      "Wed Jun 24 20:06:08 2020 \n",
      "\n",
      "iter 45 of 50: Wed Jun 24 20:06:09 2020\n",
      "44 {'K': 180, 'item_cnt': 10, 'user_cnt': 1, 'n_item_count': 100} 0.26996466150832815\n",
      "Wed Jun 24 20:08:24 2020 \n",
      "\n",
      "iter 46 of 50: Wed Jun 24 20:08:24 2020\n",
      "45 {'K': 10, 'item_cnt': 10, 'user_cnt': 3, 'n_item_count': 2000} 0.26842456690914857\n",
      "Wed Jun 24 20:09:08 2020 \n",
      "\n",
      "iter 47 of 50: Wed Jun 24 20:09:08 2020\n",
      "46 {'K': 5, 'item_cnt': 20, 'user_cnt': 1, 'n_item_count': 2000} 0.27316081455153896\n",
      "Wed Jun 24 20:10:01 2020 \n",
      "\n",
      "iter 48 of 50: Wed Jun 24 20:10:01 2020\n",
      "47 {'K': 20, 'item_cnt': 50, 'user_cnt': 5, 'n_item_count': 2000} 0.25585497164405685\n",
      "Wed Jun 24 20:10:40 2020 \n",
      "\n",
      "iter 49 of 50: Wed Jun 24 20:10:40 2020\n",
      "48 {'K': 120, 'item_cnt': 5, 'user_cnt': 1, 'n_item_count': 2000} 0.26996793498194277\n",
      "Wed Jun 24 20:12:31 2020 \n",
      "\n",
      "iter 50 of 50: Wed Jun 24 20:12:31 2020\n",
      "49 {'K': 50, 'item_cnt': 20, 'user_cnt': 5, 'n_item_count': 500} 0.24815240590340532\n",
      "Wed Jun 24 20:13:22 2020 \n",
      "\n"
     ]
    }
   ],
   "source": [
    "metric = []\n",
    "for k, param in dict_of_params.items():\n",
    "    print(f'iter {k+1} of {len(dict_of_params)}: {time.ctime()}')\n",
    "    \n",
    "    # cut matrix\n",
    "    mask_users = np.diff(matrix_m.tocsr().indptr) > param['user_cnt']\n",
    "    mask_items = np.diff(matrix_m.tocsc().indptr) > param['item_cnt']\n",
    "    matrix = matrix_m.copy()\n",
    "    matrix = matrix[:, mask_items]\n",
    "    matrix = matrix[mask_users, :]\n",
    "    \n",
    "    # mappers\n",
    "    new_users = np.array([x[0] for x in sorted([(k,v) for k,v in user_mapper.items()], key=lambda x: x[1])])[mask_users]\n",
    "    new_user_mapper = {v:k for k,v in enumerate(new_users)}\n",
    "    new_user_mapper_rev = {k:v for k,v in enumerate(new_users)}\n",
    "    \n",
    "    new_items = np.array([x[0] for x in sorted([(k,v) for k,v in item_mapper.items()], key=lambda x: x[1])])[mask_items]\n",
    "    new_item_mapper = {v:k for k,v in enumerate(new_items)}\n",
    "    new_item_mapper_rev = {k:v for k,v in enumerate(new_items)}\n",
    "    \n",
    "    # fit\n",
    "    model = implicit.nearest_neighbours.CosineRecommender(K=param['K'],)\n",
    "    model.fit(matrix.T)\n",
    "    \n",
    "    # predict\n",
    "    cold_users = set(test_df['user_id'].unique()) - set(new_user_mapper.keys())\n",
    "    hot_users = set(test_df['user_id'].unique())&(set(new_user_mapper.keys()))\n",
    "    hot_users_labels = [new_user_mapper[x] for x in hot_users]\n",
    "    \n",
    "    ## recs for hot users\n",
    "    res1 = []\n",
    "    n = len(hot_users)\n",
    "\n",
    "    for user in hot_users_labels:\n",
    "        rec = model.recommend(user, matrix, N=10)\n",
    "        res1 += [[user, r] for r, v in rec]\n",
    "\n",
    "    result1 = pd.DataFrame(res1, columns=['user_num', 'item_num'])\n",
    "    result1['user_id'] = result1['user_num'].map(new_user_mapper_rev)\n",
    "    result1['primary_video_id'] = result1['item_num'].map(new_item_mapper_rev)\n",
    "    result1.drop(['user_num', 'item_num'], axis=1, inplace=True)\n",
    "    \n",
    "    ## recs for cold users\n",
    "    # самые популярные товары\n",
    "    item_pop_matrix = pd.DataFrame([])\n",
    "    item_pop_matrix['item_id'] = new_item_mapper.keys()\n",
    "    item_pop_matrix['cnt_not_null'] = (matrix.T > 0).sum(axis=1)\n",
    "\n",
    "    # среднее по товарам\n",
    "    (x,y,z) = scipy.sparse.find(matrix)\n",
    "    countings = np.bincount(y)\n",
    "    sums = np.bincount(y, weights=z)\n",
    "    averages = sums/countings\n",
    "\n",
    "    item_pop_matrix['item_means'] = averages\n",
    "\n",
    "    top10_items = item_pop_matrix[item_pop_matrix['cnt_not_null'] > param['n_item_count']]\\\n",
    "    .sort_values('item_means', ascending=False).head(10)['item_id'].values\n",
    "\n",
    "    result2 = pd.DataFrame(cold_users, columns=['user_id'])\n",
    "    items = [x for x in top10_items]*result2.shape[0]\n",
    "    result2 = result2.loc[result2.index.repeat(10)]\n",
    "    result2['primary_video_id'] = items\n",
    "\n",
    "    # join\n",
    "    finalDF = result1.append(result2).reset_index(drop=True)\n",
    "    finalDF = finalDF[finalDF['user_id'].isin(test_df['user_id'].unique())].reset_index(drop=True)\n",
    "\n",
    "    # map@k\n",
    "    finalDF = finalDF.merge(test_df[['user_id', 'primary_video_id', 'targer']], \n",
    "                            on=['user_id', 'primary_video_id'], \n",
    "                            how='left').fillna(0)\n",
    "    finalDF['rnk'] = finalDF.groupby('user_id').cumcount()+1\n",
    "    print(k, param, map_at_k(finalDF, 10))\n",
    "    print(time.ctime(), '\\n')\n",
    "    metric.append((k, param, map_at_k(finalDF, 10)))"
   ]
  },
  {
   "cell_type": "markdown",
   "metadata": {},
   "source": [
    "## predict"
   ]
  },
  {
   "cell_type": "code",
   "execution_count": 55,
   "metadata": {
    "ExecuteTime": {
     "end_time": "2020-06-24T17:13:23.241370Z",
     "start_time": "2020-06-24T17:13:23.237558Z"
    }
   },
   "outputs": [
    {
     "name": "stdout",
     "output_type": "stream",
     "text": [
      "(40, {'K': 5, 'item_cnt': 5, 'user_cnt': 1, 'n_item_count': 50}, 0.27695139007145086)\n"
     ]
    }
   ],
   "source": [
    "best = sorted(metric, key = lambda x: x[2], reverse=True)[0]\n",
    "print(best)\n",
    "best_params = best[1]"
   ]
  },
  {
   "cell_type": "code",
   "execution_count": 56,
   "metadata": {
    "ExecuteTime": {
     "end_time": "2020-06-24T17:13:24.407290Z",
     "start_time": "2020-06-24T17:13:23.243479Z"
    }
   },
   "outputs": [
    {
     "name": "stdout",
     "output_type": "stream",
     "text": [
      "397294 5255 (397294, 5255)\n"
     ]
    }
   ],
   "source": [
    "matrix_m, item_mapper, user_mapper = prepare_matrix(train_p)"
   ]
  },
  {
   "cell_type": "code",
   "execution_count": 57,
   "metadata": {
    "ExecuteTime": {
     "end_time": "2020-06-24T17:13:24.861190Z",
     "start_time": "2020-06-24T17:13:24.409175Z"
    }
   },
   "outputs": [],
   "source": [
    "# cut matrix\n",
    "mask_users = np.diff(matrix_m.tocsr().indptr) > best_params['user_cnt']\n",
    "mask_items = np.diff(matrix_m.tocsc().indptr) > best_params['item_cnt']\n",
    "matrix = matrix_m.copy()\n",
    "matrix = matrix[:, mask_items]\n",
    "matrix = matrix[mask_users, :]\n",
    "\n",
    "# mappers\n",
    "new_users = np.array([x[0] for x in sorted([(k,v) for k,v in user_mapper.items()], key=lambda x: x[1])])[mask_users]\n",
    "new_user_mapper = {v:k for k,v in enumerate(new_users)}\n",
    "new_user_mapper_rev = {k:v for k,v in enumerate(new_users)}\n",
    "\n",
    "new_items = np.array([x[0] for x in sorted([(k,v) for k,v in item_mapper.items()], key=lambda x: x[1])])[mask_items]\n",
    "new_item_mapper = {v:k for k,v in enumerate(new_items)}\n",
    "new_item_mapper_rev = {k:v for k,v in enumerate(new_items)}"
   ]
  },
  {
   "cell_type": "code",
   "execution_count": 58,
   "metadata": {
    "ExecuteTime": {
     "end_time": "2020-06-24T17:13:25.252088Z",
     "start_time": "2020-06-24T17:13:24.863171Z"
    }
   },
   "outputs": [],
   "source": [
    "# fit\n",
    "model = implicit.nearest_neighbours.CosineRecommender(K=best_params['K'])\n",
    "model.fit(matrix.T)"
   ]
  },
  {
   "cell_type": "code",
   "execution_count": 59,
   "metadata": {
    "ExecuteTime": {
     "end_time": "2020-06-24T17:13:25.508455Z",
     "start_time": "2020-06-24T17:13:25.253967Z"
    }
   },
   "outputs": [],
   "source": [
    "# predict\n",
    "cold_users = set(test['user_id'].unique()) - set(new_user_mapper.keys())\n",
    "hot_users = set(test['user_id'].unique())&(set(new_user_mapper.keys()))\n",
    "hot_users_labels = [new_user_mapper[x] for x in hot_users]"
   ]
  },
  {
   "cell_type": "code",
   "execution_count": 60,
   "metadata": {
    "ExecuteTime": {
     "end_time": "2020-06-24T17:14:18.920022Z",
     "start_time": "2020-06-24T17:13:25.511026Z"
    }
   },
   "outputs": [],
   "source": [
    "## recs for hot users\n",
    "res1 = []\n",
    "n = len(hot_users)\n",
    "\n",
    "for user in hot_users_labels:\n",
    "    rec = model.recommend(user, matrix, N=10)\n",
    "    res1 += [[user, r] for r, v in rec]\n",
    "\n",
    "result1 = pd.DataFrame(res1, columns=['user_num', 'item_num'])\n",
    "result1['user_id'] = result1['user_num'].map(new_user_mapper_rev)\n",
    "result1['primary_video_id'] = result1['item_num'].map(new_item_mapper_rev)\n",
    "result1.drop(['user_num', 'item_num'], axis=1, inplace=True)"
   ]
  },
  {
   "cell_type": "code",
   "execution_count": 61,
   "metadata": {
    "ExecuteTime": {
     "end_time": "2020-06-24T17:14:20.009843Z",
     "start_time": "2020-06-24T17:14:18.922228Z"
    }
   },
   "outputs": [],
   "source": [
    "## recs for cold users\n",
    "\n",
    "# самые популярные товары\n",
    "item_pop_matrix = pd.DataFrame([])\n",
    "item_pop_matrix['item_id'] = new_item_mapper.keys()\n",
    "item_pop_matrix['cnt_not_null'] = (matrix.T > 0).sum(axis=1)\n",
    "\n",
    "# среднее по товарам\n",
    "(x,y,z) = scipy.sparse.find(matrix)\n",
    "countings = np.bincount(y)\n",
    "sums = np.bincount(y, weights=z)\n",
    "averages = sums/countings\n",
    "\n",
    "item_pop_matrix['item_means'] = averages\n",
    "\n",
    "top10_items = item_pop_matrix[item_pop_matrix['cnt_not_null'] > best_params['n_item_count']]\\\n",
    ".sort_values('item_means', ascending=False).head(10)['item_id'].values\n",
    "\n",
    "result2 = pd.DataFrame(cold_users, columns=['user_id'])\n",
    "items = [x for x in top10_items]*result2.shape[0]\n",
    "result2 = result2.loc[result2.index.repeat(10)]\n",
    "result2['primary_video_id'] = items"
   ]
  },
  {
   "cell_type": "code",
   "execution_count": 62,
   "metadata": {
    "ExecuteTime": {
     "end_time": "2020-06-24T17:14:20.267182Z",
     "start_time": "2020-06-24T17:14:20.011764Z"
    }
   },
   "outputs": [],
   "source": [
    "# join\n",
    "finalDF = result1.append(result2).reset_index(drop=True)\n",
    "finalDF = finalDF[finalDF['user_id'].isin(test['user_id'].unique())].reset_index(drop=True)"
   ]
  },
  {
   "cell_type": "code",
   "execution_count": 63,
   "metadata": {
    "ExecuteTime": {
     "end_time": "2020-06-24T17:14:44.613499Z",
     "start_time": "2020-06-24T17:14:20.269254Z"
    }
   },
   "outputs": [],
   "source": [
    "finalDF = finalDF[['user_id', 'primary_video_id']]\n",
    "result = finalDF.groupby('user_id')['primary_video_id'].apply(list).reset_index()\n",
    "result['primary_video_id'] = result['primary_video_id'].apply(lambda x: ' '.join([str(a) for a in x]))"
   ]
  },
  {
   "cell_type": "code",
   "execution_count": 64,
   "metadata": {
    "ExecuteTime": {
     "end_time": "2020-06-24T17:14:44.738086Z",
     "start_time": "2020-06-24T17:14:44.615958Z"
    }
   },
   "outputs": [
    {
     "name": "stdout",
     "output_type": "stream",
     "text": [
      "[101615009, 48046089, 63958124, 36271950, 97501040, 83920689, 122937333, 60276693, 38025751, 69072088, 9015609, 100913946]\n"
     ]
    }
   ],
   "source": [
    "left_users = list(set(test.user_id.unique())-set(finalDF.user_id.unique()))\n",
    "print(left_users)"
   ]
  },
  {
   "cell_type": "code",
   "execution_count": 65,
   "metadata": {
    "ExecuteTime": {
     "end_time": "2020-06-24T17:14:44.744594Z",
     "start_time": "2020-06-24T17:14:44.739922Z"
    }
   },
   "outputs": [],
   "source": [
    "result2 = pd.DataFrame(left_users, columns=['user_id'])\n",
    "result2['primary_video_id'] = ' '.join([str(x) for x in top10_items])"
   ]
  },
  {
   "cell_type": "code",
   "execution_count": 66,
   "metadata": {
    "ExecuteTime": {
     "end_time": "2020-06-25T07:59:47.713590Z",
     "start_time": "2020-06-25T07:59:47.699909Z"
    }
   },
   "outputs": [],
   "source": [
    "result = result.append(result2)#.reset_index(drop=True)"
   ]
  },
  {
   "cell_type": "code",
   "execution_count": 67,
   "metadata": {
    "ExecuteTime": {
     "end_time": "2020-06-25T07:59:52.173779Z",
     "start_time": "2020-06-25T07:59:51.645724Z"
    }
   },
   "outputs": [],
   "source": [
    "result.to_csv('/data/agoryach/datagym-recsys-01/big-hw-02/output/submission_9.csv', index=False)"
   ]
  },
  {
   "cell_type": "code",
   "execution_count": null,
   "metadata": {},
   "outputs": [],
   "source": []
  },
  {
   "cell_type": "code",
   "execution_count": null,
   "metadata": {},
   "outputs": [],
   "source": []
  }
 ],
 "metadata": {
  "kernelspec": {
   "display_name": "Python 3.6",
   "language": "python36",
   "name": "python3.6"
  },
  "language_info": {
   "codemirror_mode": {
    "name": "ipython",
    "version": 3
   },
   "file_extension": ".py",
   "mimetype": "text/x-python",
   "name": "python",
   "nbconvert_exporter": "python",
   "pygments_lexer": "ipython3",
   "version": "3.6.8"
  },
  "toc": {
   "base_numbering": 1,
   "nav_menu": {},
   "number_sections": true,
   "sideBar": true,
   "skip_h1_title": false,
   "title_cell": "Table of Contents",
   "title_sidebar": "Contents",
   "toc_cell": false,
   "toc_position": {},
   "toc_section_display": true,
   "toc_window_display": false
  }
 },
 "nbformat": 4,
 "nbformat_minor": 2
}
