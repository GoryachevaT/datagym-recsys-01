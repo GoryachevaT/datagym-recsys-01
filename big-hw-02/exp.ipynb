{
 "cells": [
  {
   "cell_type": "code",
   "execution_count": 1,
   "metadata": {
    "ExecuteTime": {
     "end_time": "2020-06-01T18:35:16.220563Z",
     "start_time": "2020-06-01T18:35:14.061613Z"
    }
   },
   "outputs": [],
   "source": [
    "import pandas as pd\n",
    "import numpy as np\n",
    "from scipy.sparse import coo_matrix\n",
    "\n",
    "from scipy.sparse.linalg import svds\n",
    "from numpy.linalg import svd\n",
    "from scipy.sparse import csr_matrix\n",
    "import time"
   ]
  },
  {
   "cell_type": "markdown",
   "metadata": {},
   "source": [
    "## submit 0"
   ]
  },
  {
   "cell_type": "markdown",
   "metadata": {},
   "source": [
    "### base matrix"
   ]
  },
  {
   "cell_type": "code",
   "execution_count": 2,
   "metadata": {
    "ExecuteTime": {
     "end_time": "2020-06-01T18:35:57.671330Z",
     "start_time": "2020-06-01T18:35:42.311324Z"
    }
   },
   "outputs": [],
   "source": [
    "train = pd.read_csv('/data/agoryach/datagym-recsys-01/big-hw-02/input/train_data_full.csv')"
   ]
  },
  {
   "cell_type": "code",
   "execution_count": 3,
   "metadata": {
    "ExecuteTime": {
     "end_time": "2020-06-01T18:36:00.497042Z",
     "start_time": "2020-06-01T18:36:00.254424Z"
    }
   },
   "outputs": [
    {
     "data": {
      "text/plain": [
       "(407381, 5266)"
      ]
     },
     "execution_count": 3,
     "metadata": {},
     "output_type": "execute_result"
    }
   ],
   "source": [
    "train.user_id.nunique(), train.primary_video_id.nunique()"
   ]
  },
  {
   "cell_type": "code",
   "execution_count": 4,
   "metadata": {
    "ExecuteTime": {
     "end_time": "2020-06-01T18:36:09.975633Z",
     "start_time": "2020-06-01T18:36:04.969971Z"
    }
   },
   "outputs": [],
   "source": [
    "aggr1 = {\n",
    "    'session_duration': 'max', \n",
    "    'video_duration': 'max'\n",
    "}\n",
    "\n",
    "train_s = train.groupby(['user_id', 'primary_video_id'])\\\n",
    "               .agg(aggr1).reset_index().reset_index()\n",
    "\n",
    "train_s['session_duration_clean'] = train_s[['session_duration', 'video_duration']].min(axis=1)\n",
    "train_s['watching_percentage'] = train_s['session_duration_clean']/train_s['video_duration']\n",
    "train_s = train_s[['user_id', 'primary_video_id', 'watching_percentage']]"
   ]
  },
  {
   "cell_type": "code",
   "execution_count": 5,
   "metadata": {
    "ExecuteTime": {
     "end_time": "2020-06-01T18:36:11.415310Z",
     "start_time": "2020-06-01T18:36:09.978279Z"
    }
   },
   "outputs": [],
   "source": [
    "by_user = train_s[['user_id', 'primary_video_id']].groupby('user_id').count().reset_index()\n",
    "freq_users = by_user[by_user['primary_video_id']>10].user_id.unique()\n",
    "\n",
    "by_item = train_s[['user_id', 'primary_video_id']].groupby('primary_video_id').count().reset_index()\n",
    "freq_items = by_item[by_item['user_id'] > 10].primary_video_id.unique()\n",
    "\n",
    "train_ss = train_s[(train_s['user_id'].isin(freq_users))&\n",
    "                   (train_s['primary_video_id'].isin(freq_items))]"
   ]
  },
  {
   "cell_type": "code",
   "execution_count": 6,
   "metadata": {
    "ExecuteTime": {
     "end_time": "2020-06-01T18:36:11.456525Z",
     "start_time": "2020-06-01T18:36:11.417987Z"
    }
   },
   "outputs": [],
   "source": [
    "def create_utility_matrix(data, formatizer={'user': 0, 'item': 1, 'value': 2}):\n",
    "    '''\n",
    "        функция создания матрицы\n",
    "    '''\n",
    "    itemField = formatizer['item'] \n",
    "    userField = formatizer['user']\n",
    "    valueField = formatizer['value']\n",
    "    userList = data.iloc[:, userField].tolist()\n",
    "    itemList = data.iloc[:, itemField].tolist()\n",
    "    valueList = data.iloc[:, valueField].tolist()\n",
    "    users = list(set(data.iloc[:, userField]))\n",
    "    items = list(set(data.iloc[:, itemField]))\n",
    "    users_index = {users[i]: i for i in range(len(users))}\n",
    "    pd_dict = {item: [np.nan for i in range(len(users))] for item in items}\n",
    "    for i in range(0, len(data)):\n",
    "        item = itemList[i]\n",
    "        user = userList[i]\n",
    "        value = valueList[i]\n",
    "        pd_dict[item][users_index[user]] = value\n",
    "    X = pd.DataFrame(pd_dict)\n",
    "    X.index = users\n",
    "    itemcols = list(X.columns)\n",
    "    items_index = {itemcols[i]: i for i in range(len(itemcols))}\n",
    "    return X, users_index, items_index"
   ]
  },
  {
   "cell_type": "code",
   "execution_count": 7,
   "metadata": {
    "ExecuteTime": {
     "end_time": "2020-06-01T18:38:16.784386Z",
     "start_time": "2020-06-01T18:36:12.181192Z"
    }
   },
   "outputs": [
    {
     "name": "stdout",
     "output_type": "stream",
     "text": [
      "CPU times: user 1min 56s, sys: 7.75 s, total: 2min 4s\n",
      "Wall time: 2min 4s\n"
     ]
    }
   ],
   "source": [
    "%%time\n",
    "utilMat_r, users_index, items_index = create_utility_matrix(train_ss)"
   ]
  },
  {
   "cell_type": "code",
   "execution_count": 10,
   "metadata": {
    "ExecuteTime": {
     "end_time": "2020-06-01T18:39:48.950568Z",
     "start_time": "2020-06-01T18:39:48.945400Z"
    }
   },
   "outputs": [
    {
     "ename": "SyntaxError",
     "evalue": "invalid syntax (<ipython-input-10-b45acef102be>, line 1)",
     "output_type": "error",
     "traceback": [
      "\u001b[0;36m  File \u001b[0;32m\"<ipython-input-10-b45acef102be>\"\u001b[0;36m, line \u001b[0;32m1\u001b[0m\n\u001b[0;31m    print(f'start {time.ctime()}')\u001b[0m\n\u001b[0m                                ^\u001b[0m\n\u001b[0;31mSyntaxError\u001b[0m\u001b[0;31m:\u001b[0m invalid syntax\n"
     ]
    }
   ],
   "source": [
    "print(f'start {time.ctime()}')"
   ]
  },
  {
   "cell_type": "code",
   "execution_count": 9,
   "metadata": {
    "ExecuteTime": {
     "end_time": "2020-06-01T18:39:22.709211Z",
     "start_time": "2020-06-01T18:39:22.643121Z"
    }
   },
   "outputs": [
    {
     "ename": "SyntaxError",
     "evalue": "invalid syntax (<ipython-input-9-3061682836c2>, line 5)",
     "output_type": "error",
     "traceback": [
      "\u001b[0;36m  File \u001b[0;32m\"<ipython-input-9-3061682836c2>\"\u001b[0;36m, line \u001b[0;32m5\u001b[0m\n\u001b[0;31m    print(f'start {time.ctime()}')\u001b[0m\n\u001b[0m                                ^\u001b[0m\n\u001b[0;31mSyntaxError\u001b[0m\u001b[0;31m:\u001b[0m invalid syntax\n"
     ]
    }
   ],
   "source": [
    "def svd_fillna_shift_norm(train, k):\n",
    "    '''\n",
    "        svd с нормировкой + заполнениями и сдвигом\n",
    "    '''\n",
    "    \n",
    "    print(f'start {time.ctime()}')\n",
    "    utilMat = train.copy()\n",
    "    # маска из нанов\n",
    "    mask = np.isnan(utilMat)\n",
    "    masked_arr = np.ma.masked_array(utilMat, mask)\n",
    "    item_means = np.mean(masked_arr, axis=0)\n",
    "    print(f'done mask {time.ctime()}')\n",
    "    # замена средним для нанов\n",
    "    utilMat = masked_arr.filled(item_means)\n",
    "    x = np.tile(item_means, (utilMat.shape[0], 1))\n",
    "    print(f'done fillna {time.ctime()}')\n",
    "    # вычитание\n",
    "    utilMat = utilMat - x\n",
    "    total_mean = np.mean(utilMat)\n",
    "    col_means = np.mean(utilMat, axis=0) - total_mean\n",
    "    row_means = np.mean(utilMat, axis=1) - total_mean\n",
    "    utilMat = utilMat - row_means[:, np.newaxis] - col_means - total_mean\n",
    "    print(f'done centering {time.ctime()}')\n",
    "    row_norms = np.sqrt(np.sum(utilMat*utilMat, axis=1))[:, np.newaxis]\n",
    "    col_norms = np.sqrt(np.sum(utilMat*utilMat, axis=0))[np.newaxis, :]\n",
    "    utilMat = utilMat / np.sqrt(row_norms) / np.sqrt(col_norms)\n",
    "    print(f'done norm {time.ctime()}')\n",
    "    U, s, V = np.linalg.svd(utilMat, full_matrices=False)\n",
    "    print(f'done svd {time.ctime()}')\n",
    "    s = np.diag(s)\n",
    "    s = s[0:k, 0:k]\n",
    "    U = U[:, 0:k]\n",
    "    V = V[0:k, :]\n",
    "    s_root = np.sqrt(s)\n",
    "    Usk = np.dot(U, s_root)\n",
    "    skV = np.dot(s_root, V)\n",
    "    UsV = np.dot(Usk, skV)\n",
    "    print(f'done dot {time.ctime()}')\n",
    "    # восстановление\n",
    "    UsV = UsV * np.sqrt(row_norms) * np.sqrt(col_norms)\n",
    "    UsV = UsV + row_means[:, np.newaxis] + col_means + total_mean\n",
    "    UsV = UsV + x\n",
    "    print(f'done recover {time.ctime()}')\n",
    "    return UsV"
   ]
  },
  {
   "cell_type": "code",
   "execution_count": null,
   "metadata": {
    "ExecuteTime": {
     "end_time": "2020-06-01T18:38:16.850569Z",
     "start_time": "2020-06-01T18:36:29.377Z"
    }
   },
   "outputs": [],
   "source": [
    "%%time\n",
    "#svdout = svd_fillna_shift_norm(utilMat, k=10)\n",
    "UsV = svd_fillna_shift_norm(utilMat, k=10)"
   ]
  },
  {
   "cell_type": "code",
   "execution_count": null,
   "metadata": {
    "ExecuteTime": {
     "end_time": "2020-06-01T18:38:16.851750Z",
     "start_time": "2020-06-01T18:36:31.694Z"
    }
   },
   "outputs": [],
   "source": [
    "UsV.dump(\"input/UsV_baseline.dat\")"
   ]
  },
  {
   "cell_type": "markdown",
   "metadata": {},
   "source": [
    "### cold start"
   ]
  },
  {
   "cell_type": "code",
   "execution_count": null,
   "metadata": {},
   "outputs": [],
   "source": [
    "test = pd.read_csv('input/sample_submission_full.csv')"
   ]
  },
  {
   "cell_type": "code",
   "execution_count": null,
   "metadata": {},
   "outputs": [],
   "source": [
    "# get top 10 for hot users\n",
    "# заполнить 0 те айтемы, с котооорыми юзер уже взаимодействовал\n",
    "idx = np.argpartition(A, -10)\n",
    "# ranked = np.argsort(UsV)\n",
    "# UsV_s = ranked[::-1]\n"
   ]
  },
  {
   "cell_type": "code",
   "execution_count": null,
   "metadata": {},
   "outputs": [],
   "source": [
    "cold_users = [x for x in test['user_id'].unique() if x not in users_index.keys()]"
   ]
  },
  {
   "cell_type": "code",
   "execution_count": null,
   "metadata": {},
   "outputs": [],
   "source": [
    "item_pop_matrix = pd.DataFrame([])\n",
    "item_pop_matrix['item'] = items_index.keys()\n",
    "item_pop_matrix['cnt_not_null'] = (utilMat.T > 0).sum(axis=1)\n",
    "\n",
    "# среднее по товарам\n",
    "mask = np.isnan(utilMat.T)\n",
    "masked_arr = np.ma.masked_array(utilMat.T, mask)\n",
    "item_means = np.mean(masked_arr.T, axis=1)\n",
    "\n",
    "item_pop_matrix['item_means'] = item_means"
   ]
  },
  {
   "cell_type": "code",
   "execution_count": null,
   "metadata": {},
   "outputs": [],
   "source": [
    "item_pop_matrix.cnt_not_null.hist()"
   ]
  },
  {
   "cell_type": "code",
   "execution_count": null,
   "metadata": {},
   "outputs": [],
   "source": [
    "item_pop_matrix.item_means.hist()"
   ]
  },
  {
   "cell_type": "code",
   "execution_count": null,
   "metadata": {},
   "outputs": [],
   "source": []
  },
  {
   "cell_type": "code",
   "execution_count": null,
   "metadata": {},
   "outputs": [],
   "source": []
  },
  {
   "cell_type": "code",
   "execution_count": null,
   "metadata": {},
   "outputs": [],
   "source": []
  },
  {
   "cell_type": "code",
   "execution_count": null,
   "metadata": {},
   "outputs": [],
   "source": []
  },
  {
   "cell_type": "code",
   "execution_count": null,
   "metadata": {},
   "outputs": [],
   "source": [
    "# сделать функцию map k\n",
    "# cross val params:\n",
    "# - svd k\n",
    "# mean by user/item"
   ]
  },
  {
   "cell_type": "code",
   "execution_count": 13,
   "metadata": {},
   "outputs": [],
   "source": [
    "# train_pivot = train_ss[['user_id', 'primary_video_id', 'watching_percentage']]\\\n",
    "#                     .pivot_table(values='watching_percentage',\n",
    "#                                  index='user_id',\n",
    "#                                  columns='primary_video_id')"
   ]
  },
  {
   "cell_type": "code",
   "execution_count": 17,
   "metadata": {},
   "outputs": [
    {
     "data": {
      "text/plain": [
       "(121336, 5199)"
      ]
     },
     "execution_count": 17,
     "metadata": {},
     "output_type": "execute_result"
    }
   ],
   "source": [
    "train_pivot.shape"
   ]
  },
  {
   "cell_type": "code",
   "execution_count": null,
   "metadata": {},
   "outputs": [],
   "source": []
  },
  {
   "cell_type": "code",
   "execution_count": null,
   "metadata": {},
   "outputs": [],
   "source": [
    "U, s, Vt = svd(train_pivot)"
   ]
  },
  {
   "cell_type": "code",
   "execution_count": null,
   "metadata": {},
   "outputs": [],
   "source": [
    "svd_res = np.dot(np.dot(U, np.diag(s)), Vt)"
   ]
  },
  {
   "cell_type": "code",
   "execution_count": null,
   "metadata": {},
   "outputs": [],
   "source": [
    "s"
   ]
  },
  {
   "cell_type": "code",
   "execution_count": null,
   "metadata": {},
   "outputs": [],
   "source": [
    "sum(sum(svd_res))"
   ]
  },
  {
   "cell_type": "code",
   "execution_count": null,
   "metadata": {},
   "outputs": [],
   "source": []
  },
  {
   "cell_type": "code",
   "execution_count": 11,
   "metadata": {},
   "outputs": [
    {
     "data": {
      "text/plain": [
       "(407381, 5266, (407381, 5266))"
      ]
     },
     "execution_count": 11,
     "metadata": {},
     "output_type": "execute_result"
    }
   ],
   "source": [
    "user_mapper = {k:v for v, k in dict(enumerate(train_s.user_id.unique())).items()}\n",
    "item_mapper = {k:v for v, k in dict(enumerate(train_s.primary_video_id.unique())).items()}\n",
    "\n",
    "train_s['user_num'] = train_s['user_id'].map(user_mapper)\n",
    "train_s['item_num'] = train_s['primary_video_id'].map(item_mapper)\n",
    "\n",
    "row  = train_s['user_num'].values\n",
    "col  = train_s['item_num'].values\n",
    "data = train_s['watching_percentage'].values\n",
    "matrix = csr_matrix(coo_matrix((data, (row, col)), shape=(len(user_mapper), len(item_mapper))))\n",
    "\n",
    "train.user_id.nunique(), train.primary_video_id.nunique(), matrix.shape"
   ]
  },
  {
   "cell_type": "code",
   "execution_count": 117,
   "metadata": {},
   "outputs": [],
   "source": [
    "matrix_d = pd.DataFrame(matrix.todense())\n",
    "matrix_d.replace(0, np.nan, inplace=True)"
   ]
  },
  {
   "cell_type": "code",
   "execution_count": null,
   "metadata": {},
   "outputs": [],
   "source": [
    "matrix_d.replace(0, np.nan, inplace=True)"
   ]
  },
  {
   "cell_type": "code",
   "execution_count": null,
   "metadata": {},
   "outputs": [],
   "source": [
    "matrix_d.fillna()"
   ]
  },
  {
   "cell_type": "code",
   "execution_count": 109,
   "metadata": {},
   "outputs": [],
   "source": [
    "U, s, Vt = svds(matrix)"
   ]
  },
  {
   "cell_type": "code",
   "execution_count": 115,
   "metadata": {
    "scrolled": true
   },
   "outputs": [
    {
     "data": {
      "text/plain": [
       "(6, 5266)"
      ]
     },
     "execution_count": 115,
     "metadata": {},
     "output_type": "execute_result"
    }
   ],
   "source": [
    "Vt.shape"
   ]
  },
  {
   "cell_type": "code",
   "execution_count": 110,
   "metadata": {},
   "outputs": [],
   "source": [
    "svd_res = np.dot(np.dot(U, np.diag(s)), Vt)"
   ]
  },
  {
   "cell_type": "code",
   "execution_count": 102,
   "metadata": {},
   "outputs": [
    {
     "data": {
      "text/plain": [
       "0.0"
      ]
     },
     "execution_count": 102,
     "metadata": {},
     "output_type": "execute_result"
    }
   ],
   "source": [
    "sum(sum(svd_res))"
   ]
  },
  {
   "cell_type": "code",
   "execution_count": null,
   "metadata": {},
   "outputs": [],
   "source": []
  }
 ],
 "metadata": {
  "kernelspec": {
   "display_name": "Python 3",
   "language": "python",
   "name": "python3"
  },
  "language_info": {
   "codemirror_mode": {
    "name": "ipython",
    "version": 3
   },
   "file_extension": ".py",
   "mimetype": "text/x-python",
   "name": "python",
   "nbconvert_exporter": "python",
   "pygments_lexer": "ipython3",
   "version": "3.4.10"
  },
  "toc": {
   "base_numbering": 1,
   "nav_menu": {},
   "number_sections": true,
   "sideBar": true,
   "skip_h1_title": false,
   "title_cell": "Table of Contents",
   "title_sidebar": "Contents",
   "toc_cell": false,
   "toc_position": {},
   "toc_section_display": true,
   "toc_window_display": false
  }
 },
 "nbformat": 4,
 "nbformat_minor": 2
}
