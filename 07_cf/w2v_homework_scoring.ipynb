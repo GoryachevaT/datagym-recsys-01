{
 "cells": [
  {
   "cell_type": "code",
   "execution_count": 1,
   "metadata": {},
   "outputs": [],
   "source": [
    "from gensim.models import word2vec\n",
    "import multiprocessing\n",
    "from tqdm import tqdm\n",
    "import pandas as pd\n",
    "import numpy as np\n",
    "import multiprocessing\n",
    "from joblib import Parallel, delayed\n",
    "from multiprocessing import Pool, cpu_count\n",
    "import dask.dataframe as dd\n",
    "from dask.distributed import LocalCluster, Client\n",
    "import csv\n",
    "import pandarallel\n",
    "import gc"
   ]
  },
  {
   "cell_type": "markdown",
   "metadata": {},
   "source": [
    "### Исходный датасет\n",
    "\n",
    "2 файла:\n",
    "- data/user_item_interaction.csv колонки: user, item (song_id)\n",
    "- data/track_meta_processed.tsv колонки song_id, song_name, band, band_preprocessed, band_id\n",
    "\n",
    "Для обучения word2vec модели рекомендуется использовать band_preprocessed, там содержатся нормализованные названия исполнителей, так с моделью будет проще работать.\n",
    "\n",
    "Чтобы обучить модель, на вход ей нужно подать файл в формате:\n",
    "- один пользователь одна строка\n",
    "- song_id расположены в хронологическом порядке (генератор их сам подменит на нормализованное название) и разделены табуляцией ('\\t')\n",
    "\n",
    "data/song_lists_preprocessed_small.txt - пример, как будет выглядет итоговый файл, на котором можно обучить модель, на нем можно попробовать обучить модель уже сейчас, он содержет лишь 50000 пользователей, после выполнения домашнего задания у вас будет аналогичный файл с 900000 пользователей и качество модели станет заметно лучше"
   ]
  },
  {
   "cell_type": "markdown",
   "metadata": {},
   "source": [
    "### В качестве домашнего задания нужно будет написать функцию для преобразование датасета:\n",
    "- когда весь датасет помещается в памяти компьютера\n",
    "- когда датасет не помещается в памяти (скажем у вас есть 500МБ оперативной памяти)\n",
    "\n",
    "Последовательность айтемов должна быть сохранена, последовательность пользовательских строк в файле не важна.\n",
    "\n",
    "Метрика: время преобразования (чем быстрее, тем лучше)\n",
    "Для честности все варианты мы отскорим на одинаковых мощностях."
   ]
  },
  {
   "cell_type": "code",
   "execution_count": 2,
   "metadata": {},
   "outputs": [],
   "source": [
    "input_path = 'data/user_item_interaction.csv'\n",
    "output_path = 'data/song_lists_preprocessed_tmp.txt'\n",
    "\n",
    "meta_path = 'data/track_meta_processed.tsv'\n",
    "\n",
    "w2v_dataset_path = 'data/song_lists_preprocessed_small.txt'\n",
    "\n",
    "item_type = 'track_id'"
   ]
  },
  {
   "cell_type": "markdown",
   "metadata": {},
   "source": [
    "### aashink"
   ]
  },
  {
   "cell_type": "code",
   "execution_count": 11,
   "metadata": {},
   "outputs": [
    {
     "name": "stdout",
     "output_type": "stream",
     "text": [
      "CPU times: user 1min 2s, sys: 1.11 s, total: 1min 3s\n",
      "Wall time: 1min 4s\n"
     ]
    }
   ],
   "source": [
    "%%time\n",
    "with open(input_path, newline='\\n') as read_file:\n",
    "    file = csv.reader(read_file, delimiter=',')\n",
    "    with open(output_path, 'w') as file_write:\n",
    "        header = next(file)\n",
    "        first_row = next(file)\n",
    "        user, items_list = first_row[0], [first_row[1]]\n",
    "        for row in file:\n",
    "            user_new = row[0]\n",
    "            if user_new == user:\n",
    "                items_list.append(row[1])\n",
    "                user = user_new\n",
    "            else:\n",
    "                file_write.write('{}\\n'.format('\\t'.join(items_list)))\n",
    "                items_list = [row[1]]\n",
    "                user = user_new"
   ]
  },
  {
   "cell_type": "markdown",
   "metadata": {},
   "source": [
    "### andreytyu"
   ]
  },
  {
   "cell_type": "code",
   "execution_count": 9,
   "metadata": {},
   "outputs": [],
   "source": [
    "def transform_w2v(input_path='data/user_item_interaction.csv',\n",
    "                  output_path='output.txt',\n",
    "                 first_user_id='0'):\n",
    "    '''\n",
    "    Transforms data with vanilla python, cause libraries are overrated\n",
    "    '''\n",
    "    previous_user = first_user_id\n",
    "    \n",
    "    with open(input_path) as file_in, open(output_path, mode='w') as file_out:\n",
    "        \n",
    "            #skip header\n",
    "            next(file_in)\n",
    "            \n",
    "            #ugly way to treat first row\n",
    "            user,item = next(file_in)[:-1].split(',')\n",
    "            file_out.write(item)\n",
    "            \n",
    "            for line in file_in:\n",
    "                \n",
    "                user,item = line[:-1].split(',')\n",
    "                \n",
    "                if user == previous_user:\n",
    "                    file_out.write('\\t'+item)\n",
    "                else:\n",
    "                    file_out.write('\\n'+item)\n",
    "                    previous_user = user"
   ]
  },
  {
   "cell_type": "code",
   "execution_count": 10,
   "metadata": {},
   "outputs": [
    {
     "name": "stdout",
     "output_type": "stream",
     "text": [
      "CPU times: user 53.7 s, sys: 1.16 s, total: 54.8 s\n",
      "Wall time: 55.1 s\n"
     ]
    }
   ],
   "source": [
    "%%time\n",
    "transform_w2v(input_path, output_path)"
   ]
  },
  {
   "cell_type": "markdown",
   "metadata": {},
   "source": [
    "### andkhol"
   ]
  },
  {
   "cell_type": "code",
   "execution_count": 66,
   "metadata": {},
   "outputs": [],
   "source": [
    "def file_transform(input_file=input_path,\n",
    "                   output_file=output_path,\n",
    "                   chunksize=None):\n",
    "    \"\"\"\n",
    "    1. Преобразование входного файла input_file, колонки: user, item (band_id)\n",
    "    в файл output_file в формате: один пользователь - одна строка,\n",
    "    band_id расположены в хронологическом порядке и разделены табуляцией;\n",
    "    2. chunksize - указывается размер chunk'а в случае обработки больших файлов;\n",
    "    3. Последовательность пользовательских строк в выходном файле может не соблюдаться.\n",
    "    \"\"\"\n",
    "\n",
    "    if chunksize == None:\n",
    "        pd.read_csv(input_file,\n",
    "                    dtype={\n",
    "                        'user': np.uint32,\n",
    "                        'item': str\n",
    "                    },\n",
    "                    low_memory=False).groupby('user')['item'].apply(\n",
    "                        lambda x: '\\t'.join(x)).to_csv(output_file,\n",
    "                                                       index=False,\n",
    "                                                       sep='\\n',\n",
    "                                                       mode='w',\n",
    "                                                       header=False)\n",
    "    else:\n",
    "        last_user = -1\n",
    "        no_first = False\n",
    "\n",
    "        with open(output_file, 'w') as f:\n",
    "            for chunk in pd.read_csv(input_file,\n",
    "                                     dtype={\n",
    "                                         'user': np.uint32,\n",
    "                                         'item': str\n",
    "                                     },\n",
    "                                     low_memory=False,\n",
    "                                     chunksize=chunksize):\n",
    "\n",
    "                user_unique = chunk['user'].unique()\n",
    "\n",
    "                if no_first:\n",
    "                    if user_unique[0] == last_user:\n",
    "                        f.write('\\t')\n",
    "                    else:\n",
    "                        f.write('\\n')\n",
    "\n",
    "                f.write('\\n'.join(\n",
    "                    chunk.groupby('user')['item'].apply(\n",
    "                        lambda x: '\\t'.join(x))))\n",
    "\n",
    "                last_user = user_unique[-1]\n",
    "                no_first = True\n",
    "\n",
    "    return None"
   ]
  },
  {
   "cell_type": "code",
   "execution_count": 16,
   "metadata": {},
   "outputs": [
    {
     "name": "stdout",
     "output_type": "stream",
     "text": [
      "CPU times: user 2min 33s, sys: 10.5 s, total: 2min 43s\n",
      "Wall time: 2min 45s\n"
     ]
    }
   ],
   "source": [
    "%%time\n",
    "\n",
    "file_transform(input_path)"
   ]
  },
  {
   "cell_type": "code",
   "execution_count": 67,
   "metadata": {},
   "outputs": [
    {
     "name": "stdout",
     "output_type": "stream",
     "text": [
      "CPU times: user 2min 15s, sys: 11.6 s, total: 2min 27s\n",
      "Wall time: 2min 27s\n"
     ]
    }
   ],
   "source": [
    "%%time\n",
    "\n",
    "file_transform(input_path, chunksize=20000)"
   ]
  },
  {
   "cell_type": "markdown",
   "metadata": {},
   "source": [
    "### AzurTheOwl"
   ]
  },
  {
   "cell_type": "code",
   "execution_count": 30,
   "metadata": {},
   "outputs": [
    {
     "name": "stdout",
     "output_type": "stream",
     "text": [
      "CPU times: user 1min 3s, sys: 9.04 s, total: 1min 12s\n",
      "Wall time: 1min 15s\n"
     ]
    }
   ],
   "source": [
    "%%time\n",
    "\n",
    "df = pd.read_csv(\n",
    "    input_path,\n",
    "    dtype={'user': np.int64, 'item': np.str},\n",
    ")\n",
    "df.groupby('user')['item'].agg('\\t'.join).to_csv(output_path, index=False, header=False)"
   ]
  },
  {
   "cell_type": "code",
   "execution_count": 68,
   "metadata": {},
   "outputs": [
    {
     "data": {
      "text/html": [
       "<table style=\"border: 2px solid white;\">\n",
       "<tr>\n",
       "<td style=\"vertical-align: top; border: 0px solid white\">\n",
       "<h3 style=\"text-align: left;\">Client</h3>\n",
       "<ul style=\"text-align: left; list-style: none; margin: 0; padding: 0;\">\n",
       "  <li><b>Scheduler: </b>tcp://127.0.0.1:60931</li>\n",
       "  <li><b>Dashboard: </b><a href='http://127.0.0.1:8787/status' target='_blank'>http://127.0.0.1:8787/status</a></li>\n",
       "</ul>\n",
       "</td>\n",
       "<td style=\"vertical-align: top; border: 0px solid white\">\n",
       "<h3 style=\"text-align: left;\">Cluster</h3>\n",
       "<ul style=\"text-align: left; list-style:none; margin: 0; padding: 0;\">\n",
       "  <li><b>Workers: </b>1</li>\n",
       "  <li><b>Cores: </b>1</li>\n",
       "  <li><b>Memory: </b>512.00 MB</li>\n",
       "</ul>\n",
       "</td>\n",
       "</tr>\n",
       "</table>"
      ],
      "text/plain": [
       "<Client: 'tcp://127.0.0.1:60931' processes=1 threads=1, memory=512.00 MB>"
      ]
     },
     "execution_count": 68,
     "metadata": {},
     "output_type": "execute_result"
    }
   ],
   "source": [
    "import dask\n",
    "import dask.distributed\n",
    "from dask.distributed import Client, LocalCluster\n",
    "import dask.dataframe as dd\n",
    "import numpy as np\n",
    "\n",
    "dask.config.set({'distributed.worker.memory.terminate': False})\n",
    "dask.config.get('distributed.worker.memory')\n",
    "\n",
    "cluster = LocalCluster(\n",
    "    n_workers=1, \n",
    "    threads_per_worker=1,\n",
    "    memory_limit='512MB'\n",
    ")\n",
    "client = Client(cluster)\n",
    "\n",
    "\n",
    "client"
   ]
  },
  {
   "cell_type": "code",
   "execution_count": 69,
   "metadata": {},
   "outputs": [
    {
     "name": "stdout",
     "output_type": "stream",
     "text": [
      "CPU times: user 8.88 s, sys: 8.8 s, total: 17.7 s\n",
      "Wall time: 2min 10s\n"
     ]
    },
    {
     "data": {
      "text/plain": [
       "['/Users/da/PycharmProjects/datagym_recsys/w2v/w2v_homework/data/song_lists_preprocessed_tmp.txt']"
      ]
     },
     "execution_count": 69,
     "metadata": {},
     "output_type": "execute_result"
    }
   ],
   "source": [
    "%%time\n",
    "df = dd.read_csv(\n",
    "    input_path,\n",
    "    blocksize='25MB',\n",
    "    dtype={'user': np.int64, 'item': np.str}\n",
    ")\n",
    "\n",
    "join_str = dd.Aggregation('join_str', lambda x0: x0.agg(\"\\t\".join), lambda x0: x0.agg(\"\\t\".join))\n",
    "agg_fn = {'item': join_str}\n",
    "\n",
    "df = df.groupby('user').agg(agg_fn)\n",
    "\n",
    "df.to_csv(\n",
    "    output_path,\n",
    "    index=False,\n",
    "    header=False,\n",
    "    single_file=True\n",
    ")"
   ]
  },
  {
   "cell_type": "code",
   "execution_count": 70,
   "metadata": {},
   "outputs": [],
   "source": [
    "client.close()\n",
    "cluster.close()"
   ]
  },
  {
   "cell_type": "markdown",
   "metadata": {},
   "source": [
    "### BegunovNA"
   ]
  },
  {
   "cell_type": "code",
   "execution_count": 13,
   "metadata": {},
   "outputs": [],
   "source": [
    "def f(list_of_dfs):\n",
    "    return ('\\t'.join(str(s.item) for s in list_of_dfs.itertuples()) + '\\n')\n",
    "\n",
    "def applyParallel(dfGroup, func):\n",
    "    Lst_res = Parallel(n_jobs = multiprocessing.cpu_count())(delayed(func)(group) for name, group in dfGroup)\n",
    "    return Lst_res"
   ]
  },
  {
   "cell_type": "code",
   "execution_count": 14,
   "metadata": {},
   "outputs": [
    {
     "name": "stdout",
     "output_type": "stream",
     "text": [
      "CPU times: user 7min 45s, sys: 21.6 s, total: 8min 7s\n",
      "Wall time: 8min 9s\n"
     ]
    }
   ],
   "source": [
    "%%time\n",
    "\n",
    "df_res = pd.DataFrame()\n",
    "df = pd.read_csv(input_path)\n",
    "patients_table_raw = applyParallel(df.groupby('user'), f)\n",
    "df_res['item'] = patients_table_raw\n",
    "\n",
    "df_res['item'].apply(lambda s: s[:-1]).to_csv(output_path, header=None, index=False)"
   ]
  },
  {
   "cell_type": "code",
   "execution_count": 71,
   "metadata": {},
   "outputs": [],
   "source": [
    "def f2(list_of_dfs):\n",
    "    return ('\\t'.join(str(s.item) for s in list_of_dfs.itertuples()))"
   ]
  },
  {
   "cell_type": "code",
   "execution_count": 72,
   "metadata": {},
   "outputs": [
    {
     "name": "stdout",
     "output_type": "stream",
     "text": [
      "CPU times: user 7min 35s, sys: 17.8 s, total: 7min 53s\n",
      "Wall time: 7min 47s\n"
     ]
    }
   ],
   "source": [
    "%%time\n",
    "\n",
    "res = []\n",
    "i = 0\n",
    "for d in pd.read_csv(input_path, chunksize=1000000, iterator=True):\n",
    "    patients_table_raw_ = applyParallel(d.groupby('user'), f2)\n",
    "    res_ = d.groupby('user').count()\n",
    "    res_['item'] = patients_table_raw_\n",
    "    res.append(res_)\n",
    "    i+=1"
   ]
  },
  {
   "cell_type": "markdown",
   "metadata": {},
   "source": [
    "### botvinkine"
   ]
  },
  {
   "cell_type": "code",
   "execution_count": 69,
   "metadata": {},
   "outputs": [
    {
     "name": "stdout",
     "output_type": "stream",
     "text": [
      "CPU times: user 3min 43s, sys: 8.83 s, total: 3min 52s\n",
      "Wall time: 3min 54s\n"
     ]
    }
   ],
   "source": [
    "%%time\n",
    "# читаем для чистоты, т.к. время на чтение будет включаться при оценке\n",
    "df = pd.read_csv(input_path)\n",
    "# определим reduce-функцию\n",
    "def inline_reduce(gr):\n",
    "    gr = gr.astype(str)\n",
    "    return '\\t'.join(gr.tolist()) # обещают, что tolist() всегда сохраняет порядок\n",
    "# применим к данным\n",
    "df.groupby('user')['item'].apply(inline_reduce).to_csv(output_path, index=False, header=False)"
   ]
  },
  {
   "cell_type": "code",
   "execution_count": 73,
   "metadata": {},
   "outputs": [
    {
     "name": "stdout",
     "output_type": "stream",
     "text": [
      "CPU times: user 3min 56s, sys: 9.96 s, total: 4min 6s\n",
      "Wall time: 4min 5s\n"
     ]
    }
   ],
   "source": [
    "%%time\n",
    "# определим reduce-функцию\n",
    "def inline_reduce(gr):\n",
    "    gr = gr.astype(str)\n",
    "    return '\\t'.join(gr.tolist())\n",
    "def stream_proc(path_in, path_out, chunk_size):\n",
    "    # разбивка на бачи\n",
    "    chunks = pd.read_csv(path_in, chunksize=chunk_size)\n",
    "    # последнего всегда будем переносить в следующий бач\n",
    "    last_user = pd.DataFrame()\n",
    "    for chunk in chunks:\n",
    "        # добавим последнего из предыдущего бача\n",
    "        chunk = pd.concat([last_user, chunk])\n",
    "        # обновим последнего\n",
    "        last_id = chunk['user'].iloc[-1]\n",
    "        is_last = chunk['user']==last_id\n",
    "        chunk, last_user = chunk[~is_last], chunk[is_last]\n",
    "        # применим к бачу\n",
    "        chunk.groupby('user')['item'].apply(inline_reduce).to_csv(path_out, index=False, header=False, mode='a')\n",
    "    # в последнем баче напрасно отложили последнего пользователя, добавим\n",
    "    last_user.groupby('user')['item'].apply(inline_reduce).to_csv(path_out, index=False, header=False, mode='a')\n",
    "stream_proc(input_path, output_path[0:-4]+'_chunk.txt', 20000)"
   ]
  },
  {
   "cell_type": "markdown",
   "metadata": {},
   "source": [
    "### burekat"
   ]
  },
  {
   "cell_type": "code",
   "execution_count": 5,
   "metadata": {},
   "outputs": [],
   "source": [
    "def applyParallel(dfGrouped, func):\n",
    "    with Pool(cpu_count()) as p:\n",
    "        ret_list = p.map(func, [{name: group} for name, group in dfGrouped])\n",
    "    return ret_list\n",
    "def items2list(d):\n",
    "    (key, value), = d.items()\n",
    "    return {key: '\\t'.join(map(str, value.item.tolist()))}"
   ]
  },
  {
   "cell_type": "code",
   "execution_count": 7,
   "metadata": {},
   "outputs": [
    {
     "name": "stdout",
     "output_type": "stream",
     "text": [
      "CPU times: user 3min 43s, sys: 24.4 s, total: 4min 7s\n",
      "Wall time: 4min 20s\n"
     ]
    }
   ],
   "source": [
    "%%time\n",
    "\n",
    "df = pd.read_csv(input_path, error_bad_lines = False, warn_bad_lines = False)\n",
    "# df = df.dropna()\n",
    "\n",
    "r = applyParallel(df.groupby('user'), items2list)\n",
    "users = [k for x in r for k, v in x.items()]\n",
    "items = [v for x in r for k, v in x.items()]\n",
    "result1 = pd.DataFrame({'user': users, 'items': items})\n",
    "\n",
    "result1['items'].to_csv(output_path, index=False, header=False)"
   ]
  },
  {
   "cell_type": "code",
   "execution_count": 6,
   "metadata": {},
   "outputs": [
    {
     "name": "stderr",
     "output_type": "stream",
     "text": [
      "5it [03:34, 42.86s/it]\n"
     ]
    },
    {
     "name": "stdout",
     "output_type": "stream",
     "text": [
      "CPU times: user 3min 14s, sys: 16.1 s, total: 3min 30s\n",
      "Wall time: 3min 36s\n"
     ]
    }
   ],
   "source": [
    "%%time\n",
    "chunksize = 20000000\n",
    "chunks = []\n",
    "for chunk in tqdm(pd.read_csv(input_path, error_bad_lines = False, warn_bad_lines = False, chunksize=chunksize)):\n",
    "    chunk = chunk.dropna()\n",
    "    chunk_ = applyParallel(chunk.groupby('user'), items2list)\n",
    "    chunks.append(chunk_)\n",
    "    \n",
    "chunksall = [y for x in chunks for y in x]\n",
    "users = [k for x in chunksall for k, v in x.items()]\n",
    "items = [v for x in chunksall for k, v in x.items()]\n",
    "result2_ = pd.DataFrame({'user': users, 'items': items})\n",
    "\n",
    "# если пользователь попал в 2 чанка, джойним его треки и вклеиваем новый треклист вместо дубликата\n",
    "duplicated = result2_[result2_.duplicated(subset = 'user', keep = False)]\\\n",
    "                                        .groupby('user')['items'].apply(lambda x: '\\t'.join(x))\n",
    "result2 = pd.concat([result2_.drop_duplicates(subset = 'user', keep = False), pd.DataFrame(duplicated).reset_index()])"
   ]
  },
  {
   "cell_type": "markdown",
   "metadata": {},
   "source": [
    "### GoryachevaT"
   ]
  },
  {
   "cell_type": "code",
   "execution_count": 100,
   "metadata": {},
   "outputs": [
    {
     "name": "stdout",
     "output_type": "stream",
     "text": [
      "CPU times: user 1min 17s, sys: 3.32 s, total: 1min 20s\n",
      "Wall time: 1min 20s\n"
     ]
    }
   ],
   "source": [
    "%%time\n",
    "reader = pd.read_table(input_path, chunksize=100000, sep=',')\n",
    "lst_to_remember = []\n",
    "prev_max_u = -1\n",
    "\n",
    "with open(output_path, 'w') as f:\n",
    "    \n",
    "    for chunk in reader:\n",
    "        curr_min_u = chunk['user'].min()\n",
    "        curr_max_u = chunk['user'].max()\n",
    "    \n",
    "        index, counts = np.unique(chunk['user'].values,  return_counts=True)\n",
    "        tmp = np.split(chunk['item'].values,  np.cumsum(counts)[:-1])\n",
    "        tmp = np.array(tmp)\n",
    "        tmp = np.hstack((index.reshape((index.shape[0],  1)),\n",
    "                 tmp.reshape((tmp.shape[0],  1)),\n",
    "                ))\n",
    "        \n",
    "        if curr_min_u==prev_max_u:\n",
    "            left = np.hstack((lst_to_remember, tmp[0][1]))\n",
    "            tmp[0][1] = left\n",
    "        else:\n",
    "            f.write('\\t'.join(str(item) for item in lst_to_remember) + '\\n') \n",
    "         \n",
    "        prev_max_u = tmp[-1][0]\n",
    "        lst_to_remember = tmp[-1][1]\n",
    "        \n",
    "        for pair in tmp[:-1]:\n",
    "            f.write('\\t'.join(str(item) for item in pair[1]) + '\\n') \n",
    "    \n",
    "    f.write('\\t'.join(str(item) for item in lst_to_remember) + '\\n')"
   ]
  },
  {
   "cell_type": "markdown",
   "metadata": {},
   "source": [
    "### VariyaKh"
   ]
  },
  {
   "cell_type": "code",
   "execution_count": 10,
   "metadata": {},
   "outputs": [],
   "source": [
    "def get_items_list(array):\n",
    "    return np.split(array[:, 1],\n",
    "                    np.argwhere(np.diff(array, axis=0)[:, 0]).flatten() + 1)\n",
    "\n",
    "\n",
    "def write_to_file(fname, items_list):\n",
    "    with open(fname, 'a') as f:\n",
    "        for items in items_list:\n",
    "            np.savetxt(f, [items], delimiter='\\t', newline='\\n', fmt='%d')\n",
    "           \n",
    "        \n",
    "def convert_w2v_format(src_fname,\n",
    "                       dst_fname,\n",
    "                       chunksize=None,\n",
    "                       overwrite=True):\n",
    "    \n",
    "    if overwrite:\n",
    "        open(dst_fname, 'w').close()\n",
    "    \n",
    "    if chunksize is None:\n",
    "        df = pd.read_csv(src_fname,\n",
    "                         dtype=np.int32,\n",
    "                         delimiter=',',\n",
    "                         engine='c')\n",
    "        items_list = get_items_list(df.values)\n",
    "        write_to_file(dst_fname, items_list)\n",
    "        return True\n",
    "        \n",
    "    first_key = None\n",
    "    last_key = None\n",
    "    last_items = None\n",
    "\n",
    "    for chunk in pd.read_csv(src_fname,\n",
    "                             dtype=np.int32,\n",
    "                             delimiter=',',\n",
    "                             engine='c',\n",
    "                             chunksize=chunksize):\n",
    "        items_list = get_items_list(chunk.values)\n",
    "        first_key = chunk.iloc[0, 0]\n",
    "        if last_items is not None:\n",
    "            if (last_key == first_key):\n",
    "                items_list[0] = np.concatenate((last_items, items_list[0]))\n",
    "            else:\n",
    "                items_list.insert(0, last_items)\n",
    "        last_items = items_list.pop()\n",
    "        last_key = chunk.iloc[-1, 0]\n",
    "        write_to_file(dst_fname, items_list)\n",
    "    write_to_file(dst_fname, [last_items])\n",
    "    return True"
   ]
  },
  {
   "cell_type": "code",
   "execution_count": 51,
   "metadata": {},
   "outputs": [
    {
     "name": "stdout",
     "output_type": "stream",
     "text": [
      "CPU times: user 59.2 s, sys: 2.09 s, total: 1min 1s\n",
      "Wall time: 1min 1s\n"
     ]
    },
    {
     "data": {
      "text/plain": [
       "True"
      ]
     },
     "execution_count": 51,
     "metadata": {},
     "output_type": "execute_result"
    }
   ],
   "source": [
    "%%time\n",
    "convert_w2v_format(input_path, output_path)"
   ]
  },
  {
   "cell_type": "code",
   "execution_count": 12,
   "metadata": {},
   "outputs": [
    {
     "name": "stdout",
     "output_type": "stream",
     "text": [
      "CPU times: user 1min 2s, sys: 1.96 s, total: 1min 4s\n",
      "Wall time: 1min 4s\n"
     ]
    },
    {
     "data": {
      "text/plain": [
       "True"
      ]
     },
     "execution_count": 12,
     "metadata": {},
     "output_type": "execute_result"
    }
   ],
   "source": [
    "%%time\n",
    "convert_w2v_format(input_path, output_path, chunksize=1000000)"
   ]
  },
  {
   "cell_type": "markdown",
   "metadata": {},
   "source": [
    "### DmitrievEgor94"
   ]
  },
  {
   "cell_type": "code",
   "execution_count": 23,
   "metadata": {},
   "outputs": [],
   "source": [
    "def big_ram_trans(input_path, output_path) -> None :\n",
    "    user_item = pd.read_csv(input_path)\n",
    "\n",
    "    user_item['item'] = user_item.item.astype(str)\n",
    "    user_item.groupby('user').item.apply('\\t'.join).to_csv(output_path, header=False, index=False)"
   ]
  },
  {
   "cell_type": "code",
   "execution_count": 22,
   "metadata": {},
   "outputs": [
    {
     "name": "stdout",
     "output_type": "stream",
     "text": [
      "CPU times: user 2min 13s, sys: 11.6 s, total: 2min 25s\n",
      "Wall time: 2min 28s\n"
     ]
    }
   ],
   "source": [
    "%%time\n",
    "big_ram_trans(input_path, output_path)"
   ]
  },
  {
   "cell_type": "code",
   "execution_count": 16,
   "metadata": {},
   "outputs": [
    {
     "name": "stdout",
     "output_type": "stream",
     "text": [
      "CPU times: user 2min 47s, sys: 22.5 s, total: 3min 10s\n",
      "Wall time: 3min 17s\n"
     ]
    }
   ],
   "source": [
    "%%time\n",
    "big_ram_trans(input_path, output_path)"
   ]
  },
  {
   "cell_type": "code",
   "execution_count": 3,
   "metadata": {},
   "outputs": [],
   "source": [
    "def small_ram_trans(input_path, ouput_paths, chunk_size = 1) -> None:\n",
    "    for gm_chunk in pd.read_csv(input_path, chunksize=chunk_size):\n",
    "        gm_chunk['item'] = gm_chunk.item.astype(str)\n",
    "        gm_chunk.groupby('user').item.apply('\\t'.join).to_csv(output_path, header=False, index=False, mode='a')\n",
    "        \n",
    "        del gm_chunk"
   ]
  },
  {
   "cell_type": "code",
   "execution_count": 4,
   "metadata": {},
   "outputs": [
    {
     "name": "stdout",
     "output_type": "stream",
     "text": [
      "CPU times: user 2min 42s, sys: 7.19 s, total: 2min 49s\n",
      "Wall time: 2min 50s\n"
     ]
    }
   ],
   "source": [
    "%%time\n",
    "\n",
    "ram_size, row_size = 500, 16/1024**2\n",
    "chunk_size = (ram_size - 50) // row_size\n",
    "\n",
    "small_ram_trans(input_path, output_path, chunk_size)"
   ]
  },
  {
   "cell_type": "markdown",
   "metadata": {},
   "source": [
    "### jtuvaleva"
   ]
  },
  {
   "cell_type": "code",
   "execution_count": 5,
   "metadata": {},
   "outputs": [],
   "source": [
    "def collect_list(df):\n",
    "    items = df['item'].to_list()\n",
    "    return '\\t'.join(str(item) for item in items)"
   ]
  },
  {
   "cell_type": "code",
   "execution_count": 4,
   "metadata": {},
   "outputs": [
    {
     "name": "stdout",
     "output_type": "stream",
     "text": [
      "CPU times: user 1min 22s, sys: 5.14 s, total: 1min 27s\n",
      "Wall time: 1min 28s\n"
     ]
    }
   ],
   "source": [
    "%%time\n",
    "\n",
    "df = pd.read_csv(input_path)\n",
    "df.groupby('user').apply(collect_list).to_csv(output_path, \n",
    "             index = False,\n",
    "             header = False,\n",
    "             quoting = 0,\n",
    "             escapechar='\"')"
   ]
  },
  {
   "cell_type": "code",
   "execution_count": 3,
   "metadata": {},
   "outputs": [
    {
     "data": {
      "text/html": [
       "<table style=\"border: 2px solid white;\">\n",
       "<tr>\n",
       "<td style=\"vertical-align: top; border: 0px solid white\">\n",
       "<h3 style=\"text-align: left;\">Client</h3>\n",
       "<ul style=\"text-align: left; list-style: none; margin: 0; padding: 0;\">\n",
       "  <li><b>Scheduler: </b>inproc://172.20.10.9/28021/1</li>\n",
       "  <li><b>Dashboard: </b><a href='http://172.20.10.9:8787/status' target='_blank'>http://172.20.10.9:8787/status</a></li>\n",
       "</ul>\n",
       "</td>\n",
       "<td style=\"vertical-align: top; border: 0px solid white\">\n",
       "<h3 style=\"text-align: left;\">Cluster</h3>\n",
       "<ul style=\"text-align: left; list-style:none; margin: 0; padding: 0;\">\n",
       "  <li><b>Workers: </b>1</li>\n",
       "  <li><b>Cores: </b>2</li>\n",
       "  <li><b>Memory: </b>1000.00 MB</li>\n",
       "</ul>\n",
       "</td>\n",
       "</tr>\n",
       "</table>"
      ],
      "text/plain": [
       "<Client: 'inproc://172.20.10.9/28021/1' processes=1 threads=2, memory=1000.00 MB>"
      ]
     },
     "execution_count": 3,
     "metadata": {},
     "output_type": "execute_result"
    }
   ],
   "source": [
    "client = Client(n_workers=1, \n",
    "                threads_per_worker=2, processes=False, memory_limit='1GB')\n",
    "client"
   ]
  },
  {
   "cell_type": "code",
   "execution_count": 6,
   "metadata": {
    "scrolled": true
   },
   "outputs": [
    {
     "name": "stderr",
     "output_type": "stream",
     "text": [
      "/Users/da/Library/Python/3.7/lib/python/site-packages/ipykernel_launcher.py:3: UserWarning: `meta` is not specified, inferred from partial data. Please provide `meta` if the result is unexpected.\n",
      "  Before: .apply(func)\n",
      "  After:  .apply(func, meta={'x': 'f8', 'y': 'f8'}) for dataframe result\n",
      "  or:     .apply(func, meta=('x', 'f8'))            for series result\n",
      "  This is separate from the ipykernel package so we can avoid doing imports until\n",
      "distributed.worker - WARNING - Memory use is high but worker has no data to store to disk.  Perhaps some other process is leaking memory?  Process memory: 753.09 MB -- Worker memory limit: 1000.00 MB\n",
      "distributed.worker - WARNING - Memory use is high but worker has no data to store to disk.  Perhaps some other process is leaking memory?  Process memory: 793.41 MB -- Worker memory limit: 1000.00 MB\n",
      "distributed.worker - WARNING - Worker is at 108% memory usage. Pausing worker.  Process memory: 1.08 GB -- Worker memory limit: 1000.00 MB\n",
      "distributed.worker - WARNING - Worker is at 51% memory usage. Resuming worker. Process memory: 514.62 MB -- Worker memory limit: 1000.00 MB\n",
      "distributed.worker - WARNING - Memory use is high but worker has no data to store to disk.  Perhaps some other process is leaking memory?  Process memory: 741.04 MB -- Worker memory limit: 1000.00 MB\n",
      "distributed.worker - WARNING - Memory use is high but worker has no data to store to disk.  Perhaps some other process is leaking memory?  Process memory: 750.02 MB -- Worker memory limit: 1000.00 MB\n",
      "distributed.worker - WARNING - Worker is at 88% memory usage. Pausing worker.  Process memory: 880.25 MB -- Worker memory limit: 1000.00 MB\n",
      "distributed.worker - WARNING - Memory use is high but worker has no data to store to disk.  Perhaps some other process is leaking memory?  Process memory: 880.25 MB -- Worker memory limit: 1000.00 MB\n",
      "distributed.worker - WARNING - Worker is at 49% memory usage. Resuming worker. Process memory: 491.90 MB -- Worker memory limit: 1000.00 MB\n",
      "distributed.worker - WARNING - Worker is at 83% memory usage. Pausing worker.  Process memory: 834.14 MB -- Worker memory limit: 1000.00 MB\n",
      "distributed.worker - WARNING - Memory use is high but worker has no data to store to disk.  Perhaps some other process is leaking memory?  Process memory: 645.67 MB -- Worker memory limit: 1000.00 MB\n",
      "distributed.worker - WARNING - Worker is at 64% memory usage. Resuming worker. Process memory: 645.67 MB -- Worker memory limit: 1000.00 MB\n",
      "distributed.worker - WARNING - Worker is at 80% memory usage. Pausing worker.  Process memory: 801.71 MB -- Worker memory limit: 1000.00 MB\n",
      "distributed.worker - WARNING - Memory use is high but worker has no data to store to disk.  Perhaps some other process is leaking memory?  Process memory: 977.60 MB -- Worker memory limit: 1000.00 MB\n",
      "distributed.worker - WARNING - Worker is at 72% memory usage. Resuming worker. Process memory: 725.07 MB -- Worker memory limit: 1000.00 MB\n",
      "distributed.worker - WARNING - Memory use is high but worker has no data to store to disk.  Perhaps some other process is leaking memory?  Process memory: 725.07 MB -- Worker memory limit: 1000.00 MB\n",
      "distributed.worker - WARNING - Memory use is high but worker has no data to store to disk.  Perhaps some other process is leaking memory?  Process memory: 725.07 MB -- Worker memory limit: 1000.00 MB\n",
      "distributed.worker - WARNING - Memory use is high but worker has no data to store to disk.  Perhaps some other process is leaking memory?  Process memory: 729.57 MB -- Worker memory limit: 1000.00 MB\n",
      "distributed.worker - WARNING - Worker is at 90% memory usage. Pausing worker.  Process memory: 901.77 MB -- Worker memory limit: 1000.00 MB\n",
      "distributed.worker - WARNING - Memory use is high but worker has no data to store to disk.  Perhaps some other process is leaking memory?  Process memory: 901.77 MB -- Worker memory limit: 1000.00 MB\n",
      "distributed.worker - WARNING - Memory use is high but worker has no data to store to disk.  Perhaps some other process is leaking memory?  Process memory: 1.04 GB -- Worker memory limit: 1000.00 MB\n",
      "distributed.worker - WARNING - Worker is at 52% memory usage. Resuming worker. Process memory: 521.72 MB -- Worker memory limit: 1000.00 MB\n",
      "distributed.worker - WARNING - Worker is at 88% memory usage. Pausing worker.  Process memory: 886.57 MB -- Worker memory limit: 1000.00 MB\n",
      "distributed.worker - WARNING - Worker is at 53% memory usage. Resuming worker. Process memory: 532.17 MB -- Worker memory limit: 1000.00 MB\n",
      "distributed.worker - WARNING - Memory use is high but worker has no data to store to disk.  Perhaps some other process is leaking memory?  Process memory: 834.56 MB -- Worker memory limit: 1000.00 MB\n",
      "distributed.worker - WARNING - Worker is at 83% memory usage. Pausing worker.  Process memory: 834.56 MB -- Worker memory limit: 1000.00 MB\n",
      "distributed.worker - WARNING - Memory use is high but worker has no data to store to disk.  Perhaps some other process is leaking memory?  Process memory: 834.62 MB -- Worker memory limit: 1000.00 MB\n",
      "distributed.worker - WARNING - Worker is at 57% memory usage. Resuming worker. Process memory: 570.09 MB -- Worker memory limit: 1000.00 MB\n",
      "distributed.worker - WARNING - Memory use is high but worker has no data to store to disk.  Perhaps some other process is leaking memory?  Process memory: 737.99 MB -- Worker memory limit: 1000.00 MB\n",
      "distributed.worker - WARNING - Memory use is high but worker has no data to store to disk.  Perhaps some other process is leaking memory?  Process memory: 744.87 MB -- Worker memory limit: 1000.00 MB\n",
      "distributed.worker - WARNING - Worker is at 98% memory usage. Pausing worker.  Process memory: 981.75 MB -- Worker memory limit: 1000.00 MB\n",
      "distributed.worker - WARNING - Memory use is high but worker has no data to store to disk.  Perhaps some other process is leaking memory?  Process memory: 981.75 MB -- Worker memory limit: 1000.00 MB\n",
      "distributed.worker - WARNING - Worker is at 52% memory usage. Resuming worker. Process memory: 522.72 MB -- Worker memory limit: 1000.00 MB\n",
      "distributed.worker - WARNING - Memory use is high but worker has no data to store to disk.  Perhaps some other process is leaking memory?  Process memory: 742.20 MB -- Worker memory limit: 1000.00 MB\n",
      "distributed.worker - WARNING - Memory use is high but worker has no data to store to disk.  Perhaps some other process is leaking memory?  Process memory: 773.38 MB -- Worker memory limit: 1000.00 MB\n",
      "distributed.worker - WARNING - Worker is at 103% memory usage. Pausing worker.  Process memory: 1.03 GB -- Worker memory limit: 1000.00 MB\n",
      "distributed.worker - WARNING - Memory use is high but worker has no data to store to disk.  Perhaps some other process is leaking memory?  Process memory: 1.03 GB -- Worker memory limit: 1000.00 MB\n",
      "distributed.worker - WARNING - Worker is at 52% memory usage. Resuming worker. Process memory: 523.61 MB -- Worker memory limit: 1000.00 MB\n",
      "distributed.worker - WARNING - Memory use is high but worker has no data to store to disk.  Perhaps some other process is leaking memory?  Process memory: 742.11 MB -- Worker memory limit: 1000.00 MB\n",
      "distributed.worker - WARNING - Memory use is high but worker has no data to store to disk.  Perhaps some other process is leaking memory?  Process memory: 770.45 MB -- Worker memory limit: 1000.00 MB\n",
      "distributed.worker - WARNING - Worker is at 130% memory usage. Pausing worker.  Process memory: 1.31 GB -- Worker memory limit: 1000.00 MB\n",
      "distributed.worker - WARNING - Worker is at 53% memory usage. Resuming worker. Process memory: 531.99 MB -- Worker memory limit: 1000.00 MB\n",
      "distributed.worker - WARNING - Worker is at 95% memory usage. Pausing worker.  Process memory: 954.65 MB -- Worker memory limit: 1000.00 MB\n",
      "distributed.worker - WARNING - Worker is at 54% memory usage. Resuming worker. Process memory: 541.24 MB -- Worker memory limit: 1000.00 MB\n",
      "distributed.worker - WARNING - Memory use is high but worker has no data to store to disk.  Perhaps some other process is leaking memory?  Process memory: 888.20 MB -- Worker memory limit: 1000.00 MB\n",
      "distributed.worker - WARNING - Worker is at 88% memory usage. Pausing worker.  Process memory: 888.20 MB -- Worker memory limit: 1000.00 MB\n"
     ]
    },
    {
     "name": "stderr",
     "output_type": "stream",
     "text": [
      "distributed.worker - WARNING - Memory use is high but worker has no data to store to disk.  Perhaps some other process is leaking memory?  Process memory: 888.20 MB -- Worker memory limit: 1000.00 MB\n",
      "distributed.worker - WARNING - Worker is at 62% memory usage. Resuming worker. Process memory: 626.89 MB -- Worker memory limit: 1000.00 MB\n",
      "distributed.worker - WARNING - Worker is at 84% memory usage. Pausing worker.  Process memory: 845.92 MB -- Worker memory limit: 1000.00 MB\n",
      "distributed.worker - WARNING - Memory use is high but worker has no data to store to disk.  Perhaps some other process is leaking memory?  Process memory: 765.10 MB -- Worker memory limit: 1000.00 MB\n",
      "distributed.worker - WARNING - Worker is at 76% memory usage. Resuming worker. Process memory: 765.10 MB -- Worker memory limit: 1000.00 MB\n",
      "distributed.worker - WARNING - Worker is at 81% memory usage. Pausing worker.  Process memory: 810.31 MB -- Worker memory limit: 1000.00 MB\n",
      "distributed.worker - WARNING - Memory use is high but worker has no data to store to disk.  Perhaps some other process is leaking memory?  Process memory: 683.84 MB -- Worker memory limit: 1000.00 MB\n",
      "distributed.worker - WARNING - Worker is at 68% memory usage. Resuming worker. Process memory: 683.84 MB -- Worker memory limit: 1000.00 MB\n",
      "distributed.worker - WARNING - Worker is at 83% memory usage. Pausing worker.  Process memory: 832.54 MB -- Worker memory limit: 1000.00 MB\n",
      "distributed.worker - WARNING - Worker is at 36% memory usage. Resuming worker. Process memory: 364.79 MB -- Worker memory limit: 1000.00 MB\n",
      "distributed.worker - WARNING - Memory use is high but worker has no data to store to disk.  Perhaps some other process is leaking memory?  Process memory: 918.71 MB -- Worker memory limit: 1000.00 MB\n",
      "distributed.worker - WARNING - Worker is at 91% memory usage. Pausing worker.  Process memory: 918.71 MB -- Worker memory limit: 1000.00 MB\n",
      "distributed.worker - WARNING - Worker is at 64% memory usage. Resuming worker. Process memory: 641.42 MB -- Worker memory limit: 1000.00 MB\n",
      "distributed.worker - WARNING - Memory use is high but worker has no data to store to disk.  Perhaps some other process is leaking memory?  Process memory: 733.86 MB -- Worker memory limit: 1000.00 MB\n",
      "distributed.worker - WARNING - Memory use is high but worker has no data to store to disk.  Perhaps some other process is leaking memory?  Process memory: 742.78 MB -- Worker memory limit: 1000.00 MB\n",
      "distributed.worker - WARNING - Worker is at 94% memory usage. Pausing worker.  Process memory: 945.58 MB -- Worker memory limit: 1000.00 MB\n",
      "distributed.worker - WARNING - Memory use is high but worker has no data to store to disk.  Perhaps some other process is leaking memory?  Process memory: 945.58 MB -- Worker memory limit: 1000.00 MB\n",
      "distributed.worker - WARNING - Worker is at 49% memory usage. Resuming worker. Process memory: 492.01 MB -- Worker memory limit: 1000.00 MB\n",
      "distributed.worker - WARNING - Worker is at 82% memory usage. Pausing worker.  Process memory: 827.25 MB -- Worker memory limit: 1000.00 MB\n",
      "distributed.worker - WARNING - Worker is at 49% memory usage. Resuming worker. Process memory: 498.28 MB -- Worker memory limit: 1000.00 MB\n",
      "distributed.worker - WARNING - Memory use is high but worker has no data to store to disk.  Perhaps some other process is leaking memory?  Process memory: 639.25 MB -- Worker memory limit: 1000.00 MB\n",
      "distributed.worker - WARNING - Memory use is high but worker has no data to store to disk.  Perhaps some other process is leaking memory?  Process memory: 831.09 MB -- Worker memory limit: 1000.00 MB\n",
      "distributed.worker - WARNING - Worker is at 83% memory usage. Pausing worker.  Process memory: 831.09 MB -- Worker memory limit: 1000.00 MB\n",
      "distributed.worker - WARNING - Worker is at 55% memory usage. Resuming worker. Process memory: 559.26 MB -- Worker memory limit: 1000.00 MB\n",
      "distributed.worker - WARNING - Worker is at 84% memory usage. Pausing worker.  Process memory: 842.91 MB -- Worker memory limit: 1000.00 MB\n",
      "distributed.worker - WARNING - Memory use is high but worker has no data to store to disk.  Perhaps some other process is leaking memory?  Process memory: 842.91 MB -- Worker memory limit: 1000.00 MB\n",
      "distributed.worker - WARNING - Memory use is high but worker has no data to store to disk.  Perhaps some other process is leaking memory?  Process memory: 842.11 MB -- Worker memory limit: 1000.00 MB\n",
      "distributed.worker - WARNING - Memory use is high but worker has no data to store to disk.  Perhaps some other process is leaking memory?  Process memory: 731.90 MB -- Worker memory limit: 1000.00 MB\n",
      "distributed.worker - WARNING - Worker is at 73% memory usage. Resuming worker. Process memory: 731.90 MB -- Worker memory limit: 1000.00 MB\n",
      "distributed.worker - WARNING - Worker is at 91% memory usage. Pausing worker.  Process memory: 910.31 MB -- Worker memory limit: 1000.00 MB\n",
      "distributed.worker - WARNING - Worker is at 50% memory usage. Resuming worker. Process memory: 502.94 MB -- Worker memory limit: 1000.00 MB\n",
      "distributed.worker - WARNING - Worker is at 92% memory usage. Pausing worker.  Process memory: 924.58 MB -- Worker memory limit: 1000.00 MB\n",
      "distributed.worker - WARNING - Worker is at 43% memory usage. Resuming worker. Process memory: 431.05 MB -- Worker memory limit: 1000.00 MB\n",
      "distributed.worker - WARNING - Worker is at 118% memory usage. Pausing worker.  Process memory: 1.18 GB -- Worker memory limit: 1000.00 MB\n",
      "distributed.worker - WARNING - Memory use is high but worker has no data to store to disk.  Perhaps some other process is leaking memory?  Process memory: 712.36 MB -- Worker memory limit: 1000.00 MB\n",
      "distributed.worker - WARNING - Worker is at 71% memory usage. Resuming worker. Process memory: 712.36 MB -- Worker memory limit: 1000.00 MB\n",
      "distributed.worker - WARNING - Worker is at 81% memory usage. Pausing worker.  Process memory: 817.85 MB -- Worker memory limit: 1000.00 MB\n",
      "distributed.worker - WARNING - Memory use is high but worker has no data to store to disk.  Perhaps some other process is leaking memory?  Process memory: 909.43 MB -- Worker memory limit: 1000.00 MB\n",
      "distributed.worker - WARNING - Memory use is high but worker has no data to store to disk.  Perhaps some other process is leaking memory?  Process memory: 646.85 MB -- Worker memory limit: 1000.00 MB\n",
      "distributed.worker - WARNING - Worker is at 64% memory usage. Resuming worker. Process memory: 646.85 MB -- Worker memory limit: 1000.00 MB\n",
      "distributed.worker - WARNING - Worker is at 87% memory usage. Pausing worker.  Process memory: 874.54 MB -- Worker memory limit: 1000.00 MB\n",
      "distributed.worker - WARNING - Worker is at 45% memory usage. Resuming worker. Process memory: 457.61 MB -- Worker memory limit: 1000.00 MB\n",
      "distributed.worker - WARNING - Worker is at 88% memory usage. Pausing worker.  Process memory: 889.75 MB -- Worker memory limit: 1000.00 MB\n",
      "distributed.worker - WARNING - Worker is at 44% memory usage. Resuming worker. Process memory: 441.52 MB -- Worker memory limit: 1000.00 MB\n",
      "distributed.worker - WARNING - Worker is at 97% memory usage. Pausing worker.  Process memory: 979.83 MB -- Worker memory limit: 1000.00 MB\n",
      "distributed.worker - WARNING - Worker is at 57% memory usage. Resuming worker. Process memory: 571.89 MB -- Worker memory limit: 1000.00 MB\n",
      "distributed.worker - WARNING - Worker is at 91% memory usage. Pausing worker.  Process memory: 912.19 MB -- Worker memory limit: 1000.00 MB\n",
      "distributed.worker - WARNING - Worker is at 36% memory usage. Resuming worker. Process memory: 368.13 MB -- Worker memory limit: 1000.00 MB\n",
      "distributed.worker - WARNING - Worker is at 82% memory usage. Pausing worker.  Process memory: 823.99 MB -- Worker memory limit: 1000.00 MB\n",
      "distributed.worker - WARNING - Worker is at 46% memory usage. Resuming worker. Process memory: 463.14 MB -- Worker memory limit: 1000.00 MB\n",
      "distributed.worker - WARNING - Worker is at 97% memory usage. Pausing worker.  Process memory: 974.31 MB -- Worker memory limit: 1000.00 MB\n",
      "distributed.worker - WARNING - Worker is at 43% memory usage. Resuming worker. Process memory: 430.49 MB -- Worker memory limit: 1000.00 MB\n",
      "distributed.worker - WARNING - Worker is at 82% memory usage. Pausing worker.  Process memory: 826.27 MB -- Worker memory limit: 1000.00 MB\n"
     ]
    },
    {
     "name": "stderr",
     "output_type": "stream",
     "text": [
      "distributed.worker - WARNING - Worker is at 49% memory usage. Resuming worker. Process memory: 497.76 MB -- Worker memory limit: 1000.00 MB\n",
      "distributed.worker - WARNING - Worker is at 91% memory usage. Pausing worker.  Process memory: 910.91 MB -- Worker memory limit: 1000.00 MB\n",
      "distributed.worker - WARNING - Worker is at 50% memory usage. Resuming worker. Process memory: 505.25 MB -- Worker memory limit: 1000.00 MB\n",
      "distributed.worker - WARNING - Worker is at 101% memory usage. Pausing worker.  Process memory: 1.02 GB -- Worker memory limit: 1000.00 MB\n",
      "distributed.worker - WARNING - Memory use is high but worker has no data to store to disk.  Perhaps some other process is leaking memory?  Process memory: 1.07 GB -- Worker memory limit: 1000.00 MB\n",
      "distributed.worker - WARNING - Memory use is high but worker has no data to store to disk.  Perhaps some other process is leaking memory?  Process memory: 939.03 MB -- Worker memory limit: 1000.00 MB\n",
      "distributed.worker - WARNING - Memory use is high but worker has no data to store to disk.  Perhaps some other process is leaking memory?  Process memory: 919.50 MB -- Worker memory limit: 1000.00 MB\n",
      "distributed.worker - WARNING - Memory use is high but worker has no data to store to disk.  Perhaps some other process is leaking memory?  Process memory: 917.16 MB -- Worker memory limit: 1000.00 MB\n",
      "distributed.worker - WARNING - Memory use is high but worker has no data to store to disk.  Perhaps some other process is leaking memory?  Process memory: 919.90 MB -- Worker memory limit: 1000.00 MB\n",
      "distributed.worker - WARNING - Memory use is high but worker has no data to store to disk.  Perhaps some other process is leaking memory?  Process memory: 922.97 MB -- Worker memory limit: 1000.00 MB\n",
      "distributed.worker - WARNING - Memory use is high but worker has no data to store to disk.  Perhaps some other process is leaking memory?  Process memory: 925.84 MB -- Worker memory limit: 1000.00 MB\n",
      "distributed.worker - WARNING - Memory use is high but worker has no data to store to disk.  Perhaps some other process is leaking memory?  Process memory: 928.74 MB -- Worker memory limit: 1000.00 MB\n",
      "distributed.worker - WARNING - Memory use is high but worker has no data to store to disk.  Perhaps some other process is leaking memory?  Process memory: 931.62 MB -- Worker memory limit: 1000.00 MB\n",
      "distributed.worker - WARNING - Memory use is high but worker has no data to store to disk.  Perhaps some other process is leaking memory?  Process memory: 930.37 MB -- Worker memory limit: 1000.00 MB\n",
      "distributed.worker - WARNING - Memory use is high but worker has no data to store to disk.  Perhaps some other process is leaking memory?  Process memory: 930.57 MB -- Worker memory limit: 1000.00 MB\n",
      "distributed.worker - WARNING - Memory use is high but worker has no data to store to disk.  Perhaps some other process is leaking memory?  Process memory: 930.12 MB -- Worker memory limit: 1000.00 MB\n",
      "distributed.worker - WARNING - Memory use is high but worker has no data to store to disk.  Perhaps some other process is leaking memory?  Process memory: 932.80 MB -- Worker memory limit: 1000.00 MB\n",
      "distributed.worker - WARNING - Memory use is high but worker has no data to store to disk.  Perhaps some other process is leaking memory?  Process memory: 935.76 MB -- Worker memory limit: 1000.00 MB\n",
      "distributed.worker - WARNING - Memory use is high but worker has no data to store to disk.  Perhaps some other process is leaking memory?  Process memory: 928.42 MB -- Worker memory limit: 1000.00 MB\n",
      "distributed.worker - WARNING - Worker is at 24% memory usage. Resuming worker. Process memory: 247.17 MB -- Worker memory limit: 1000.00 MB\n",
      "distributed.worker - WARNING - Worker is at 82% memory usage. Pausing worker.  Process memory: 820.29 MB -- Worker memory limit: 1000.00 MB\n",
      "distributed.worker - WARNING - Worker is at 56% memory usage. Resuming worker. Process memory: 565.52 MB -- Worker memory limit: 1000.00 MB\n",
      "distributed.worker - WARNING - Worker is at 93% memory usage. Pausing worker.  Process memory: 932.18 MB -- Worker memory limit: 1000.00 MB\n",
      "distributed.worker - WARNING - Worker is at 53% memory usage. Resuming worker. Process memory: 538.71 MB -- Worker memory limit: 1000.00 MB\n",
      "distributed.worker - WARNING - Worker is at 80% memory usage. Pausing worker.  Process memory: 809.20 MB -- Worker memory limit: 1000.00 MB\n",
      "distributed.worker - WARNING - Worker is at 54% memory usage. Resuming worker. Process memory: 545.44 MB -- Worker memory limit: 1000.00 MB\n",
      "distributed.worker - WARNING - Worker is at 92% memory usage. Pausing worker.  Process memory: 928.96 MB -- Worker memory limit: 1000.00 MB\n",
      "distributed.worker - WARNING - Worker is at 56% memory usage. Resuming worker. Process memory: 567.14 MB -- Worker memory limit: 1000.00 MB\n",
      "distributed.worker - WARNING - Worker is at 83% memory usage. Pausing worker.  Process memory: 830.70 MB -- Worker memory limit: 1000.00 MB\n",
      "distributed.worker - WARNING - Worker is at 56% memory usage. Resuming worker. Process memory: 566.35 MB -- Worker memory limit: 1000.00 MB\n",
      "distributed.worker - WARNING - Worker is at 95% memory usage. Pausing worker.  Process memory: 955.29 MB -- Worker memory limit: 1000.00 MB\n",
      "distributed.worker - WARNING - Worker is at 41% memory usage. Resuming worker. Process memory: 415.29 MB -- Worker memory limit: 1000.00 MB\n",
      "distributed.worker - WARNING - Worker is at 130% memory usage. Pausing worker.  Process memory: 1.30 GB -- Worker memory limit: 1000.00 MB\n",
      "distributed.worker - WARNING - Memory use is high but worker has no data to store to disk.  Perhaps some other process is leaking memory?  Process memory: 1.02 GB -- Worker memory limit: 1000.00 MB\n",
      "distributed.worker - WARNING - Memory use is high but worker has no data to store to disk.  Perhaps some other process is leaking memory?  Process memory: 1.00 GB -- Worker memory limit: 1000.00 MB\n",
      "distributed.worker - WARNING - Memory use is high but worker has no data to store to disk.  Perhaps some other process is leaking memory?  Process memory: 1.00 GB -- Worker memory limit: 1000.00 MB\n",
      "distributed.worker - WARNING - Memory use is high but worker has no data to store to disk.  Perhaps some other process is leaking memory?  Process memory: 1.00 GB -- Worker memory limit: 1000.00 MB\n",
      "distributed.worker - WARNING - Memory use is high but worker has no data to store to disk.  Perhaps some other process is leaking memory?  Process memory: 1.00 GB -- Worker memory limit: 1000.00 MB\n",
      "distributed.worker - WARNING - Memory use is high but worker has no data to store to disk.  Perhaps some other process is leaking memory?  Process memory: 999.71 MB -- Worker memory limit: 1000.00 MB\n",
      "distributed.worker - WARNING - Memory use is high but worker has no data to store to disk.  Perhaps some other process is leaking memory?  Process memory: 997.71 MB -- Worker memory limit: 1000.00 MB\n",
      "distributed.worker - WARNING - Memory use is high but worker has no data to store to disk.  Perhaps some other process is leaking memory?  Process memory: 998.57 MB -- Worker memory limit: 1000.00 MB\n",
      "distributed.worker - WARNING - Memory use is high but worker has no data to store to disk.  Perhaps some other process is leaking memory?  Process memory: 999.65 MB -- Worker memory limit: 1000.00 MB\n",
      "distributed.worker - WARNING - Memory use is high but worker has no data to store to disk.  Perhaps some other process is leaking memory?  Process memory: 999.31 MB -- Worker memory limit: 1000.00 MB\n",
      "distributed.worker - WARNING - Memory use is high but worker has no data to store to disk.  Perhaps some other process is leaking memory?  Process memory: 1.00 GB -- Worker memory limit: 1000.00 MB\n",
      "distributed.worker - WARNING - Memory use is high but worker has no data to store to disk.  Perhaps some other process is leaking memory?  Process memory: 1.00 GB -- Worker memory limit: 1000.00 MB\n",
      "distributed.worker - WARNING - Memory use is high but worker has no data to store to disk.  Perhaps some other process is leaking memory?  Process memory: 983.47 MB -- Worker memory limit: 1000.00 MB\n",
      "distributed.worker - WARNING - Worker is at 26% memory usage. Resuming worker. Process memory: 263.60 MB -- Worker memory limit: 1000.00 MB\n"
     ]
    },
    {
     "name": "stderr",
     "output_type": "stream",
     "text": [
      "distributed.worker - WARNING - Worker is at 96% memory usage. Pausing worker.  Process memory: 960.14 MB -- Worker memory limit: 1000.00 MB\n",
      "distributed.worker - WARNING - Worker is at 58% memory usage. Resuming worker. Process memory: 586.69 MB -- Worker memory limit: 1000.00 MB\n",
      "distributed.worker - WARNING - Worker is at 81% memory usage. Pausing worker.  Process memory: 810.89 MB -- Worker memory limit: 1000.00 MB\n",
      "distributed.worker - WARNING - Worker is at 57% memory usage. Resuming worker. Process memory: 574.38 MB -- Worker memory limit: 1000.00 MB\n",
      "distributed.worker - WARNING - Worker is at 95% memory usage. Pausing worker.  Process memory: 952.29 MB -- Worker memory limit: 1000.00 MB\n",
      "distributed.worker - WARNING - Worker is at 57% memory usage. Resuming worker. Process memory: 572.74 MB -- Worker memory limit: 1000.00 MB\n",
      "distributed.worker - WARNING - Worker is at 95% memory usage. Pausing worker.  Process memory: 952.25 MB -- Worker memory limit: 1000.00 MB\n",
      "distributed.worker - WARNING - Worker is at 57% memory usage. Resuming worker. Process memory: 573.98 MB -- Worker memory limit: 1000.00 MB\n",
      "distributed.worker - WARNING - Worker is at 95% memory usage. Pausing worker.  Process memory: 959.20 MB -- Worker memory limit: 1000.00 MB\n",
      "distributed.worker - WARNING - Worker is at 43% memory usage. Resuming worker. Process memory: 433.25 MB -- Worker memory limit: 1000.00 MB\n",
      "distributed.worker - WARNING - Worker is at 81% memory usage. Pausing worker.  Process memory: 819.43 MB -- Worker memory limit: 1000.00 MB\n",
      "distributed.worker - WARNING - Worker is at 56% memory usage. Resuming worker. Process memory: 561.75 MB -- Worker memory limit: 1000.00 MB\n",
      "distributed.worker - WARNING - Worker is at 83% memory usage. Pausing worker.  Process memory: 830.89 MB -- Worker memory limit: 1000.00 MB\n",
      "distributed.worker - WARNING - Worker is at 55% memory usage. Resuming worker. Process memory: 557.86 MB -- Worker memory limit: 1000.00 MB\n",
      "distributed.worker - WARNING - Worker is at 97% memory usage. Pausing worker.  Process memory: 972.72 MB -- Worker memory limit: 1000.00 MB\n",
      "distributed.worker - WARNING - Worker is at 57% memory usage. Resuming worker. Process memory: 573.48 MB -- Worker memory limit: 1000.00 MB\n",
      "distributed.worker - WARNING - Worker is at 88% memory usage. Pausing worker.  Process memory: 884.68 MB -- Worker memory limit: 1000.00 MB\n",
      "distributed.worker - WARNING - Worker is at 58% memory usage. Resuming worker. Process memory: 588.58 MB -- Worker memory limit: 1000.00 MB\n",
      "distributed.worker - WARNING - Worker is at 83% memory usage. Pausing worker.  Process memory: 836.25 MB -- Worker memory limit: 1000.00 MB\n",
      "distributed.worker - WARNING - Worker is at 43% memory usage. Resuming worker. Process memory: 431.96 MB -- Worker memory limit: 1000.00 MB\n",
      "distributed.worker - WARNING - Worker is at 80% memory usage. Pausing worker.  Process memory: 809.63 MB -- Worker memory limit: 1000.00 MB\n",
      "distributed.worker - WARNING - Worker is at 55% memory usage. Resuming worker. Process memory: 557.88 MB -- Worker memory limit: 1000.00 MB\n",
      "distributed.worker - WARNING - Worker is at 96% memory usage. Pausing worker.  Process memory: 962.63 MB -- Worker memory limit: 1000.00 MB\n",
      "distributed.worker - WARNING - Memory use is high but worker has no data to store to disk.  Perhaps some other process is leaking memory?  Process memory: 1.01 GB -- Worker memory limit: 1000.00 MB\n",
      "distributed.worker - WARNING - Memory use is high but worker has no data to store to disk.  Perhaps some other process is leaking memory?  Process memory: 1.28 GB -- Worker memory limit: 1000.00 MB\n",
      "distributed.worker - WARNING - Memory use is high but worker has no data to store to disk.  Perhaps some other process is leaking memory?  Process memory: 1.01 GB -- Worker memory limit: 1000.00 MB\n",
      "distributed.worker - WARNING - Memory use is high but worker has no data to store to disk.  Perhaps some other process is leaking memory?  Process memory: 992.20 MB -- Worker memory limit: 1000.00 MB\n",
      "distributed.worker - WARNING - Memory use is high but worker has no data to store to disk.  Perhaps some other process is leaking memory?  Process memory: 988.89 MB -- Worker memory limit: 1000.00 MB\n",
      "distributed.worker - WARNING - Memory use is high but worker has no data to store to disk.  Perhaps some other process is leaking memory?  Process memory: 985.99 MB -- Worker memory limit: 1000.00 MB\n",
      "distributed.worker - WARNING - Memory use is high but worker has no data to store to disk.  Perhaps some other process is leaking memory?  Process memory: 986.02 MB -- Worker memory limit: 1000.00 MB\n",
      "distributed.worker - WARNING - Memory use is high but worker has no data to store to disk.  Perhaps some other process is leaking memory?  Process memory: 986.14 MB -- Worker memory limit: 1000.00 MB\n",
      "distributed.worker - WARNING - Memory use is high but worker has no data to store to disk.  Perhaps some other process is leaking memory?  Process memory: 986.43 MB -- Worker memory limit: 1000.00 MB\n",
      "distributed.worker - WARNING - Memory use is high but worker has no data to store to disk.  Perhaps some other process is leaking memory?  Process memory: 986.58 MB -- Worker memory limit: 1000.00 MB\n",
      "distributed.worker - WARNING - Memory use is high but worker has no data to store to disk.  Perhaps some other process is leaking memory?  Process memory: 986.73 MB -- Worker memory limit: 1000.00 MB\n",
      "distributed.worker - WARNING - Memory use is high but worker has no data to store to disk.  Perhaps some other process is leaking memory?  Process memory: 980.82 MB -- Worker memory limit: 1000.00 MB\n",
      "distributed.worker - WARNING - Memory use is high but worker has no data to store to disk.  Perhaps some other process is leaking memory?  Process memory: 981.32 MB -- Worker memory limit: 1000.00 MB\n",
      "distributed.worker - WARNING - Memory use is high but worker has no data to store to disk.  Perhaps some other process is leaking memory?  Process memory: 982.68 MB -- Worker memory limit: 1000.00 MB\n",
      "distributed.worker - WARNING - Worker is at 68% memory usage. Resuming worker. Process memory: 685.69 MB -- Worker memory limit: 1000.00 MB\n",
      "distributed.worker - WARNING - Worker is at 82% memory usage. Pausing worker.  Process memory: 824.59 MB -- Worker memory limit: 1000.00 MB\n",
      "distributed.worker - WARNING - Worker is at 56% memory usage. Resuming worker. Process memory: 566.47 MB -- Worker memory limit: 1000.00 MB\n",
      "distributed.worker - WARNING - Worker is at 82% memory usage. Pausing worker.  Process memory: 824.65 MB -- Worker memory limit: 1000.00 MB\n",
      "distributed.worker - WARNING - Worker is at 55% memory usage. Resuming worker. Process memory: 555.14 MB -- Worker memory limit: 1000.00 MB\n",
      "distributed.worker - WARNING - Worker is at 89% memory usage. Pausing worker.  Process memory: 891.67 MB -- Worker memory limit: 1000.00 MB\n",
      "distributed.worker - WARNING - Worker is at 44% memory usage. Resuming worker. Process memory: 449.63 MB -- Worker memory limit: 1000.00 MB\n",
      "distributed.worker - WARNING - Worker is at 81% memory usage. Pausing worker.  Process memory: 816.85 MB -- Worker memory limit: 1000.00 MB\n",
      "distributed.worker - WARNING - Worker is at 45% memory usage. Resuming worker. Process memory: 452.89 MB -- Worker memory limit: 1000.00 MB\n",
      "distributed.worker - WARNING - Worker is at 81% memory usage. Pausing worker.  Process memory: 815.10 MB -- Worker memory limit: 1000.00 MB\n",
      "distributed.worker - WARNING - Worker is at 43% memory usage. Resuming worker. Process memory: 433.51 MB -- Worker memory limit: 1000.00 MB\n",
      "distributed.worker - WARNING - Worker is at 82% memory usage. Pausing worker.  Process memory: 825.74 MB -- Worker memory limit: 1000.00 MB\n",
      "distributed.worker - WARNING - Worker is at 57% memory usage. Resuming worker. Process memory: 574.81 MB -- Worker memory limit: 1000.00 MB\n",
      "distributed.worker - WARNING - Worker is at 82% memory usage. Pausing worker.  Process memory: 824.04 MB -- Worker memory limit: 1000.00 MB\n",
      "distributed.worker - WARNING - Worker is at 56% memory usage. Resuming worker. Process memory: 566.05 MB -- Worker memory limit: 1000.00 MB\n",
      "distributed.worker - WARNING - Worker is at 83% memory usage. Pausing worker.  Process memory: 831.01 MB -- Worker memory limit: 1000.00 MB\n"
     ]
    },
    {
     "name": "stderr",
     "output_type": "stream",
     "text": [
      "distributed.worker - WARNING - Worker is at 57% memory usage. Resuming worker. Process memory: 573.08 MB -- Worker memory limit: 1000.00 MB\n",
      "distributed.worker - WARNING - Worker is at 80% memory usage. Pausing worker.  Process memory: 804.31 MB -- Worker memory limit: 1000.00 MB\n",
      "distributed.worker - WARNING - Worker is at 53% memory usage. Resuming worker. Process memory: 538.54 MB -- Worker memory limit: 1000.00 MB\n",
      "distributed.worker - WARNING - Worker is at 89% memory usage. Pausing worker.  Process memory: 895.16 MB -- Worker memory limit: 1000.00 MB\n",
      "distributed.worker - WARNING - Worker is at 44% memory usage. Resuming worker. Process memory: 443.35 MB -- Worker memory limit: 1000.00 MB\n",
      "distributed.worker - WARNING - Worker is at 83% memory usage. Pausing worker.  Process memory: 833.43 MB -- Worker memory limit: 1000.00 MB\n",
      "distributed.worker - WARNING - Worker is at 44% memory usage. Resuming worker. Process memory: 443.77 MB -- Worker memory limit: 1000.00 MB\n",
      "distributed.worker - WARNING - Worker is at 82% memory usage. Pausing worker.  Process memory: 826.71 MB -- Worker memory limit: 1000.00 MB\n",
      "distributed.worker - WARNING - Worker is at 56% memory usage. Resuming worker. Process memory: 569.82 MB -- Worker memory limit: 1000.00 MB\n",
      "distributed.worker - WARNING - Worker is at 83% memory usage. Pausing worker.  Process memory: 832.38 MB -- Worker memory limit: 1000.00 MB\n",
      "distributed.worker - WARNING - Worker is at 57% memory usage. Resuming worker. Process memory: 573.76 MB -- Worker memory limit: 1000.00 MB\n",
      "distributed.worker - WARNING - Worker is at 96% memory usage. Pausing worker.  Process memory: 963.13 MB -- Worker memory limit: 1000.00 MB\n",
      "distributed.worker - WARNING - Memory use is high but worker has no data to store to disk.  Perhaps some other process is leaking memory?  Process memory: 1.32 GB -- Worker memory limit: 1000.00 MB\n",
      "distributed.worker - WARNING - Memory use is high but worker has no data to store to disk.  Perhaps some other process is leaking memory?  Process memory: 1.04 GB -- Worker memory limit: 1000.00 MB\n",
      "distributed.worker - WARNING - Memory use is high but worker has no data to store to disk.  Perhaps some other process is leaking memory?  Process memory: 1.02 GB -- Worker memory limit: 1000.00 MB\n",
      "distributed.worker - WARNING - Memory use is high but worker has no data to store to disk.  Perhaps some other process is leaking memory?  Process memory: 1.02 GB -- Worker memory limit: 1000.00 MB\n",
      "distributed.worker - WARNING - Memory use is high but worker has no data to store to disk.  Perhaps some other process is leaking memory?  Process memory: 1.02 GB -- Worker memory limit: 1000.00 MB\n",
      "distributed.worker - WARNING - Memory use is high but worker has no data to store to disk.  Perhaps some other process is leaking memory?  Process memory: 1.03 GB -- Worker memory limit: 1000.00 MB\n",
      "distributed.worker - WARNING - Memory use is high but worker has no data to store to disk.  Perhaps some other process is leaking memory?  Process memory: 1.02 GB -- Worker memory limit: 1000.00 MB\n",
      "distributed.worker - WARNING - Memory use is high but worker has no data to store to disk.  Perhaps some other process is leaking memory?  Process memory: 1.02 GB -- Worker memory limit: 1000.00 MB\n",
      "distributed.worker - WARNING - Memory use is high but worker has no data to store to disk.  Perhaps some other process is leaking memory?  Process memory: 1.02 GB -- Worker memory limit: 1000.00 MB\n",
      "distributed.worker - WARNING - Memory use is high but worker has no data to store to disk.  Perhaps some other process is leaking memory?  Process memory: 1.02 GB -- Worker memory limit: 1000.00 MB\n",
      "distributed.worker - WARNING - Memory use is high but worker has no data to store to disk.  Perhaps some other process is leaking memory?  Process memory: 1.02 GB -- Worker memory limit: 1000.00 MB\n",
      "distributed.worker - WARNING - Memory use is high but worker has no data to store to disk.  Perhaps some other process is leaking memory?  Process memory: 1.02 GB -- Worker memory limit: 1000.00 MB\n",
      "distributed.worker - WARNING - Memory use is high but worker has no data to store to disk.  Perhaps some other process is leaking memory?  Process memory: 1.02 GB -- Worker memory limit: 1000.00 MB\n",
      "distributed.worker - WARNING - Memory use is high but worker has no data to store to disk.  Perhaps some other process is leaking memory?  Process memory: 1.02 GB -- Worker memory limit: 1000.00 MB\n",
      "distributed.worker - WARNING - Memory use is high but worker has no data to store to disk.  Perhaps some other process is leaking memory?  Process memory: 1.02 GB -- Worker memory limit: 1000.00 MB\n",
      "distributed.worker - WARNING - Worker is at 29% memory usage. Resuming worker. Process memory: 292.84 MB -- Worker memory limit: 1000.00 MB\n",
      "distributed.worker - WARNING - Worker is at 98% memory usage. Pausing worker.  Process memory: 986.35 MB -- Worker memory limit: 1000.00 MB\n",
      "distributed.worker - WARNING - Worker is at 59% memory usage. Resuming worker. Process memory: 593.65 MB -- Worker memory limit: 1000.00 MB\n",
      "distributed.worker - WARNING - Worker is at 95% memory usage. Pausing worker.  Process memory: 958.18 MB -- Worker memory limit: 1000.00 MB\n",
      "distributed.worker - WARNING - Worker is at 57% memory usage. Resuming worker. Process memory: 570.78 MB -- Worker memory limit: 1000.00 MB\n",
      "distributed.worker - WARNING - Worker is at 83% memory usage. Pausing worker.  Process memory: 831.39 MB -- Worker memory limit: 1000.00 MB\n",
      "distributed.worker - WARNING - Worker is at 57% memory usage. Resuming worker. Process memory: 575.61 MB -- Worker memory limit: 1000.00 MB\n",
      "distributed.worker - WARNING - Worker is at 83% memory usage. Pausing worker.  Process memory: 837.02 MB -- Worker memory limit: 1000.00 MB\n",
      "distributed.worker - WARNING - Worker is at 57% memory usage. Resuming worker. Process memory: 577.18 MB -- Worker memory limit: 1000.00 MB\n",
      "distributed.worker - WARNING - Worker is at 84% memory usage. Pausing worker.  Process memory: 847.35 MB -- Worker memory limit: 1000.00 MB\n",
      "distributed.worker - WARNING - Worker is at 44% memory usage. Resuming worker. Process memory: 445.55 MB -- Worker memory limit: 1000.00 MB\n",
      "distributed.worker - WARNING - Worker is at 82% memory usage. Pausing worker.  Process memory: 824.86 MB -- Worker memory limit: 1000.00 MB\n",
      "distributed.worker - WARNING - Worker is at 57% memory usage. Resuming worker. Process memory: 573.43 MB -- Worker memory limit: 1000.00 MB\n",
      "distributed.worker - WARNING - Worker is at 83% memory usage. Pausing worker.  Process memory: 839.64 MB -- Worker memory limit: 1000.00 MB\n",
      "distributed.worker - WARNING - Worker is at 57% memory usage. Resuming worker. Process memory: 577.91 MB -- Worker memory limit: 1000.00 MB\n",
      "distributed.worker - WARNING - Worker is at 81% memory usage. Pausing worker.  Process memory: 811.86 MB -- Worker memory limit: 1000.00 MB\n",
      "distributed.worker - WARNING - Worker is at 54% memory usage. Resuming worker. Process memory: 544.77 MB -- Worker memory limit: 1000.00 MB\n",
      "distributed.worker - WARNING - Worker is at 90% memory usage. Pausing worker.  Process memory: 900.06 MB -- Worker memory limit: 1000.00 MB\n",
      "distributed.worker - WARNING - Worker is at 45% memory usage. Resuming worker. Process memory: 453.43 MB -- Worker memory limit: 1000.00 MB\n",
      "distributed.worker - WARNING - Worker is at 84% memory usage. Pausing worker.  Process memory: 843.54 MB -- Worker memory limit: 1000.00 MB\n",
      "distributed.worker - WARNING - Worker is at 45% memory usage. Resuming worker. Process memory: 455.15 MB -- Worker memory limit: 1000.00 MB\n",
      "distributed.worker - WARNING - Worker is at 97% memory usage. Pausing worker.  Process memory: 971.89 MB -- Worker memory limit: 1000.00 MB\n",
      "distributed.worker - WARNING - Worker is at 59% memory usage. Resuming worker. Process memory: 590.78 MB -- Worker memory limit: 1000.00 MB\n",
      "distributed.worker - WARNING - Memory use is high but worker has no data to store to disk.  Perhaps some other process is leaking memory?  Process memory: 947.33 MB -- Worker memory limit: 1000.00 MB\n",
      "distributed.worker - WARNING - Worker is at 94% memory usage. Pausing worker.  Process memory: 947.33 MB -- Worker memory limit: 1000.00 MB\n"
     ]
    },
    {
     "name": "stderr",
     "output_type": "stream",
     "text": [
      "distributed.worker - WARNING - Memory use is high but worker has no data to store to disk.  Perhaps some other process is leaking memory?  Process memory: 1.23 GB -- Worker memory limit: 1000.00 MB\n",
      "distributed.worker - WARNING - Memory use is high but worker has no data to store to disk.  Perhaps some other process is leaking memory?  Process memory: 960.46 MB -- Worker memory limit: 1000.00 MB\n",
      "distributed.worker - WARNING - Memory use is high but worker has no data to store to disk.  Perhaps some other process is leaking memory?  Process memory: 946.10 MB -- Worker memory limit: 1000.00 MB\n",
      "distributed.worker - WARNING - Memory use is high but worker has no data to store to disk.  Perhaps some other process is leaking memory?  Process memory: 942.59 MB -- Worker memory limit: 1000.00 MB\n",
      "distributed.worker - WARNING - Memory use is high but worker has no data to store to disk.  Perhaps some other process is leaking memory?  Process memory: 939.50 MB -- Worker memory limit: 1000.00 MB\n",
      "distributed.worker - WARNING - Memory use is high but worker has no data to store to disk.  Perhaps some other process is leaking memory?  Process memory: 936.18 MB -- Worker memory limit: 1000.00 MB\n",
      "distributed.worker - WARNING - Memory use is high but worker has no data to store to disk.  Perhaps some other process is leaking memory?  Process memory: 934.76 MB -- Worker memory limit: 1000.00 MB\n",
      "distributed.worker - WARNING - Memory use is high but worker has no data to store to disk.  Perhaps some other process is leaking memory?  Process memory: 933.39 MB -- Worker memory limit: 1000.00 MB\n",
      "distributed.worker - WARNING - Memory use is high but worker has no data to store to disk.  Perhaps some other process is leaking memory?  Process memory: 933.47 MB -- Worker memory limit: 1000.00 MB\n",
      "distributed.worker - WARNING - Memory use is high but worker has no data to store to disk.  Perhaps some other process is leaking memory?  Process memory: 933.49 MB -- Worker memory limit: 1000.00 MB\n",
      "distributed.worker - WARNING - Memory use is high but worker has no data to store to disk.  Perhaps some other process is leaking memory?  Process memory: 933.52 MB -- Worker memory limit: 1000.00 MB\n",
      "distributed.worker - WARNING - Memory use is high but worker has no data to store to disk.  Perhaps some other process is leaking memory?  Process memory: 933.61 MB -- Worker memory limit: 1000.00 MB\n",
      "distributed.worker - WARNING - Memory use is high but worker has no data to store to disk.  Perhaps some other process is leaking memory?  Process memory: 934.55 MB -- Worker memory limit: 1000.00 MB\n",
      "distributed.worker - WARNING - Worker is at 28% memory usage. Resuming worker. Process memory: 284.04 MB -- Worker memory limit: 1000.00 MB\n",
      "distributed.worker - WARNING - Worker is at 82% memory usage. Pausing worker.  Process memory: 824.18 MB -- Worker memory limit: 1000.00 MB\n",
      "distributed.worker - WARNING - Worker is at 57% memory usage. Resuming worker. Process memory: 573.58 MB -- Worker memory limit: 1000.00 MB\n",
      "distributed.worker - WARNING - Worker is at 100% memory usage. Pausing worker.  Process memory: 1.01 GB -- Worker memory limit: 1000.00 MB\n",
      "distributed.worker - WARNING - Worker is at 58% memory usage. Resuming worker. Process memory: 588.32 MB -- Worker memory limit: 1000.00 MB\n",
      "distributed.worker - WARNING - Worker is at 97% memory usage. Pausing worker.  Process memory: 970.51 MB -- Worker memory limit: 1000.00 MB\n",
      "distributed.worker - WARNING - Worker is at 56% memory usage. Resuming worker. Process memory: 568.82 MB -- Worker memory limit: 1000.00 MB\n",
      "distributed.worker - WARNING - Worker is at 83% memory usage. Pausing worker.  Process memory: 833.46 MB -- Worker memory limit: 1000.00 MB\n",
      "distributed.worker - WARNING - Worker is at 57% memory usage. Resuming worker. Process memory: 575.62 MB -- Worker memory limit: 1000.00 MB\n",
      "distributed.worker - WARNING - Worker is at 84% memory usage. Pausing worker.  Process memory: 847.50 MB -- Worker memory limit: 1000.00 MB\n",
      "distributed.worker - WARNING - Worker is at 45% memory usage. Resuming worker. Process memory: 450.05 MB -- Worker memory limit: 1000.00 MB\n",
      "distributed.worker - WARNING - Worker is at 83% memory usage. Pausing worker.  Process memory: 834.51 MB -- Worker memory limit: 1000.00 MB\n",
      "distributed.worker - WARNING - Worker is at 44% memory usage. Resuming worker. Process memory: 443.62 MB -- Worker memory limit: 1000.00 MB\n",
      "distributed.worker - WARNING - Worker is at 82% memory usage. Pausing worker.  Process memory: 829.07 MB -- Worker memory limit: 1000.00 MB\n",
      "distributed.worker - WARNING - Worker is at 44% memory usage. Resuming worker. Process memory: 446.76 MB -- Worker memory limit: 1000.00 MB\n",
      "distributed.worker - WARNING - Worker is at 83% memory usage. Pausing worker.  Process memory: 833.20 MB -- Worker memory limit: 1000.00 MB\n",
      "distributed.worker - WARNING - Worker is at 58% memory usage. Resuming worker. Process memory: 585.29 MB -- Worker memory limit: 1000.00 MB\n",
      "distributed.worker - WARNING - Worker is at 96% memory usage. Pausing worker.  Process memory: 961.58 MB -- Worker memory limit: 1000.00 MB\n",
      "distributed.worker - WARNING - Worker is at 59% memory usage. Resuming worker. Process memory: 599.55 MB -- Worker memory limit: 1000.00 MB\n",
      "distributed.worker - WARNING - Worker is at 100% memory usage. Pausing worker.  Process memory: 1.01 GB -- Worker memory limit: 1000.00 MB\n",
      "distributed.worker - WARNING - Worker is at 57% memory usage. Resuming worker. Process memory: 574.42 MB -- Worker memory limit: 1000.00 MB\n",
      "distributed.worker - WARNING - Worker is at 83% memory usage. Pausing worker.  Process memory: 834.80 MB -- Worker memory limit: 1000.00 MB\n",
      "distributed.worker - WARNING - Worker is at 44% memory usage. Resuming worker. Process memory: 447.06 MB -- Worker memory limit: 1000.00 MB\n",
      "distributed.worker - WARNING - Worker is at 83% memory usage. Pausing worker.  Process memory: 834.20 MB -- Worker memory limit: 1000.00 MB\n",
      "distributed.worker - WARNING - Worker is at 58% memory usage. Resuming worker. Process memory: 582.48 MB -- Worker memory limit: 1000.00 MB\n",
      "distributed.worker - WARNING - Worker is at 109% memory usage. Pausing worker.  Process memory: 1.10 GB -- Worker memory limit: 1000.00 MB\n",
      "distributed.worker - WARNING - Memory use is high but worker has no data to store to disk.  Perhaps some other process is leaking memory?  Process memory: 1.31 GB -- Worker memory limit: 1000.00 MB\n",
      "distributed.worker - WARNING - Memory use is high but worker has no data to store to disk.  Perhaps some other process is leaking memory?  Process memory: 1.02 GB -- Worker memory limit: 1000.00 MB\n",
      "distributed.worker - WARNING - Memory use is high but worker has no data to store to disk.  Perhaps some other process is leaking memory?  Process memory: 1.00 GB -- Worker memory limit: 1000.00 MB\n",
      "distributed.worker - WARNING - Memory use is high but worker has no data to store to disk.  Perhaps some other process is leaking memory?  Process memory: 1.00 GB -- Worker memory limit: 1000.00 MB\n",
      "distributed.worker - WARNING - Memory use is high but worker has no data to store to disk.  Perhaps some other process is leaking memory?  Process memory: 1.00 GB -- Worker memory limit: 1000.00 MB\n",
      "distributed.worker - WARNING - Memory use is high but worker has no data to store to disk.  Perhaps some other process is leaking memory?  Process memory: 997.33 MB -- Worker memory limit: 1000.00 MB\n",
      "distributed.worker - WARNING - Memory use is high but worker has no data to store to disk.  Perhaps some other process is leaking memory?  Process memory: 995.71 MB -- Worker memory limit: 1000.00 MB\n",
      "distributed.worker - WARNING - Memory use is high but worker has no data to store to disk.  Perhaps some other process is leaking memory?  Process memory: 991.28 MB -- Worker memory limit: 1000.00 MB\n",
      "distributed.worker - WARNING - Memory use is high but worker has no data to store to disk.  Perhaps some other process is leaking memory?  Process memory: 989.99 MB -- Worker memory limit: 1000.00 MB\n",
      "distributed.worker - WARNING - Memory use is high but worker has no data to store to disk.  Perhaps some other process is leaking memory?  Process memory: 987.13 MB -- Worker memory limit: 1000.00 MB\n"
     ]
    },
    {
     "name": "stderr",
     "output_type": "stream",
     "text": [
      "distributed.worker - WARNING - Memory use is high but worker has no data to store to disk.  Perhaps some other process is leaking memory?  Process memory: 987.15 MB -- Worker memory limit: 1000.00 MB\n",
      "distributed.worker - WARNING - Memory use is high but worker has no data to store to disk.  Perhaps some other process is leaking memory?  Process memory: 985.85 MB -- Worker memory limit: 1000.00 MB\n",
      "distributed.worker - WARNING - Memory use is high but worker has no data to store to disk.  Perhaps some other process is leaking memory?  Process memory: 986.95 MB -- Worker memory limit: 1000.00 MB\n",
      "distributed.worker - WARNING - Memory use is high but worker has no data to store to disk.  Perhaps some other process is leaking memory?  Process memory: 987.02 MB -- Worker memory limit: 1000.00 MB\n",
      "distributed.worker - WARNING - Memory use is high but worker has no data to store to disk.  Perhaps some other process is leaking memory?  Process memory: 987.39 MB -- Worker memory limit: 1000.00 MB\n",
      "distributed.worker - WARNING - Worker is at 29% memory usage. Resuming worker. Process memory: 293.09 MB -- Worker memory limit: 1000.00 MB\n",
      "distributed.worker - WARNING - Worker is at 83% memory usage. Pausing worker.  Process memory: 838.14 MB -- Worker memory limit: 1000.00 MB\n",
      "distributed.worker - WARNING - Worker is at 57% memory usage. Resuming worker. Process memory: 578.90 MB -- Worker memory limit: 1000.00 MB\n",
      "distributed.worker - WARNING - Worker is at 83% memory usage. Pausing worker.  Process memory: 836.31 MB -- Worker memory limit: 1000.00 MB\n",
      "distributed.worker - WARNING - Memory use is high but worker has no data to store to disk.  Perhaps some other process is leaking memory?  Process memory: 714.95 MB -- Worker memory limit: 1000.00 MB\n",
      "distributed.worker - WARNING - Worker is at 71% memory usage. Resuming worker. Process memory: 714.95 MB -- Worker memory limit: 1000.00 MB\n",
      "distributed.worker - WARNING - Worker is at 83% memory usage. Pausing worker.  Process memory: 835.90 MB -- Worker memory limit: 1000.00 MB\n",
      "distributed.worker - WARNING - Worker is at 58% memory usage. Resuming worker. Process memory: 580.11 MB -- Worker memory limit: 1000.00 MB\n",
      "distributed.worker - WARNING - Worker is at 84% memory usage. Pausing worker.  Process memory: 846.06 MB -- Worker memory limit: 1000.00 MB\n",
      "distributed.worker - WARNING - Memory use is high but worker has no data to store to disk.  Perhaps some other process is leaking memory?  Process memory: 714.39 MB -- Worker memory limit: 1000.00 MB\n",
      "distributed.worker - WARNING - Worker is at 71% memory usage. Resuming worker. Process memory: 714.39 MB -- Worker memory limit: 1000.00 MB\n",
      "distributed.worker - WARNING - Worker is at 83% memory usage. Pausing worker.  Process memory: 835.19 MB -- Worker memory limit: 1000.00 MB\n",
      "distributed.worker - WARNING - Memory use is high but worker has no data to store to disk.  Perhaps some other process is leaking memory?  Process memory: 714.44 MB -- Worker memory limit: 1000.00 MB\n",
      "distributed.worker - WARNING - Worker is at 71% memory usage. Resuming worker. Process memory: 714.44 MB -- Worker memory limit: 1000.00 MB\n",
      "distributed.worker - WARNING - Worker is at 84% memory usage. Pausing worker.  Process memory: 848.14 MB -- Worker memory limit: 1000.00 MB\n",
      "distributed.worker - WARNING - Worker is at 57% memory usage. Resuming worker. Process memory: 571.06 MB -- Worker memory limit: 1000.00 MB\n",
      "distributed.worker - WARNING - Worker is at 83% memory usage. Pausing worker.  Process memory: 839.00 MB -- Worker memory limit: 1000.00 MB\n",
      "distributed.worker - WARNING - Worker is at 45% memory usage. Resuming worker. Process memory: 454.59 MB -- Worker memory limit: 1000.00 MB\n",
      "distributed.worker - WARNING - Worker is at 83% memory usage. Pausing worker.  Process memory: 831.71 MB -- Worker memory limit: 1000.00 MB\n",
      "distributed.worker - WARNING - Worker is at 57% memory usage. Resuming worker. Process memory: 576.58 MB -- Worker memory limit: 1000.00 MB\n",
      "distributed.worker - WARNING - Worker is at 110% memory usage. Pausing worker.  Process memory: 1.10 GB -- Worker memory limit: 1000.00 MB\n",
      "distributed.worker - WARNING - Memory use is high but worker has no data to store to disk.  Perhaps some other process is leaking memory?  Process memory: 1.30 GB -- Worker memory limit: 1000.00 MB\n",
      "distributed.worker - WARNING - Memory use is high but worker has no data to store to disk.  Perhaps some other process is leaking memory?  Process memory: 1.01 GB -- Worker memory limit: 1000.00 MB\n",
      "distributed.worker - WARNING - Memory use is high but worker has no data to store to disk.  Perhaps some other process is leaking memory?  Process memory: 994.68 MB -- Worker memory limit: 1000.00 MB\n",
      "distributed.worker - WARNING - Memory use is high but worker has no data to store to disk.  Perhaps some other process is leaking memory?  Process memory: 990.11 MB -- Worker memory limit: 1000.00 MB\n",
      "distributed.worker - WARNING - Memory use is high but worker has no data to store to disk.  Perhaps some other process is leaking memory?  Process memory: 990.24 MB -- Worker memory limit: 1000.00 MB\n",
      "distributed.worker - WARNING - Memory use is high but worker has no data to store to disk.  Perhaps some other process is leaking memory?  Process memory: 990.47 MB -- Worker memory limit: 1000.00 MB\n",
      "distributed.worker - WARNING - Memory use is high but worker has no data to store to disk.  Perhaps some other process is leaking memory?  Process memory: 991.04 MB -- Worker memory limit: 1000.00 MB\n",
      "distributed.worker - WARNING - Memory use is high but worker has no data to store to disk.  Perhaps some other process is leaking memory?  Process memory: 991.78 MB -- Worker memory limit: 1000.00 MB\n",
      "distributed.worker - WARNING - Memory use is high but worker has no data to store to disk.  Perhaps some other process is leaking memory?  Process memory: 985.15 MB -- Worker memory limit: 1000.00 MB\n",
      "distributed.worker - WARNING - Memory use is high but worker has no data to store to disk.  Perhaps some other process is leaking memory?  Process memory: 985.58 MB -- Worker memory limit: 1000.00 MB\n",
      "distributed.worker - WARNING - Memory use is high but worker has no data to store to disk.  Perhaps some other process is leaking memory?  Process memory: 985.88 MB -- Worker memory limit: 1000.00 MB\n",
      "distributed.worker - WARNING - Memory use is high but worker has no data to store to disk.  Perhaps some other process is leaking memory?  Process memory: 986.05 MB -- Worker memory limit: 1000.00 MB\n",
      "distributed.worker - WARNING - Memory use is high but worker has no data to store to disk.  Perhaps some other process is leaking memory?  Process memory: 983.43 MB -- Worker memory limit: 1000.00 MB\n",
      "distributed.worker - WARNING - Memory use is high but worker has no data to store to disk.  Perhaps some other process is leaking memory?  Process memory: 984.08 MB -- Worker memory limit: 1000.00 MB\n",
      "distributed.worker - WARNING - Worker is at 69% memory usage. Resuming worker. Process memory: 696.71 MB -- Worker memory limit: 1000.00 MB\n",
      "distributed.worker - WARNING - Worker is at 83% memory usage. Pausing worker.  Process memory: 837.53 MB -- Worker memory limit: 1000.00 MB\n",
      "distributed.worker - WARNING - Worker is at 58% memory usage. Resuming worker. Process memory: 584.16 MB -- Worker memory limit: 1000.00 MB\n",
      "distributed.worker - WARNING - Worker is at 85% memory usage. Pausing worker.  Process memory: 852.21 MB -- Worker memory limit: 1000.00 MB\n",
      "distributed.worker - WARNING - Worker is at 58% memory usage. Resuming worker. Process memory: 585.79 MB -- Worker memory limit: 1000.00 MB\n",
      "distributed.worker - WARNING - Worker is at 106% memory usage. Pausing worker.  Process memory: 1.07 GB -- Worker memory limit: 1000.00 MB\n",
      "distributed.worker - WARNING - Worker is at 59% memory usage. Resuming worker. Process memory: 591.22 MB -- Worker memory limit: 1000.00 MB\n",
      "distributed.worker - WARNING - Worker is at 98% memory usage. Pausing worker.  Process memory: 980.89 MB -- Worker memory limit: 1000.00 MB\n",
      "distributed.worker - WARNING - Worker is at 59% memory usage. Resuming worker. Process memory: 598.75 MB -- Worker memory limit: 1000.00 MB\n",
      "distributed.worker - WARNING - Worker is at 85% memory usage. Pausing worker.  Process memory: 853.22 MB -- Worker memory limit: 1000.00 MB\n"
     ]
    },
    {
     "name": "stderr",
     "output_type": "stream",
     "text": [
      "distributed.worker - WARNING - Worker is at 46% memory usage. Resuming worker. Process memory: 462.90 MB -- Worker memory limit: 1000.00 MB\n",
      "distributed.worker - WARNING - Worker is at 84% memory usage. Pausing worker.  Process memory: 849.47 MB -- Worker memory limit: 1000.00 MB\n",
      "distributed.worker - WARNING - Worker is at 59% memory usage. Resuming worker. Process memory: 597.33 MB -- Worker memory limit: 1000.00 MB\n",
      "distributed.worker - WARNING - Worker is at 86% memory usage. Pausing worker.  Process memory: 868.50 MB -- Worker memory limit: 1000.00 MB\n",
      "distributed.worker - WARNING - Worker is at 45% memory usage. Resuming worker. Process memory: 453.19 MB -- Worker memory limit: 1000.00 MB\n",
      "distributed.worker - WARNING - Worker is at 83% memory usage. Pausing worker.  Process memory: 830.10 MB -- Worker memory limit: 1000.00 MB\n",
      "distributed.worker - WARNING - Worker is at 56% memory usage. Resuming worker. Process memory: 562.52 MB -- Worker memory limit: 1000.00 MB\n",
      "distributed.worker - WARNING - Worker is at 91% memory usage. Pausing worker.  Process memory: 918.23 MB -- Worker memory limit: 1000.00 MB\n",
      "distributed.worker - WARNING - Worker is at 47% memory usage. Resuming worker. Process memory: 471.11 MB -- Worker memory limit: 1000.00 MB\n",
      "distributed.worker - WARNING - Worker is at 86% memory usage. Pausing worker.  Process memory: 862.45 MB -- Worker memory limit: 1000.00 MB\n",
      "distributed.worker - WARNING - Worker is at 47% memory usage. Resuming worker. Process memory: 471.73 MB -- Worker memory limit: 1000.00 MB\n",
      "distributed.worker - WARNING - Worker is at 85% memory usage. Pausing worker.  Process memory: 851.36 MB -- Worker memory limit: 1000.00 MB\n",
      "distributed.worker - WARNING - Worker is at 46% memory usage. Resuming worker. Process memory: 461.57 MB -- Worker memory limit: 1000.00 MB\n",
      "distributed.worker - WARNING - Worker is at 127% memory usage. Pausing worker.  Process memory: 1.28 GB -- Worker memory limit: 1000.00 MB\n",
      "distributed.worker - WARNING - Memory use is high but worker has no data to store to disk.  Perhaps some other process is leaking memory?  Process memory: 1.02 GB -- Worker memory limit: 1000.00 MB\n",
      "distributed.worker - WARNING - Memory use is high but worker has no data to store to disk.  Perhaps some other process is leaking memory?  Process memory: 1.00 GB -- Worker memory limit: 1000.00 MB\n",
      "distributed.worker - WARNING - Memory use is high but worker has no data to store to disk.  Perhaps some other process is leaking memory?  Process memory: 1.00 GB -- Worker memory limit: 1000.00 MB\n",
      "distributed.worker - WARNING - Memory use is high but worker has no data to store to disk.  Perhaps some other process is leaking memory?  Process memory: 995.57 MB -- Worker memory limit: 1000.00 MB\n",
      "distributed.worker - WARNING - Memory use is high but worker has no data to store to disk.  Perhaps some other process is leaking memory?  Process memory: 995.59 MB -- Worker memory limit: 1000.00 MB\n",
      "distributed.worker - WARNING - Memory use is high but worker has no data to store to disk.  Perhaps some other process is leaking memory?  Process memory: 990.69 MB -- Worker memory limit: 1000.00 MB\n",
      "distributed.worker - WARNING - Memory use is high but worker has no data to store to disk.  Perhaps some other process is leaking memory?  Process memory: 990.77 MB -- Worker memory limit: 1000.00 MB\n",
      "distributed.worker - WARNING - Memory use is high but worker has no data to store to disk.  Perhaps some other process is leaking memory?  Process memory: 990.79 MB -- Worker memory limit: 1000.00 MB\n",
      "distributed.worker - WARNING - Memory use is high but worker has no data to store to disk.  Perhaps some other process is leaking memory?  Process memory: 991.20 MB -- Worker memory limit: 1000.00 MB\n",
      "distributed.worker - WARNING - Memory use is high but worker has no data to store to disk.  Perhaps some other process is leaking memory?  Process memory: 991.26 MB -- Worker memory limit: 1000.00 MB\n",
      "distributed.worker - WARNING - Memory use is high but worker has no data to store to disk.  Perhaps some other process is leaking memory?  Process memory: 991.29 MB -- Worker memory limit: 1000.00 MB\n",
      "distributed.worker - WARNING - Memory use is high but worker has no data to store to disk.  Perhaps some other process is leaking memory?  Process memory: 991.31 MB -- Worker memory limit: 1000.00 MB\n",
      "distributed.worker - WARNING - Memory use is high but worker has no data to store to disk.  Perhaps some other process is leaking memory?  Process memory: 990.21 MB -- Worker memory limit: 1000.00 MB\n",
      "distributed.worker - WARNING - Worker is at 69% memory usage. Resuming worker. Process memory: 697.07 MB -- Worker memory limit: 1000.00 MB\n",
      "distributed.worker - WARNING - Worker is at 84% memory usage. Pausing worker.  Process memory: 848.23 MB -- Worker memory limit: 1000.00 MB\n",
      "distributed.worker - WARNING - Worker is at 58% memory usage. Resuming worker. Process memory: 589.35 MB -- Worker memory limit: 1000.00 MB\n",
      "distributed.worker - WARNING - Worker is at 86% memory usage. Pausing worker.  Process memory: 861.06 MB -- Worker memory limit: 1000.00 MB\n",
      "distributed.worker - WARNING - Worker is at 47% memory usage. Resuming worker. Process memory: 470.70 MB -- Worker memory limit: 1000.00 MB\n",
      "distributed.worker - WARNING - Worker is at 84% memory usage. Pausing worker.  Process memory: 847.80 MB -- Worker memory limit: 1000.00 MB\n",
      "distributed.worker - WARNING - Worker is at 45% memory usage. Resuming worker. Process memory: 452.61 MB -- Worker memory limit: 1000.00 MB\n",
      "distributed.worker - WARNING - Worker is at 91% memory usage. Pausing worker.  Process memory: 918.24 MB -- Worker memory limit: 1000.00 MB\n",
      "distributed.worker - WARNING - Worker is at 48% memory usage. Resuming worker. Process memory: 485.36 MB -- Worker memory limit: 1000.00 MB\n",
      "distributed.worker - WARNING - Worker is at 84% memory usage. Pausing worker.  Process memory: 843.87 MB -- Worker memory limit: 1000.00 MB\n",
      "distributed.worker - WARNING - Worker is at 46% memory usage. Resuming worker. Process memory: 466.10 MB -- Worker memory limit: 1000.00 MB\n",
      "distributed.worker - WARNING - Worker is at 85% memory usage. Pausing worker.  Process memory: 850.13 MB -- Worker memory limit: 1000.00 MB\n",
      "distributed.worker - WARNING - Worker is at 47% memory usage. Resuming worker. Process memory: 471.95 MB -- Worker memory limit: 1000.00 MB\n",
      "distributed.worker - WARNING - Worker is at 85% memory usage. Pausing worker.  Process memory: 855.33 MB -- Worker memory limit: 1000.00 MB\n",
      "distributed.worker - WARNING - Worker is at 59% memory usage. Resuming worker. Process memory: 591.19 MB -- Worker memory limit: 1000.00 MB\n",
      "distributed.worker - WARNING - Worker is at 86% memory usage. Pausing worker.  Process memory: 866.97 MB -- Worker memory limit: 1000.00 MB\n",
      "distributed.worker - WARNING - Worker is at 46% memory usage. Resuming worker. Process memory: 469.45 MB -- Worker memory limit: 1000.00 MB\n",
      "distributed.worker - WARNING - Worker is at 97% memory usage. Pausing worker.  Process memory: 973.06 MB -- Worker memory limit: 1000.00 MB\n",
      "distributed.worker - WARNING - Worker is at 47% memory usage. Resuming worker. Process memory: 474.91 MB -- Worker memory limit: 1000.00 MB\n",
      "distributed.worker - WARNING - Worker is at 86% memory usage. Pausing worker.  Process memory: 866.25 MB -- Worker memory limit: 1000.00 MB\n",
      "distributed.worker - WARNING - Worker is at 59% memory usage. Resuming worker. Process memory: 599.00 MB -- Worker memory limit: 1000.00 MB\n",
      "distributed.worker - WARNING - Worker is at 85% memory usage. Pausing worker.  Process memory: 857.49 MB -- Worker memory limit: 1000.00 MB\n",
      "distributed.worker - WARNING - Worker is at 46% memory usage. Resuming worker. Process memory: 468.27 MB -- Worker memory limit: 1000.00 MB\n",
      "distributed.worker - WARNING - Worker is at 129% memory usage. Pausing worker.  Process memory: 1.30 GB -- Worker memory limit: 1000.00 MB\n",
      "distributed.worker - WARNING - Memory use is high but worker has no data to store to disk.  Perhaps some other process is leaking memory?  Process memory: 1.33 GB -- Worker memory limit: 1000.00 MB\n",
      "distributed.worker - WARNING - Memory use is high but worker has no data to store to disk.  Perhaps some other process is leaking memory?  Process memory: 1.18 GB -- Worker memory limit: 1000.00 MB\n"
     ]
    },
    {
     "name": "stderr",
     "output_type": "stream",
     "text": [
      "distributed.worker - WARNING - Memory use is high but worker has no data to store to disk.  Perhaps some other process is leaking memory?  Process memory: 1.04 GB -- Worker memory limit: 1000.00 MB\n",
      "distributed.worker - WARNING - Memory use is high but worker has no data to store to disk.  Perhaps some other process is leaking memory?  Process memory: 1.02 GB -- Worker memory limit: 1000.00 MB\n",
      "distributed.worker - WARNING - Memory use is high but worker has no data to store to disk.  Perhaps some other process is leaking memory?  Process memory: 1.02 GB -- Worker memory limit: 1000.00 MB\n",
      "distributed.worker - WARNING - Memory use is high but worker has no data to store to disk.  Perhaps some other process is leaking memory?  Process memory: 1.02 GB -- Worker memory limit: 1000.00 MB\n",
      "distributed.worker - WARNING - Memory use is high but worker has no data to store to disk.  Perhaps some other process is leaking memory?  Process memory: 1.02 GB -- Worker memory limit: 1000.00 MB\n",
      "distributed.worker - WARNING - Memory use is high but worker has no data to store to disk.  Perhaps some other process is leaking memory?  Process memory: 1.02 GB -- Worker memory limit: 1000.00 MB\n",
      "distributed.worker - WARNING - Memory use is high but worker has no data to store to disk.  Perhaps some other process is leaking memory?  Process memory: 1.02 GB -- Worker memory limit: 1000.00 MB\n",
      "distributed.worker - WARNING - Memory use is high but worker has no data to store to disk.  Perhaps some other process is leaking memory?  Process memory: 1.02 GB -- Worker memory limit: 1000.00 MB\n",
      "distributed.worker - WARNING - Memory use is high but worker has no data to store to disk.  Perhaps some other process is leaking memory?  Process memory: 1.02 GB -- Worker memory limit: 1000.00 MB\n",
      "distributed.worker - WARNING - Memory use is high but worker has no data to store to disk.  Perhaps some other process is leaking memory?  Process memory: 1.02 GB -- Worker memory limit: 1000.00 MB\n",
      "distributed.worker - WARNING - Worker is at 71% memory usage. Resuming worker. Process memory: 716.98 MB -- Worker memory limit: 1000.00 MB\n",
      "distributed.worker - WARNING - Memory use is high but worker has no data to store to disk.  Perhaps some other process is leaking memory?  Process memory: 716.98 MB -- Worker memory limit: 1000.00 MB\n",
      "distributed.worker - WARNING - Worker is at 85% memory usage. Pausing worker.  Process memory: 859.72 MB -- Worker memory limit: 1000.00 MB\n",
      "distributed.worker - WARNING - Worker is at 59% memory usage. Resuming worker. Process memory: 596.65 MB -- Worker memory limit: 1000.00 MB\n",
      "distributed.worker - WARNING - Worker is at 85% memory usage. Pausing worker.  Process memory: 858.50 MB -- Worker memory limit: 1000.00 MB\n",
      "distributed.worker - WARNING - Worker is at 59% memory usage. Resuming worker. Process memory: 595.62 MB -- Worker memory limit: 1000.00 MB\n",
      "distributed.worker - WARNING - Worker is at 106% memory usage. Pausing worker.  Process memory: 1.06 GB -- Worker memory limit: 1000.00 MB\n",
      "distributed.worker - WARNING - Worker is at 59% memory usage. Resuming worker. Process memory: 594.29 MB -- Worker memory limit: 1000.00 MB\n",
      "distributed.worker - WARNING - Worker is at 84% memory usage. Pausing worker.  Process memory: 844.35 MB -- Worker memory limit: 1000.00 MB\n",
      "distributed.worker - WARNING - Worker is at 46% memory usage. Resuming worker. Process memory: 461.61 MB -- Worker memory limit: 1000.00 MB\n",
      "distributed.worker - WARNING - Worker is at 100% memory usage. Pausing worker.  Process memory: 1.00 GB -- Worker memory limit: 1000.00 MB\n",
      "distributed.worker - WARNING - Worker is at 47% memory usage. Resuming worker. Process memory: 470.53 MB -- Worker memory limit: 1000.00 MB\n",
      "distributed.worker - WARNING - Worker is at 85% memory usage. Pausing worker.  Process memory: 853.52 MB -- Worker memory limit: 1000.00 MB\n",
      "distributed.worker - WARNING - Worker is at 46% memory usage. Resuming worker. Process memory: 465.47 MB -- Worker memory limit: 1000.00 MB\n",
      "distributed.worker - WARNING - Worker is at 87% memory usage. Pausing worker.  Process memory: 870.06 MB -- Worker memory limit: 1000.00 MB\n",
      "distributed.worker - WARNING - Worker is at 59% memory usage. Resuming worker. Process memory: 592.71 MB -- Worker memory limit: 1000.00 MB\n",
      "distributed.worker - WARNING - Worker is at 113% memory usage. Pausing worker.  Process memory: 1.13 GB -- Worker memory limit: 1000.00 MB\n",
      "distributed.worker - WARNING - Worker is at 49% memory usage. Resuming worker. Process memory: 490.82 MB -- Worker memory limit: 1000.00 MB\n",
      "distributed.worker - WARNING - Memory use is high but worker has no data to store to disk.  Perhaps some other process is leaking memory?  Process memory: 601.56 MB -- Worker memory limit: 1000.00 MB\n",
      "distributed.worker - WARNING - Worker is at 85% memory usage. Pausing worker.  Process memory: 854.90 MB -- Worker memory limit: 1000.00 MB\n",
      "distributed.worker - WARNING - Worker is at 46% memory usage. Resuming worker. Process memory: 468.00 MB -- Worker memory limit: 1000.00 MB\n",
      "distributed.worker - WARNING - Worker is at 85% memory usage. Pausing worker.  Process memory: 857.02 MB -- Worker memory limit: 1000.00 MB\n",
      "distributed.worker - WARNING - Worker is at 47% memory usage. Resuming worker. Process memory: 474.93 MB -- Worker memory limit: 1000.00 MB\n",
      "distributed.worker - WARNING - Worker is at 128% memory usage. Pausing worker.  Process memory: 1.28 GB -- Worker memory limit: 1000.00 MB\n",
      "distributed.worker - WARNING - Memory use is high but worker has no data to store to disk.  Perhaps some other process is leaking memory?  Process memory: 1.31 GB -- Worker memory limit: 1000.00 MB\n",
      "distributed.worker - WARNING - Memory use is high but worker has no data to store to disk.  Perhaps some other process is leaking memory?  Process memory: 1.17 GB -- Worker memory limit: 1000.00 MB\n",
      "distributed.worker - WARNING - Memory use is high but worker has no data to store to disk.  Perhaps some other process is leaking memory?  Process memory: 1.17 GB -- Worker memory limit: 1000.00 MB\n",
      "distributed.worker - WARNING - Memory use is high but worker has no data to store to disk.  Perhaps some other process is leaking memory?  Process memory: 1.04 GB -- Worker memory limit: 1000.00 MB\n",
      "distributed.worker - WARNING - Memory use is high but worker has no data to store to disk.  Perhaps some other process is leaking memory?  Process memory: 1.02 GB -- Worker memory limit: 1000.00 MB\n",
      "distributed.worker - WARNING - Memory use is high but worker has no data to store to disk.  Perhaps some other process is leaking memory?  Process memory: 1.02 GB -- Worker memory limit: 1000.00 MB\n",
      "distributed.worker - WARNING - Memory use is high but worker has no data to store to disk.  Perhaps some other process is leaking memory?  Process memory: 1.02 GB -- Worker memory limit: 1000.00 MB\n",
      "distributed.worker - WARNING - Memory use is high but worker has no data to store to disk.  Perhaps some other process is leaking memory?  Process memory: 1.02 GB -- Worker memory limit: 1000.00 MB\n",
      "distributed.worker - WARNING - Memory use is high but worker has no data to store to disk.  Perhaps some other process is leaking memory?  Process memory: 1.02 GB -- Worker memory limit: 1000.00 MB\n",
      "distributed.worker - WARNING - Memory use is high but worker has no data to store to disk.  Perhaps some other process is leaking memory?  Process memory: 1.02 GB -- Worker memory limit: 1000.00 MB\n",
      "distributed.worker - WARNING - Memory use is high but worker has no data to store to disk.  Perhaps some other process is leaking memory?  Process memory: 1.02 GB -- Worker memory limit: 1000.00 MB\n",
      "distributed.worker - WARNING - Memory use is high but worker has no data to store to disk.  Perhaps some other process is leaking memory?  Process memory: 1.02 GB -- Worker memory limit: 1000.00 MB\n",
      "distributed.worker - WARNING - Worker is at 31% memory usage. Resuming worker. Process memory: 319.68 MB -- Worker memory limit: 1000.00 MB\n",
      "distributed.worker - WARNING - Worker is at 84% memory usage. Pausing worker.  Process memory: 847.93 MB -- Worker memory limit: 1000.00 MB\n",
      "distributed.worker - WARNING - Worker is at 59% memory usage. Resuming worker. Process memory: 598.39 MB -- Worker memory limit: 1000.00 MB\n"
     ]
    },
    {
     "name": "stderr",
     "output_type": "stream",
     "text": [
      "distributed.worker - WARNING - Worker is at 85% memory usage. Pausing worker.  Process memory: 852.41 MB -- Worker memory limit: 1000.00 MB\n",
      "distributed.worker - WARNING - Worker is at 46% memory usage. Resuming worker. Process memory: 468.86 MB -- Worker memory limit: 1000.00 MB\n",
      "distributed.worker - WARNING - Worker is at 86% memory usage. Pausing worker.  Process memory: 868.91 MB -- Worker memory limit: 1000.00 MB\n",
      "distributed.worker - WARNING - Worker is at 46% memory usage. Resuming worker. Process memory: 466.12 MB -- Worker memory limit: 1000.00 MB\n",
      "distributed.worker - WARNING - Worker is at 112% memory usage. Pausing worker.  Process memory: 1.13 GB -- Worker memory limit: 1000.00 MB\n",
      "distributed.worker - WARNING - Worker is at 48% memory usage. Resuming worker. Process memory: 486.89 MB -- Worker memory limit: 1000.00 MB\n",
      "distributed.worker - WARNING - Worker is at 85% memory usage. Pausing worker.  Process memory: 850.05 MB -- Worker memory limit: 1000.00 MB\n",
      "distributed.worker - WARNING - Worker is at 59% memory usage. Resuming worker. Process memory: 594.94 MB -- Worker memory limit: 1000.00 MB\n",
      "distributed.worker - WARNING - Worker is at 131% memory usage. Pausing worker.  Process memory: 1.31 GB -- Worker memory limit: 1000.00 MB\n",
      "distributed.worker - WARNING - Memory use is high but worker has no data to store to disk.  Perhaps some other process is leaking memory?  Process memory: 1.04 GB -- Worker memory limit: 1000.00 MB\n",
      "distributed.worker - WARNING - Memory use is high but worker has no data to store to disk.  Perhaps some other process is leaking memory?  Process memory: 1.02 GB -- Worker memory limit: 1000.00 MB\n",
      "distributed.worker - WARNING - Memory use is high but worker has no data to store to disk.  Perhaps some other process is leaking memory?  Process memory: 1.02 GB -- Worker memory limit: 1000.00 MB\n",
      "distributed.worker - WARNING - Memory use is high but worker has no data to store to disk.  Perhaps some other process is leaking memory?  Process memory: 1.02 GB -- Worker memory limit: 1000.00 MB\n",
      "distributed.worker - WARNING - Memory use is high but worker has no data to store to disk.  Perhaps some other process is leaking memory?  Process memory: 1.02 GB -- Worker memory limit: 1000.00 MB\n",
      "distributed.worker - WARNING - Memory use is high but worker has no data to store to disk.  Perhaps some other process is leaking memory?  Process memory: 1.01 GB -- Worker memory limit: 1000.00 MB\n",
      "distributed.worker - WARNING - Memory use is high but worker has no data to store to disk.  Perhaps some other process is leaking memory?  Process memory: 1.01 GB -- Worker memory limit: 1000.00 MB\n",
      "distributed.worker - WARNING - Memory use is high but worker has no data to store to disk.  Perhaps some other process is leaking memory?  Process memory: 1.01 GB -- Worker memory limit: 1000.00 MB\n",
      "distributed.worker - WARNING - Memory use is high but worker has no data to store to disk.  Perhaps some other process is leaking memory?  Process memory: 1.01 GB -- Worker memory limit: 1000.00 MB\n",
      "distributed.worker - WARNING - Memory use is high but worker has no data to store to disk.  Perhaps some other process is leaking memory?  Process memory: 1.01 GB -- Worker memory limit: 1000.00 MB\n",
      "distributed.worker - WARNING - Memory use is high but worker has no data to store to disk.  Perhaps some other process is leaking memory?  Process memory: 1.01 GB -- Worker memory limit: 1000.00 MB\n",
      "distributed.worker - WARNING - Memory use is high but worker has no data to store to disk.  Perhaps some other process is leaking memory?  Process memory: 1.01 GB -- Worker memory limit: 1000.00 MB\n",
      "distributed.worker - WARNING - Memory use is high but worker has no data to store to disk.  Perhaps some other process is leaking memory?  Process memory: 1.01 GB -- Worker memory limit: 1000.00 MB\n",
      "distributed.worker - WARNING - Worker is at 71% memory usage. Resuming worker. Process memory: 713.44 MB -- Worker memory limit: 1000.00 MB\n",
      "distributed.worker - WARNING - Memory use is high but worker has no data to store to disk.  Perhaps some other process is leaking memory?  Process memory: 713.44 MB -- Worker memory limit: 1000.00 MB\n",
      "distributed.worker - WARNING - Worker is at 86% memory usage. Pausing worker.  Process memory: 862.04 MB -- Worker memory limit: 1000.00 MB\n",
      "distributed.worker - WARNING - Worker is at 59% memory usage. Resuming worker. Process memory: 598.08 MB -- Worker memory limit: 1000.00 MB\n",
      "distributed.worker - WARNING - Worker is at 85% memory usage. Pausing worker.  Process memory: 857.55 MB -- Worker memory limit: 1000.00 MB\n",
      "distributed.worker - WARNING - Worker is at 46% memory usage. Resuming worker. Process memory: 468.55 MB -- Worker memory limit: 1000.00 MB\n",
      "distributed.worker - WARNING - Worker is at 85% memory usage. Pausing worker.  Process memory: 852.77 MB -- Worker memory limit: 1000.00 MB\n",
      "distributed.worker - WARNING - Worker is at 47% memory usage. Resuming worker. Process memory: 471.86 MB -- Worker memory limit: 1000.00 MB\n",
      "distributed.worker - WARNING - Worker is at 93% memory usage. Pausing worker.  Process memory: 930.10 MB -- Worker memory limit: 1000.00 MB\n",
      "distributed.worker - WARNING - Worker is at 45% memory usage. Resuming worker. Process memory: 458.91 MB -- Worker memory limit: 1000.00 MB\n",
      "distributed.worker - WARNING - Worker is at 85% memory usage. Pausing worker.  Process memory: 854.48 MB -- Worker memory limit: 1000.00 MB\n",
      "distributed.worker - WARNING - Worker is at 47% memory usage. Resuming worker. Process memory: 475.66 MB -- Worker memory limit: 1000.00 MB\n",
      "distributed.worker - WARNING - Worker is at 86% memory usage. Pausing worker.  Process memory: 867.18 MB -- Worker memory limit: 1000.00 MB\n",
      "distributed.worker - WARNING - Memory use is high but worker has no data to store to disk.  Perhaps some other process is leaking memory?  Process memory: 603.17 MB -- Worker memory limit: 1000.00 MB\n",
      "distributed.worker - WARNING - Worker is at 60% memory usage. Resuming worker. Process memory: 603.17 MB -- Worker memory limit: 1000.00 MB\n",
      "distributed.worker - WARNING - Worker is at 86% memory usage. Pausing worker.  Process memory: 866.66 MB -- Worker memory limit: 1000.00 MB\n",
      "distributed.worker - WARNING - Worker is at 46% memory usage. Resuming worker. Process memory: 460.28 MB -- Worker memory limit: 1000.00 MB\n",
      "distributed.worker - WARNING - Worker is at 108% memory usage. Pausing worker.  Process memory: 1.09 GB -- Worker memory limit: 1000.00 MB\n",
      "distributed.worker - WARNING - Worker is at 57% memory usage. Resuming worker. Process memory: 575.26 MB -- Worker memory limit: 1000.00 MB\n",
      "distributed.worker - WARNING - Worker is at 92% memory usage. Pausing worker.  Process memory: 929.37 MB -- Worker memory limit: 1000.00 MB\n",
      "distributed.worker - WARNING - Worker is at 48% memory usage. Resuming worker. Process memory: 485.99 MB -- Worker memory limit: 1000.00 MB\n",
      "distributed.worker - WARNING - Worker is at 87% memory usage. Pausing worker.  Process memory: 870.34 MB -- Worker memory limit: 1000.00 MB\n",
      "distributed.worker - WARNING - Worker is at 47% memory usage. Resuming worker. Process memory: 476.40 MB -- Worker memory limit: 1000.00 MB\n",
      "distributed.worker - WARNING - Worker is at 85% memory usage. Pausing worker.  Process memory: 853.50 MB -- Worker memory limit: 1000.00 MB\n",
      "distributed.worker - WARNING - Worker is at 47% memory usage. Resuming worker. Process memory: 473.59 MB -- Worker memory limit: 1000.00 MB\n",
      "distributed.worker - WARNING - Worker is at 129% memory usage. Pausing worker.  Process memory: 1.30 GB -- Worker memory limit: 1000.00 MB\n",
      "distributed.worker - WARNING - Memory use is high but worker has no data to store to disk.  Perhaps some other process is leaking memory?  Process memory: 1.06 GB -- Worker memory limit: 1000.00 MB\n",
      "distributed.worker - WARNING - Memory use is high but worker has no data to store to disk.  Perhaps some other process is leaking memory?  Process memory: 1.06 GB -- Worker memory limit: 1000.00 MB\n",
      "distributed.worker - WARNING - Memory use is high but worker has no data to store to disk.  Perhaps some other process is leaking memory?  Process memory: 1.05 GB -- Worker memory limit: 1000.00 MB\n",
      "distributed.worker - WARNING - Memory use is high but worker has no data to store to disk.  Perhaps some other process is leaking memory?  Process memory: 1.04 GB -- Worker memory limit: 1000.00 MB\n"
     ]
    },
    {
     "name": "stderr",
     "output_type": "stream",
     "text": [
      "distributed.worker - WARNING - Memory use is high but worker has no data to store to disk.  Perhaps some other process is leaking memory?  Process memory: 1.04 GB -- Worker memory limit: 1000.00 MB\n",
      "distributed.worker - WARNING - Memory use is high but worker has no data to store to disk.  Perhaps some other process is leaking memory?  Process memory: 1.04 GB -- Worker memory limit: 1000.00 MB\n",
      "distributed.worker - WARNING - Memory use is high but worker has no data to store to disk.  Perhaps some other process is leaking memory?  Process memory: 1.04 GB -- Worker memory limit: 1000.00 MB\n",
      "distributed.worker - WARNING - Memory use is high but worker has no data to store to disk.  Perhaps some other process is leaking memory?  Process memory: 1.04 GB -- Worker memory limit: 1000.00 MB\n",
      "distributed.worker - WARNING - Memory use is high but worker has no data to store to disk.  Perhaps some other process is leaking memory?  Process memory: 1.04 GB -- Worker memory limit: 1000.00 MB\n",
      "distributed.worker - WARNING - Memory use is high but worker has no data to store to disk.  Perhaps some other process is leaking memory?  Process memory: 1.04 GB -- Worker memory limit: 1000.00 MB\n",
      "distributed.worker - WARNING - Memory use is high but worker has no data to store to disk.  Perhaps some other process is leaking memory?  Process memory: 1.04 GB -- Worker memory limit: 1000.00 MB\n",
      "distributed.worker - WARNING - Worker is at 32% memory usage. Resuming worker. Process memory: 321.41 MB -- Worker memory limit: 1000.00 MB\n",
      "distributed.worker - WARNING - Worker is at 85% memory usage. Pausing worker.  Process memory: 852.79 MB -- Worker memory limit: 1000.00 MB\n",
      "distributed.worker - WARNING - Memory use is high but worker has no data to store to disk.  Perhaps some other process is leaking memory?  Process memory: 735.20 MB -- Worker memory limit: 1000.00 MB\n",
      "distributed.worker - WARNING - Worker is at 73% memory usage. Resuming worker. Process memory: 735.20 MB -- Worker memory limit: 1000.00 MB\n",
      "distributed.worker - WARNING - Worker is at 86% memory usage. Pausing worker.  Process memory: 868.67 MB -- Worker memory limit: 1000.00 MB\n",
      "distributed.worker - WARNING - Worker is at 59% memory usage. Resuming worker. Process memory: 593.87 MB -- Worker memory limit: 1000.00 MB\n",
      "distributed.worker - WARNING - Worker is at 86% memory usage. Pausing worker.  Process memory: 865.33 MB -- Worker memory limit: 1000.00 MB\n",
      "distributed.worker - WARNING - Worker is at 45% memory usage. Resuming worker. Process memory: 458.88 MB -- Worker memory limit: 1000.00 MB\n",
      "distributed.worker - WARNING - Worker is at 86% memory usage. Pausing worker.  Process memory: 866.90 MB -- Worker memory limit: 1000.00 MB\n",
      "distributed.worker - WARNING - Worker is at 47% memory usage. Resuming worker. Process memory: 472.43 MB -- Worker memory limit: 1000.00 MB\n",
      "distributed.worker - WARNING - Worker is at 86% memory usage. Pausing worker.  Process memory: 862.17 MB -- Worker memory limit: 1000.00 MB\n",
      "distributed.worker - WARNING - Worker is at 47% memory usage. Resuming worker. Process memory: 476.43 MB -- Worker memory limit: 1000.00 MB\n",
      "distributed.worker - WARNING - Worker is at 86% memory usage. Pausing worker.  Process memory: 869.59 MB -- Worker memory limit: 1000.00 MB\n",
      "distributed.worker - WARNING - Worker is at 46% memory usage. Resuming worker. Process memory: 461.89 MB -- Worker memory limit: 1000.00 MB\n",
      "distributed.worker - WARNING - Worker is at 92% memory usage. Pausing worker.  Process memory: 923.98 MB -- Worker memory limit: 1000.00 MB\n",
      "distributed.worker - WARNING - Worker is at 48% memory usage. Resuming worker. Process memory: 484.13 MB -- Worker memory limit: 1000.00 MB\n",
      "distributed.worker - WARNING - Worker is at 87% memory usage. Pausing worker.  Process memory: 873.75 MB -- Worker memory limit: 1000.00 MB\n",
      "distributed.worker - WARNING - Memory use is high but worker has no data to store to disk.  Perhaps some other process is leaking memory?  Process memory: 745.07 MB -- Worker memory limit: 1000.00 MB\n",
      "distributed.worker - WARNING - Worker is at 74% memory usage. Resuming worker. Process memory: 745.07 MB -- Worker memory limit: 1000.00 MB\n",
      "distributed.worker - WARNING - Memory use is high but worker has no data to store to disk.  Perhaps some other process is leaking memory?  Process memory: 914.97 MB -- Worker memory limit: 1000.00 MB\n",
      "distributed.worker - WARNING - Worker is at 91% memory usage. Pausing worker.  Process memory: 914.97 MB -- Worker memory limit: 1000.00 MB\n",
      "distributed.worker - WARNING - Memory use is high but worker has no data to store to disk.  Perhaps some other process is leaking memory?  Process memory: 1.33 GB -- Worker memory limit: 1000.00 MB\n",
      "distributed.worker - WARNING - Memory use is high but worker has no data to store to disk.  Perhaps some other process is leaking memory?  Process memory: 1.06 GB -- Worker memory limit: 1000.00 MB\n",
      "distributed.worker - WARNING - Memory use is high but worker has no data to store to disk.  Perhaps some other process is leaking memory?  Process memory: 1.04 GB -- Worker memory limit: 1000.00 MB\n",
      "distributed.worker - WARNING - Memory use is high but worker has no data to store to disk.  Perhaps some other process is leaking memory?  Process memory: 1.03 GB -- Worker memory limit: 1000.00 MB\n",
      "distributed.worker - WARNING - Memory use is high but worker has no data to store to disk.  Perhaps some other process is leaking memory?  Process memory: 1.03 GB -- Worker memory limit: 1000.00 MB\n",
      "distributed.worker - WARNING - Memory use is high but worker has no data to store to disk.  Perhaps some other process is leaking memory?  Process memory: 1.03 GB -- Worker memory limit: 1000.00 MB\n",
      "distributed.worker - WARNING - Memory use is high but worker has no data to store to disk.  Perhaps some other process is leaking memory?  Process memory: 1.03 GB -- Worker memory limit: 1000.00 MB\n",
      "distributed.worker - WARNING - Memory use is high but worker has no data to store to disk.  Perhaps some other process is leaking memory?  Process memory: 1.03 GB -- Worker memory limit: 1000.00 MB\n",
      "distributed.worker - WARNING - Memory use is high but worker has no data to store to disk.  Perhaps some other process is leaking memory?  Process memory: 1.03 GB -- Worker memory limit: 1000.00 MB\n",
      "distributed.worker - WARNING - Memory use is high but worker has no data to store to disk.  Perhaps some other process is leaking memory?  Process memory: 1.03 GB -- Worker memory limit: 1000.00 MB\n",
      "distributed.worker - WARNING - Memory use is high but worker has no data to store to disk.  Perhaps some other process is leaking memory?  Process memory: 1.03 GB -- Worker memory limit: 1000.00 MB\n",
      "distributed.worker - WARNING - Memory use is high but worker has no data to store to disk.  Perhaps some other process is leaking memory?  Process memory: 1.03 GB -- Worker memory limit: 1000.00 MB\n",
      "distributed.worker - WARNING - Memory use is high but worker has no data to store to disk.  Perhaps some other process is leaking memory?  Process memory: 1.03 GB -- Worker memory limit: 1000.00 MB\n",
      "distributed.worker - WARNING - Memory use is high but worker has no data to store to disk.  Perhaps some other process is leaking memory?  Process memory: 1.03 GB -- Worker memory limit: 1000.00 MB\n",
      "distributed.worker - WARNING - Memory use is high but worker has no data to store to disk.  Perhaps some other process is leaking memory?  Process memory: 1.03 GB -- Worker memory limit: 1000.00 MB\n",
      "distributed.worker - WARNING - Worker is at 32% memory usage. Resuming worker. Process memory: 324.30 MB -- Worker memory limit: 1000.00 MB\n",
      "distributed.worker - WARNING - Memory use is high but worker has no data to store to disk.  Perhaps some other process is leaking memory?  Process memory: 600.69 MB -- Worker memory limit: 1000.00 MB\n",
      "distributed.worker - WARNING - Worker is at 100% memory usage. Pausing worker.  Process memory: 1.01 GB -- Worker memory limit: 1000.00 MB\n",
      "distributed.worker - WARNING - Worker is at 59% memory usage. Resuming worker. Process memory: 599.32 MB -- Worker memory limit: 1000.00 MB\n",
      "distributed.worker - WARNING - Worker is at 86% memory usage. Pausing worker.  Process memory: 860.14 MB -- Worker memory limit: 1000.00 MB\n"
     ]
    },
    {
     "name": "stderr",
     "output_type": "stream",
     "text": [
      "distributed.worker - WARNING - Worker is at 47% memory usage. Resuming worker. Process memory: 476.43 MB -- Worker memory limit: 1000.00 MB\n",
      "distributed.worker - WARNING - Worker is at 85% memory usage. Pausing worker.  Process memory: 856.62 MB -- Worker memory limit: 1000.00 MB\n",
      "distributed.worker - WARNING - Worker is at 47% memory usage. Resuming worker. Process memory: 473.93 MB -- Worker memory limit: 1000.00 MB\n",
      "distributed.worker - WARNING - Worker is at 86% memory usage. Pausing worker.  Process memory: 862.47 MB -- Worker memory limit: 1000.00 MB\n",
      "distributed.worker - WARNING - Memory use is high but worker has no data to store to disk.  Perhaps some other process is leaking memory?  Process memory: 601.79 MB -- Worker memory limit: 1000.00 MB\n",
      "distributed.worker - WARNING - Worker is at 60% memory usage. Resuming worker. Process memory: 601.79 MB -- Worker memory limit: 1000.00 MB\n",
      "distributed.worker - WARNING - Worker is at 85% memory usage. Pausing worker.  Process memory: 858.01 MB -- Worker memory limit: 1000.00 MB\n",
      "distributed.worker - WARNING - Worker is at 47% memory usage. Resuming worker. Process memory: 475.82 MB -- Worker memory limit: 1000.00 MB\n",
      "distributed.worker - WARNING - Worker is at 86% memory usage. Pausing worker.  Process memory: 865.86 MB -- Worker memory limit: 1000.00 MB\n",
      "distributed.worker - WARNING - Worker is at 47% memory usage. Resuming worker. Process memory: 475.00 MB -- Worker memory limit: 1000.00 MB\n",
      "distributed.worker - WARNING - Worker is at 98% memory usage. Pausing worker.  Process memory: 982.94 MB -- Worker memory limit: 1000.00 MB\n",
      "distributed.worker - WARNING - Worker is at 57% memory usage. Resuming worker. Process memory: 573.66 MB -- Worker memory limit: 1000.00 MB\n",
      "distributed.worker - WARNING - Worker is at 93% memory usage. Pausing worker.  Process memory: 931.04 MB -- Worker memory limit: 1000.00 MB\n",
      "distributed.worker - WARNING - Worker is at 48% memory usage. Resuming worker. Process memory: 482.46 MB -- Worker memory limit: 1000.00 MB\n",
      "distributed.worker - WARNING - Worker is at 87% memory usage. Pausing worker.  Process memory: 871.29 MB -- Worker memory limit: 1000.00 MB\n",
      "distributed.worker - WARNING - Worker is at 47% memory usage. Resuming worker. Process memory: 476.46 MB -- Worker memory limit: 1000.00 MB\n",
      "distributed.worker - WARNING - Worker is at 87% memory usage. Pausing worker.  Process memory: 870.12 MB -- Worker memory limit: 1000.00 MB\n",
      "distributed.worker - WARNING - Worker is at 48% memory usage. Resuming worker. Process memory: 484.71 MB -- Worker memory limit: 1000.00 MB\n",
      "distributed.worker - WARNING - Worker is at 129% memory usage. Pausing worker.  Process memory: 1.29 GB -- Worker memory limit: 1000.00 MB\n",
      "distributed.worker - WARNING - Memory use is high but worker has no data to store to disk.  Perhaps some other process is leaking memory?  Process memory: 1.03 GB -- Worker memory limit: 1000.00 MB\n",
      "distributed.worker - WARNING - Memory use is high but worker has no data to store to disk.  Perhaps some other process is leaking memory?  Process memory: 1.02 GB -- Worker memory limit: 1000.00 MB\n",
      "distributed.worker - WARNING - Memory use is high but worker has no data to store to disk.  Perhaps some other process is leaking memory?  Process memory: 1.02 GB -- Worker memory limit: 1000.00 MB\n",
      "distributed.worker - WARNING - Memory use is high but worker has no data to store to disk.  Perhaps some other process is leaking memory?  Process memory: 1.02 GB -- Worker memory limit: 1000.00 MB\n",
      "distributed.worker - WARNING - Memory use is high but worker has no data to store to disk.  Perhaps some other process is leaking memory?  Process memory: 1.02 GB -- Worker memory limit: 1000.00 MB\n",
      "distributed.worker - WARNING - Memory use is high but worker has no data to store to disk.  Perhaps some other process is leaking memory?  Process memory: 1.02 GB -- Worker memory limit: 1000.00 MB\n",
      "distributed.worker - WARNING - Memory use is high but worker has no data to store to disk.  Perhaps some other process is leaking memory?  Process memory: 1.01 GB -- Worker memory limit: 1000.00 MB\n",
      "distributed.worker - WARNING - Memory use is high but worker has no data to store to disk.  Perhaps some other process is leaking memory?  Process memory: 1.01 GB -- Worker memory limit: 1000.00 MB\n",
      "distributed.worker - WARNING - Memory use is high but worker has no data to store to disk.  Perhaps some other process is leaking memory?  Process memory: 1.01 GB -- Worker memory limit: 1000.00 MB\n",
      "distributed.worker - WARNING - Memory use is high but worker has no data to store to disk.  Perhaps some other process is leaking memory?  Process memory: 1.01 GB -- Worker memory limit: 1000.00 MB\n",
      "distributed.worker - WARNING - Memory use is high but worker has no data to store to disk.  Perhaps some other process is leaking memory?  Process memory: 1.01 GB -- Worker memory limit: 1000.00 MB\n",
      "distributed.worker - WARNING - Memory use is high but worker has no data to store to disk.  Perhaps some other process is leaking memory?  Process memory: 1.01 GB -- Worker memory limit: 1000.00 MB\n",
      "distributed.worker - WARNING - Memory use is high but worker has no data to store to disk.  Perhaps some other process is leaking memory?  Process memory: 1.01 GB -- Worker memory limit: 1000.00 MB\n",
      "distributed.worker - WARNING - Memory use is high but worker has no data to store to disk.  Perhaps some other process is leaking memory?  Process memory: 1.01 GB -- Worker memory limit: 1000.00 MB\n",
      "distributed.worker - WARNING - Worker is at 31% memory usage. Resuming worker. Process memory: 319.32 MB -- Worker memory limit: 1000.00 MB\n",
      "distributed.worker - WARNING - Worker is at 84% memory usage. Pausing worker.  Process memory: 848.29 MB -- Worker memory limit: 1000.00 MB\n",
      "distributed.worker - WARNING - Memory use is high but worker has no data to store to disk.  Perhaps some other process is leaking memory?  Process memory: 601.70 MB -- Worker memory limit: 1000.00 MB\n",
      "distributed.worker - WARNING - Worker is at 60% memory usage. Resuming worker. Process memory: 601.70 MB -- Worker memory limit: 1000.00 MB\n",
      "distributed.worker - WARNING - Worker is at 85% memory usage. Pausing worker.  Process memory: 858.61 MB -- Worker memory limit: 1000.00 MB\n",
      "distributed.worker - WARNING - Worker is at 45% memory usage. Resuming worker. Process memory: 459.72 MB -- Worker memory limit: 1000.00 MB\n",
      "distributed.worker - WARNING - Worker is at 86% memory usage. Pausing worker.  Process memory: 864.15 MB -- Worker memory limit: 1000.00 MB\n",
      "distributed.worker - WARNING - Worker is at 46% memory usage. Resuming worker. Process memory: 469.74 MB -- Worker memory limit: 1000.00 MB\n",
      "distributed.worker - WARNING - Worker is at 86% memory usage. Pausing worker.  Process memory: 865.89 MB -- Worker memory limit: 1000.00 MB\n",
      "distributed.worker - WARNING - Worker is at 46% memory usage. Resuming worker. Process memory: 468.78 MB -- Worker memory limit: 1000.00 MB\n",
      "distributed.worker - WARNING - Worker is at 85% memory usage. Pausing worker.  Process memory: 850.06 MB -- Worker memory limit: 1000.00 MB\n",
      "distributed.worker - WARNING - Worker is at 32% memory usage. Resuming worker. Process memory: 321.66 MB -- Worker memory limit: 1000.00 MB\n",
      "distributed.worker - WARNING - Worker is at 87% memory usage. Pausing worker.  Process memory: 874.41 MB -- Worker memory limit: 1000.00 MB\n",
      "distributed.worker - WARNING - Worker is at 46% memory usage. Resuming worker. Process memory: 460.84 MB -- Worker memory limit: 1000.00 MB\n",
      "distributed.worker - WARNING - Worker is at 98% memory usage. Pausing worker.  Process memory: 980.87 MB -- Worker memory limit: 1000.00 MB\n",
      "distributed.worker - WARNING - Worker is at 48% memory usage. Resuming worker. Process memory: 489.35 MB -- Worker memory limit: 1000.00 MB\n",
      "distributed.worker - WARNING - Worker is at 86% memory usage. Pausing worker.  Process memory: 863.83 MB -- Worker memory limit: 1000.00 MB\n",
      "distributed.worker - WARNING - Worker is at 46% memory usage. Resuming worker. Process memory: 468.94 MB -- Worker memory limit: 1000.00 MB\n",
      "distributed.worker - WARNING - Worker is at 113% memory usage. Pausing worker.  Process memory: 1.14 GB -- Worker memory limit: 1000.00 MB\n"
     ]
    },
    {
     "name": "stderr",
     "output_type": "stream",
     "text": [
      "distributed.worker - WARNING - Memory use is high but worker has no data to store to disk.  Perhaps some other process is leaking memory?  Process memory: 1.36 GB -- Worker memory limit: 1000.00 MB\n",
      "distributed.worker - WARNING - Memory use is high but worker has no data to store to disk.  Perhaps some other process is leaking memory?  Process memory: 1.08 GB -- Worker memory limit: 1000.00 MB\n",
      "distributed.worker - WARNING - Memory use is high but worker has no data to store to disk.  Perhaps some other process is leaking memory?  Process memory: 1.07 GB -- Worker memory limit: 1000.00 MB\n",
      "distributed.worker - WARNING - Memory use is high but worker has no data to store to disk.  Perhaps some other process is leaking memory?  Process memory: 1.06 GB -- Worker memory limit: 1000.00 MB\n",
      "distributed.worker - WARNING - Memory use is high but worker has no data to store to disk.  Perhaps some other process is leaking memory?  Process memory: 1.06 GB -- Worker memory limit: 1000.00 MB\n",
      "distributed.worker - WARNING - Memory use is high but worker has no data to store to disk.  Perhaps some other process is leaking memory?  Process memory: 1.06 GB -- Worker memory limit: 1000.00 MB\n",
      "distributed.worker - WARNING - Memory use is high but worker has no data to store to disk.  Perhaps some other process is leaking memory?  Process memory: 1.06 GB -- Worker memory limit: 1000.00 MB\n",
      "distributed.worker - WARNING - Memory use is high but worker has no data to store to disk.  Perhaps some other process is leaking memory?  Process memory: 1.06 GB -- Worker memory limit: 1000.00 MB\n",
      "distributed.worker - WARNING - Memory use is high but worker has no data to store to disk.  Perhaps some other process is leaking memory?  Process memory: 1.06 GB -- Worker memory limit: 1000.00 MB\n",
      "distributed.worker - WARNING - Memory use is high but worker has no data to store to disk.  Perhaps some other process is leaking memory?  Process memory: 1.06 GB -- Worker memory limit: 1000.00 MB\n",
      "distributed.worker - WARNING - Memory use is high but worker has no data to store to disk.  Perhaps some other process is leaking memory?  Process memory: 1.06 GB -- Worker memory limit: 1000.00 MB\n",
      "distributed.worker - WARNING - Memory use is high but worker has no data to store to disk.  Perhaps some other process is leaking memory?  Process memory: 1.06 GB -- Worker memory limit: 1000.00 MB\n",
      "distributed.worker - WARNING - Memory use is high but worker has no data to store to disk.  Perhaps some other process is leaking memory?  Process memory: 1.06 GB -- Worker memory limit: 1000.00 MB\n",
      "distributed.worker - WARNING - Memory use is high but worker has no data to store to disk.  Perhaps some other process is leaking memory?  Process memory: 1.06 GB -- Worker memory limit: 1000.00 MB\n",
      "distributed.worker - WARNING - Memory use is high but worker has no data to store to disk.  Perhaps some other process is leaking memory?  Process memory: 1.06 GB -- Worker memory limit: 1000.00 MB\n",
      "distributed.worker - WARNING - Worker is at 32% memory usage. Resuming worker. Process memory: 320.80 MB -- Worker memory limit: 1000.00 MB\n",
      "distributed.worker - WARNING - Worker is at 85% memory usage. Pausing worker.  Process memory: 858.12 MB -- Worker memory limit: 1000.00 MB\n",
      "distributed.worker - WARNING - Worker is at 46% memory usage. Resuming worker. Process memory: 468.70 MB -- Worker memory limit: 1000.00 MB\n",
      "distributed.worker - WARNING - Worker is at 85% memory usage. Pausing worker.  Process memory: 852.02 MB -- Worker memory limit: 1000.00 MB\n",
      "distributed.worker - WARNING - Worker is at 46% memory usage. Resuming worker. Process memory: 465.42 MB -- Worker memory limit: 1000.00 MB\n",
      "distributed.worker - WARNING - Worker is at 85% memory usage. Pausing worker.  Process memory: 856.63 MB -- Worker memory limit: 1000.00 MB\n",
      "distributed.worker - WARNING - Worker is at 59% memory usage. Resuming worker. Process memory: 597.46 MB -- Worker memory limit: 1000.00 MB\n",
      "distributed.worker - WARNING - Worker is at 85% memory usage. Pausing worker.  Process memory: 850.98 MB -- Worker memory limit: 1000.00 MB\n",
      "distributed.worker - WARNING - Worker is at 46% memory usage. Resuming worker. Process memory: 469.77 MB -- Worker memory limit: 1000.00 MB\n",
      "distributed.worker - WARNING - Worker is at 86% memory usage. Pausing worker.  Process memory: 862.74 MB -- Worker memory limit: 1000.00 MB\n",
      "distributed.worker - WARNING - Worker is at 46% memory usage. Resuming worker. Process memory: 465.52 MB -- Worker memory limit: 1000.00 MB\n",
      "distributed.worker - WARNING - Worker is at 88% memory usage. Pausing worker.  Process memory: 880.41 MB -- Worker memory limit: 1000.00 MB\n",
      "distributed.worker - WARNING - Worker is at 46% memory usage. Resuming worker. Process memory: 469.58 MB -- Worker memory limit: 1000.00 MB\n",
      "distributed.worker - WARNING - Worker is at 108% memory usage. Pausing worker.  Process memory: 1.08 GB -- Worker memory limit: 1000.00 MB\n",
      "distributed.worker - WARNING - Worker is at 48% memory usage. Resuming worker. Process memory: 483.14 MB -- Worker memory limit: 1000.00 MB\n",
      "distributed.worker - WARNING - Worker is at 87% memory usage. Pausing worker.  Process memory: 871.14 MB -- Worker memory limit: 1000.00 MB\n",
      "distributed.worker - WARNING - Worker is at 47% memory usage. Resuming worker. Process memory: 479.57 MB -- Worker memory limit: 1000.00 MB\n",
      "distributed.worker - WARNING - Worker is at 85% memory usage. Pausing worker.  Process memory: 856.79 MB -- Worker memory limit: 1000.00 MB\n",
      "distributed.worker - WARNING - Memory use is high but worker has no data to store to disk.  Perhaps some other process is leaking memory?  Process memory: 600.29 MB -- Worker memory limit: 1000.00 MB\n",
      "distributed.worker - WARNING - Worker is at 60% memory usage. Resuming worker. Process memory: 600.29 MB -- Worker memory limit: 1000.00 MB\n",
      "distributed.worker - WARNING - Memory use is high but worker has no data to store to disk.  Perhaps some other process is leaking memory?  Process memory: 802.91 MB -- Worker memory limit: 1000.00 MB\n",
      "distributed.worker - WARNING - Worker is at 80% memory usage. Pausing worker.  Process memory: 802.91 MB -- Worker memory limit: 1000.00 MB\n",
      "distributed.worker - WARNING - Memory use is high but worker has no data to store to disk.  Perhaps some other process is leaking memory?  Process memory: 1.35 GB -- Worker memory limit: 1000.00 MB\n",
      "distributed.worker - WARNING - Memory use is high but worker has no data to store to disk.  Perhaps some other process is leaking memory?  Process memory: 1.07 GB -- Worker memory limit: 1000.00 MB\n",
      "distributed.worker - WARNING - Memory use is high but worker has no data to store to disk.  Perhaps some other process is leaking memory?  Process memory: 1.04 GB -- Worker memory limit: 1000.00 MB\n",
      "distributed.worker - WARNING - Memory use is high but worker has no data to store to disk.  Perhaps some other process is leaking memory?  Process memory: 1.04 GB -- Worker memory limit: 1000.00 MB\n",
      "distributed.worker - WARNING - Memory use is high but worker has no data to store to disk.  Perhaps some other process is leaking memory?  Process memory: 1.04 GB -- Worker memory limit: 1000.00 MB\n",
      "distributed.worker - WARNING - Memory use is high but worker has no data to store to disk.  Perhaps some other process is leaking memory?  Process memory: 1.04 GB -- Worker memory limit: 1000.00 MB\n",
      "distributed.worker - WARNING - Memory use is high but worker has no data to store to disk.  Perhaps some other process is leaking memory?  Process memory: 1.04 GB -- Worker memory limit: 1000.00 MB\n",
      "distributed.worker - WARNING - Memory use is high but worker has no data to store to disk.  Perhaps some other process is leaking memory?  Process memory: 1.04 GB -- Worker memory limit: 1000.00 MB\n",
      "distributed.worker - WARNING - Memory use is high but worker has no data to store to disk.  Perhaps some other process is leaking memory?  Process memory: 1.04 GB -- Worker memory limit: 1000.00 MB\n",
      "distributed.worker - WARNING - Memory use is high but worker has no data to store to disk.  Perhaps some other process is leaking memory?  Process memory: 1.04 GB -- Worker memory limit: 1000.00 MB\n",
      "distributed.worker - WARNING - Memory use is high but worker has no data to store to disk.  Perhaps some other process is leaking memory?  Process memory: 1.04 GB -- Worker memory limit: 1000.00 MB\n"
     ]
    },
    {
     "name": "stderr",
     "output_type": "stream",
     "text": [
      "distributed.worker - WARNING - Memory use is high but worker has no data to store to disk.  Perhaps some other process is leaking memory?  Process memory: 1.04 GB -- Worker memory limit: 1000.00 MB\n",
      "distributed.worker - WARNING - Memory use is high but worker has no data to store to disk.  Perhaps some other process is leaking memory?  Process memory: 1.04 GB -- Worker memory limit: 1000.00 MB\n",
      "distributed.worker - WARNING - Memory use is high but worker has no data to store to disk.  Perhaps some other process is leaking memory?  Process memory: 1.04 GB -- Worker memory limit: 1000.00 MB\n",
      "distributed.worker - WARNING - Memory use is high but worker has no data to store to disk.  Perhaps some other process is leaking memory?  Process memory: 1.04 GB -- Worker memory limit: 1000.00 MB\n",
      "distributed.worker - WARNING - Worker is at 31% memory usage. Resuming worker. Process memory: 317.86 MB -- Worker memory limit: 1000.00 MB\n",
      "distributed.worker - WARNING - Worker is at 86% memory usage. Pausing worker.  Process memory: 868.95 MB -- Worker memory limit: 1000.00 MB\n",
      "distributed.worker - WARNING - Worker is at 57% memory usage. Resuming worker. Process memory: 576.77 MB -- Worker memory limit: 1000.00 MB\n",
      "distributed.worker - WARNING - Worker is at 99% memory usage. Pausing worker.  Process memory: 993.63 MB -- Worker memory limit: 1000.00 MB\n",
      "distributed.worker - WARNING - Worker is at 45% memory usage. Resuming worker. Process memory: 459.46 MB -- Worker memory limit: 1000.00 MB\n",
      "distributed.worker - WARNING - Memory use is high but worker has no data to store to disk.  Perhaps some other process is leaking memory?  Process memory: 603.09 MB -- Worker memory limit: 1000.00 MB\n",
      "distributed.worker - WARNING - Worker is at 86% memory usage. Pausing worker.  Process memory: 868.48 MB -- Worker memory limit: 1000.00 MB\n",
      "distributed.worker - WARNING - Worker is at 46% memory usage. Resuming worker. Process memory: 464.05 MB -- Worker memory limit: 1000.00 MB\n",
      "distributed.worker - WARNING - Worker is at 87% memory usage. Pausing worker.  Process memory: 870.77 MB -- Worker memory limit: 1000.00 MB\n",
      "distributed.worker - WARNING - Worker is at 48% memory usage. Resuming worker. Process memory: 480.01 MB -- Worker memory limit: 1000.00 MB\n",
      "distributed.worker - WARNING - Worker is at 86% memory usage. Pausing worker.  Process memory: 862.19 MB -- Worker memory limit: 1000.00 MB\n",
      "distributed.worker - WARNING - Worker is at 47% memory usage. Resuming worker. Process memory: 479.87 MB -- Worker memory limit: 1000.00 MB\n",
      "distributed.worker - WARNING - Worker is at 85% memory usage. Pausing worker.  Process memory: 858.23 MB -- Worker memory limit: 1000.00 MB\n",
      "distributed.worker - WARNING - Worker is at 59% memory usage. Resuming worker. Process memory: 597.83 MB -- Worker memory limit: 1000.00 MB\n",
      "distributed.worker - WARNING - Worker is at 87% memory usage. Pausing worker.  Process memory: 875.07 MB -- Worker memory limit: 1000.00 MB\n",
      "distributed.worker - WARNING - Worker is at 48% memory usage. Resuming worker. Process memory: 480.81 MB -- Worker memory limit: 1000.00 MB\n",
      "distributed.worker - WARNING - Worker is at 124% memory usage. Pausing worker.  Process memory: 1.24 GB -- Worker memory limit: 1000.00 MB\n",
      "distributed.worker - WARNING - Worker is at 48% memory usage. Resuming worker. Process memory: 484.68 MB -- Worker memory limit: 1000.00 MB\n",
      "distributed.worker - WARNING - Worker is at 87% memory usage. Pausing worker.  Process memory: 876.72 MB -- Worker memory limit: 1000.00 MB\n",
      "distributed.worker - WARNING - Worker is at 48% memory usage. Resuming worker. Process memory: 484.94 MB -- Worker memory limit: 1000.00 MB\n",
      "distributed.worker - WARNING - Worker is at 86% memory usage. Pausing worker.  Process memory: 865.58 MB -- Worker memory limit: 1000.00 MB\n",
      "distributed.worker - WARNING - Worker is at 48% memory usage. Resuming worker. Process memory: 483.62 MB -- Worker memory limit: 1000.00 MB\n",
      "distributed.worker - WARNING - Worker is at 85% memory usage. Pausing worker.  Process memory: 859.09 MB -- Worker memory limit: 1000.00 MB\n",
      "distributed.worker - WARNING - Worker is at 48% memory usage. Resuming worker. Process memory: 481.08 MB -- Worker memory limit: 1000.00 MB\n",
      "distributed.worker - WARNING - Worker is at 114% memory usage. Pausing worker.  Process memory: 1.15 GB -- Worker memory limit: 1000.00 MB\n",
      "distributed.worker - WARNING - Memory use is high but worker has no data to store to disk.  Perhaps some other process is leaking memory?  Process memory: 1.04 GB -- Worker memory limit: 1000.00 MB\n",
      "distributed.worker - WARNING - Memory use is high but worker has no data to store to disk.  Perhaps some other process is leaking memory?  Process memory: 1.03 GB -- Worker memory limit: 1000.00 MB\n",
      "distributed.worker - WARNING - Memory use is high but worker has no data to store to disk.  Perhaps some other process is leaking memory?  Process memory: 1.03 GB -- Worker memory limit: 1000.00 MB\n",
      "distributed.worker - WARNING - Memory use is high but worker has no data to store to disk.  Perhaps some other process is leaking memory?  Process memory: 1.03 GB -- Worker memory limit: 1000.00 MB\n",
      "distributed.worker - WARNING - Memory use is high but worker has no data to store to disk.  Perhaps some other process is leaking memory?  Process memory: 1.02 GB -- Worker memory limit: 1000.00 MB\n",
      "distributed.worker - WARNING - Memory use is high but worker has no data to store to disk.  Perhaps some other process is leaking memory?  Process memory: 1.02 GB -- Worker memory limit: 1000.00 MB\n",
      "distributed.worker - WARNING - Memory use is high but worker has no data to store to disk.  Perhaps some other process is leaking memory?  Process memory: 1.02 GB -- Worker memory limit: 1000.00 MB\n",
      "distributed.worker - WARNING - Memory use is high but worker has no data to store to disk.  Perhaps some other process is leaking memory?  Process memory: 1.02 GB -- Worker memory limit: 1000.00 MB\n",
      "distributed.worker - WARNING - Memory use is high but worker has no data to store to disk.  Perhaps some other process is leaking memory?  Process memory: 1.02 GB -- Worker memory limit: 1000.00 MB\n",
      "distributed.worker - WARNING - Memory use is high but worker has no data to store to disk.  Perhaps some other process is leaking memory?  Process memory: 1.02 GB -- Worker memory limit: 1000.00 MB\n",
      "distributed.worker - WARNING - Memory use is high but worker has no data to store to disk.  Perhaps some other process is leaking memory?  Process memory: 1.02 GB -- Worker memory limit: 1000.00 MB\n",
      "distributed.worker - WARNING - Memory use is high but worker has no data to store to disk.  Perhaps some other process is leaking memory?  Process memory: 1.02 GB -- Worker memory limit: 1000.00 MB\n",
      "distributed.worker - WARNING - Memory use is high but worker has no data to store to disk.  Perhaps some other process is leaking memory?  Process memory: 1.02 GB -- Worker memory limit: 1000.00 MB\n",
      "distributed.worker - WARNING - Worker is at 32% memory usage. Resuming worker. Process memory: 321.43 MB -- Worker memory limit: 1000.00 MB\n",
      "distributed.worker - WARNING - Worker is at 85% memory usage. Pausing worker.  Process memory: 857.30 MB -- Worker memory limit: 1000.00 MB\n",
      "distributed.worker - WARNING - Worker is at 46% memory usage. Resuming worker. Process memory: 467.44 MB -- Worker memory limit: 1000.00 MB\n",
      "distributed.worker - WARNING - Memory use is high but worker has no data to store to disk.  Perhaps some other process is leaking memory?  Process memory: 601.58 MB -- Worker memory limit: 1000.00 MB\n",
      "distributed.worker - WARNING - Worker is at 86% memory usage. Pausing worker.  Process memory: 861.12 MB -- Worker memory limit: 1000.00 MB\n",
      "distributed.worker - WARNING - Worker is at 47% memory usage. Resuming worker. Process memory: 473.67 MB -- Worker memory limit: 1000.00 MB\n",
      "distributed.worker - WARNING - Worker is at 86% memory usage. Pausing worker.  Process memory: 869.39 MB -- Worker memory limit: 1000.00 MB\n",
      "distributed.worker - WARNING - Worker is at 48% memory usage. Resuming worker. Process memory: 483.11 MB -- Worker memory limit: 1000.00 MB\n",
      "distributed.worker - WARNING - Worker is at 86% memory usage. Pausing worker.  Process memory: 867.91 MB -- Worker memory limit: 1000.00 MB\n"
     ]
    },
    {
     "name": "stderr",
     "output_type": "stream",
     "text": [
      "distributed.worker - WARNING - Memory use is high but worker has no data to store to disk.  Perhaps some other process is leaking memory?  Process memory: 604.85 MB -- Worker memory limit: 1000.00 MB\n",
      "distributed.worker - WARNING - Worker is at 60% memory usage. Resuming worker. Process memory: 604.85 MB -- Worker memory limit: 1000.00 MB\n",
      "distributed.worker - WARNING - Worker is at 86% memory usage. Pausing worker.  Process memory: 866.01 MB -- Worker memory limit: 1000.00 MB\n",
      "distributed.worker - WARNING - Worker is at 48% memory usage. Resuming worker. Process memory: 483.59 MB -- Worker memory limit: 1000.00 MB\n",
      "distributed.worker - WARNING - Worker is at 87% memory usage. Pausing worker.  Process memory: 877.98 MB -- Worker memory limit: 1000.00 MB\n",
      "distributed.worker - WARNING - Worker is at 48% memory usage. Resuming worker. Process memory: 483.41 MB -- Worker memory limit: 1000.00 MB\n",
      "distributed.worker - WARNING - Worker is at 99% memory usage. Pausing worker.  Process memory: 990.98 MB -- Worker memory limit: 1000.00 MB\n",
      "distributed.worker - WARNING - Worker is at 58% memory usage. Resuming worker. Process memory: 582.73 MB -- Worker memory limit: 1000.00 MB\n",
      "distributed.worker - WARNING - Worker is at 93% memory usage. Pausing worker.  Process memory: 939.07 MB -- Worker memory limit: 1000.00 MB\n",
      "distributed.worker - WARNING - Memory use is high but worker has no data to store to disk.  Perhaps some other process is leaking memory?  Process memory: 636.97 MB -- Worker memory limit: 1000.00 MB\n",
      "distributed.worker - WARNING - Worker is at 63% memory usage. Resuming worker. Process memory: 636.97 MB -- Worker memory limit: 1000.00 MB\n",
      "distributed.worker - WARNING - Worker is at 85% memory usage. Pausing worker.  Process memory: 858.45 MB -- Worker memory limit: 1000.00 MB\n",
      "distributed.worker - WARNING - Worker is at 47% memory usage. Resuming worker. Process memory: 478.07 MB -- Worker memory limit: 1000.00 MB\n",
      "distributed.worker - WARNING - Worker is at 115% memory usage. Pausing worker.  Process memory: 1.15 GB -- Worker memory limit: 1000.00 MB\n",
      "distributed.worker - WARNING - Memory use is high but worker has no data to store to disk.  Perhaps some other process is leaking memory?  Process memory: 1.04 GB -- Worker memory limit: 1000.00 MB\n",
      "distributed.worker - WARNING - Memory use is high but worker has no data to store to disk.  Perhaps some other process is leaking memory?  Process memory: 1.03 GB -- Worker memory limit: 1000.00 MB\n",
      "distributed.worker - WARNING - Memory use is high but worker has no data to store to disk.  Perhaps some other process is leaking memory?  Process memory: 1.03 GB -- Worker memory limit: 1000.00 MB\n",
      "distributed.worker - WARNING - Memory use is high but worker has no data to store to disk.  Perhaps some other process is leaking memory?  Process memory: 1.03 GB -- Worker memory limit: 1000.00 MB\n",
      "distributed.worker - WARNING - Memory use is high but worker has no data to store to disk.  Perhaps some other process is leaking memory?  Process memory: 1.03 GB -- Worker memory limit: 1000.00 MB\n",
      "distributed.worker - WARNING - Memory use is high but worker has no data to store to disk.  Perhaps some other process is leaking memory?  Process memory: 1.03 GB -- Worker memory limit: 1000.00 MB\n",
      "distributed.worker - WARNING - Memory use is high but worker has no data to store to disk.  Perhaps some other process is leaking memory?  Process memory: 1.02 GB -- Worker memory limit: 1000.00 MB\n",
      "distributed.worker - WARNING - Memory use is high but worker has no data to store to disk.  Perhaps some other process is leaking memory?  Process memory: 1.02 GB -- Worker memory limit: 1000.00 MB\n",
      "distributed.worker - WARNING - Memory use is high but worker has no data to store to disk.  Perhaps some other process is leaking memory?  Process memory: 1.02 GB -- Worker memory limit: 1000.00 MB\n",
      "distributed.worker - WARNING - Memory use is high but worker has no data to store to disk.  Perhaps some other process is leaking memory?  Process memory: 1.02 GB -- Worker memory limit: 1000.00 MB\n",
      "distributed.worker - WARNING - Memory use is high but worker has no data to store to disk.  Perhaps some other process is leaking memory?  Process memory: 1.01 GB -- Worker memory limit: 1000.00 MB\n",
      "distributed.worker - WARNING - Memory use is high but worker has no data to store to disk.  Perhaps some other process is leaking memory?  Process memory: 1.01 GB -- Worker memory limit: 1000.00 MB\n",
      "distributed.worker - WARNING - Memory use is high but worker has no data to store to disk.  Perhaps some other process is leaking memory?  Process memory: 1.01 GB -- Worker memory limit: 1000.00 MB\n",
      "distributed.worker - WARNING - Memory use is high but worker has no data to store to disk.  Perhaps some other process is leaking memory?  Process memory: 999.60 MB -- Worker memory limit: 1000.00 MB\n",
      "distributed.worker - WARNING - Worker is at 32% memory usage. Resuming worker. Process memory: 329.59 MB -- Worker memory limit: 1000.00 MB\n",
      "distributed.worker - WARNING - Worker is at 101% memory usage. Pausing worker.  Process memory: 1.02 GB -- Worker memory limit: 1000.00 MB\n",
      "distributed.worker - WARNING - Worker is at 48% memory usage. Resuming worker. Process memory: 483.08 MB -- Worker memory limit: 1000.00 MB\n",
      "distributed.worker - WARNING - Worker is at 87% memory usage. Pausing worker.  Process memory: 875.07 MB -- Worker memory limit: 1000.00 MB\n",
      "distributed.worker - WARNING - Worker is at 47% memory usage. Resuming worker. Process memory: 474.01 MB -- Worker memory limit: 1000.00 MB\n",
      "distributed.worker - WARNING - Worker is at 87% memory usage. Pausing worker.  Process memory: 873.33 MB -- Worker memory limit: 1000.00 MB\n",
      "distributed.worker - WARNING - Worker is at 47% memory usage. Resuming worker. Process memory: 476.09 MB -- Worker memory limit: 1000.00 MB\n",
      "distributed.worker - WARNING - Memory use is high but worker has no data to store to disk.  Perhaps some other process is leaking memory?  Process memory: 602.50 MB -- Worker memory limit: 1000.00 MB\n",
      "distributed.worker - WARNING - Worker is at 87% memory usage. Pausing worker.  Process memory: 873.10 MB -- Worker memory limit: 1000.00 MB\n",
      "distributed.worker - WARNING - Worker is at 46% memory usage. Resuming worker. Process memory: 469.09 MB -- Worker memory limit: 1000.00 MB\n",
      "distributed.worker - WARNING - Worker is at 98% memory usage. Pausing worker.  Process memory: 980.84 MB -- Worker memory limit: 1000.00 MB\n",
      "distributed.worker - WARNING - Worker is at 49% memory usage. Resuming worker. Process memory: 494.00 MB -- Worker memory limit: 1000.00 MB\n",
      "distributed.worker - WARNING - Worker is at 88% memory usage. Pausing worker.  Process memory: 884.56 MB -- Worker memory limit: 1000.00 MB\n",
      "distributed.worker - WARNING - Worker is at 48% memory usage. Resuming worker. Process memory: 489.66 MB -- Worker memory limit: 1000.00 MB\n",
      "distributed.worker - WARNING - Worker is at 87% memory usage. Pausing worker.  Process memory: 872.42 MB -- Worker memory limit: 1000.00 MB\n",
      "distributed.worker - WARNING - Worker is at 48% memory usage. Resuming worker. Process memory: 488.76 MB -- Worker memory limit: 1000.00 MB\n",
      "distributed.worker - WARNING - Worker is at 86% memory usage. Pausing worker.  Process memory: 866.37 MB -- Worker memory limit: 1000.00 MB\n",
      "distributed.worker - WARNING - Memory use is high but worker has no data to store to disk.  Perhaps some other process is leaking memory?  Process memory: 602.90 MB -- Worker memory limit: 1000.00 MB\n",
      "distributed.worker - WARNING - Worker is at 60% memory usage. Resuming worker. Process memory: 602.90 MB -- Worker memory limit: 1000.00 MB\n",
      "distributed.worker - WARNING - Worker is at 100% memory usage. Pausing worker.  Process memory: 1.00 GB -- Worker memory limit: 1000.00 MB\n",
      "distributed.worker - WARNING - Memory use is high but worker has no data to store to disk.  Perhaps some other process is leaking memory?  Process memory: 1.37 GB -- Worker memory limit: 1000.00 MB\n",
      "distributed.worker - WARNING - Memory use is high but worker has no data to store to disk.  Perhaps some other process is leaking memory?  Process memory: 1.07 GB -- Worker memory limit: 1000.00 MB\n",
      "distributed.worker - WARNING - Memory use is high but worker has no data to store to disk.  Perhaps some other process is leaking memory?  Process memory: 1.06 GB -- Worker memory limit: 1000.00 MB\n"
     ]
    },
    {
     "name": "stderr",
     "output_type": "stream",
     "text": [
      "distributed.worker - WARNING - Memory use is high but worker has no data to store to disk.  Perhaps some other process is leaking memory?  Process memory: 1.06 GB -- Worker memory limit: 1000.00 MB\n",
      "distributed.worker - WARNING - Memory use is high but worker has no data to store to disk.  Perhaps some other process is leaking memory?  Process memory: 1.06 GB -- Worker memory limit: 1000.00 MB\n",
      "distributed.worker - WARNING - Memory use is high but worker has no data to store to disk.  Perhaps some other process is leaking memory?  Process memory: 1.06 GB -- Worker memory limit: 1000.00 MB\n",
      "distributed.worker - WARNING - Memory use is high but worker has no data to store to disk.  Perhaps some other process is leaking memory?  Process memory: 1.06 GB -- Worker memory limit: 1000.00 MB\n",
      "distributed.worker - WARNING - Memory use is high but worker has no data to store to disk.  Perhaps some other process is leaking memory?  Process memory: 1.05 GB -- Worker memory limit: 1000.00 MB\n",
      "distributed.worker - WARNING - Memory use is high but worker has no data to store to disk.  Perhaps some other process is leaking memory?  Process memory: 1.05 GB -- Worker memory limit: 1000.00 MB\n",
      "distributed.worker - WARNING - Memory use is high but worker has no data to store to disk.  Perhaps some other process is leaking memory?  Process memory: 1.05 GB -- Worker memory limit: 1000.00 MB\n",
      "distributed.worker - WARNING - Memory use is high but worker has no data to store to disk.  Perhaps some other process is leaking memory?  Process memory: 1.05 GB -- Worker memory limit: 1000.00 MB\n",
      "distributed.worker - WARNING - Memory use is high but worker has no data to store to disk.  Perhaps some other process is leaking memory?  Process memory: 1.05 GB -- Worker memory limit: 1000.00 MB\n",
      "distributed.worker - WARNING - Memory use is high but worker has no data to store to disk.  Perhaps some other process is leaking memory?  Process memory: 1.05 GB -- Worker memory limit: 1000.00 MB\n",
      "distributed.worker - WARNING - Memory use is high but worker has no data to store to disk.  Perhaps some other process is leaking memory?  Process memory: 1.05 GB -- Worker memory limit: 1000.00 MB\n",
      "distributed.worker - WARNING - Memory use is high but worker has no data to store to disk.  Perhaps some other process is leaking memory?  Process memory: 1.05 GB -- Worker memory limit: 1000.00 MB\n",
      "distributed.worker - WARNING - Memory use is high but worker has no data to store to disk.  Perhaps some other process is leaking memory?  Process memory: 1.05 GB -- Worker memory limit: 1000.00 MB\n",
      "distributed.worker - WARNING - Worker is at 32% memory usage. Resuming worker. Process memory: 328.40 MB -- Worker memory limit: 1000.00 MB\n",
      "distributed.worker - WARNING - Worker is at 101% memory usage. Pausing worker.  Process memory: 1.01 GB -- Worker memory limit: 1000.00 MB\n",
      "distributed.worker - WARNING - Worker is at 33% memory usage. Resuming worker. Process memory: 332.64 MB -- Worker memory limit: 1000.00 MB\n",
      "distributed.worker - WARNING - Worker is at 85% memory usage. Pausing worker.  Process memory: 855.37 MB -- Worker memory limit: 1000.00 MB\n",
      "distributed.worker - WARNING - Memory use is high but worker has no data to store to disk.  Perhaps some other process is leaking memory?  Process memory: 746.84 MB -- Worker memory limit: 1000.00 MB\n",
      "distributed.worker - WARNING - Worker is at 74% memory usage. Resuming worker. Process memory: 746.84 MB -- Worker memory limit: 1000.00 MB\n",
      "distributed.worker - WARNING - Worker is at 86% memory usage. Pausing worker.  Process memory: 867.79 MB -- Worker memory limit: 1000.00 MB\n",
      "distributed.worker - WARNING - Worker is at 46% memory usage. Resuming worker. Process memory: 469.17 MB -- Worker memory limit: 1000.00 MB\n",
      "distributed.worker - WARNING - Worker is at 86% memory usage. Pausing worker.  Process memory: 865.54 MB -- Worker memory limit: 1000.00 MB\n",
      "distributed.worker - WARNING - Worker is at 48% memory usage. Resuming worker. Process memory: 480.38 MB -- Worker memory limit: 1000.00 MB\n",
      "distributed.worker - WARNING - Worker is at 85% memory usage. Pausing worker.  Process memory: 859.84 MB -- Worker memory limit: 1000.00 MB\n",
      "distributed.worker - WARNING - Worker is at 57% memory usage. Resuming worker. Process memory: 571.10 MB -- Worker memory limit: 1000.00 MB\n",
      "distributed.worker - WARNING - Worker is at 86% memory usage. Pausing worker.  Process memory: 860.54 MB -- Worker memory limit: 1000.00 MB\n",
      "distributed.worker - WARNING - Worker is at 46% memory usage. Resuming worker. Process memory: 464.14 MB -- Worker memory limit: 1000.00 MB\n",
      "distributed.worker - WARNING - Worker is at 113% memory usage. Pausing worker.  Process memory: 1.14 GB -- Worker memory limit: 1000.00 MB\n",
      "distributed.worker - WARNING - Worker is at 49% memory usage. Resuming worker. Process memory: 496.40 MB -- Worker memory limit: 1000.00 MB\n",
      "distributed.worker - WARNING - Worker is at 86% memory usage. Pausing worker.  Process memory: 863.25 MB -- Worker memory limit: 1000.00 MB\n",
      "distributed.worker - WARNING - Worker is at 47% memory usage. Resuming worker. Process memory: 470.80 MB -- Worker memory limit: 1000.00 MB\n",
      "distributed.worker - WARNING - Memory use is high but worker has no data to store to disk.  Perhaps some other process is leaking memory?  Process memory: 852.01 MB -- Worker memory limit: 1000.00 MB\n",
      "distributed.worker - WARNING - Worker is at 85% memory usage. Pausing worker.  Process memory: 852.01 MB -- Worker memory limit: 1000.00 MB\n",
      "distributed.worker - WARNING - Memory use is high but worker has no data to store to disk.  Perhaps some other process is leaking memory?  Process memory: 1.32 GB -- Worker memory limit: 1000.00 MB\n",
      "distributed.worker - WARNING - Memory use is high but worker has no data to store to disk.  Perhaps some other process is leaking memory?  Process memory: 1.04 GB -- Worker memory limit: 1000.00 MB\n",
      "distributed.worker - WARNING - Memory use is high but worker has no data to store to disk.  Perhaps some other process is leaking memory?  Process memory: 1.02 GB -- Worker memory limit: 1000.00 MB\n",
      "distributed.worker - WARNING - Memory use is high but worker has no data to store to disk.  Perhaps some other process is leaking memory?  Process memory: 1.02 GB -- Worker memory limit: 1000.00 MB\n",
      "distributed.worker - WARNING - Memory use is high but worker has no data to store to disk.  Perhaps some other process is leaking memory?  Process memory: 1.02 GB -- Worker memory limit: 1000.00 MB\n",
      "distributed.worker - WARNING - Memory use is high but worker has no data to store to disk.  Perhaps some other process is leaking memory?  Process memory: 1.02 GB -- Worker memory limit: 1000.00 MB\n",
      "distributed.worker - WARNING - Memory use is high but worker has no data to store to disk.  Perhaps some other process is leaking memory?  Process memory: 1.02 GB -- Worker memory limit: 1000.00 MB\n",
      "distributed.worker - WARNING - Memory use is high but worker has no data to store to disk.  Perhaps some other process is leaking memory?  Process memory: 1.02 GB -- Worker memory limit: 1000.00 MB\n",
      "distributed.worker - WARNING - Memory use is high but worker has no data to store to disk.  Perhaps some other process is leaking memory?  Process memory: 1.02 GB -- Worker memory limit: 1000.00 MB\n",
      "distributed.worker - WARNING - Memory use is high but worker has no data to store to disk.  Perhaps some other process is leaking memory?  Process memory: 1.02 GB -- Worker memory limit: 1000.00 MB\n",
      "distributed.worker - WARNING - Memory use is high but worker has no data to store to disk.  Perhaps some other process is leaking memory?  Process memory: 1.02 GB -- Worker memory limit: 1000.00 MB\n",
      "distributed.worker - WARNING - Memory use is high but worker has no data to store to disk.  Perhaps some other process is leaking memory?  Process memory: 1.02 GB -- Worker memory limit: 1000.00 MB\n",
      "distributed.worker - WARNING - Memory use is high but worker has no data to store to disk.  Perhaps some other process is leaking memory?  Process memory: 1.02 GB -- Worker memory limit: 1000.00 MB\n",
      "distributed.worker - WARNING - Memory use is high but worker has no data to store to disk.  Perhaps some other process is leaking memory?  Process memory: 1.02 GB -- Worker memory limit: 1000.00 MB\n"
     ]
    },
    {
     "name": "stderr",
     "output_type": "stream",
     "text": [
      "distributed.worker - WARNING - Memory use is high but worker has no data to store to disk.  Perhaps some other process is leaking memory?  Process memory: 1.02 GB -- Worker memory limit: 1000.00 MB\n",
      "distributed.worker - WARNING - Memory use is high but worker has no data to store to disk.  Perhaps some other process is leaking memory?  Process memory: 1.02 GB -- Worker memory limit: 1000.00 MB\n",
      "distributed.worker - WARNING - Memory use is high but worker has no data to store to disk.  Perhaps some other process is leaking memory?  Process memory: 1.02 GB -- Worker memory limit: 1000.00 MB\n",
      "distributed.worker - WARNING - Worker is at 32% memory usage. Resuming worker. Process memory: 327.11 MB -- Worker memory limit: 1000.00 MB\n",
      "distributed.worker - WARNING - Worker is at 87% memory usage. Pausing worker.  Process memory: 872.23 MB -- Worker memory limit: 1000.00 MB\n",
      "distributed.worker - WARNING - Worker is at 33% memory usage. Resuming worker. Process memory: 331.91 MB -- Worker memory limit: 1000.00 MB\n",
      "distributed.worker - WARNING - Worker is at 93% memory usage. Pausing worker.  Process memory: 930.96 MB -- Worker memory limit: 1000.00 MB\n",
      "distributed.worker - WARNING - Worker is at 49% memory usage. Resuming worker. Process memory: 498.54 MB -- Worker memory limit: 1000.00 MB\n",
      "distributed.worker - WARNING - Worker is at 87% memory usage. Pausing worker.  Process memory: 871.73 MB -- Worker memory limit: 1000.00 MB\n",
      "distributed.worker - WARNING - Memory use is high but worker has no data to store to disk.  Perhaps some other process is leaking memory?  Process memory: 609.48 MB -- Worker memory limit: 1000.00 MB\n",
      "distributed.worker - WARNING - Worker is at 60% memory usage. Resuming worker. Process memory: 609.48 MB -- Worker memory limit: 1000.00 MB\n",
      "distributed.worker - WARNING - Worker is at 87% memory usage. Pausing worker.  Process memory: 878.00 MB -- Worker memory limit: 1000.00 MB\n",
      "distributed.worker - WARNING - Worker is at 48% memory usage. Resuming worker. Process memory: 480.00 MB -- Worker memory limit: 1000.00 MB\n",
      "distributed.worker - WARNING - Memory use is high but worker has no data to store to disk.  Perhaps some other process is leaking memory?  Process memory: 898.23 MB -- Worker memory limit: 1000.00 MB\n",
      "distributed.worker - WARNING - Worker is at 89% memory usage. Pausing worker.  Process memory: 898.23 MB -- Worker memory limit: 1000.00 MB\n",
      "distributed.worker - WARNING - Memory use is high but worker has no data to store to disk.  Perhaps some other process is leaking memory?  Process memory: 898.23 MB -- Worker memory limit: 1000.00 MB\n",
      "distributed.worker - WARNING - Memory use is high but worker has no data to store to disk.  Perhaps some other process is leaking memory?  Process memory: 996.16 MB -- Worker memory limit: 1000.00 MB\n",
      "distributed.worker - WARNING - Memory use is high but worker has no data to store to disk.  Perhaps some other process is leaking memory?  Process memory: 991.83 MB -- Worker memory limit: 1000.00 MB\n",
      "distributed.worker - WARNING - Memory use is high but worker has no data to store to disk.  Perhaps some other process is leaking memory?  Process memory: 991.83 MB -- Worker memory limit: 1000.00 MB\n",
      "distributed.worker - WARNING - Memory use is high but worker has no data to store to disk.  Perhaps some other process is leaking memory?  Process memory: 991.85 MB -- Worker memory limit: 1000.00 MB\n",
      "distributed.worker - WARNING - Memory use is high but worker has no data to store to disk.  Perhaps some other process is leaking memory?  Process memory: 988.75 MB -- Worker memory limit: 1000.00 MB\n",
      "distributed.worker - WARNING - Memory use is high but worker has no data to store to disk.  Perhaps some other process is leaking memory?  Process memory: 988.83 MB -- Worker memory limit: 1000.00 MB\n",
      "distributed.worker - WARNING - Memory use is high but worker has no data to store to disk.  Perhaps some other process is leaking memory?  Process memory: 989.07 MB -- Worker memory limit: 1000.00 MB\n",
      "distributed.worker - WARNING - Memory use is high but worker has no data to store to disk.  Perhaps some other process is leaking memory?  Process memory: 989.40 MB -- Worker memory limit: 1000.00 MB\n",
      "distributed.worker - WARNING - Memory use is high but worker has no data to store to disk.  Perhaps some other process is leaking memory?  Process memory: 987.78 MB -- Worker memory limit: 1000.00 MB\n",
      "distributed.worker - WARNING - Memory use is high but worker has no data to store to disk.  Perhaps some other process is leaking memory?  Process memory: 987.81 MB -- Worker memory limit: 1000.00 MB\n",
      "distributed.worker - WARNING - Memory use is high but worker has no data to store to disk.  Perhaps some other process is leaking memory?  Process memory: 987.91 MB -- Worker memory limit: 1000.00 MB\n",
      "distributed.worker - WARNING - Memory use is high but worker has no data to store to disk.  Perhaps some other process is leaking memory?  Process memory: 987.94 MB -- Worker memory limit: 1000.00 MB\n",
      "distributed.worker - WARNING - Memory use is high but worker has no data to store to disk.  Perhaps some other process is leaking memory?  Process memory: 988.23 MB -- Worker memory limit: 1000.00 MB\n",
      "distributed.worker - WARNING - Memory use is high but worker has no data to store to disk.  Perhaps some other process is leaking memory?  Process memory: 988.52 MB -- Worker memory limit: 1000.00 MB\n",
      "distributed.worker - WARNING - Worker is at 32% memory usage. Resuming worker. Process memory: 321.81 MB -- Worker memory limit: 1000.00 MB\n",
      "distributed.worker - WARNING - Worker is at 113% memory usage. Pausing worker.  Process memory: 1.13 GB -- Worker memory limit: 1000.00 MB\n",
      "distributed.worker - WARNING - Memory use is high but worker has no data to store to disk.  Perhaps some other process is leaking memory?  Process memory: 1.16 GB -- Worker memory limit: 1000.00 MB\n",
      "distributed.worker - WARNING - Memory use is high but worker has no data to store to disk.  Perhaps some other process is leaking memory?  Process memory: 1.16 GB -- Worker memory limit: 1000.00 MB\n",
      "distributed.worker - WARNING - Memory use is high but worker has no data to store to disk.  Perhaps some other process is leaking memory?  Process memory: 1.04 GB -- Worker memory limit: 1000.00 MB\n",
      "distributed.worker - WARNING - Memory use is high but worker has no data to store to disk.  Perhaps some other process is leaking memory?  Process memory: 1.04 GB -- Worker memory limit: 1000.00 MB\n",
      "distributed.worker - WARNING - Memory use is high but worker has no data to store to disk.  Perhaps some other process is leaking memory?  Process memory: 1.04 GB -- Worker memory limit: 1000.00 MB\n",
      "distributed.worker - WARNING - Memory use is high but worker has no data to store to disk.  Perhaps some other process is leaking memory?  Process memory: 1.04 GB -- Worker memory limit: 1000.00 MB\n",
      "distributed.worker - WARNING - Memory use is high but worker has no data to store to disk.  Perhaps some other process is leaking memory?  Process memory: 1.04 GB -- Worker memory limit: 1000.00 MB\n",
      "distributed.worker - WARNING - Memory use is high but worker has no data to store to disk.  Perhaps some other process is leaking memory?  Process memory: 1.04 GB -- Worker memory limit: 1000.00 MB\n",
      "distributed.worker - WARNING - Memory use is high but worker has no data to store to disk.  Perhaps some other process is leaking memory?  Process memory: 1.04 GB -- Worker memory limit: 1000.00 MB\n",
      "distributed.worker - WARNING - Memory use is high but worker has no data to store to disk.  Perhaps some other process is leaking memory?  Process memory: 1.04 GB -- Worker memory limit: 1000.00 MB\n",
      "distributed.worker - WARNING - Memory use is high but worker has no data to store to disk.  Perhaps some other process is leaking memory?  Process memory: 1.04 GB -- Worker memory limit: 1000.00 MB\n",
      "distributed.worker - WARNING - Memory use is high but worker has no data to store to disk.  Perhaps some other process is leaking memory?  Process memory: 1.04 GB -- Worker memory limit: 1000.00 MB\n",
      "distributed.worker - WARNING - Memory use is high but worker has no data to store to disk.  Perhaps some other process is leaking memory?  Process memory: 1.02 GB -- Worker memory limit: 1000.00 MB\n"
     ]
    },
    {
     "name": "stderr",
     "output_type": "stream",
     "text": [
      "distributed.worker - WARNING - Memory use is high but worker has no data to store to disk.  Perhaps some other process is leaking memory?  Process memory: 1.02 GB -- Worker memory limit: 1000.00 MB\n",
      "distributed.worker - WARNING - Memory use is high but worker has no data to store to disk.  Perhaps some other process is leaking memory?  Process memory: 1.02 GB -- Worker memory limit: 1000.00 MB\n",
      "distributed.worker - WARNING - Memory use is high but worker has no data to store to disk.  Perhaps some other process is leaking memory?  Process memory: 1.02 GB -- Worker memory limit: 1000.00 MB\n",
      "distributed.worker - WARNING - Memory use is high but worker has no data to store to disk.  Perhaps some other process is leaking memory?  Process memory: 1.02 GB -- Worker memory limit: 1000.00 MB\n",
      "distributed.worker - WARNING - Memory use is high but worker has no data to store to disk.  Perhaps some other process is leaking memory?  Process memory: 1.02 GB -- Worker memory limit: 1000.00 MB\n",
      "distributed.worker - WARNING - Memory use is high but worker has no data to store to disk.  Perhaps some other process is leaking memory?  Process memory: 1.02 GB -- Worker memory limit: 1000.00 MB\n",
      "distributed.worker - WARNING - Memory use is high but worker has no data to store to disk.  Perhaps some other process is leaking memory?  Process memory: 1.02 GB -- Worker memory limit: 1000.00 MB\n",
      "distributed.worker - WARNING - Memory use is high but worker has no data to store to disk.  Perhaps some other process is leaking memory?  Process memory: 1.02 GB -- Worker memory limit: 1000.00 MB\n",
      "distributed.worker - WARNING - Memory use is high but worker has no data to store to disk.  Perhaps some other process is leaking memory?  Process memory: 1.02 GB -- Worker memory limit: 1000.00 MB\n",
      "distributed.worker - WARNING - Memory use is high but worker has no data to store to disk.  Perhaps some other process is leaking memory?  Process memory: 1.02 GB -- Worker memory limit: 1000.00 MB\n",
      "distributed.worker - WARNING - Memory use is high but worker has no data to store to disk.  Perhaps some other process is leaking memory?  Process memory: 1.02 GB -- Worker memory limit: 1000.00 MB\n",
      "distributed.worker - WARNING - Memory use is high but worker has no data to store to disk.  Perhaps some other process is leaking memory?  Process memory: 1.02 GB -- Worker memory limit: 1000.00 MB\n",
      "distributed.worker - WARNING - Memory use is high but worker has no data to store to disk.  Perhaps some other process is leaking memory?  Process memory: 1.02 GB -- Worker memory limit: 1000.00 MB\n",
      "distributed.worker - WARNING - Memory use is high but worker has no data to store to disk.  Perhaps some other process is leaking memory?  Process memory: 1.02 GB -- Worker memory limit: 1000.00 MB\n",
      "distributed.worker - WARNING - Memory use is high but worker has no data to store to disk.  Perhaps some other process is leaking memory?  Process memory: 1.02 GB -- Worker memory limit: 1000.00 MB\n",
      "distributed.worker - WARNING - Memory use is high but worker has no data to store to disk.  Perhaps some other process is leaking memory?  Process memory: 1.02 GB -- Worker memory limit: 1000.00 MB\n",
      "distributed.worker - WARNING - Memory use is high but worker has no data to store to disk.  Perhaps some other process is leaking memory?  Process memory: 1.02 GB -- Worker memory limit: 1000.00 MB\n",
      "distributed.worker - WARNING - Memory use is high but worker has no data to store to disk.  Perhaps some other process is leaking memory?  Process memory: 1.02 GB -- Worker memory limit: 1000.00 MB\n",
      "distributed.worker - WARNING - Memory use is high but worker has no data to store to disk.  Perhaps some other process is leaking memory?  Process memory: 1.02 GB -- Worker memory limit: 1000.00 MB\n",
      "distributed.worker - WARNING - Memory use is high but worker has no data to store to disk.  Perhaps some other process is leaking memory?  Process memory: 1.02 GB -- Worker memory limit: 1000.00 MB\n",
      "distributed.worker - WARNING - Memory use is high but worker has no data to store to disk.  Perhaps some other process is leaking memory?  Process memory: 1.02 GB -- Worker memory limit: 1000.00 MB\n",
      "distributed.worker - WARNING - Memory use is high but worker has no data to store to disk.  Perhaps some other process is leaking memory?  Process memory: 1.02 GB -- Worker memory limit: 1000.00 MB\n",
      "distributed.worker - WARNING - Memory use is high but worker has no data to store to disk.  Perhaps some other process is leaking memory?  Process memory: 1.02 GB -- Worker memory limit: 1000.00 MB\n",
      "distributed.worker - WARNING - Memory use is high but worker has no data to store to disk.  Perhaps some other process is leaking memory?  Process memory: 1.02 GB -- Worker memory limit: 1000.00 MB\n",
      "distributed.worker - WARNING - Memory use is high but worker has no data to store to disk.  Perhaps some other process is leaking memory?  Process memory: 1.02 GB -- Worker memory limit: 1000.00 MB\n",
      "distributed.worker - WARNING - Memory use is high but worker has no data to store to disk.  Perhaps some other process is leaking memory?  Process memory: 1.02 GB -- Worker memory limit: 1000.00 MB\n",
      "distributed.worker - WARNING - Memory use is high but worker has no data to store to disk.  Perhaps some other process is leaking memory?  Process memory: 1.02 GB -- Worker memory limit: 1000.00 MB\n",
      "distributed.worker - WARNING - Memory use is high but worker has no data to store to disk.  Perhaps some other process is leaking memory?  Process memory: 1.02 GB -- Worker memory limit: 1000.00 MB\n",
      "distributed.worker - WARNING - Memory use is high but worker has no data to store to disk.  Perhaps some other process is leaking memory?  Process memory: 1.02 GB -- Worker memory limit: 1000.00 MB\n",
      "distributed.worker - WARNING - Memory use is high but worker has no data to store to disk.  Perhaps some other process is leaking memory?  Process memory: 1.02 GB -- Worker memory limit: 1000.00 MB\n",
      "distributed.worker - WARNING - Memory use is high but worker has no data to store to disk.  Perhaps some other process is leaking memory?  Process memory: 1.02 GB -- Worker memory limit: 1000.00 MB\n",
      "distributed.worker - WARNING - Memory use is high but worker has no data to store to disk.  Perhaps some other process is leaking memory?  Process memory: 1.02 GB -- Worker memory limit: 1000.00 MB\n",
      "distributed.worker - WARNING - Memory use is high but worker has no data to store to disk.  Perhaps some other process is leaking memory?  Process memory: 1.02 GB -- Worker memory limit: 1000.00 MB\n",
      "distributed.worker - WARNING - Memory use is high but worker has no data to store to disk.  Perhaps some other process is leaking memory?  Process memory: 1.02 GB -- Worker memory limit: 1000.00 MB\n",
      "distributed.worker - WARNING - Memory use is high but worker has no data to store to disk.  Perhaps some other process is leaking memory?  Process memory: 1.01 GB -- Worker memory limit: 1000.00 MB\n",
      "distributed.worker - WARNING - Memory use is high but worker has no data to store to disk.  Perhaps some other process is leaking memory?  Process memory: 1.01 GB -- Worker memory limit: 1000.00 MB\n",
      "distributed.worker - WARNING - Memory use is high but worker has no data to store to disk.  Perhaps some other process is leaking memory?  Process memory: 1.01 GB -- Worker memory limit: 1000.00 MB\n",
      "distributed.worker - WARNING - Memory use is high but worker has no data to store to disk.  Perhaps some other process is leaking memory?  Process memory: 1.01 GB -- Worker memory limit: 1000.00 MB\n",
      "distributed.worker - WARNING - Memory use is high but worker has no data to store to disk.  Perhaps some other process is leaking memory?  Process memory: 1.01 GB -- Worker memory limit: 1000.00 MB\n",
      "distributed.worker - WARNING - Memory use is high but worker has no data to store to disk.  Perhaps some other process is leaking memory?  Process memory: 1.01 GB -- Worker memory limit: 1000.00 MB\n",
      "distributed.worker - WARNING - Memory use is high but worker has no data to store to disk.  Perhaps some other process is leaking memory?  Process memory: 1.01 GB -- Worker memory limit: 1000.00 MB\n",
      "distributed.worker - WARNING - Memory use is high but worker has no data to store to disk.  Perhaps some other process is leaking memory?  Process memory: 1.01 GB -- Worker memory limit: 1000.00 MB\n"
     ]
    },
    {
     "name": "stderr",
     "output_type": "stream",
     "text": [
      "distributed.worker - WARNING - Memory use is high but worker has no data to store to disk.  Perhaps some other process is leaking memory?  Process memory: 1.01 GB -- Worker memory limit: 1000.00 MB\n",
      "distributed.worker - WARNING - Memory use is high but worker has no data to store to disk.  Perhaps some other process is leaking memory?  Process memory: 1.01 GB -- Worker memory limit: 1000.00 MB\n",
      "distributed.worker - WARNING - Memory use is high but worker has no data to store to disk.  Perhaps some other process is leaking memory?  Process memory: 1.01 GB -- Worker memory limit: 1000.00 MB\n",
      "distributed.worker - WARNING - Memory use is high but worker has no data to store to disk.  Perhaps some other process is leaking memory?  Process memory: 1.01 GB -- Worker memory limit: 1000.00 MB\n",
      "distributed.worker - WARNING - Memory use is high but worker has no data to store to disk.  Perhaps some other process is leaking memory?  Process memory: 1.01 GB -- Worker memory limit: 1000.00 MB\n",
      "distributed.worker - WARNING - Memory use is high but worker has no data to store to disk.  Perhaps some other process is leaking memory?  Process memory: 1.01 GB -- Worker memory limit: 1000.00 MB\n",
      "distributed.worker - WARNING - Memory use is high but worker has no data to store to disk.  Perhaps some other process is leaking memory?  Process memory: 1.01 GB -- Worker memory limit: 1000.00 MB\n",
      "distributed.worker - WARNING - Memory use is high but worker has no data to store to disk.  Perhaps some other process is leaking memory?  Process memory: 1.01 GB -- Worker memory limit: 1000.00 MB\n",
      "distributed.worker - WARNING - Memory use is high but worker has no data to store to disk.  Perhaps some other process is leaking memory?  Process memory: 1.01 GB -- Worker memory limit: 1000.00 MB\n",
      "distributed.worker - WARNING - Memory use is high but worker has no data to store to disk.  Perhaps some other process is leaking memory?  Process memory: 1.01 GB -- Worker memory limit: 1000.00 MB\n",
      "distributed.worker - WARNING - Memory use is high but worker has no data to store to disk.  Perhaps some other process is leaking memory?  Process memory: 1.01 GB -- Worker memory limit: 1000.00 MB\n",
      "distributed.worker - WARNING - Memory use is high but worker has no data to store to disk.  Perhaps some other process is leaking memory?  Process memory: 1.01 GB -- Worker memory limit: 1000.00 MB\n",
      "distributed.worker - WARNING - Memory use is high but worker has no data to store to disk.  Perhaps some other process is leaking memory?  Process memory: 1.01 GB -- Worker memory limit: 1000.00 MB\n",
      "distributed.worker - WARNING - Memory use is high but worker has no data to store to disk.  Perhaps some other process is leaking memory?  Process memory: 1.01 GB -- Worker memory limit: 1000.00 MB\n",
      "distributed.worker - WARNING - Memory use is high but worker has no data to store to disk.  Perhaps some other process is leaking memory?  Process memory: 1.01 GB -- Worker memory limit: 1000.00 MB\n",
      "distributed.worker - WARNING - Memory use is high but worker has no data to store to disk.  Perhaps some other process is leaking memory?  Process memory: 1.01 GB -- Worker memory limit: 1000.00 MB\n",
      "distributed.worker - WARNING - Memory use is high but worker has no data to store to disk.  Perhaps some other process is leaking memory?  Process memory: 1.01 GB -- Worker memory limit: 1000.00 MB\n",
      "distributed.worker - WARNING - Memory use is high but worker has no data to store to disk.  Perhaps some other process is leaking memory?  Process memory: 1.01 GB -- Worker memory limit: 1000.00 MB\n",
      "distributed.worker - WARNING - Memory use is high but worker has no data to store to disk.  Perhaps some other process is leaking memory?  Process memory: 1.01 GB -- Worker memory limit: 1000.00 MB\n",
      "distributed.worker - WARNING - Memory use is high but worker has no data to store to disk.  Perhaps some other process is leaking memory?  Process memory: 1.01 GB -- Worker memory limit: 1000.00 MB\n",
      "distributed.worker - WARNING - Memory use is high but worker has no data to store to disk.  Perhaps some other process is leaking memory?  Process memory: 1.01 GB -- Worker memory limit: 1000.00 MB\n",
      "distributed.worker - WARNING - Memory use is high but worker has no data to store to disk.  Perhaps some other process is leaking memory?  Process memory: 1.01 GB -- Worker memory limit: 1000.00 MB\n",
      "distributed.worker - WARNING - Memory use is high but worker has no data to store to disk.  Perhaps some other process is leaking memory?  Process memory: 1.01 GB -- Worker memory limit: 1000.00 MB\n",
      "distributed.worker - WARNING - Memory use is high but worker has no data to store to disk.  Perhaps some other process is leaking memory?  Process memory: 1.01 GB -- Worker memory limit: 1000.00 MB\n",
      "distributed.worker - WARNING - Memory use is high but worker has no data to store to disk.  Perhaps some other process is leaking memory?  Process memory: 1.01 GB -- Worker memory limit: 1000.00 MB\n",
      "distributed.worker - WARNING - Memory use is high but worker has no data to store to disk.  Perhaps some other process is leaking memory?  Process memory: 1.01 GB -- Worker memory limit: 1000.00 MB\n",
      "distributed.worker - WARNING - Memory use is high but worker has no data to store to disk.  Perhaps some other process is leaking memory?  Process memory: 1.01 GB -- Worker memory limit: 1000.00 MB\n",
      "distributed.worker - WARNING - Memory use is high but worker has no data to store to disk.  Perhaps some other process is leaking memory?  Process memory: 1.01 GB -- Worker memory limit: 1000.00 MB\n",
      "distributed.worker - WARNING - Memory use is high but worker has no data to store to disk.  Perhaps some other process is leaking memory?  Process memory: 1.01 GB -- Worker memory limit: 1000.00 MB\n",
      "distributed.worker - WARNING - Memory use is high but worker has no data to store to disk.  Perhaps some other process is leaking memory?  Process memory: 1.01 GB -- Worker memory limit: 1000.00 MB\n",
      "distributed.worker - WARNING - Memory use is high but worker has no data to store to disk.  Perhaps some other process is leaking memory?  Process memory: 1.01 GB -- Worker memory limit: 1000.00 MB\n",
      "distributed.worker - WARNING - Worker is at 35% memory usage. Resuming worker. Process memory: 357.99 MB -- Worker memory limit: 1000.00 MB\n"
     ]
    },
    {
     "name": "stdout",
     "output_type": "stream",
     "text": [
      "CPU times: user 4min 8s, sys: 2min 57s, total: 7min 6s\n",
      "Wall time: 6min 46s\n"
     ]
    }
   ],
   "source": [
    "%%time\n",
    "df = dd.read_csv(input_path)\n",
    "\n",
    "df.groupby('user').apply(collect_list).compute().sort_index().to_csv('data/by_dask.txt', \n",
    "             index = False,\n",
    "             header = False,\n",
    "             quoting = 0,\n",
    "             escapechar='\"')"
   ]
  },
  {
   "cell_type": "markdown",
   "metadata": {},
   "source": [
    "### kodimka"
   ]
  },
  {
   "cell_type": "code",
   "execution_count": 16,
   "metadata": {},
   "outputs": [
    {
     "name": "stdout",
     "output_type": "stream",
     "text": [
      "CPU times: user 249 ms, sys: 73.3 ms, total: 322 ms\n",
      "Wall time: 26.7 s\n"
     ]
    }
   ],
   "source": [
    "%%time\n",
    "! sed '1d' data/user_item_interaction.csv > data/user_item_interaction_clear.csv"
   ]
  },
  {
   "cell_type": "code",
   "execution_count": 17,
   "metadata": {},
   "outputs": [],
   "source": [
    "input_file = 'data/user_item_interaction_clear.csv'"
   ]
  },
  {
   "cell_type": "code",
   "execution_count": 18,
   "metadata": {},
   "outputs": [
    {
     "name": "stdout",
     "output_type": "stream",
     "text": [
      "CPU times: user 7.42 ms, sys: 9.7 ms, total: 17.1 ms\n",
      "Wall time: 4min 1s\n"
     ]
    }
   ],
   "source": [
    "%%time\n",
    "%%bash -s \"$input_file\"\n",
    "awk -F, '{a[$1]=a[$1]?a[$1]\"\\t\"$2:$2;}END{for (i in a)print i, a[i]|\"sort -t',' -nk1 \";}' OFS=, $1 | cut -d\",\" -f2- > data/song_lists_preprocessed_tmp.txt\n",
    "# ! awk -F, '{a[$1]=a[$1]?a[$1]\"\\t\"$2:$2;}END{for (i in a)print i,\" \" a[i];}' OFS=, data/user_item_interaction_s.csv | sort -n"
   ]
  },
  {
   "cell_type": "raw",
   "metadata": {},
   "source": [
    "Для out of memory похожее, но с разделением файлов через csplit, чтобы не раскидать пользовтаеля по разным чанкам"
   ]
  },
  {
   "cell_type": "markdown",
   "metadata": {},
   "source": [
    "### msazxc"
   ]
  },
  {
   "cell_type": "code",
   "execution_count": 23,
   "metadata": {},
   "outputs": [],
   "source": [
    "def preprocessing_full(input_path):\n",
    "    df = pd.read_csv(input_path)\n",
    "    df_user = df.groupby(['user']).agg({'item': lambda x: str(list(x)).strip('[]').replace(',', '').replace(' ', '\\t')})\n",
    "    df_user.reset_index(inplace = True)\n",
    "    result = pd.DataFrame(pd.concat([pd.Series(list(df_user['user']), index = range(0, df_user['user'].shape[0] * 2, 2)), \n",
    "    pd.Series(list(df_user['item']), index = range(1, df_user['user'].shape[0] * 2, 2))]).sort_index())\n",
    "    result.to_csv(output_path, index = None)"
   ]
  },
  {
   "cell_type": "code",
   "execution_count": 24,
   "metadata": {},
   "outputs": [
    {
     "name": "stdout",
     "output_type": "stream",
     "text": [
      "CPU times: user 57.4 s, sys: 3.58 s, total: 1min\n",
      "Wall time: 1min 1s\n"
     ]
    }
   ],
   "source": [
    "%%time\n",
    "result_full = preprocessing_full(input_path)"
   ]
  },
  {
   "cell_type": "code",
   "execution_count": 22,
   "metadata": {},
   "outputs": [],
   "source": [
    "def preprocessing_chunk(input_path):\n",
    "    data = pd.read_csv(input_path, chunksize = 10**7)\n",
    "    dd = pd.DataFrame()\n",
    "    for df_ in data:\n",
    "        dd = dd.append([df_.groupby(['user']).agg({'item': \n",
    "                                                   lambda x: str(list(x)).strip('[]').replace(',', '').replace(' ', '\\t')})])\n",
    "    dd = dd.reset_index().groupby(['user']).agg({'item': lambda x: (x+'\\t').sum()[:-1]}).reset_index()\n",
    "    dd = pd.DataFrame(pd.concat([pd.Series(list(dd['user']), index = range(0, dd.shape[0] * 2, 2)), \n",
    "        pd.Series(list(dd['item']), index = range(1, dd.shape[0] * 2, 2))]).sort_index())\n",
    "    with open(output_path, 'w') as f:\n",
    "        f.write(dd)"
   ]
  },
  {
   "cell_type": "code",
   "execution_count": 23,
   "metadata": {},
   "outputs": [
    {
     "name": "stdout",
     "output_type": "stream",
     "text": [
      "CPU times: user 4min 30s, sys: 6.24 s, total: 4min 37s\n",
      "Wall time: 4min 36s\n"
     ]
    }
   ],
   "source": [
    "%%time\n",
    "result_chunk = preprocessing_chunk(input_path)"
   ]
  },
  {
   "cell_type": "markdown",
   "metadata": {},
   "source": [
    "### RasovArsenii"
   ]
  },
  {
   "cell_type": "code",
   "execution_count": 3,
   "metadata": {},
   "outputs": [],
   "source": [
    "def f(list_of_dfs):\n",
    "    return ('\\t'.join(str(s.item) for s in list_of_dfs.itertuples()) + '\\n')\n",
    "\n",
    "def f_(list_of_dfs):\n",
    "    return ('\\t'.join(str(s.item) for s in list_of_dfs.itertuples()))\n",
    "\n",
    "def applyParallel(dfGrouped, func):\n",
    "    retLst = Parallel(n_jobs=multiprocessing.cpu_count())(delayed(func)(group) for name, group in dfGrouped)\n",
    "    return retLst"
   ]
  },
  {
   "cell_type": "code",
   "execution_count": 30,
   "metadata": {},
   "outputs": [
    {
     "name": "stdout",
     "output_type": "stream",
     "text": [
      "CPU times: user 7min 12s, sys: 15.4 s, total: 7min 27s\n",
      "Wall time: 7min 23s\n"
     ]
    }
   ],
   "source": [
    "%%time\n",
    "df = pd.read_csv(input_path)\n",
    "patients_table_raw = applyParallel(df.groupby('user'), f)\n",
    "with open(output_path, 'w') as fl:\n",
    "    fl.write(''.join(patients_table_raw))"
   ]
  },
  {
   "cell_type": "code",
   "execution_count": 18,
   "metadata": {},
   "outputs": [
    {
     "name": "stdout",
     "output_type": "stream",
     "text": [
      "CPU times: user 7min 14s, sys: 12.5 s, total: 7min 26s\n",
      "Wall time: 7min 22s\n"
     ]
    }
   ],
   "source": [
    "%%time\n",
    "res_ = []\n",
    "i = 0\n",
    "for d in pd.read_csv(input_path, chunksize=10000000, iterator=True):\n",
    "#     print(i)\n",
    "    patients_table_raw_ = applyParallel(d.groupby('user'), f_)\n",
    "    res__ = d.groupby('user').count()\n",
    "    res__['item'] = patients_table_raw_\n",
    "    res_.append(res__)\n",
    "#     print(res__.info())\n",
    "    i+=1\n",
    "    \n",
    "res = pd.concat(res_).groupby('user').agg(lambda x: '\\t'.join(x)) + '\\n'\n",
    "with open(output_path, 'w') as fl:\n",
    "    fl.write(''.join(res['item'].values))"
   ]
  },
  {
   "cell_type": "markdown",
   "metadata": {},
   "source": [
    "### RAVasiliev"
   ]
  },
  {
   "cell_type": "code",
   "execution_count": 38,
   "metadata": {},
   "outputs": [
    {
     "name": "stdout",
     "output_type": "stream",
     "text": [
      "CPU times: user 2min 18s, sys: 17.5 s, total: 2min 36s\n",
      "Wall time: 2min 41s\n"
     ]
    }
   ],
   "source": [
    "%%time\n",
    "\n",
    "df = pd.read_csv(input_path)\n",
    "df['item'] = df['item'].apply(str)\n",
    "df.set_index('user', inplace=True)\n",
    "res_df = df.groupby(['user'])['item'].apply(lambda x: \"%s\" % '\\t'.join(x))\n",
    "pd.DataFrame(res_df.values).reset_index().to_csv(output_path, sep = '\\n', index = None)"
   ]
  },
  {
   "cell_type": "code",
   "execution_count": 47,
   "metadata": {},
   "outputs": [],
   "source": [
    "res_df.to_csv(output_path, index=False, header=False)"
   ]
  },
  {
   "cell_type": "code",
   "execution_count": 8,
   "metadata": {},
   "outputs": [
    {
     "name": "stdout",
     "output_type": "stream",
     "text": [
      "CPU times: user 4min 16s, sys: 15.2 s, total: 4min 31s\n",
      "Wall time: 4min 31s\n"
     ]
    }
   ],
   "source": [
    "%%time\n",
    "\n",
    "ite = 0\n",
    "\n",
    "for chunk in pd.read_csv(input_path, chunksize=10000):\n",
    "    ite += 1\n",
    "    if ite == 1:\n",
    "        dic = (chunk.groupby('user').item.apply(list).to_dict())\n",
    "    else:\n",
    "        dic = (pd.concat([old_slov, chunk]).groupby('user').item.apply(list).to_dict())\n",
    "        \n",
    "    #print(set([*dic]) - set([max(dic, key=int)]))\n",
    "    old_slov = pd.DataFrame([(max(dic, key=int), dic[max(dic, key=int)][i])\\\n",
    "                        for i in range(len(dic[max(dic, key=int)]))])\n",
    "    old_slov.columns = ['user', 'item']\n",
    "    \n",
    "    my_df = pd.DataFrame([(i, dic[i]) for i in set(set([*dic]) - set([max(dic, key=int)]))])\n",
    "    \n",
    "    \n",
    "    if len(my_df) > 0:\n",
    "        my_df[1] = my_df[1].apply(lambda x: '\\t'.join(map(str, x)))\n",
    "\n",
    "        my_df.to_csv(output_path, mode='a', header = None, index = None, sep = '\\n')\n",
    "\n",
    "dic = (old_slov.groupby('user').item.apply(list).to_dict())\n",
    "my_df = pd.DataFrame([(i, dic[i]) for i in set([*dic])])\n",
    "my_df.to_csv(output_path, mode='a',\\\n",
    "                    header = None, index = None, sep = '\\n')"
   ]
  },
  {
   "cell_type": "markdown",
   "metadata": {},
   "source": [
    "### maryblack"
   ]
  },
  {
   "cell_type": "code",
   "execution_count": 57,
   "metadata": {},
   "outputs": [],
   "source": [
    "def f(v):\n",
    "    return '\\t'.join(map(lambda x: str(x),v))\n",
    "\n",
    "def make_w2v_data(input_path, output_path):    \n",
    "    df = pd.read_csv(input_path, dtype={'user':'int32', 'item':'int32'})\n",
    "    \n",
    "    groups = df.groupby(pd.Grouper('user'))\n",
    "    grps = groups.groups\n",
    "    grps.update({k: f(v.values) for k, v in grps.items()})\n",
    "    pd.DataFrame.from_dict(grps, orient='index').to_csv(output_path, index=False, header=False)"
   ]
  },
  {
   "cell_type": "code",
   "execution_count": 58,
   "metadata": {},
   "outputs": [
    {
     "name": "stdout",
     "output_type": "stream",
     "text": [
      "CPU times: user 2min 2s, sys: 6.09 s, total: 2min 8s\n",
      "Wall time: 2min 11s\n"
     ]
    }
   ],
   "source": [
    "%%time\n",
    "make_w2v_data(input_path, output_path)"
   ]
  },
  {
   "cell_type": "code",
   "execution_count": 13,
   "metadata": {},
   "outputs": [],
   "source": [
    "def f(v):\n",
    "    return '\\t'.join(map(lambda x: str(x),v))\n",
    "\n",
    "def make_w2v_optimize_memory(input_path, output_path):\n",
    "    SIZE = 1000000\n",
    "    \n",
    "    for i, c in enumerate(pd.read_csv(input_path, dtype={'user':'int32', 'item':'int32'}, chunksize=SIZE)):  \n",
    "        groups = c.groupby(pd.Grouper('user'))\n",
    "        grps = groups.groups\n",
    "        grps.update({k: list(v.values) for k, v in grps.items()})\n",
    "        \n",
    "#         print('сделали дикт')\n",
    "              \n",
    "        if i==0:\n",
    "            \n",
    "            res = grps\n",
    "\n",
    "        else:\n",
    "            for key, value in grps.items():\n",
    "                res.setdefault(key, []).extend(value)#можно через табуляцию сразу добавлять, быстрее будет\n",
    "                \n",
    "#         print('запишем в файл первые len(grps)-1 строк, остальное удалим')\n",
    "        \n",
    "        last_key = max(res.keys())\n",
    "   \n",
    "        curr_res = {last_key: res[last_key].copy()}\n",
    "    \n",
    "        \n",
    "        to_write = dict(list(res.items())[:len(res) - 1])\n",
    "        if len(c)<SIZE:#номер последнего chunk\n",
    "            print('last chunk')\n",
    "            to_write = res.copy()\n",
    "        \n",
    "        with open(output_path, 'a+', newline=\"\") as csv_file:  \n",
    "            w = csv.writer(csv_file)\n",
    "            to_write.update({k: f(v) for k, v in to_write.items()})\n",
    "            for key, value in to_write.items():\n",
    "                w.writerow([value])\n",
    "                \n",
    "        del res, to_write\n",
    "        gc.collect()\n",
    "        \n",
    "        res = curr_res\n",
    "        \n",
    "        print(f'шаг {i} сделан')\n",
    "        \n",
    "#     res.update({k: f(v) for k, v in res.items()})\n",
    "#     pd.DataFrame.from_"
   ]
  },
  {
   "cell_type": "code",
   "execution_count": 16,
   "metadata": {
    "scrolled": true
   },
   "outputs": [
    {
     "name": "stdout",
     "output_type": "stream",
     "text": [
      "шаг 0 сделан\n",
      "шаг 1 сделан\n",
      "шаг 2 сделан\n",
      "шаг 3 сделан\n",
      "шаг 4 сделан\n",
      "шаг 5 сделан\n",
      "шаг 6 сделан\n",
      "шаг 7 сделан\n",
      "шаг 8 сделан\n",
      "шаг 9 сделан\n",
      "шаг 10 сделан\n",
      "шаг 11 сделан\n",
      "шаг 12 сделан\n",
      "шаг 13 сделан\n",
      "шаг 14 сделан\n",
      "шаг 15 сделан\n",
      "шаг 16 сделан\n",
      "шаг 17 сделан\n",
      "шаг 18 сделан\n",
      "шаг 19 сделан\n",
      "шаг 20 сделан\n",
      "шаг 21 сделан\n",
      "шаг 22 сделан\n",
      "шаг 23 сделан\n",
      "шаг 24 сделан\n",
      "шаг 25 сделан\n",
      "шаг 26 сделан\n",
      "шаг 27 сделан\n",
      "шаг 28 сделан\n",
      "шаг 29 сделан\n",
      "шаг 30 сделан\n",
      "шаг 31 сделан\n",
      "шаг 32 сделан\n",
      "шаг 33 сделан\n",
      "шаг 34 сделан\n",
      "шаг 35 сделан\n",
      "шаг 36 сделан\n",
      "шаг 37 сделан\n",
      "шаг 38 сделан\n",
      "шаг 39 сделан\n",
      "шаг 40 сделан\n",
      "шаг 41 сделан\n",
      "шаг 42 сделан\n",
      "шаг 43 сделан\n",
      "шаг 44 сделан\n",
      "шаг 45 сделан\n",
      "шаг 46 сделан\n",
      "шаг 47 сделан\n",
      "шаг 48 сделан\n",
      "шаг 49 сделан\n",
      "шаг 50 сделан\n",
      "шаг 51 сделан\n",
      "шаг 52 сделан\n",
      "шаг 53 сделан\n",
      "шаг 54 сделан\n",
      "шаг 55 сделан\n",
      "шаг 56 сделан\n",
      "шаг 57 сделан\n",
      "шаг 58 сделан\n",
      "шаг 59 сделан\n",
      "шаг 60 сделан\n",
      "шаг 61 сделан\n",
      "шаг 62 сделан\n",
      "шаг 63 сделан\n",
      "шаг 64 сделан\n",
      "шаг 65 сделан\n",
      "шаг 66 сделан\n",
      "шаг 67 сделан\n",
      "шаг 68 сделан\n",
      "шаг 69 сделан\n",
      "шаг 70 сделан\n",
      "шаг 71 сделан\n",
      "шаг 72 сделан\n",
      "шаг 73 сделан\n",
      "шаг 74 сделан\n",
      "шаг 75 сделан\n",
      "шаг 76 сделан\n",
      "шаг 77 сделан\n",
      "шаг 78 сделан\n",
      "шаг 79 сделан\n",
      "шаг 80 сделан\n",
      "шаг 81 сделан\n",
      "шаг 82 сделан\n",
      "шаг 83 сделан\n",
      "шаг 84 сделан\n",
      "шаг 85 сделан\n",
      "шаг 86 сделан\n",
      "шаг 87 сделан\n",
      "шаг 88 сделан\n",
      "шаг 89 сделан\n",
      "шаг 90 сделан\n",
      "last chunk\n",
      "шаг 91 сделан\n",
      "CPU times: user 2min 19s, sys: 3.87 s, total: 2min 23s\n",
      "Wall time: 2min 23s\n"
     ]
    }
   ],
   "source": [
    "%%time\n",
    "make_w2v_optimize_memory(input_path, output_path+'_chunks')"
   ]
  },
  {
   "cell_type": "markdown",
   "metadata": {},
   "source": [
    "### проверка"
   ]
  },
  {
   "cell_type": "code",
   "execution_count": 59,
   "metadata": {},
   "outputs": [
    {
     "name": "stdout",
     "output_type": "stream",
     "text": [
      "total 7784304\r\n",
      "-rw-r--r--  1 da  staff   779M May  9 17:51 song_lists_preprocessed_tmp.txt\r\n",
      "-rw-r--r--  1 da  staff   1.2G May  9 16:23 user_item_interaction_clear.csv\r\n",
      "-rw-r--r--  1 da  staff   4.9M May  6 12:03 band_lists_preprocessed.csv\r\n",
      "-rw-r--r--  1 da  staff    33M May  6 11:50 song_lists_preprocessed_small.txt\r\n",
      "-rw-r--r--  1 da  staff    19M Apr 23 21:45 band_lists_preprocessed_small.txt\r\n",
      "-rw-r--r--@ 1 da  staff   1.2G Apr 23 21:31 user_item_interaction.csv\r\n",
      "-rw-r--r--@ 1 da  staff   464M Apr  4 17:40 track_meta_processed.tsv\r\n"
     ]
    }
   ],
   "source": [
    "!ls -lht data"
   ]
  },
  {
   "cell_type": "raw",
   "metadata": {},
   "source": [
    "total 4966008\n",
    "-rw-r--r--  1 da  staff   641M May  9 12:25 song_lists_preprocessed_tmp.txt\n",
    "-rw-r--r--  1 da  staff   4.9M May  6 12:03 band_lists_preprocessed.csv\n",
    "-rw-r--r--  1 da  staff    33M May  6 11:50 song_lists_preprocessed_small.txt\n",
    "-rw-r--r--  1 da  staff    19M Apr 23 21:45 band_lists_preprocessed_small.txt\n",
    "-rw-r--r--@ 1 da  staff   1.2G Apr 23 21:31 user_item_interaction.csv\n",
    "-rw-r--r--@ 1 da  staff   464M Apr  4 17:40 track_meta_processed.tsv"
   ]
  },
  {
   "cell_type": "markdown",
   "metadata": {},
   "source": [
    "Генератор для w2v, он считывает файл построчно, разделяет историю пользователя по \\t на band_id и заменяет id на нормализованное название исполнителя"
   ]
  },
  {
   "cell_type": "code",
   "execution_count": 60,
   "metadata": {},
   "outputs": [],
   "source": [
    "class TextToW2V:\n",
    "    def __init__(self, file_path: str) -> None:\n",
    "        \"\"\"\n",
    "        iterator for w2v out-of-memory training\n",
    "        :param file_path: path to dataset in text format: one string for each user, only book IDs separated with ' '\n",
    "        \"\"\"\n",
    "        self.file_path = file_path\n",
    "        self.band_id_to_name = (pd.read_csv(meta_path, \n",
    "                                            sep='\\t', usecols=['band_processed', 'song_id'],)\n",
    "                                .set_index('song_id')\n",
    "                                ['band_processed'].to_dict()\n",
    "                               )\n",
    "\n",
    "    def __iter__(self):\n",
    "        \"\"\"\n",
    "        iterate over txt file and return user items\n",
    "        :return:\n",
    "        \"\"\"\n",
    "        for line in tqdm(open(self.file_path, 'r')):\n",
    "            items = line.split('\\t')\n",
    "            yield [self.band_id_to_name.get(int(i_id), '') for i_id in items]"
   ]
  },
  {
   "cell_type": "markdown",
   "metadata": {},
   "source": [
    "### дефолтное дообучение w2v, можно поробовать разные гиперпараметры\n",
    "вспомните статью с их тюнигом: https://arxiv.org/pdf/1804.04212.pdf"
   ]
  },
  {
   "cell_type": "code",
   "execution_count": 61,
   "metadata": {},
   "outputs": [
    {
     "name": "stderr",
     "output_type": "stream",
     "text": [
      "968756it [00:54, 17699.30it/s]\n",
      "968756it [01:09, 13974.39it/s]"
     ]
    },
    {
     "name": "stdout",
     "output_type": "stream",
     "text": [
      "Модель выучила 27286 исполнителей.\n"
     ]
    },
    {
     "name": "stderr",
     "output_type": "stream",
     "text": [
      "\n"
     ]
    }
   ],
   "source": [
    "corpus = TextToW2V(output_path)\n",
    "\n",
    "model = word2vec.Word2Vec(corpus, min_count=20, sg=1, \n",
    "                          iter=1, window=10, \n",
    "                          workers=multiprocessing.cpu_count(),\n",
    "                         )\n",
    "\n",
    "print(f'Модель выучила {len(model.wv.vocab)} исполнителей.')"
   ]
  },
  {
   "cell_type": "raw",
   "metadata": {},
   "source": [
    "Модель выучила 27286 исполнителей."
   ]
  },
  {
   "cell_type": "markdown",
   "metadata": {},
   "source": [
    "# Smoke test модели"
   ]
  },
  {
   "cell_type": "code",
   "execution_count": 62,
   "metadata": {},
   "outputs": [
    {
     "data": {
      "text/plain": [
       "[('rhcp', 0.6815274953842163),\n",
       " ('foo fighters', 0.6738009452819824),\n",
       " ('bloodhound gang', 0.6731675863265991),\n",
       " ('p o d', 0.6728113889694214),\n",
       " ('jefferson airplane', 0.6686232089996338),\n",
       " ('iggy pop', 0.6673401594161987),\n",
       " ('саранча', 0.6638416647911072),\n",
       " ('chester bennington', 0.6629152297973633),\n",
       " ('guano apes', 0.6605006456375122),\n",
       " ('acdc', 0.6598184108734131)]"
      ]
     },
     "execution_count": 62,
     "metadata": {},
     "output_type": "execute_result"
    }
   ],
   "source": [
    "model.wv.most_similar('nirvana')"
   ]
  },
  {
   "cell_type": "code",
   "execution_count": null,
   "metadata": {},
   "outputs": [],
   "source": []
  }
 ],
 "metadata": {
  "kernelspec": {
   "display_name": "Python 3",
   "language": "python",
   "name": "python3"
  },
  "language_info": {
   "codemirror_mode": {
    "name": "ipython",
    "version": 3
   },
   "file_extension": ".py",
   "mimetype": "text/x-python",
   "name": "python",
   "nbconvert_exporter": "python",
   "pygments_lexer": "ipython3",
   "version": "3.7.7"
  }
 },
 "nbformat": 4,
 "nbformat_minor": 2
}
