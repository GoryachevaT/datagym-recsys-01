{
 "cells": [
  {
   "cell_type": "code",
   "execution_count": 2,
   "metadata": {
    "scrolled": true
   },
   "outputs": [],
   "source": [
    "import pandas as pd\n",
    "import numpy as np\n",
    "#from tqdm.notebook import tqdm\n",
    "import scipy.sparse as sp\n",
    "import pickle"
   ]
  },
  {
   "cell_type": "code",
   "execution_count": 3,
   "metadata": {
    "scrolled": true
   },
   "outputs": [],
   "source": [
    "npz_file = np.load('./tmp/data.npz', allow_pickle=True)\n",
    "train_ids = npz_file[\"train_ids\"]\n",
    "valid_ids = npz_file[\"valid_ids\"]\n",
    "NUM_ITEMS = 43038"
   ]
  },
  {
   "cell_type": "code",
   "execution_count": 4,
   "metadata": {
    "scrolled": true
   },
   "outputs": [
    {
     "data": {
      "text/plain": [
       "True"
      ]
     },
     "execution_count": 4,
     "metadata": {},
     "output_type": "execute_result"
    }
   ],
   "source": [
    "len(train_ids) == len(valid_ids)"
   ]
  },
  {
   "cell_type": "code",
   "execution_count": 5,
   "metadata": {
    "scrolled": true
   },
   "outputs": [],
   "source": [
    "def make_coo_row(item_ids, num_items=NUM_ITEMS):\n",
    "    idx = item_ids\n",
    "    values = np.ones(len(item_ids)).astype(np.float32)\n",
    "\n",
    "    return sp.coo_matrix(\n",
    "        (values, ([0] * len(idx), idx)), \n",
    "        shape=(1, num_items),\n",
    "    )"
   ]
  },
  {
   "cell_type": "code",
   "execution_count": 27,
   "metadata": {},
   "outputs": [
    {
     "data": {
      "text/plain": [
       "<1x184 sparse matrix of type '<class 'numpy.float32'>'\n",
       "\twith 184 stored elements in COOrdinate format>"
      ]
     },
     "execution_count": 27,
     "metadata": {},
     "output_type": "execute_result"
    }
   ],
   "source": [
    "values = np.ones(len(idx)).astype(np.float32)\n",
    "sp.coo_matrix(values, ([0] * len(idx), idx))"
   ]
  },
  {
   "cell_type": "code",
   "execution_count": 8,
   "metadata": {
    "scrolled": true
   },
   "outputs": [],
   "source": [
    "rows = []\n",
    "for user_history in train_ids:\n",
    "    rows.append(make_coo_row(user_history))"
   ]
  },
  {
   "cell_type": "code",
   "execution_count": 11,
   "metadata": {
    "scrolled": true
   },
   "outputs": [],
   "source": [
    "X_sparse = sp.vstack(rows).tocsr()"
   ]
  },
  {
   "cell_type": "code",
   "execution_count": 12,
   "metadata": {
    "scrolled": true
   },
   "outputs": [],
   "source": [
    "pickle.dump(X_sparse, open('./tmp/X_sparse.pickled', 'wb'))"
   ]
  },
  {
   "cell_type": "markdown",
   "metadata": {},
   "source": [
    "# i2i"
   ]
  },
  {
   "cell_type": "markdown",
   "metadata": {},
   "source": [
    "**item-to-item (item2item, i2i)** - один из типов коллаборативной фильтрации, основанный на близости между товарами.\n",
    "\n",
    "Основная идея: для каждого товара строим список наиболее похожих на него товаров. "
   ]
  },
  {
   "cell_type": "markdown",
   "metadata": {},
   "source": [
    "<center><img src=\"imgs/ub-ib-cf.jpg\" width=700></center>"
   ]
  },
  {
   "cell_type": "markdown",
   "metadata": {},
   "source": [
    "### Прогнозирование рейтинга\n",
    "* Посчитаем сходство между товарами $s \\in \\mathbb{R}^{I \\times I}$\n",
    "* Для товара $i$ найти оцененные пользователем $u$ похожие товары: $N(i)$\n",
    "\n",
    "$$ \\hat{R}_{ui} = \\frac{\\sum_{j \\in N(i)} s_{ij}R_{uj}}{\\sum_{j \\in N(i)} \\left| s_{ij}\\right|} $$\n",
    "\n",
    "\n",
    "**Ядро алгоритма - матрица схожести $s$**\n",
    "\n",
    "(Какого размера эта матрица? Как можно определять \"похожесть\"?)"
   ]
  },
  {
   "cell_type": "markdown",
   "metadata": {},
   "source": [
    "i2i рекомендации в implicit - это сохранение заранее просчитанных списков \"похожих\" для каждого айтема.\n",
    "\n",
    "Количество \"похожих\" регулируется параметром K"
   ]
  },
  {
   "cell_type": "markdown",
   "metadata": {},
   "source": [
    "<center><img src='imgs/item_demo.gif'></center>"
   ]
  },
  {
   "cell_type": "code",
   "execution_count": 16,
   "metadata": {},
   "outputs": [],
   "source": [
    "#!pip install implicit\n",
    "#import implicit"
   ]
  },
  {
   "cell_type": "code",
   "execution_count": 17,
   "metadata": {
    "scrolled": true
   },
   "outputs": [],
   "source": [
    "#import implicit\n",
    "from src.metrics import normalized_average_precision"
   ]
  },
  {
   "cell_type": "code",
   "execution_count": null,
   "metadata": {
    "scrolled": true
   },
   "outputs": [],
   "source": [
    "model = implicit.nearest_neighbours.CosineRecommender(K=200)\n",
    "model.fit(X_sparse.T)"
   ]
  },
  {
   "cell_type": "code",
   "execution_count": null,
   "metadata": {
    "scrolled": true
   },
   "outputs": [],
   "source": [
    "model.recommend(10, X_sparse, N=10, filter_already_liked_items=False)"
   ]
  },
  {
   "cell_type": "code",
   "execution_count": null,
   "metadata": {
    "scrolled": true
   },
   "outputs": [],
   "source": [
    "m_ap = []\n",
    "for i, gt_ids in tqdm(enumerate(valid_ids)):\n",
    "    rec_raw = model.recommend(i, X_sparse, N=30, filter_already_liked_items=False)\n",
    "    rec_ids = [x[0] for x in rec_raw]\n",
    "    m_ap.append(normalized_average_precision(gt_ids, rec_ids, k=30))\n",
    "print(np.mean(m_ap))"
   ]
  },
  {
   "cell_type": "markdown",
   "metadata": {},
   "source": [
    "# Эффект количества соседей"
   ]
  },
  {
   "cell_type": "code",
   "execution_count": null,
   "metadata": {
    "scrolled": true
   },
   "outputs": [],
   "source": [
    "for k in [1, 10, 100]:\n",
    "    _model = implicit.nearest_neighbours.CosineRecommender(K=k)\n",
    "    _model.fit(X_sparse.T)\n",
    "    _model.save('./tmp/model_{}'.format(k))"
   ]
  },
  {
   "cell_type": "code",
   "execution_count": null,
   "metadata": {
    "scrolled": true
   },
   "outputs": [],
   "source": [
    "! ls -lah ./tmp/model_*"
   ]
  },
  {
   "cell_type": "markdown",
   "metadata": {},
   "source": [
    "# Эффекты скорости"
   ]
  },
  {
   "cell_type": "code",
   "execution_count": null,
   "metadata": {
    "scrolled": true
   },
   "outputs": [],
   "source": [
    "%%timeit\n",
    "_ = model.recommend(10, X_sparse, N=30, filter_already_liked_items=False)"
   ]
  },
  {
   "cell_type": "code",
   "execution_count": null,
   "metadata": {
    "scrolled": true
   },
   "outputs": [],
   "source": [
    "%%timeit\n",
    "_ = model.recommend(10, X_sparse, N=300, filter_already_liked_items=False)"
   ]
  },
  {
   "cell_type": "code",
   "execution_count": null,
   "metadata": {
    "scrolled": true
   },
   "outputs": [],
   "source": [
    "%%timeit\n",
    "_ = model.recommend(10, X_sparse, N=3000, filter_already_liked_items=False)"
   ]
  },
  {
   "cell_type": "code",
   "execution_count": null,
   "metadata": {
    "scrolled": true
   },
   "outputs": [],
   "source": [
    "%%timeit\n",
    "_ = model.recommend(10, X_sparse, N=30000, filter_already_liked_items=False)"
   ]
  },
  {
   "cell_type": "code",
   "execution_count": null,
   "metadata": {
    "scrolled": true
   },
   "outputs": [],
   "source": [
    "%%timeit\n",
    "selected_items = list(range(10))\n",
    "_ = model.rank_items(10, X_sparse, selected_items)"
   ]
  },
  {
   "cell_type": "code",
   "execution_count": null,
   "metadata": {
    "scrolled": true
   },
   "outputs": [],
   "source": [
    "# Почему есть разница?"
   ]
  },
  {
   "cell_type": "markdown",
   "metadata": {},
   "source": [
    "# Эффект размера рекомендаций"
   ]
  },
  {
   "cell_type": "code",
   "execution_count": null,
   "metadata": {
    "scrolled": false
   },
   "outputs": [],
   "source": [
    "preds = model.recommend(10, X_sparse, N=30000, filter_already_liked_items=False)\n",
    "preds "
   ]
  },
  {
   "cell_type": "code",
   "execution_count": null,
   "metadata": {
    "scrolled": true
   },
   "outputs": [],
   "source": [
    "len(preds)"
   ]
  },
  {
   "cell_type": "code",
   "execution_count": null,
   "metadata": {
    "scrolled": true
   },
   "outputs": [],
   "source": [
    "X_sparse[10].nnz "
   ]
  },
  {
   "cell_type": "code",
   "execution_count": null,
   "metadata": {
    "scrolled": true
   },
   "outputs": [],
   "source": [
    "# Сколько минимум может быть рекомендаций? А максимум?"
   ]
  },
  {
   "cell_type": "code",
   "execution_count": null,
   "metadata": {
    "scrolled": true
   },
   "outputs": [],
   "source": [
    "selected_items = list(range(10))\n",
    "model.rank_items(10, X_sparse, selected_items)"
   ]
  },
  {
   "cell_type": "code",
   "execution_count": null,
   "metadata": {
    "scrolled": true
   },
   "outputs": [],
   "source": []
  },
  {
   "cell_type": "code",
   "execution_count": null,
   "metadata": {},
   "outputs": [],
   "source": [
    "for k in [1, 10, 30, 100, 300]:\n",
    "    _model = implicit.nearest_neighbours.CosineRecommender(K=k)\n",
    "    _model.fit(X_sparse.T)\n",
    "    preds = _model.recommend(10, X_sparse, N=30000, filter_already_liked_items=False)\n",
    "    print('k: {}, num_preds: {}'.format(k, len(preds)))"
   ]
  },
  {
   "cell_type": "code",
   "execution_count": null,
   "metadata": {},
   "outputs": [],
   "source": []
  },
  {
   "cell_type": "markdown",
   "metadata": {},
   "source": [
    "Какие есть места для твиков?\n",
    "- в алгоритме\n",
    "- в препроцессинге\n",
    "- в постановке задачи"
   ]
  },
  {
   "cell_type": "markdown",
   "metadata": {},
   "source": [
    "( _вопрос со звездочкой_ ) Что мы оптимизируем этим алгоритмом? / Какая оптимизационная задача решается? <br>\n",
    "( _вопрос со звездочкой_ ) А что будет, если матрицу **X_sparse** перевернуть/транспонировать?"
   ]
  },
  {
   "cell_type": "code",
   "execution_count": null,
   "metadata": {},
   "outputs": [],
   "source": []
  }
 ],
 "metadata": {
  "kernelspec": {
   "display_name": "Python 3",
   "language": "python",
   "name": "python3"
  },
  "language_info": {
   "codemirror_mode": {
    "name": "ipython",
    "version": 3
   },
   "file_extension": ".py",
   "mimetype": "text/x-python",
   "name": "python",
   "nbconvert_exporter": "python",
   "pygments_lexer": "ipython3",
   "version": "3.7.1"
  }
 },
 "nbformat": 4,
 "nbformat_minor": 2
}
