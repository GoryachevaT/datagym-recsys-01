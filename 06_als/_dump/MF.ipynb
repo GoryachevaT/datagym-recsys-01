{
 "cells": [
  {
   "cell_type": "markdown",
   "metadata": {},
   "source": [
    "# Модели со скрытыми факторами / матричные аппроксимации"
   ]
  },
  {
   "cell_type": "markdown",
   "metadata": {},
   "source": [
    "<center><img src='imgs/matrix_factorization.png' width=600></center>"
   ]
  },
  {
   "cell_type": "markdown",
   "metadata": {},
   "source": [
    "## SVD разложение / усеченное SVD\n",
    "<center><img src='imgs/svd.png' width=600></center>"
   ]
  },
  {
   "cell_type": "markdown",
   "metadata": {},
   "source": [
    "Замечу, что **матричная аппроксимация != матричное разложение**, хотя и очень близко по смыслу"
   ]
  },
  {
   "cell_type": "markdown",
   "metadata": {},
   "source": [
    "<center><img src='imgs/mf2.png' width=700></center>"
   ]
  },
  {
   "cell_type": "markdown",
   "metadata": {},
   "source": [
    "Для каждого пользователя и товара построим векторы $p_u\\in \\mathbb{R}^{k}$ и $q_i \\in \\mathbb{R}^{k}$ так, чтобы\n",
    "$$ R_{ui} \\approx p_u^\\top q_i $$\n",
    "\n",
    "* $p_u$ иногда получается интерпретировать как заинтересованность пользователя в некоторой категории товаров\n",
    "* $q_i$ иногда получается интерпретировать как принадлежность товара к определенной категории\n",
    "\n",
    "Кроме того, в полученном пространстве, можно считать похожесть пользователей и товаров"
   ]
  },
  {
   "cell_type": "markdown",
   "metadata": {},
   "source": [
    "Будем оптимизировать следующий функционал\n",
    "$$ \\sum\\limits_{u,i}(R_{ui}  - \\langle p_u, q_i \\rangle)^2 + \\lambda \\sum_u\\| p_u \\|^2 + \\mu\\sum_i\\| q_i \\|^2 \\rightarrow \\min\\limits_{P, Q} $$\n",
    "Решать задачу можно разными способами, один из стандартных - градиентный спуск (на каждом шаге случайно выбирая пару $(u,i)$:\n",
    "$$ p_{uk} = p_{uk} + 2\\alpha \\left(q_{ik}(R_{ui} - \\langle p_u, q_i \\rangle) - \\lambda p_{uk}\\right)$$\n",
    "$$ q_{ik} = q_{ik} + 2\\alpha \\left(p_{uk}(R_{ui} - \\langle p_u, q_i \\rangle) - \\mu q_{ik}\\right)$$\n",
    "\n",
    "Иной способ - ALS, рассмотрим ниже"
   ]
  },
  {
   "cell_type": "markdown",
   "metadata": {},
   "source": [
    "Результат обучения: матрицы P и Q. \n",
    "\n",
    "Их можно использовать как для получение предсказания для пары (u, i), так и для кластеризации пользователей / айтемов"
   ]
  },
  {
   "cell_type": "code",
   "execution_count": null,
   "metadata": {},
   "outputs": [],
   "source": [
    "# Как соотносятся размеры матриц P, Q и R?"
   ]
  },
  {
   "cell_type": "markdown",
   "metadata": {},
   "source": [
    "# Implicit/Explicit Feedback"
   ]
  },
  {
   "cell_type": "markdown",
   "metadata": {},
   "source": [
    "Вид обратной связи может быть разным, выше описана постановка с случае явного фидбека.\n",
    "Есть ее модификация на случай неявной обратной связи (один из подходов, называемый Weighted-Lamda-Regularization):\n",
    "\n",
    "$$ \\sum\\limits_{u,i}(с_{ui}(r_{ui}  - \\langle p_u, q_i \\rangle)^2 + \\lambda \\sum_u\\| p_u \\|^2 + \\mu\\sum_i\\| q_i \\|^2 \\rightarrow \\min\\limits_{P, Q} $$\n",
    "$$ r_{ui} \\in \\{0, 1\\}, \\quad c_{ui} = 1 + \\alpha R_{ui}$$\n",
    "    "
   ]
  },
  {
   "cell_type": "markdown",
   "metadata": {},
   "source": [
    "<center><img src='imgs/bpr.png' width=700></center>"
   ]
  },
  {
   "cell_type": "markdown",
   "metadata": {},
   "source": [
    "# Важный частный случай: ALS-WR"
   ]
  },
  {
   "cell_type": "markdown",
   "metadata": {},
   "source": [
    "Решаем оптимизационную задачу итерациями:\n",
    "    1. Выбираем случайно приближение для матриц P и Q\n",
    "    2. Находим наилучшую матрицу P при фиксированной Q\n",
    "    3. Находим наилучшую матрицу Q при фиксированной матрице P\n",
    "    4. Если не сошлись, то повторяем шаг 2\n",
    "\n",
    "Быстро сходится, шаги 2/3 люди умеют делать эффективно, есть гарантия сходимости.\n",
    "\n",
    "\n",
    "**Метод реализован много где, очень известна реализация на Spark, де-факто стандарт индустрии.**"
   ]
  },
  {
   "cell_type": "code",
   "execution_count": null,
   "metadata": {},
   "outputs": [],
   "source": []
  },
  {
   "cell_type": "code",
   "execution_count": null,
   "metadata": {},
   "outputs": [],
   "source": [
    "import pandas as pd\n",
    "import numpy as np\n",
    "from tqdm.notebook import tqdm\n",
    "import scipy.sparse as sp\n",
    "import pickle"
   ]
  },
  {
   "cell_type": "code",
   "execution_count": null,
   "metadata": {},
   "outputs": [],
   "source": [
    "npz_file = np.load('./tmp/data.npz', allow_pickle=True)\n",
    "train_ids = npz_file[\"train_ids\"]\n",
    "valid_ids = npz_file[\"valid_ids\"]\n",
    "NUM_ITEMS = 43038"
   ]
  },
  {
   "cell_type": "code",
   "execution_count": null,
   "metadata": {},
   "outputs": [],
   "source": [
    "def make_coo_row(item_ids, num_items=NUM_ITEMS):\n",
    "    idx = np.array(item_ids)\n",
    "    values = np.ones(len(item_ids)).astype(np.float32)\n",
    "\n",
    "    return sp.coo_matrix(\n",
    "        (values, ([0] * len(idx), idx)), \n",
    "        shape=(1, num_items),\n",
    "    )"
   ]
  },
  {
   "cell_type": "code",
   "execution_count": null,
   "metadata": {},
   "outputs": [],
   "source": [
    "rows = []\n",
    "for user_history in tqdm(train_ids):\n",
    "    rows.append(make_coo_row(user_history))\n",
    "X_sparse = sp.vstack(rows).tocsr()"
   ]
  },
  {
   "cell_type": "code",
   "execution_count": null,
   "metadata": {},
   "outputs": [],
   "source": [
    "import implicit\n",
    "model = implicit.als.AlternatingLeastSquares(factors=16, regularization=0.001, iterations=8)\n",
    "model.fit(X_sparse.T)"
   ]
  },
  {
   "cell_type": "code",
   "execution_count": null,
   "metadata": {},
   "outputs": [],
   "source": [
    "# Какой будет размер матриц P и Q внутри модели?\n",
    "# Как он (размер) зависит от числа итераций?"
   ]
  },
  {
   "cell_type": "code",
   "execution_count": null,
   "metadata": {},
   "outputs": [],
   "source": [
    "model.user_factors.shape, model.item_factors.shape"
   ]
  },
  {
   "cell_type": "code",
   "execution_count": null,
   "metadata": {},
   "outputs": [],
   "source": [
    "model.recommend(10, X_sparse, N=10, filter_already_liked_items=False)"
   ]
  },
  {
   "cell_type": "code",
   "execution_count": null,
   "metadata": {},
   "outputs": [],
   "source": [
    "from src.metrics import normalized_average_precision\n",
    "\n",
    "m_ap = []\n",
    "for i, gt_ids in tqdm(enumerate(valid_ids)):\n",
    "    rec_raw = model.recommend(i, X_sparse, N=30, filter_already_liked_items=False)\n",
    "    rec_ids = [x[0] for x in rec_raw]\n",
    "    m_ap.append(normalized_average_precision(gt_ids, rec_ids, k=30))\n",
    "print(np.mean(m_ap))"
   ]
  },
  {
   "cell_type": "markdown",
   "metadata": {},
   "source": [
    "# Эффекты скорости"
   ]
  },
  {
   "cell_type": "code",
   "execution_count": null,
   "metadata": {},
   "outputs": [],
   "source": [
    "%%timeit\n",
    "_ = model.recommend(10, X_sparse, N=1, filter_already_liked_items=False)"
   ]
  },
  {
   "cell_type": "code",
   "execution_count": null,
   "metadata": {},
   "outputs": [],
   "source": [
    "%%timeit\n",
    "_ = model.recommend(10, X_sparse, N=100, filter_already_liked_items=False)"
   ]
  },
  {
   "cell_type": "code",
   "execution_count": null,
   "metadata": {},
   "outputs": [],
   "source": [
    "%%timeit\n",
    "_ = model.recommend(10, X_sparse, N=1000, filter_already_liked_items=False)"
   ]
  },
  {
   "cell_type": "code",
   "execution_count": null,
   "metadata": {},
   "outputs": [],
   "source": [
    "%%timeit\n",
    "_ = model.recommend(10, X_sparse, N=10000, filter_already_liked_items=False)"
   ]
  },
  {
   "cell_type": "code",
   "execution_count": null,
   "metadata": {},
   "outputs": [],
   "source": []
  },
  {
   "cell_type": "code",
   "execution_count": null,
   "metadata": {},
   "outputs": [],
   "source": [
    "selected_items = list(range(10))"
   ]
  },
  {
   "cell_type": "code",
   "execution_count": null,
   "metadata": {},
   "outputs": [],
   "source": [
    "%%timeit\n",
    "_ = model.rank_items(10, X_sparse, selected_items)"
   ]
  },
  {
   "cell_type": "markdown",
   "metadata": {},
   "source": [
    "# Количество рекомендаций"
   ]
  },
  {
   "cell_type": "code",
   "execution_count": null,
   "metadata": {},
   "outputs": [],
   "source": [
    "len(model.recommend(10, X_sparse, N=30000, filter_already_liked_items=False))"
   ]
  },
  {
   "cell_type": "markdown",
   "metadata": {},
   "source": [
    "### Важная особенность ALS: возможность пересчет профиля пользователя \"на лету\""
   ]
  },
  {
   "cell_type": "code",
   "execution_count": null,
   "metadata": {},
   "outputs": [],
   "source": [
    "item_ids = train_ids[10] #история пользователя\n",
    "\n",
    "model.recommend(10, X_sparse, N=5, filter_already_liked_items=True)"
   ]
  },
  {
   "cell_type": "code",
   "execution_count": null,
   "metadata": {},
   "outputs": [],
   "source": [
    "row = make_coo_row(item_ids).tocsr()\n",
    "model.recommend(0, row, N=5, filter_already_liked_items=True, recalculate_user=True)"
   ]
  },
  {
   "cell_type": "code",
   "execution_count": null,
   "metadata": {},
   "outputs": [],
   "source": [
    "# Есть ли различия? Почему?"
   ]
  },
  {
   "cell_type": "code",
   "execution_count": null,
   "metadata": {},
   "outputs": [],
   "source": [
    "new_history = list(item_ids) + [41915]\n",
    "row = make_coo_row(new_history).tocsr()\n",
    "model.recommend(0, row, N=5, filter_already_liked_items=True, recalculate_user=True)"
   ]
  },
  {
   "cell_type": "code",
   "execution_count": null,
   "metadata": {},
   "outputs": [],
   "source": []
  },
  {
   "cell_type": "code",
   "execution_count": null,
   "metadata": {},
   "outputs": [],
   "source": [
    "# Что можно твикать?\n",
    "# Как можно использовать факторы?\n",
    "# Какую оптимизационную задачу решаем? Это классификация/регрессия/что-то еще?"
   ]
  },
  {
   "cell_type": "markdown",
   "metadata": {},
   "source": [
    "# BPR: Bayesian personalized ranking"
   ]
  },
  {
   "cell_type": "markdown",
   "metadata": {},
   "source": [
    "<center><img src='imgs/bpr.png' width=500></center>"
   ]
  },
  {
   "cell_type": "markdown",
   "metadata": {},
   "source": [
    "<center><img src='imgs/bpr-2.png' width=450></center>"
   ]
  },
  {
   "cell_type": "markdown",
   "metadata": {},
   "source": [
    "<center><img src='imgs/bprf.png' width=300></center>"
   ]
  },
  {
   "cell_type": "code",
   "execution_count": null,
   "metadata": {},
   "outputs": [],
   "source": [
    "model = implicit.bpr.BayesianPersonalizedRanking(factors=16)\n",
    "model.fit(X_sparse.T)"
   ]
  },
  {
   "cell_type": "code",
   "execution_count": null,
   "metadata": {},
   "outputs": [],
   "source": [
    "from src.metrics import normalized_average_precision\n",
    "\n",
    "m_ap = []\n",
    "for i, gt_ids in tqdm(enumerate(valid_ids)):\n",
    "    rec_raw = model.recommend(i, X_sparse, N=30, filter_already_liked_items=False)\n",
    "    rec_ids = [x[0] for x in rec_raw]\n",
    "    m_ap.append(normalized_average_precision(gt_ids, rec_ids, k=30))\n",
    "print(np.mean(m_ap))"
   ]
  },
  {
   "cell_type": "markdown",
   "metadata": {},
   "source": [
    "# Важность параметров \n",
    "### (как и во многих других методах, основанных на градиентном спуске)"
   ]
  },
  {
   "cell_type": "code",
   "execution_count": null,
   "metadata": {},
   "outputs": [],
   "source": []
  },
  {
   "cell_type": "markdown",
   "metadata": {},
   "source": [
    "# Время выполнения"
   ]
  },
  {
   "cell_type": "code",
   "execution_count": null,
   "metadata": {},
   "outputs": [],
   "source": [
    "%%timeit\n",
    "_ = model.recommend(10, X_sparse, N=1, filter_already_liked_items=False)"
   ]
  },
  {
   "cell_type": "code",
   "execution_count": null,
   "metadata": {},
   "outputs": [],
   "source": [
    "%%timeit\n",
    "_ = model.recommend(10, X_sparse, N=100, filter_already_liked_items=False)"
   ]
  },
  {
   "cell_type": "code",
   "execution_count": null,
   "metadata": {},
   "outputs": [],
   "source": [
    "%%timeit\n",
    "_ = model.recommend(10, X_sparse, N=1000, filter_already_liked_items=False)"
   ]
  },
  {
   "cell_type": "code",
   "execution_count": null,
   "metadata": {},
   "outputs": [],
   "source": [
    "%%timeit\n",
    "_ = model.recommend(10, X_sparse, N=10000, filter_already_liked_items=False)"
   ]
  },
  {
   "cell_type": "code",
   "execution_count": null,
   "metadata": {},
   "outputs": [],
   "source": [
    "# Как время исполнения соотносится с ALS?"
   ]
  }
 ],
 "metadata": {
  "kernelspec": {
   "display_name": "Python 3",
   "language": "python",
   "name": "python3"
  },
  "language_info": {
   "codemirror_mode": {
    "name": "ipython",
    "version": 3
   },
   "file_extension": ".py",
   "mimetype": "text/x-python",
   "name": "python",
   "nbconvert_exporter": "python",
   "pygments_lexer": "ipython3",
   "version": "3.7.1"
  }
 },
 "nbformat": 4,
 "nbformat_minor": 4
}
