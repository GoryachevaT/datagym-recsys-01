{
 "cells": [
  {
   "cell_type": "code",
   "execution_count": 1,
   "metadata": {},
   "outputs": [],
   "source": [
    "import pandas as pd\n",
    "import math\n",
    "import warnings\n",
    "warnings.filterwarnings('ignore')"
   ]
  },
  {
   "cell_type": "code",
   "execution_count": 2,
   "metadata": {},
   "outputs": [
    {
     "data": {
      "text/html": [
       "<div>\n",
       "<style scoped>\n",
       "    .dataframe tbody tr th:only-of-type {\n",
       "        vertical-align: middle;\n",
       "    }\n",
       "\n",
       "    .dataframe tbody tr th {\n",
       "        vertical-align: top;\n",
       "    }\n",
       "\n",
       "    .dataframe thead th {\n",
       "        text-align: right;\n",
       "    }\n",
       "</style>\n",
       "<table border=\"1\" class=\"dataframe\">\n",
       "  <thead>\n",
       "    <tr style=\"text-align: right;\">\n",
       "      <th></th>\n",
       "      <th>user_id</th>\n",
       "      <th>score</th>\n",
       "      <th>target</th>\n",
       "      <th>total_actions</th>\n",
       "      <th>rnk</th>\n",
       "    </tr>\n",
       "  </thead>\n",
       "  <tbody>\n",
       "    <tr>\n",
       "      <td>0</td>\n",
       "      <td>0</td>\n",
       "      <td>0.993668</td>\n",
       "      <td>1</td>\n",
       "      <td>17</td>\n",
       "      <td>0</td>\n",
       "    </tr>\n",
       "    <tr>\n",
       "      <td>1</td>\n",
       "      <td>0</td>\n",
       "      <td>0.896899</td>\n",
       "      <td>0</td>\n",
       "      <td>17</td>\n",
       "      <td>1</td>\n",
       "    </tr>\n",
       "    <tr>\n",
       "      <td>2</td>\n",
       "      <td>0</td>\n",
       "      <td>0.875116</td>\n",
       "      <td>1</td>\n",
       "      <td>17</td>\n",
       "      <td>2</td>\n",
       "    </tr>\n",
       "    <tr>\n",
       "      <td>3</td>\n",
       "      <td>0</td>\n",
       "      <td>0.844549</td>\n",
       "      <td>0</td>\n",
       "      <td>17</td>\n",
       "      <td>3</td>\n",
       "    </tr>\n",
       "    <tr>\n",
       "      <td>4</td>\n",
       "      <td>0</td>\n",
       "      <td>0.837955</td>\n",
       "      <td>0</td>\n",
       "      <td>17</td>\n",
       "      <td>4</td>\n",
       "    </tr>\n",
       "  </tbody>\n",
       "</table>\n",
       "</div>"
      ],
      "text/plain": [
       "   user_id     score  target  total_actions  rnk\n",
       "0        0  0.993668       1             17    0\n",
       "1        0  0.896899       0             17    1\n",
       "2        0  0.875116       1             17    2\n",
       "3        0  0.844549       0             17    3\n",
       "4        0  0.837955       0             17    4"
      ]
     },
     "execution_count": 2,
     "metadata": {},
     "output_type": "execute_result"
    }
   ],
   "source": [
    "data = pd.read_csv('recs_synthetic.csv')\n",
    "data['rnk'] = data.groupby('user_id').cumcount()\n",
    "data.head()"
   ]
  },
  {
   "cell_type": "code",
   "execution_count": 3,
   "metadata": {},
   "outputs": [],
   "source": [
    "def precision_at_k(df, k):\n",
    "    df['pred'] = df['rnk'].apply(lambda x: 1 if x < k else 0)\n",
    "    df['tp'] = df[['target', 'pred']].apply(lambda x: 1 if x[0]==x[1]==1 else 0, axis=1)\n",
    "    df['fp'] = df[['target', 'pred']].apply(lambda x: 1 if x[0]!=x[1] and x[0]==0 else 0, axis=1)\n",
    "    return df['tp'].sum()/(df['tp'].sum()+df['fp'].sum())\n",
    "\n",
    "def recall_at_k(df, k):\n",
    "    df['pred'] = df['rnk'].apply(lambda x: 1 if x < k else 0)\n",
    "    df['tp'] = df[['target', 'pred']].apply(lambda x: 1 if x[0]==x[1]==1 else 0, axis=1)\n",
    "    agg_df = df[['user_id', 'tp', 'total_actions']].groupby('user_id').agg({'tp': 'sum', 'total_actions': 'max'})\n",
    "    agg_df['recall'] = agg_df['tp']/agg_df['total_actions']\n",
    "    return agg_df['recall'].sum()/agg_df.shape[0]"
   ]
  },
  {
   "cell_type": "code",
   "execution_count": 4,
   "metadata": {},
   "outputs": [],
   "source": [
    "def map_at_k(df, k):\n",
    "    df = df[df['rnk'] < k]\n",
    "    df['target_cumsum'] = df[['user_id', 'target']].groupby('user_id').cumsum()\n",
    "    df['for_running_sum'] = df['target_cumsum']/(df['rnk']+1)\n",
    "    agg_df = df[df['target']==1][['user_id', 'for_running_sum']]\\\n",
    "                    .groupby('user_id')\\\n",
    "                    .agg({'for_running_sum':['sum', 'count']}).reset_index()\n",
    "    agg_df.columns = ['user_id', 'sum', 'count']\n",
    "    agg_df['ap'] = agg_df['sum']/agg_df['count']\n",
    "    return agg_df['ap'].sum()/agg_df.shape[0]"
   ]
  },
  {
   "cell_type": "code",
   "execution_count": 40,
   "metadata": {},
   "outputs": [],
   "source": [
    "def ndcg_at_k(df, k):\n",
    "    df = df[df['rnk'] < k]\n",
    "    df['ideal_target'] = [1]*df.shape[0]\n",
    "    df['dcg_num'] = 2**df['target']-1\n",
    "    df['idcg_num'] = 2**df['ideal_target']-1\n",
    "    df['dcg_denom'] = df['rnk'].apply(lambda x: math.log(x + 2, 2))\n",
    "    df['dcg_i'] = df['dcg_num']/df['dcg_denom']\n",
    "    df['idcg_i'] = df['idcg_num']/df['dcg_denom']\n",
    "    dcg_df = df[['user_id', 'dcg_i', 'idcg_i']].groupby('user_id').sum()\n",
    "    dcg_df['ndcg'] = dcg_df['dcg_i']/dcg_df['idcg_i']\n",
    "    return dcg_df['ndcg'].sum()/dcg_df.shape[0]"
   ]
  },
  {
   "cell_type": "code",
   "execution_count": 6,
   "metadata": {},
   "outputs": [],
   "source": [
    "def mrr(df):\n",
    "    df = df[df['target']==1]\n",
    "    agg_df = df[['user_id', 'rnk']].groupby('user_id').min()\n",
    "    agg_df['tmp'] = 1/(agg_df['rnk']+1)\n",
    "    return agg_df.tmp.sum()/agg_df.shape[0]"
   ]
  },
  {
   "cell_type": "code",
   "execution_count": 7,
   "metadata": {},
   "outputs": [
    {
     "name": "stdout",
     "output_type": "stream",
     "text": [
      "precision@8: 0.323125\n",
      "precision@30: 0.33303333333333335\n"
     ]
    }
   ],
   "source": [
    "print(f'precision@8: {precision_at_k(df=data.copy(), k=8)}')\n",
    "print(f'precision@30: {precision_at_k(df=data.copy(), k=30)}')"
   ]
  },
  {
   "cell_type": "code",
   "execution_count": 8,
   "metadata": {},
   "outputs": [
    {
     "name": "stdout",
     "output_type": "stream",
     "text": [
      "recall@8: 0.15214328945706182\n",
      "recall@30: 0.5879062358080964\n"
     ]
    }
   ],
   "source": [
    "print(f'recall@8: {recall_at_k(df=data.copy(), k=8)}')\n",
    "print(f'recall@30: {recall_at_k(df=data.copy(), k=30)}')"
   ]
  },
  {
   "cell_type": "code",
   "execution_count": 9,
   "metadata": {},
   "outputs": [
    {
     "name": "stdout",
     "output_type": "stream",
     "text": [
      "MAP@8: 0.4974598303779759\n",
      "MAP@30: 0.39767171242806565\n"
     ]
    }
   ],
   "source": [
    "print(f'MAP@8: {map_at_k(df=data.copy(), k=8)}')\n",
    "print(f'MAP@30: {map_at_k(df=data.copy(), k=30)}')"
   ]
  },
  {
   "cell_type": "code",
   "execution_count": 10,
   "metadata": {},
   "outputs": [
    {
     "name": "stdout",
     "output_type": "stream",
     "text": [
      "MRR: 0.5359987465750623\n"
     ]
    }
   ],
   "source": [
    "print(f'MRR: {mrr(df=data.copy())}')"
   ]
  },
  {
   "cell_type": "code",
   "execution_count": 41,
   "metadata": {
    "scrolled": true
   },
   "outputs": [
    {
     "data": {
      "text/plain": [
       "(0.322230578288455, 0.33069498154567506)"
      ]
     },
     "execution_count": 41,
     "metadata": {},
     "output_type": "execute_result"
    }
   ],
   "source": [
    "ndcg_at_k(df=data.copy(), k=8), ndcg_at_k(df=data.copy(), k=30)"
   ]
  }
 ],
 "metadata": {
  "kernelspec": {
   "display_name": "Python 3",
   "language": "python",
   "name": "python3"
  },
  "language_info": {
   "codemirror_mode": {
    "name": "ipython",
    "version": 3
   },
   "file_extension": ".py",
   "mimetype": "text/x-python",
   "name": "python",
   "nbconvert_exporter": "python",
   "pygments_lexer": "ipython3",
   "version": "3.7.1"
  }
 },
 "nbformat": 4,
 "nbformat_minor": 2
}
