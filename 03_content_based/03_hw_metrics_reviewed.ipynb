{
 "cells": [
  {
   "cell_type": "code",
   "execution_count": 3,
   "metadata": {
    "ExecuteTime": {
     "end_time": "2020-04-12T13:13:51.149549Z",
     "start_time": "2020-04-12T13:13:50.794128Z"
    }
   },
   "outputs": [],
   "source": [
    "import pandas as pd\n",
    "import math\n",
    "import warnings\n",
    "warnings.filterwarnings('ignore')"
   ]
  },
  {
   "cell_type": "code",
   "execution_count": 4,
   "metadata": {
    "ExecuteTime": {
     "end_time": "2020-04-12T13:13:51.209967Z",
     "start_time": "2020-04-12T13:13:51.160264Z"
    }
   },
   "outputs": [
    {
     "data": {
      "text/html": [
       "<div>\n",
       "<style scoped>\n",
       "    .dataframe tbody tr th:only-of-type {\n",
       "        vertical-align: middle;\n",
       "    }\n",
       "\n",
       "    .dataframe tbody tr th {\n",
       "        vertical-align: top;\n",
       "    }\n",
       "\n",
       "    .dataframe thead th {\n",
       "        text-align: right;\n",
       "    }\n",
       "</style>\n",
       "<table border=\"1\" class=\"dataframe\">\n",
       "  <thead>\n",
       "    <tr style=\"text-align: right;\">\n",
       "      <th></th>\n",
       "      <th>user_id</th>\n",
       "      <th>score</th>\n",
       "      <th>target</th>\n",
       "      <th>total_actions</th>\n",
       "      <th>rnk</th>\n",
       "    </tr>\n",
       "  </thead>\n",
       "  <tbody>\n",
       "    <tr>\n",
       "      <td>0</td>\n",
       "      <td>0</td>\n",
       "      <td>0.993668</td>\n",
       "      <td>1</td>\n",
       "      <td>17</td>\n",
       "      <td>0</td>\n",
       "    </tr>\n",
       "    <tr>\n",
       "      <td>1</td>\n",
       "      <td>0</td>\n",
       "      <td>0.896899</td>\n",
       "      <td>0</td>\n",
       "      <td>17</td>\n",
       "      <td>1</td>\n",
       "    </tr>\n",
       "    <tr>\n",
       "      <td>2</td>\n",
       "      <td>0</td>\n",
       "      <td>0.875116</td>\n",
       "      <td>1</td>\n",
       "      <td>17</td>\n",
       "      <td>2</td>\n",
       "    </tr>\n",
       "    <tr>\n",
       "      <td>3</td>\n",
       "      <td>0</td>\n",
       "      <td>0.844549</td>\n",
       "      <td>0</td>\n",
       "      <td>17</td>\n",
       "      <td>3</td>\n",
       "    </tr>\n",
       "    <tr>\n",
       "      <td>4</td>\n",
       "      <td>0</td>\n",
       "      <td>0.837955</td>\n",
       "      <td>0</td>\n",
       "      <td>17</td>\n",
       "      <td>4</td>\n",
       "    </tr>\n",
       "  </tbody>\n",
       "</table>\n",
       "</div>"
      ],
      "text/plain": [
       "   user_id     score  target  total_actions  rnk\n",
       "0        0  0.993668       1             17    0\n",
       "1        0  0.896899       0             17    1\n",
       "2        0  0.875116       1             17    2\n",
       "3        0  0.844549       0             17    3\n",
       "4        0  0.837955       0             17    4"
      ]
     },
     "execution_count": 4,
     "metadata": {},
     "output_type": "execute_result"
    }
   ],
   "source": [
    "data = pd.read_csv('recs_synthetic.csv')\n",
    "data['rnk'] = data.groupby('user_id').cumcount()\n",
    "data.head()"
   ]
  },
  {
   "cell_type": "code",
   "execution_count": 5,
   "metadata": {
    "ExecuteTime": {
     "end_time": "2020-04-12T13:11:48.879352Z",
     "start_time": "2020-04-12T13:11:48.870349Z"
    }
   },
   "outputs": [],
   "source": [
    "def precision_at_k(df, k):\n",
    "    df = df[df['rnk'] < k]\n",
    "    df['tp'] = df['target'] & df['pred']\n",
    "    df['fp'] = df[(df['target']!=df['pred'])&(df['pred']==1)]\n",
    "    return df['tp'].sum()/(df['tp'].sum()+df['fp'].sum())\n",
    "\n",
    "def recall_at_k(df, k):\n",
    "    df['pred'] = df['rnk'].apply(lambda x: 1 if x < k else 0)\n",
    "    df['tp'] = df['target'] & df['pred']\n",
    "    agg_df = df[['user_id', 'tp', 'total_actions']].groupby('user_id').agg({'tp': 'sum', 'total_actions': 'max'}) # тут можно сразу tp поделить на total_actions, чтобы не делать 2 агрегации\n",
    "    agg_df['recall'] = agg_df['tp']/agg_df['total_actions']\n",
    "    return agg_df['recall'].mean()"
   ]
  },
  {
   "cell_type": "code",
   "execution_count": 6,
   "metadata": {
    "ExecuteTime": {
     "end_time": "2020-04-12T13:11:48.889136Z",
     "start_time": "2020-04-12T13:11:48.882421Z"
    }
   },
   "outputs": [],
   "source": [
    "df = data.copy()\n",
    "df['pred'] = df['pred'] = (df['rnk'] < 8).astype(int)"
   ]
  },
  {
   "cell_type": "code",
   "execution_count": 5,
   "metadata": {
    "ExecuteTime": {
     "end_time": "2020-04-12T13:11:49.715533Z",
     "start_time": "2020-04-12T13:11:48.891154Z"
    }
   },
   "outputs": [
    {
     "name": "stdout",
     "output_type": "stream",
     "text": [
      "CPU times: user 817 ms, sys: 2.96 ms, total: 820 ms\n",
      "Wall time: 820 ms\n"
     ]
    }
   ],
   "source": [
    "%%time\n",
    "df['tp'] = df[['target', 'pred']].apply(lambda x: 1 if x[0]==x[1]==1 else 0, axis=1)"
   ]
  },
  {
   "cell_type": "code",
   "execution_count": 6,
   "metadata": {
    "ExecuteTime": {
     "end_time": "2020-04-12T13:11:49.722937Z",
     "start_time": "2020-04-12T13:11:49.717889Z"
    }
   },
   "outputs": [
    {
     "name": "stdout",
     "output_type": "stream",
     "text": [
      "CPU times: user 1.45 ms, sys: 676 µs, total: 2.13 ms\n",
      "Wall time: 1.43 ms\n"
     ]
    }
   ],
   "source": [
    "%%time\n",
    "df['tp'] = df['target'] & df['pred'] # логическое AND\n",
    "# получаемся ~ в 500 раз быстрее"
   ]
  },
  {
   "cell_type": "code",
   "execution_count": 7,
   "metadata": {
    "ExecuteTime": {
     "end_time": "2020-04-12T13:11:49.733954Z",
     "start_time": "2020-04-12T13:11:49.725369Z"
    }
   },
   "outputs": [],
   "source": [
    "def map_at_k(df, k):\n",
    "    df = df[df['rnk'] < k]\n",
    "    df['target_cumsum'] = df[['user_id', 'target']].groupby('user_id').cumsum()\n",
    "    df['for_running_sum'] = df['target_cumsum']/(df['rnk']+1)\n",
    "    agg_df = df[df['target']==1][['user_id', 'for_running_sum']]\\\n",
    "                    .groupby('user_id')\\\n",
    "                    .agg({'for_running_sum':['sum', 'count']}).reset_index() # тут можно просто mean сделать, это то же самое, что sum / count\n",
    "    agg_df.columns = ['user_id', 'sum', 'count']\n",
    "    agg_df['ap'] = agg_df['sum']/agg_df['count']\n",
    "    return agg_df['ap'].mean()"
   ]
  },
  {
   "cell_type": "code",
   "execution_count": 12,
   "metadata": {
    "ExecuteTime": {
     "end_time": "2020-04-12T13:23:00.490676Z",
     "start_time": "2020-04-12T13:23:00.483754Z"
    }
   },
   "outputs": [],
   "source": [
    "def ndcg_at_k(df, k):\n",
    "    df = df[df['rnk'] < k]\n",
    "    # ты тут, видимо, не сохранила скобки, я поставил)\n",
    "    df['dcg_i'] = (2**df['target']-1)/df['rnk'].apply(lambda x: math.log(x + 2, 2)) # лучше векторизовать: df['target'] / (np.log2(df['rnk'] + 2))\n",
    "    df = df.sort_values(['user_id', 'target'], ascending=[True, False]) # пересортировка тоже достаточно тяжелая операция\n",
    "    # лучше так: df['idcg_i'] = df['target'] / (np.log2(df.groupby('user_id')['target'].cumsum() + 1))\n",
    "    df['rnk_new'] = df.groupby('user_id').cumcount()\n",
    "    df['idcg_i'] = (2**df['target']-1)/df['rnk_new'].apply(lambda x: math.log(x + 2, 2))\n",
    "    dcg_df = df[['user_id', 'dcg_i', 'idcg_i']].groupby('user_id').sum()\n",
    "    dcg_df['ndcg'] = dcg_df['dcg_i']/dcg_df['idcg_i']\n",
    "    return dcg_df['ndcg'].mean()"
   ]
  },
  {
   "cell_type": "code",
   "execution_count": 9,
   "metadata": {
    "ExecuteTime": {
     "end_time": "2020-04-12T13:11:49.756360Z",
     "start_time": "2020-04-12T13:11:49.751502Z"
    }
   },
   "outputs": [],
   "source": [
    "def mrr(df):\n",
    "    df = df[df['target']==1]\n",
    "    agg_df = df[['user_id', 'rnk']].groupby('user_id').min()\n",
    "    agg_df['tmp'] = 1/(agg_df['rnk']+1)\n",
    "    return agg_df.tmp.sum()/agg_df.shape[0]"
   ]
  },
  {
   "cell_type": "code",
   "execution_count": 2,
   "metadata": {
    "ExecuteTime": {
     "end_time": "2020-04-12T13:11:53.396791Z",
     "start_time": "2020-04-12T13:11:49.760202Z"
    }
   },
   "outputs": [
    {
     "ename": "NameError",
     "evalue": "name 'data' is not defined",
     "output_type": "error",
     "traceback": [
      "\u001b[0;31m---------------------------------------------------------------------------\u001b[0m",
      "\u001b[0;31mNameError\u001b[0m                                 Traceback (most recent call last)",
      "\u001b[0;32m<ipython-input-2-422ec0f6ae04>\u001b[0m in \u001b[0;36m<module>\u001b[0;34m\u001b[0m\n\u001b[0;32m----> 1\u001b[0;31m \u001b[0mprint\u001b[0m\u001b[0;34m(\u001b[0m\u001b[0;34mf'precision@8: {precision_at_k(df=data.copy(), k=8)}'\u001b[0m\u001b[0;34m)\u001b[0m\u001b[0;34m\u001b[0m\u001b[0;34m\u001b[0m\u001b[0m\n\u001b[0m\u001b[1;32m      2\u001b[0m \u001b[0mprint\u001b[0m\u001b[0;34m(\u001b[0m\u001b[0;34mf'precision@30: {precision_at_k(df=data.copy(), k=30)}'\u001b[0m\u001b[0;34m)\u001b[0m\u001b[0;34m\u001b[0m\u001b[0;34m\u001b[0m\u001b[0m\n",
      "\u001b[0;31mNameError\u001b[0m: name 'data' is not defined"
     ]
    }
   ],
   "source": [
    "print(f'precision@8: {precision_at_k(df=data.copy(), k=8)}')\n",
    "print(f'precision@30: {precision_at_k(df=data.copy(), k=30)}')"
   ]
  },
  {
   "cell_type": "code",
   "execution_count": 11,
   "metadata": {
    "ExecuteTime": {
     "end_time": "2020-04-12T13:11:55.085572Z",
     "start_time": "2020-04-12T13:11:53.399083Z"
    }
   },
   "outputs": [
    {
     "name": "stdout",
     "output_type": "stream",
     "text": [
      "recall@8: 0.1521432894570625\n",
      "recall@30: 0.5879062358080964\n"
     ]
    }
   ],
   "source": [
    "print(f'recall@8: {recall_at_k(df=data.copy(), k=8)}')\n",
    "print(f'recall@30: {recall_at_k(df=data.copy(), k=30)}')"
   ]
  },
  {
   "cell_type": "code",
   "execution_count": 12,
   "metadata": {
    "ExecuteTime": {
     "end_time": "2020-04-12T13:11:55.167060Z",
     "start_time": "2020-04-12T13:11:55.087905Z"
    }
   },
   "outputs": [
    {
     "name": "stdout",
     "output_type": "stream",
     "text": [
      "MAP@8: 0.49745983037797686\n",
      "MAP@30: 0.39767171242806565\n"
     ]
    }
   ],
   "source": [
    "print(f'MAP@8: {map_at_k(df=data.copy(), k=8)}')\n",
    "print(f'MAP@30: {map_at_k(df=data.copy(), k=30)}')"
   ]
  },
  {
   "cell_type": "code",
   "execution_count": 13,
   "metadata": {
    "ExecuteTime": {
     "end_time": "2020-04-12T13:11:55.179760Z",
     "start_time": "2020-04-12T13:11:55.169391Z"
    }
   },
   "outputs": [
    {
     "name": "stdout",
     "output_type": "stream",
     "text": [
      "MRR: 0.5359987465750623\n"
     ]
    }
   ],
   "source": [
    "print(f'MRR: {mrr(df=data.copy())}')"
   ]
  },
  {
   "cell_type": "code",
   "execution_count": 13,
   "metadata": {
    "ExecuteTime": {
     "end_time": "2020-04-12T13:23:02.435094Z",
     "start_time": "2020-04-12T13:23:02.340309Z"
    },
    "scrolled": true
   },
   "outputs": [
    {
     "data": {
      "text/plain": [
       "(0.6563167070312262, 0.662153051871711)"
      ]
     },
     "execution_count": 13,
     "metadata": {},
     "output_type": "execute_result"
    }
   ],
   "source": [
    "ndcg_at_k(df=data.copy(), k=8), ndcg_at_k(df=data.copy(), k=30)"
   ]
  },
  {
   "cell_type": "code",
   "execution_count": null,
   "metadata": {},
   "outputs": [],
   "source": []
  }
 ],
 "metadata": {
  "kernelspec": {
   "display_name": "Python 3",
   "language": "python",
   "name": "python3"
  },
  "language_info": {
   "codemirror_mode": {
    "name": "ipython",
    "version": 3
   },
   "file_extension": ".py",
   "mimetype": "text/x-python",
   "name": "python",
   "nbconvert_exporter": "python",
   "pygments_lexer": "ipython3",
   "version": "3.7.1"
  },
  "toc": {
   "colors": {
    "hover_highlight": "#DAA520",
    "running_highlight": "#FF0000",
    "selected_highlight": "#FFD700"
   },
   "moveMenuLeft": true,
   "nav_menu": {
    "height": "12px",
    "width": "252px"
   },
   "navigate_menu": true,
   "number_sections": true,
   "sideBar": true,
   "threshold": 4,
   "toc_cell": false,
   "toc_section_display": "block",
   "toc_window_display": false
  }
 },
 "nbformat": 4,
 "nbformat_minor": 2
}
