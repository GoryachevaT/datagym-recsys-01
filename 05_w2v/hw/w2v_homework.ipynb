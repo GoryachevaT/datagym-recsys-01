{
 "cells": [
  {
   "cell_type": "code",
   "execution_count": 1,
   "metadata": {},
   "outputs": [],
   "source": [
    "from gensim.models import word2vec\n",
    "import multiprocessing\n",
    "from tqdm import tqdm\n",
    "import pandas as pd\n",
    "import numpy as np"
   ]
  },
  {
   "cell_type": "markdown",
   "metadata": {},
   "source": [
    "### Исходный датасет\n",
    "\n",
    "2 файла:\n",
    "- data/user_item_interaction.csv колонки: user, item (band_id)\n",
    "- data/track_meta_processed.tsv колонки song_id, song_name, band, band_preprocessed, band_id\n",
    "\n",
    "Для обучения word2vec модели рекомендуется использовать band_preprocessed, там содержатся нормализованные названия исполнителей, так с моделью будет проще работать.\n",
    "\n",
    "Чтобы обучить модель, на вход ей нужно подать файл в формате:\n",
    "- один пользователь одна строка\n",
    "- band_id расположены в хронологическом порядке (генератор их сам подменит на нормализованное название) и разделены табуляцией ('\\t')\n",
    "\n",
    "data/band_lists_preprocessed_small.txt - пример, как будет выглядет итоговый файл, на котором можно обучить модель, на нем можно попробовать обучить модель уже сейчас, он содержет лишь 50000 пользователей, после выполнения домашнего задания у вас будет аналогичный файл с 900000 пользователей и качество модели станет заметно лучше"
   ]
  },
  {
   "cell_type": "markdown",
   "metadata": {},
   "source": [
    "### В качестве домашнего задания нужно будет написать функцию для преобразование датасета:\n",
    "- когда весь датасет помещается в памяти компьютера\n",
    "- когда датасет не помещается в памяти (скажем у вас есть 500МБ оперативной памяти)\n",
    "\n",
    "Последовательность айтемов должна быть сохранена, последовательность пользовательских строк в файле не важна.\n",
    "\n",
    "Метрика: время преобразования (чем быстрее, тем лучше)\n",
    "Для честности все варианты мы отскорим на одинаковых мощностях."
   ]
  },
  {
   "cell_type": "code",
   "execution_count": 2,
   "metadata": {},
   "outputs": [
    {
     "name": "stdout",
     "output_type": "stream",
     "text": [
      "total 6205416\r\n",
      "-rw-r--r--  1 antonina.goryacheva  staff   641M May  8 08:32 band_lists_preprocessed2.csv\r\n",
      "-rw-r--r--@ 1 antonina.goryacheva  staff   641M May  8 08:32 band_lists_preprocessed.csv\r\n",
      "-rw-r--r--@ 1 antonina.goryacheva  staff   1.2G May  2 12:42 user_item_interaction.csv\r\n",
      "-rw-r--r--@ 1 antonina.goryacheva  staff   464M May  2 12:40 track_meta_processed.tsv\r\n",
      "-rw-r--r--@ 1 antonina.goryacheva  staff    19M May  2 12:38 band_lists_preprocessed_small.txt\r\n"
     ]
    }
   ],
   "source": [
    "!ls -lht data/"
   ]
  },
  {
   "cell_type": "code",
   "execution_count": 3,
   "metadata": {},
   "outputs": [],
   "source": [
    "input_path = 'data/user_item_interaction.csv'\n",
    "output_path = 'data/band_lists_preprocessed.csv'\n",
    "output_path2 = 'data/band_lists_preprocessed2.csv'\n",
    "\n",
    "meta_path = 'data/track_meta_processed.tsv'\n",
    "\n",
    "w2v_dataset_path = 'data/band_lists_preprocessed_small.txt'\n",
    "\n",
    "item_type = 'track_id'"
   ]
  },
  {
   "cell_type": "code",
   "execution_count": 4,
   "metadata": {},
   "outputs": [
    {
     "data": {
      "text/html": [
       "<div>\n",
       "<style scoped>\n",
       "    .dataframe tbody tr th:only-of-type {\n",
       "        vertical-align: middle;\n",
       "    }\n",
       "\n",
       "    .dataframe tbody tr th {\n",
       "        vertical-align: top;\n",
       "    }\n",
       "\n",
       "    .dataframe thead th {\n",
       "        text-align: right;\n",
       "    }\n",
       "</style>\n",
       "<table border=\"1\" class=\"dataframe\">\n",
       "  <thead>\n",
       "    <tr style=\"text-align: right;\">\n",
       "      <th></th>\n",
       "      <th>song_id</th>\n",
       "      <th>song_name</th>\n",
       "      <th>band</th>\n",
       "      <th>band_processed</th>\n",
       "      <th>band_id</th>\n",
       "    </tr>\n",
       "  </thead>\n",
       "  <tbody>\n",
       "    <tr>\n",
       "      <td>0</td>\n",
       "      <td>0</td>\n",
       "      <td>I Don’t Know Why</td>\n",
       "      <td>Imagine Dragons</td>\n",
       "      <td>imagine dragons</td>\n",
       "      <td>0</td>\n",
       "    </tr>\n",
       "    <tr>\n",
       "      <td>1</td>\n",
       "      <td>5</td>\n",
       "      <td>Jingle Bells (Instrumental)</td>\n",
       "      <td>Jingle Punks</td>\n",
       "      <td>jingle punks</td>\n",
       "      <td>1</td>\n",
       "    </tr>\n",
       "    <tr>\n",
       "      <td>2</td>\n",
       "      <td>6</td>\n",
       "      <td>Dance of the Sugar Plum Fairy</td>\n",
       "      <td>Kevin Macleod</td>\n",
       "      <td>kevin macleod</td>\n",
       "      <td>2</td>\n",
       "    </tr>\n",
       "  </tbody>\n",
       "</table>\n",
       "</div>"
      ],
      "text/plain": [
       "   song_id                      song_name             band   band_processed  \\\n",
       "0        0               I Don’t Know Why  Imagine Dragons  imagine dragons   \n",
       "1        5    Jingle Bells (Instrumental)     Jingle Punks     jingle punks   \n",
       "2        6  Dance of the Sugar Plum Fairy    Kevin Macleod    kevin macleod   \n",
       "\n",
       "   band_id  \n",
       "0        0  \n",
       "1        1  \n",
       "2        2  "
      ]
     },
     "execution_count": 4,
     "metadata": {},
     "output_type": "execute_result"
    }
   ],
   "source": [
    "pd.read_csv(meta_path, nrows=3, sep='\\t')"
   ]
  },
  {
   "cell_type": "code",
   "execution_count": 5,
   "metadata": {},
   "outputs": [
    {
     "data": {
      "text/html": [
       "<div>\n",
       "<style scoped>\n",
       "    .dataframe tbody tr th:only-of-type {\n",
       "        vertical-align: middle;\n",
       "    }\n",
       "\n",
       "    .dataframe tbody tr th {\n",
       "        vertical-align: top;\n",
       "    }\n",
       "\n",
       "    .dataframe thead th {\n",
       "        text-align: right;\n",
       "    }\n",
       "</style>\n",
       "<table border=\"1\" class=\"dataframe\">\n",
       "  <thead>\n",
       "    <tr style=\"text-align: right;\">\n",
       "      <th></th>\n",
       "      <th>user</th>\n",
       "      <th>item</th>\n",
       "    </tr>\n",
       "  </thead>\n",
       "  <tbody>\n",
       "    <tr>\n",
       "      <td>0</td>\n",
       "      <td>0</td>\n",
       "      <td>0</td>\n",
       "    </tr>\n",
       "    <tr>\n",
       "      <td>1</td>\n",
       "      <td>1</td>\n",
       "      <td>1</td>\n",
       "    </tr>\n",
       "    <tr>\n",
       "      <td>2</td>\n",
       "      <td>1</td>\n",
       "      <td>2</td>\n",
       "    </tr>\n",
       "  </tbody>\n",
       "</table>\n",
       "</div>"
      ],
      "text/plain": [
       "   user  item\n",
       "0     0     0\n",
       "1     1     1\n",
       "2     1     2"
      ]
     },
     "execution_count": 5,
     "metadata": {},
     "output_type": "execute_result"
    }
   ],
   "source": [
    "pd.read_csv(input_path, nrows=3)"
   ]
  },
  {
   "cell_type": "code",
   "execution_count": 6,
   "metadata": {},
   "outputs": [
    {
     "data": {
      "text/html": [
       "<div>\n",
       "<style scoped>\n",
       "    .dataframe tbody tr th:only-of-type {\n",
       "        vertical-align: middle;\n",
       "    }\n",
       "\n",
       "    .dataframe tbody tr th {\n",
       "        vertical-align: top;\n",
       "    }\n",
       "\n",
       "    .dataframe thead th {\n",
       "        text-align: right;\n",
       "    }\n",
       "</style>\n",
       "<table border=\"1\" class=\"dataframe\">\n",
       "  <thead>\n",
       "    <tr style=\"text-align: right;\">\n",
       "      <th></th>\n",
       "      <th>0</th>\n",
       "    </tr>\n",
       "  </thead>\n",
       "  <tbody>\n",
       "    <tr>\n",
       "      <td>0</td>\n",
       "      <td>455748</td>\n",
       "    </tr>\n",
       "    <tr>\n",
       "      <td>1</td>\n",
       "      <td>152114\\t11597\\t38783\\t58245\\t8804\\t5271\\t22556...</td>\n",
       "    </tr>\n",
       "    <tr>\n",
       "      <td>2</td>\n",
       "      <td>237426\\t4067\\t20239\\t206135\\t2630\\t1405170\\t22396</td>\n",
       "    </tr>\n",
       "  </tbody>\n",
       "</table>\n",
       "</div>"
      ],
      "text/plain": [
       "                                                   0\n",
       "0                                             455748\n",
       "1  152114\\t11597\\t38783\\t58245\\t8804\\t5271\\t22556...\n",
       "2  237426\\t4067\\t20239\\t206135\\t2630\\t1405170\\t22396"
      ]
     },
     "execution_count": 6,
     "metadata": {},
     "output_type": "execute_result"
    }
   ],
   "source": [
    "pd.read_csv(w2v_dataset_path, nrows=3, header=None)"
   ]
  },
  {
   "cell_type": "code",
   "execution_count": 18,
   "metadata": {},
   "outputs": [],
   "source": [
    "### пример наивного решения:\n",
    "\n",
    "# %%time\n",
    "\n",
    "# df = pd.read_csv(input_path)\n",
    "\n",
    "# with open(output_path, 'w') as f:\n",
    "#     for user in df['user'].unique():\n",
    "#         items = df[df['user'] == user]['item'].to_list()\n",
    "#         f.write('\\t'.join(str(item) for item in items) + '\\n')"
   ]
  },
  {
   "cell_type": "code",
   "execution_count": 19,
   "metadata": {},
   "outputs": [],
   "source": [
    "# %%time\n",
    "# reader = pd.read_table(input_path, chunksize=100000, sep=',')\n",
    "# lst_to_remember = []\n",
    "# prev_max_u = 0\n",
    "\n",
    "# with open(output_path, 'w') as f:\n",
    "#     for chunk in tqdm(reader):\n",
    "#         curr_min_u = chunk['user'].min()\n",
    "#         curr_max_u = chunk['user'].max()\n",
    "    \n",
    "#         for user in chunk['user'].unique():\n",
    "#             items = lst_to_remember + chunk[chunk['user'] == user]['item'].to_list()\n",
    "#             #print(items)\n",
    "#             if user != curr_max_u:\n",
    "#                 f.write('\\t'.join(str(item) for item in items) + '\\n')\n",
    "#                 lst_to_remember = []\n",
    "#             else:\n",
    "#                 lst_to_remember = items\n",
    "#         prev_max_u = curr_max_u"
   ]
  },
  {
   "cell_type": "code",
   "execution_count": 92,
   "metadata": {},
   "outputs": [
    {
     "name": "stdout",
     "output_type": "stream",
     "text": [
      "CPU times: user 1min 33s, sys: 6.19 s, total: 1min 40s\n",
      "Wall time: 1min 41s\n"
     ]
    }
   ],
   "source": [
    "%%time\n",
    "reader = pd.read_table(input_path, chunksize=100000, sep=',')\n",
    "lst_to_remember = []\n",
    "prev_max_u = -1\n",
    "\n",
    "with open(output_path, 'w') as f:\n",
    "    \n",
    "    for chunk in reader:\n",
    "        curr_min_u = chunk['user'].min()\n",
    "        curr_max_u = chunk['user'].max()\n",
    "    \n",
    "        index, counts = np.unique(chunk['user'].values,  return_counts=True)\n",
    "        tmp = np.split(chunk['item'].values,  np.cumsum(counts)[:-1])\n",
    "        tmp = np.array(tmp)\n",
    "        tmp = np.hstack((index.reshape((index.shape[0],  1)),\n",
    "                 tmp.reshape((tmp.shape[0],  1)),\n",
    "                ))\n",
    "        \n",
    "        if curr_min_u==prev_max_u:\n",
    "            left = np.hstack((lst_to_remember, tmp[0][1]))\n",
    "            tmp[0][1] = left\n",
    "        else:\n",
    "            f.write('\\t'.join(str(item) for item in lst_to_remember) + '\\n') \n",
    "         \n",
    "        prev_max_u = tmp[-1][0]\n",
    "        lst_to_remember = tmp[-1][1]\n",
    "        \n",
    "        for pair in tmp[:-1]:\n",
    "            f.write('\\t'.join(str(item) for item in pair[1]) + '\\n') \n",
    "    \n",
    "    f.write('\\t'.join(str(item) for item in lst_to_remember) + '\\n') "
   ]
  },
  {
   "cell_type": "markdown",
   "metadata": {},
   "source": [
    "Генератор для w2v, он считывает файл построчно, разделяет историю пользователя по \\t на band_id и заменяет id на нормализованное название исполнителя"
   ]
  },
  {
   "cell_type": "code",
   "execution_count": 7,
   "metadata": {},
   "outputs": [],
   "source": [
    "class TextToW2V:\n",
    "    def __init__(self, file_path: str) -> None:\n",
    "        \"\"\"\n",
    "        iterator for w2v out-of-memory training\n",
    "        :param file_path: path to dataset in text format: one string for each user, only book IDs separated with ' '\n",
    "        \"\"\"\n",
    "        self.file_path = file_path\n",
    "        self.band_id_to_name = (pd.read_csv(meta_path, \n",
    "                                            sep='\\t', usecols=['band_processed', 'band_id'],)\n",
    "                                .set_index('band_id')\n",
    "                                ['band_processed'].to_dict()\n",
    "                               )\n",
    "\n",
    "    def __iter__(self):\n",
    "        \"\"\"\n",
    "        iterate over txt file and return user items\n",
    "        :return:\n",
    "        \"\"\"\n",
    "        for line in tqdm(open(self.file_path, 'r')):\n",
    "            items = line.split('\\t')\n",
    "            res = [self.band_id_to_name.get(int(i_id)) for i_id in items]\n",
    "            yield [x for x in res if x is not None]"
   ]
  },
  {
   "cell_type": "markdown",
   "metadata": {},
   "source": [
    "### дефолтное дообучение w2v, можно поробовать разные гиперпараметры\n",
    "вспомните статью с их тюнигом: https://arxiv.org/pdf/1804.04212.pdf"
   ]
  },
  {
   "cell_type": "code",
   "execution_count": 8,
   "metadata": {},
   "outputs": [],
   "source": [
    "# !sed 1d $output_path > $output_path2"
   ]
  },
  {
   "cell_type": "code",
   "execution_count": 13,
   "metadata": {},
   "outputs": [],
   "source": [
    "# corpus = TextToW2V(output_path2)\n",
    "corpus = TextToW2V(w2v_dataset_path)"
   ]
  },
  {
   "cell_type": "code",
   "execution_count": 19,
   "metadata": {
    "scrolled": true
   },
   "outputs": [
    {
     "name": "stderr",
     "output_type": "stream",
     "text": [
      "50000it [00:04, 10172.84it/s]\n",
      "50000it [00:20, 2440.50it/s]\n",
      "50000it [00:19, 2576.62it/s]\n",
      "50000it [00:20, 2461.57it/s]\n",
      "50000it [00:26, 1900.20it/s]\n",
      "50000it [00:22, 2242.05it/s]\n"
     ]
    },
    {
     "name": "stdout",
     "output_type": "stream",
     "text": [
      "Модель выучила 15685 исполнителей.\n"
     ]
    }
   ],
   "source": [
    "model = word2vec.Word2Vec(corpus, \n",
    "                          min_count=20, \n",
    "                          sg=1, \n",
    "                          iter=5, \n",
    "                          window=10, \n",
    "                          workers=multiprocessing.cpu_count(),\n",
    "                         )\n",
    "\n",
    "print(f'Модель выучила {len(model.wv.vocab)} исполнителей.')"
   ]
  },
  {
   "cell_type": "markdown",
   "metadata": {},
   "source": [
    "### Smoke test модели"
   ]
  },
  {
   "cell_type": "code",
   "execution_count": 20,
   "metadata": {},
   "outputs": [
    {
     "data": {
      "text/plain": [
       "[('metallica', 0.6461888551712036),\n",
       " ('lustra', 0.624983012676239),\n",
       " ('ac dc', 0.6226109266281128),\n",
       " ('foo fighters', 0.6181728839874268),\n",
       " ('pearl jam', 0.615071177482605),\n",
       " ('ramones', 0.6131055355072021),\n",
       " ('the misfits', 0.6067672967910767),\n",
       " ('slipknot', 0.6042327284812927),\n",
       " ('avenged sevenfold', 0.6010735034942627),\n",
       " ('mastodon', 0.6001443266868591)]"
      ]
     },
     "execution_count": 20,
     "metadata": {},
     "output_type": "execute_result"
    }
   ],
   "source": [
    "model.wv.most_similar('nirvana')"
   ]
  },
  {
   "cell_type": "markdown",
   "metadata": {},
   "source": [
    "### После обучения модели:\n",
    "- зайдите на свою страницу с музыкой вконтакте или я.музыки (подойдет сервис, где можно открыть свой плелист в вебе)\n",
    "- выделите и скопируйте весь текст нас транице (Ctrl+A, Ctrl+C)\n",
    "- после этого запустить ячейку ниже (никуда вставлять текст не надо, pandas заберет его из буфера обмена)"
   ]
  },
  {
   "cell_type": "code",
   "execution_count": 18,
   "metadata": {},
   "outputs": [
    {
     "name": "stdout",
     "output_type": "stream",
     "text": [
      "\n",
      " supernatural \n",
      " https://music.yandex.ru/search?text=supernatural\n",
      "\n",
      " syd matters \n",
      " https://music.yandex.ru/search?text=syd%20matters\n",
      "\n",
      " the national \n",
      " https://music.yandex.ru/search?text=the%20national\n",
      "\n",
      " smokefishe \n",
      " https://music.yandex.ru/search?text=smokefishe\n",
      "\n",
      " looptroop \n",
      " https://music.yandex.ru/search?text=looptroop\n",
      "\n",
      " wolf alice \n",
      " https://music.yandex.ru/search?text=wolf%20alice\n",
      "\n",
      " mono \n",
      " https://music.yandex.ru/search?text=mono\n",
      "\n",
      " wye oak \n",
      " https://music.yandex.ru/search?text=wye%20oak\n",
      "\n",
      " methods of mayhem \n",
      " https://music.yandex.ru/search?text=methods%20of%20mayhem\n",
      "\n",
      " kodaline \n",
      " https://music.yandex.ru/search?text=kodaline\n",
      "\n",
      " xxyyxx \n",
      " https://music.yandex.ru/search?text=xxyyxx\n",
      "\n",
      " spice \n",
      " https://music.yandex.ru/search?text=spice\n",
      "\n",
      " joe lynn turner \n",
      " https://music.yandex.ru/search?text=joe%20lynn%20turner\n",
      "\n",
      " lil tracy \n",
      " https://music.yandex.ru/search?text=lil%20tracy\n",
      "\n",
      " pierre van dormael \n",
      " https://music.yandex.ru/search?text=pierre%20van%20dormael\n",
      "\n",
      " medusa scream \n",
      " https://music.yandex.ru/search?text=medusa%20scream\n",
      "\n",
      " white stripes \n",
      " https://music.yandex.ru/search?text=white%20stripes\n",
      "\n",
      " lustra \n",
      " https://music.yandex.ru/search?text=lustra\n",
      "\n",
      " 10 years \n",
      " https://music.yandex.ru/search?text=10%20years\n",
      "\n",
      " arcade fire \n",
      " https://music.yandex.ru/search?text=arcade%20fire\n"
     ]
    }
   ],
   "source": [
    "df = pd.read_clipboard(sep='no_such_sep')\n",
    "words = df[df.columns[0]]\n",
    "\n",
    "my_bands = [word \n",
    "            for word in words.str.lower() \n",
    "            if word in model.wv.vocab]\n",
    "\n",
    "recommended =  model.wv.most_similar(positive=my_bands, topn=500)\n",
    "recommended = [band \n",
    "               for band in recommended \n",
    "               if band not in my_bands\n",
    "              ][:20]\n",
    "\n",
    "for band, score in recommended:\n",
    "    link = f'https://music.yandex.ru/search?text={band.replace(\" \", \"%20\")}'\n",
    "    print('\\n', band, '\\n', link)"
   ]
  },
  {
   "cell_type": "code",
   "execution_count": null,
   "metadata": {},
   "outputs": [],
   "source": []
  }
 ],
 "metadata": {
  "kernelspec": {
   "display_name": "Python 3",
   "language": "python",
   "name": "python3"
  },
  "language_info": {
   "codemirror_mode": {
    "name": "ipython",
    "version": 3
   },
   "file_extension": ".py",
   "mimetype": "text/x-python",
   "name": "python",
   "nbconvert_exporter": "python",
   "pygments_lexer": "ipython3",
   "version": "3.7.1"
  }
 },
 "nbformat": 4,
 "nbformat_minor": 2
}
